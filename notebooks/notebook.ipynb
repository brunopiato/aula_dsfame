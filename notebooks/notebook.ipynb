{
 "cells": [
  {
   "cell_type": "markdown",
   "metadata": {},
   "source": [
    "# Importação de bibliotecas"
   ]
  },
  {
   "cell_type": "code",
   "execution_count": 2,
   "metadata": {},
   "outputs": [],
   "source": [
    "import pandas as pd\n",
    "import numpy as np\n",
    "import os\n",
    "import plotly.express as px\n",
    "from PIL import Image\n",
    "import plotly.graph_objects as go"
   ]
  },
  {
   "cell_type": "code",
   "execution_count": 3,
   "metadata": {},
   "outputs": [],
   "source": [
    "pd.set_option('display.max_colwidth', 1000)\n",
    "pd.set_option('display.expand_frame_repr', False )\n",
    "pd.set_option('display.max_rows', 50)\n",
    "pd.set_option('display.max_columns', 100)"
   ]
  },
  {
   "cell_type": "markdown",
   "metadata": {},
   "source": [
    "# Importação dos dados"
   ]
  },
  {
   "cell_type": "code",
   "execution_count": 4,
   "metadata": {},
   "outputs": [],
   "source": [
    "data_raw = pd.read_csv('/home/bruno/repos/aula_dsfame/data/dataset.csv', low_memory=False)"
   ]
  },
  {
   "cell_type": "markdown",
   "metadata": {},
   "source": [
    "# Exploração preliminar dos dados"
   ]
  },
  {
   "cell_type": "code",
   "execution_count": 5,
   "metadata": {},
   "outputs": [
    {
     "data": {
      "text/html": [
       "<div>\n",
       "<style scoped>\n",
       "    .dataframe tbody tr th:only-of-type {\n",
       "        vertical-align: middle;\n",
       "    }\n",
       "\n",
       "    .dataframe tbody tr th {\n",
       "        vertical-align: top;\n",
       "    }\n",
       "\n",
       "    .dataframe thead th {\n",
       "        text-align: right;\n",
       "    }\n",
       "</style>\n",
       "<table border=\"1\" class=\"dataframe\">\n",
       "  <thead>\n",
       "    <tr style=\"text-align: right;\">\n",
       "      <th></th>\n",
       "      <th>PName</th>\n",
       "      <th>POS</th>\n",
       "      <th>Team</th>\n",
       "      <th>Age</th>\n",
       "      <th>GP</th>\n",
       "      <th>W</th>\n",
       "      <th>L</th>\n",
       "      <th>Min</th>\n",
       "      <th>PTS</th>\n",
       "      <th>FGM</th>\n",
       "      <th>FGA</th>\n",
       "      <th>FG%</th>\n",
       "      <th>3PM</th>\n",
       "      <th>3PA</th>\n",
       "      <th>3P%</th>\n",
       "      <th>FTM</th>\n",
       "      <th>FTA</th>\n",
       "      <th>FT%</th>\n",
       "      <th>OREB</th>\n",
       "      <th>DREB</th>\n",
       "      <th>REB</th>\n",
       "      <th>AST</th>\n",
       "      <th>TOV</th>\n",
       "      <th>STL</th>\n",
       "      <th>BLK</th>\n",
       "      <th>PF</th>\n",
       "      <th>FP</th>\n",
       "      <th>DD2</th>\n",
       "      <th>TD3</th>\n",
       "      <th>+/-</th>\n",
       "    </tr>\n",
       "  </thead>\n",
       "  <tbody>\n",
       "    <tr>\n",
       "      <th>32</th>\n",
       "      <td>Franz Wagner</td>\n",
       "      <td>SF</td>\n",
       "      <td>ORL</td>\n",
       "      <td>21</td>\n",
       "      <td>80</td>\n",
       "      <td>33</td>\n",
       "      <td>47</td>\n",
       "      <td>2608.7</td>\n",
       "      <td>1485</td>\n",
       "      <td>542</td>\n",
       "      <td>1118</td>\n",
       "      <td>48.5</td>\n",
       "      <td>130</td>\n",
       "      <td>360</td>\n",
       "      <td>36.1</td>\n",
       "      <td>271</td>\n",
       "      <td>322</td>\n",
       "      <td>84.2</td>\n",
       "      <td>70</td>\n",
       "      <td>259</td>\n",
       "      <td>329</td>\n",
       "      <td>283</td>\n",
       "      <td>167</td>\n",
       "      <td>77</td>\n",
       "      <td>17</td>\n",
       "      <td>183</td>\n",
       "      <td>2419</td>\n",
       "      <td>2</td>\n",
       "      <td>0</td>\n",
       "      <td>50</td>\n",
       "    </tr>\n",
       "    <tr>\n",
       "      <th>40</th>\n",
       "      <td>Spencer Dinwiddie</td>\n",
       "      <td>PG</td>\n",
       "      <td>BKN</td>\n",
       "      <td>30</td>\n",
       "      <td>79</td>\n",
       "      <td>41</td>\n",
       "      <td>38</td>\n",
       "      <td>2725.3</td>\n",
       "      <td>1369</td>\n",
       "      <td>460</td>\n",
       "      <td>1050</td>\n",
       "      <td>43.8</td>\n",
       "      <td>181</td>\n",
       "      <td>490</td>\n",
       "      <td>36.9</td>\n",
       "      <td>268</td>\n",
       "      <td>330</td>\n",
       "      <td>81.2</td>\n",
       "      <td>28</td>\n",
       "      <td>242</td>\n",
       "      <td>270</td>\n",
       "      <td>515</td>\n",
       "      <td>145</td>\n",
       "      <td>67</td>\n",
       "      <td>24</td>\n",
       "      <td>187</td>\n",
       "      <td>2594</td>\n",
       "      <td>9</td>\n",
       "      <td>0</td>\n",
       "      <td>-8</td>\n",
       "    </tr>\n",
       "    <tr>\n",
       "      <th>235</th>\n",
       "      <td>Nicolas Batum</td>\n",
       "      <td>PF</td>\n",
       "      <td>LAC</td>\n",
       "      <td>34</td>\n",
       "      <td>78</td>\n",
       "      <td>44</td>\n",
       "      <td>34</td>\n",
       "      <td>1709.6</td>\n",
       "      <td>478</td>\n",
       "      <td>160</td>\n",
       "      <td>381</td>\n",
       "      <td>42.0</td>\n",
       "      <td>124</td>\n",
       "      <td>317</td>\n",
       "      <td>39.1</td>\n",
       "      <td>34</td>\n",
       "      <td>48</td>\n",
       "      <td>70.8</td>\n",
       "      <td>62</td>\n",
       "      <td>237</td>\n",
       "      <td>299</td>\n",
       "      <td>121</td>\n",
       "      <td>50</td>\n",
       "      <td>54</td>\n",
       "      <td>44</td>\n",
       "      <td>149</td>\n",
       "      <td>1262</td>\n",
       "      <td>0</td>\n",
       "      <td>0</td>\n",
       "      <td>165</td>\n",
       "    </tr>\n",
       "    <tr>\n",
       "      <th>14</th>\n",
       "      <td>Pascal Siakam</td>\n",
       "      <td>PF</td>\n",
       "      <td>TOR</td>\n",
       "      <td>29</td>\n",
       "      <td>71</td>\n",
       "      <td>35</td>\n",
       "      <td>36</td>\n",
       "      <td>2652.0</td>\n",
       "      <td>1720</td>\n",
       "      <td>630</td>\n",
       "      <td>1313</td>\n",
       "      <td>48.0</td>\n",
       "      <td>93</td>\n",
       "      <td>287</td>\n",
       "      <td>32.4</td>\n",
       "      <td>367</td>\n",
       "      <td>474</td>\n",
       "      <td>77.4</td>\n",
       "      <td>131</td>\n",
       "      <td>425</td>\n",
       "      <td>556</td>\n",
       "      <td>415</td>\n",
       "      <td>169</td>\n",
       "      <td>65</td>\n",
       "      <td>36</td>\n",
       "      <td>228</td>\n",
       "      <td>3144</td>\n",
       "      <td>24</td>\n",
       "      <td>2</td>\n",
       "      <td>123</td>\n",
       "    </tr>\n",
       "    <tr>\n",
       "      <th>353</th>\n",
       "      <td>Anthony Gill</td>\n",
       "      <td>PF</td>\n",
       "      <td>WAS</td>\n",
       "      <td>30</td>\n",
       "      <td>59</td>\n",
       "      <td>21</td>\n",
       "      <td>38</td>\n",
       "      <td>624.6</td>\n",
       "      <td>195</td>\n",
       "      <td>71</td>\n",
       "      <td>132</td>\n",
       "      <td>53.8</td>\n",
       "      <td>4</td>\n",
       "      <td>29</td>\n",
       "      <td>13.8</td>\n",
       "      <td>49</td>\n",
       "      <td>67</td>\n",
       "      <td>73.1</td>\n",
       "      <td>37</td>\n",
       "      <td>62</td>\n",
       "      <td>99</td>\n",
       "      <td>34</td>\n",
       "      <td>15</td>\n",
       "      <td>7</td>\n",
       "      <td>12</td>\n",
       "      <td>70</td>\n",
       "      <td>407</td>\n",
       "      <td>0</td>\n",
       "      <td>0</td>\n",
       "      <td>-12</td>\n",
       "    </tr>\n",
       "  </tbody>\n",
       "</table>\n",
       "</div>"
      ],
      "text/plain": [
       "                 PName POS Team  Age  GP   W   L     Min   PTS  FGM   FGA   FG%  3PM  3PA   3P%  FTM  FTA   FT%  OREB  DREB  REB  AST  TOV  STL  BLK   PF    FP  DD2  TD3  +/-\n",
       "32        Franz Wagner  SF  ORL   21  80  33  47  2608.7  1485  542  1118  48.5  130  360  36.1  271  322  84.2    70   259  329  283  167   77   17  183  2419    2    0   50\n",
       "40   Spencer Dinwiddie  PG  BKN   30  79  41  38  2725.3  1369  460  1050  43.8  181  490  36.9  268  330  81.2    28   242  270  515  145   67   24  187  2594    9    0   -8\n",
       "235      Nicolas Batum  PF  LAC   34  78  44  34  1709.6   478  160   381  42.0  124  317  39.1   34   48  70.8    62   237  299  121   50   54   44  149  1262    0    0  165\n",
       "14       Pascal Siakam  PF  TOR   29  71  35  36  2652.0  1720  630  1313  48.0   93  287  32.4  367  474  77.4   131   425  556  415  169   65   36  228  3144   24    2  123\n",
       "353       Anthony Gill  PF  WAS   30  59  21  38   624.6   195   71   132  53.8    4   29  13.8   49   67  73.1    37    62   99   34   15    7   12   70   407    0    0  -12"
      ]
     },
     "execution_count": 5,
     "metadata": {},
     "output_type": "execute_result"
    }
   ],
   "source": [
    "data_raw.sample(5)"
   ]
  },
  {
   "cell_type": "code",
   "execution_count": 6,
   "metadata": {},
   "outputs": [
    {
     "data": {
      "text/html": [
       "<div>\n",
       "<style scoped>\n",
       "    .dataframe tbody tr th:only-of-type {\n",
       "        vertical-align: middle;\n",
       "    }\n",
       "\n",
       "    .dataframe tbody tr th {\n",
       "        vertical-align: top;\n",
       "    }\n",
       "\n",
       "    .dataframe thead th {\n",
       "        text-align: right;\n",
       "    }\n",
       "</style>\n",
       "<table border=\"1\" class=\"dataframe\">\n",
       "  <thead>\n",
       "    <tr style=\"text-align: right;\">\n",
       "      <th></th>\n",
       "      <th>count</th>\n",
       "      <th>mean</th>\n",
       "      <th>std</th>\n",
       "      <th>min</th>\n",
       "      <th>25%</th>\n",
       "      <th>50%</th>\n",
       "      <th>75%</th>\n",
       "      <th>max</th>\n",
       "    </tr>\n",
       "  </thead>\n",
       "  <tbody>\n",
       "    <tr>\n",
       "      <th>Age</th>\n",
       "      <td>539.0</td>\n",
       "      <td>25.970315</td>\n",
       "      <td>4.315513</td>\n",
       "      <td>19.0</td>\n",
       "      <td>23.00</td>\n",
       "      <td>25.0</td>\n",
       "      <td>29.0</td>\n",
       "      <td>42.0</td>\n",
       "    </tr>\n",
       "    <tr>\n",
       "      <th>GP</th>\n",
       "      <td>539.0</td>\n",
       "      <td>48.040816</td>\n",
       "      <td>24.650686</td>\n",
       "      <td>1.0</td>\n",
       "      <td>30.50</td>\n",
       "      <td>54.0</td>\n",
       "      <td>68.0</td>\n",
       "      <td>83.0</td>\n",
       "    </tr>\n",
       "    <tr>\n",
       "      <th>W</th>\n",
       "      <td>539.0</td>\n",
       "      <td>24.018553</td>\n",
       "      <td>14.496366</td>\n",
       "      <td>0.0</td>\n",
       "      <td>12.00</td>\n",
       "      <td>25.0</td>\n",
       "      <td>36.0</td>\n",
       "      <td>57.0</td>\n",
       "    </tr>\n",
       "    <tr>\n",
       "      <th>L</th>\n",
       "      <td>539.0</td>\n",
       "      <td>24.022263</td>\n",
       "      <td>13.445866</td>\n",
       "      <td>0.0</td>\n",
       "      <td>14.00</td>\n",
       "      <td>25.0</td>\n",
       "      <td>34.0</td>\n",
       "      <td>60.0</td>\n",
       "    </tr>\n",
       "    <tr>\n",
       "      <th>Min</th>\n",
       "      <td>539.0</td>\n",
       "      <td>1103.617625</td>\n",
       "      <td>827.765114</td>\n",
       "      <td>1.0</td>\n",
       "      <td>329.00</td>\n",
       "      <td>970.2</td>\n",
       "      <td>1845.9</td>\n",
       "      <td>2963.2</td>\n",
       "    </tr>\n",
       "    <tr>\n",
       "      <th>PTS</th>\n",
       "      <td>539.0</td>\n",
       "      <td>523.426716</td>\n",
       "      <td>498.084360</td>\n",
       "      <td>0.0</td>\n",
       "      <td>120.50</td>\n",
       "      <td>374.0</td>\n",
       "      <td>769.5</td>\n",
       "      <td>2225.0</td>\n",
       "    </tr>\n",
       "    <tr>\n",
       "      <th>FGM</th>\n",
       "      <td>539.0</td>\n",
       "      <td>191.576994</td>\n",
       "      <td>178.351286</td>\n",
       "      <td>0.0</td>\n",
       "      <td>45.50</td>\n",
       "      <td>138.0</td>\n",
       "      <td>283.5</td>\n",
       "      <td>728.0</td>\n",
       "    </tr>\n",
       "    <tr>\n",
       "      <th>FGA</th>\n",
       "      <td>539.0</td>\n",
       "      <td>403.005566</td>\n",
       "      <td>369.595909</td>\n",
       "      <td>0.0</td>\n",
       "      <td>93.50</td>\n",
       "      <td>300.0</td>\n",
       "      <td>598.5</td>\n",
       "      <td>1559.0</td>\n",
       "    </tr>\n",
       "    <tr>\n",
       "      <th>FG%</th>\n",
       "      <td>539.0</td>\n",
       "      <td>46.325232</td>\n",
       "      <td>10.967271</td>\n",
       "      <td>0.0</td>\n",
       "      <td>41.65</td>\n",
       "      <td>45.5</td>\n",
       "      <td>50.6</td>\n",
       "      <td>100.0</td>\n",
       "    </tr>\n",
       "    <tr>\n",
       "      <th>3PM</th>\n",
       "      <td>539.0</td>\n",
       "      <td>56.324675</td>\n",
       "      <td>60.916821</td>\n",
       "      <td>0.0</td>\n",
       "      <td>5.00</td>\n",
       "      <td>36.0</td>\n",
       "      <td>92.0</td>\n",
       "      <td>301.0</td>\n",
       "    </tr>\n",
       "    <tr>\n",
       "      <th>3PA</th>\n",
       "      <td>539.0</td>\n",
       "      <td>156.148423</td>\n",
       "      <td>160.950881</td>\n",
       "      <td>0.0</td>\n",
       "      <td>17.00</td>\n",
       "      <td>109.0</td>\n",
       "      <td>249.5</td>\n",
       "      <td>731.0</td>\n",
       "    </tr>\n",
       "    <tr>\n",
       "      <th>3P%</th>\n",
       "      <td>539.0</td>\n",
       "      <td>31.530612</td>\n",
       "      <td>13.711120</td>\n",
       "      <td>0.0</td>\n",
       "      <td>28.10</td>\n",
       "      <td>34.2</td>\n",
       "      <td>38.5</td>\n",
       "      <td>100.0</td>\n",
       "    </tr>\n",
       "    <tr>\n",
       "      <th>FTM</th>\n",
       "      <td>539.0</td>\n",
       "      <td>83.948052</td>\n",
       "      <td>105.681665</td>\n",
       "      <td>0.0</td>\n",
       "      <td>13.50</td>\n",
       "      <td>42.0</td>\n",
       "      <td>113.5</td>\n",
       "      <td>669.0</td>\n",
       "    </tr>\n",
       "    <tr>\n",
       "      <th>FTA</th>\n",
       "      <td>539.0</td>\n",
       "      <td>107.384045</td>\n",
       "      <td>129.692484</td>\n",
       "      <td>0.0</td>\n",
       "      <td>18.00</td>\n",
       "      <td>60.0</td>\n",
       "      <td>147.0</td>\n",
       "      <td>772.0</td>\n",
       "    </tr>\n",
       "    <tr>\n",
       "      <th>FT%</th>\n",
       "      <td>539.0</td>\n",
       "      <td>71.993506</td>\n",
       "      <td>21.280275</td>\n",
       "      <td>0.0</td>\n",
       "      <td>66.70</td>\n",
       "      <td>76.3</td>\n",
       "      <td>84.1</td>\n",
       "      <td>100.0</td>\n",
       "    </tr>\n",
       "    <tr>\n",
       "      <th>OREB</th>\n",
       "      <td>539.0</td>\n",
       "      <td>47.623377</td>\n",
       "      <td>52.119368</td>\n",
       "      <td>0.0</td>\n",
       "      <td>10.00</td>\n",
       "      <td>33.0</td>\n",
       "      <td>63.0</td>\n",
       "      <td>274.0</td>\n",
       "    </tr>\n",
       "    <tr>\n",
       "      <th>DREB</th>\n",
       "      <td>539.0</td>\n",
       "      <td>150.630798</td>\n",
       "      <td>137.336246</td>\n",
       "      <td>0.0</td>\n",
       "      <td>36.50</td>\n",
       "      <td>118.0</td>\n",
       "      <td>229.5</td>\n",
       "      <td>744.0</td>\n",
       "    </tr>\n",
       "    <tr>\n",
       "      <th>REB</th>\n",
       "      <td>539.0</td>\n",
       "      <td>198.254174</td>\n",
       "      <td>181.819962</td>\n",
       "      <td>0.0</td>\n",
       "      <td>50.50</td>\n",
       "      <td>159.0</td>\n",
       "      <td>286.0</td>\n",
       "      <td>973.0</td>\n",
       "    </tr>\n",
       "    <tr>\n",
       "      <th>AST</th>\n",
       "      <td>539.0</td>\n",
       "      <td>115.545455</td>\n",
       "      <td>129.578453</td>\n",
       "      <td>0.0</td>\n",
       "      <td>22.00</td>\n",
       "      <td>69.0</td>\n",
       "      <td>162.5</td>\n",
       "      <td>741.0</td>\n",
       "    </tr>\n",
       "    <tr>\n",
       "      <th>TOV</th>\n",
       "      <td>539.0</td>\n",
       "      <td>61.300557</td>\n",
       "      <td>58.279185</td>\n",
       "      <td>0.0</td>\n",
       "      <td>14.50</td>\n",
       "      <td>44.0</td>\n",
       "      <td>92.5</td>\n",
       "      <td>300.0</td>\n",
       "    </tr>\n",
       "    <tr>\n",
       "      <th>STL</th>\n",
       "      <td>539.0</td>\n",
       "      <td>33.270872</td>\n",
       "      <td>28.336745</td>\n",
       "      <td>0.0</td>\n",
       "      <td>8.50</td>\n",
       "      <td>28.0</td>\n",
       "      <td>51.0</td>\n",
       "      <td>128.0</td>\n",
       "    </tr>\n",
       "    <tr>\n",
       "      <th>BLK</th>\n",
       "      <td>539.0</td>\n",
       "      <td>21.241187</td>\n",
       "      <td>26.529238</td>\n",
       "      <td>0.0</td>\n",
       "      <td>5.00</td>\n",
       "      <td>13.0</td>\n",
       "      <td>28.0</td>\n",
       "      <td>193.0</td>\n",
       "    </tr>\n",
       "    <tr>\n",
       "      <th>PF</th>\n",
       "      <td>539.0</td>\n",
       "      <td>91.181818</td>\n",
       "      <td>66.206731</td>\n",
       "      <td>0.0</td>\n",
       "      <td>32.00</td>\n",
       "      <td>86.0</td>\n",
       "      <td>140.0</td>\n",
       "      <td>279.0</td>\n",
       "    </tr>\n",
       "    <tr>\n",
       "      <th>FP</th>\n",
       "      <td>539.0</td>\n",
       "      <td>1036.938776</td>\n",
       "      <td>894.081896</td>\n",
       "      <td>-1.0</td>\n",
       "      <td>254.00</td>\n",
       "      <td>810.0</td>\n",
       "      <td>1646.0</td>\n",
       "      <td>3842.0</td>\n",
       "    </tr>\n",
       "    <tr>\n",
       "      <th>DD2</th>\n",
       "      <td>539.0</td>\n",
       "      <td>4.011132</td>\n",
       "      <td>8.770932</td>\n",
       "      <td>0.0</td>\n",
       "      <td>0.00</td>\n",
       "      <td>0.0</td>\n",
       "      <td>3.0</td>\n",
       "      <td>65.0</td>\n",
       "    </tr>\n",
       "    <tr>\n",
       "      <th>TD3</th>\n",
       "      <td>539.0</td>\n",
       "      <td>0.220779</td>\n",
       "      <td>1.564432</td>\n",
       "      <td>0.0</td>\n",
       "      <td>0.00</td>\n",
       "      <td>0.0</td>\n",
       "      <td>0.0</td>\n",
       "      <td>29.0</td>\n",
       "    </tr>\n",
       "    <tr>\n",
       "      <th>+/-</th>\n",
       "      <td>539.0</td>\n",
       "      <td>0.000000</td>\n",
       "      <td>148.223909</td>\n",
       "      <td>-642.0</td>\n",
       "      <td>-70.00</td>\n",
       "      <td>-7.0</td>\n",
       "      <td>57.0</td>\n",
       "      <td>640.0</td>\n",
       "    </tr>\n",
       "  </tbody>\n",
       "</table>\n",
       "</div>"
      ],
      "text/plain": [
       "      count         mean         std    min     25%    50%     75%     max\n",
       "Age   539.0    25.970315    4.315513   19.0   23.00   25.0    29.0    42.0\n",
       "GP    539.0    48.040816   24.650686    1.0   30.50   54.0    68.0    83.0\n",
       "W     539.0    24.018553   14.496366    0.0   12.00   25.0    36.0    57.0\n",
       "L     539.0    24.022263   13.445866    0.0   14.00   25.0    34.0    60.0\n",
       "Min   539.0  1103.617625  827.765114    1.0  329.00  970.2  1845.9  2963.2\n",
       "PTS   539.0   523.426716  498.084360    0.0  120.50  374.0   769.5  2225.0\n",
       "FGM   539.0   191.576994  178.351286    0.0   45.50  138.0   283.5   728.0\n",
       "FGA   539.0   403.005566  369.595909    0.0   93.50  300.0   598.5  1559.0\n",
       "FG%   539.0    46.325232   10.967271    0.0   41.65   45.5    50.6   100.0\n",
       "3PM   539.0    56.324675   60.916821    0.0    5.00   36.0    92.0   301.0\n",
       "3PA   539.0   156.148423  160.950881    0.0   17.00  109.0   249.5   731.0\n",
       "3P%   539.0    31.530612   13.711120    0.0   28.10   34.2    38.5   100.0\n",
       "FTM   539.0    83.948052  105.681665    0.0   13.50   42.0   113.5   669.0\n",
       "FTA   539.0   107.384045  129.692484    0.0   18.00   60.0   147.0   772.0\n",
       "FT%   539.0    71.993506   21.280275    0.0   66.70   76.3    84.1   100.0\n",
       "OREB  539.0    47.623377   52.119368    0.0   10.00   33.0    63.0   274.0\n",
       "DREB  539.0   150.630798  137.336246    0.0   36.50  118.0   229.5   744.0\n",
       "REB   539.0   198.254174  181.819962    0.0   50.50  159.0   286.0   973.0\n",
       "AST   539.0   115.545455  129.578453    0.0   22.00   69.0   162.5   741.0\n",
       "TOV   539.0    61.300557   58.279185    0.0   14.50   44.0    92.5   300.0\n",
       "STL   539.0    33.270872   28.336745    0.0    8.50   28.0    51.0   128.0\n",
       "BLK   539.0    21.241187   26.529238    0.0    5.00   13.0    28.0   193.0\n",
       "PF    539.0    91.181818   66.206731    0.0   32.00   86.0   140.0   279.0\n",
       "FP    539.0  1036.938776  894.081896   -1.0  254.00  810.0  1646.0  3842.0\n",
       "DD2   539.0     4.011132    8.770932    0.0    0.00    0.0     3.0    65.0\n",
       "TD3   539.0     0.220779    1.564432    0.0    0.00    0.0     0.0    29.0\n",
       "+/-   539.0     0.000000  148.223909 -642.0  -70.00   -7.0    57.0   640.0"
      ]
     },
     "execution_count": 6,
     "metadata": {},
     "output_type": "execute_result"
    }
   ],
   "source": [
    "data_raw.describe().T"
   ]
  },
  {
   "cell_type": "code",
   "execution_count": 7,
   "metadata": {},
   "outputs": [
    {
     "name": "stdout",
     "output_type": "stream",
     "text": [
      "<class 'pandas.core.frame.DataFrame'>\n",
      "RangeIndex: 539 entries, 0 to 538\n",
      "Data columns (total 30 columns):\n",
      " #   Column  Non-Null Count  Dtype  \n",
      "---  ------  --------------  -----  \n",
      " 0   PName   539 non-null    object \n",
      " 1   POS     534 non-null    object \n",
      " 2   Team    539 non-null    object \n",
      " 3   Age     539 non-null    int64  \n",
      " 4   GP      539 non-null    int64  \n",
      " 5   W       539 non-null    int64  \n",
      " 6   L       539 non-null    int64  \n",
      " 7   Min     539 non-null    float64\n",
      " 8   PTS     539 non-null    int64  \n",
      " 9   FGM     539 non-null    int64  \n",
      " 10  FGA     539 non-null    int64  \n",
      " 11  FG%     539 non-null    float64\n",
      " 12  3PM     539 non-null    int64  \n",
      " 13  3PA     539 non-null    int64  \n",
      " 14  3P%     539 non-null    float64\n",
      " 15  FTM     539 non-null    int64  \n",
      " 16  FTA     539 non-null    int64  \n",
      " 17  FT%     539 non-null    float64\n",
      " 18  OREB    539 non-null    int64  \n",
      " 19  DREB    539 non-null    int64  \n",
      " 20  REB     539 non-null    int64  \n",
      " 21  AST     539 non-null    int64  \n",
      " 22  TOV     539 non-null    int64  \n",
      " 23  STL     539 non-null    int64  \n",
      " 24  BLK     539 non-null    int64  \n",
      " 25  PF      539 non-null    int64  \n",
      " 26  FP      539 non-null    int64  \n",
      " 27  DD2     539 non-null    int64  \n",
      " 28  TD3     539 non-null    int64  \n",
      " 29  +/-     539 non-null    int64  \n",
      "dtypes: float64(4), int64(23), object(3)\n",
      "memory usage: 126.5+ KB\n"
     ]
    }
   ],
   "source": [
    "data_raw.info()"
   ]
  },
  {
   "cell_type": "code",
   "execution_count": 8,
   "metadata": {},
   "outputs": [
    {
     "data": {
      "text/html": [
       "<div>\n",
       "<style scoped>\n",
       "    .dataframe tbody tr th:only-of-type {\n",
       "        vertical-align: middle;\n",
       "    }\n",
       "\n",
       "    .dataframe tbody tr th {\n",
       "        vertical-align: top;\n",
       "    }\n",
       "\n",
       "    .dataframe thead th {\n",
       "        text-align: right;\n",
       "    }\n",
       "</style>\n",
       "<table border=\"1\" class=\"dataframe\">\n",
       "  <thead>\n",
       "    <tr style=\"text-align: right;\">\n",
       "      <th></th>\n",
       "      <th>PName</th>\n",
       "      <th>POS</th>\n",
       "      <th>Team</th>\n",
       "      <th>Age</th>\n",
       "      <th>GP</th>\n",
       "      <th>W</th>\n",
       "      <th>L</th>\n",
       "      <th>Min</th>\n",
       "      <th>PTS</th>\n",
       "      <th>FGM</th>\n",
       "      <th>FGA</th>\n",
       "      <th>FG%</th>\n",
       "      <th>3PM</th>\n",
       "      <th>3PA</th>\n",
       "      <th>3P%</th>\n",
       "      <th>FTM</th>\n",
       "      <th>FTA</th>\n",
       "      <th>FT%</th>\n",
       "      <th>OREB</th>\n",
       "      <th>DREB</th>\n",
       "      <th>REB</th>\n",
       "      <th>AST</th>\n",
       "      <th>TOV</th>\n",
       "      <th>STL</th>\n",
       "      <th>BLK</th>\n",
       "      <th>PF</th>\n",
       "      <th>FP</th>\n",
       "      <th>DD2</th>\n",
       "      <th>TD3</th>\n",
       "      <th>+/-</th>\n",
       "    </tr>\n",
       "  </thead>\n",
       "  <tbody>\n",
       "    <tr>\n",
       "      <th>534</th>\n",
       "      <td>Alondes Williams</td>\n",
       "      <td>NaN</td>\n",
       "      <td>BKN</td>\n",
       "      <td>23</td>\n",
       "      <td>1</td>\n",
       "      <td>1</td>\n",
       "      <td>0</td>\n",
       "      <td>5.3</td>\n",
       "      <td>0</td>\n",
       "      <td>0</td>\n",
       "      <td>0</td>\n",
       "      <td>0.0</td>\n",
       "      <td>0</td>\n",
       "      <td>0</td>\n",
       "      <td>0.0</td>\n",
       "      <td>0</td>\n",
       "      <td>0</td>\n",
       "      <td>0.0</td>\n",
       "      <td>0</td>\n",
       "      <td>1</td>\n",
       "      <td>1</td>\n",
       "      <td>0</td>\n",
       "      <td>2</td>\n",
       "      <td>0</td>\n",
       "      <td>0</td>\n",
       "      <td>1</td>\n",
       "      <td>-1</td>\n",
       "      <td>0</td>\n",
       "      <td>0</td>\n",
       "      <td>-5</td>\n",
       "    </tr>\n",
       "    <tr>\n",
       "      <th>535</th>\n",
       "      <td>Deonte Burton</td>\n",
       "      <td>NaN</td>\n",
       "      <td>SAC</td>\n",
       "      <td>29</td>\n",
       "      <td>2</td>\n",
       "      <td>1</td>\n",
       "      <td>1</td>\n",
       "      <td>6.5</td>\n",
       "      <td>0</td>\n",
       "      <td>0</td>\n",
       "      <td>2</td>\n",
       "      <td>0.0</td>\n",
       "      <td>0</td>\n",
       "      <td>1</td>\n",
       "      <td>0.0</td>\n",
       "      <td>0</td>\n",
       "      <td>0</td>\n",
       "      <td>0.0</td>\n",
       "      <td>0</td>\n",
       "      <td>0</td>\n",
       "      <td>0</td>\n",
       "      <td>0</td>\n",
       "      <td>0</td>\n",
       "      <td>0</td>\n",
       "      <td>0</td>\n",
       "      <td>0</td>\n",
       "      <td>0</td>\n",
       "      <td>0</td>\n",
       "      <td>0</td>\n",
       "      <td>5</td>\n",
       "    </tr>\n",
       "    <tr>\n",
       "      <th>536</th>\n",
       "      <td>Frank Jackson</td>\n",
       "      <td>NaN</td>\n",
       "      <td>UTA</td>\n",
       "      <td>24</td>\n",
       "      <td>1</td>\n",
       "      <td>0</td>\n",
       "      <td>1</td>\n",
       "      <td>5.0</td>\n",
       "      <td>0</td>\n",
       "      <td>0</td>\n",
       "      <td>3</td>\n",
       "      <td>0.0</td>\n",
       "      <td>0</td>\n",
       "      <td>1</td>\n",
       "      <td>0.0</td>\n",
       "      <td>0</td>\n",
       "      <td>0</td>\n",
       "      <td>0.0</td>\n",
       "      <td>1</td>\n",
       "      <td>1</td>\n",
       "      <td>2</td>\n",
       "      <td>1</td>\n",
       "      <td>0</td>\n",
       "      <td>0</td>\n",
       "      <td>0</td>\n",
       "      <td>0</td>\n",
       "      <td>4</td>\n",
       "      <td>0</td>\n",
       "      <td>0</td>\n",
       "      <td>-2</td>\n",
       "    </tr>\n",
       "    <tr>\n",
       "      <th>537</th>\n",
       "      <td>Michael Foster Jr.</td>\n",
       "      <td>NaN</td>\n",
       "      <td>PHI</td>\n",
       "      <td>20</td>\n",
       "      <td>1</td>\n",
       "      <td>1</td>\n",
       "      <td>0</td>\n",
       "      <td>1.0</td>\n",
       "      <td>0</td>\n",
       "      <td>0</td>\n",
       "      <td>0</td>\n",
       "      <td>0.0</td>\n",
       "      <td>0</td>\n",
       "      <td>0</td>\n",
       "      <td>0.0</td>\n",
       "      <td>0</td>\n",
       "      <td>0</td>\n",
       "      <td>0.0</td>\n",
       "      <td>0</td>\n",
       "      <td>0</td>\n",
       "      <td>0</td>\n",
       "      <td>0</td>\n",
       "      <td>0</td>\n",
       "      <td>0</td>\n",
       "      <td>0</td>\n",
       "      <td>0</td>\n",
       "      <td>0</td>\n",
       "      <td>0</td>\n",
       "      <td>0</td>\n",
       "      <td>-2</td>\n",
       "    </tr>\n",
       "    <tr>\n",
       "      <th>538</th>\n",
       "      <td>Sterling Brown</td>\n",
       "      <td>NaN</td>\n",
       "      <td>LAL</td>\n",
       "      <td>28</td>\n",
       "      <td>4</td>\n",
       "      <td>2</td>\n",
       "      <td>2</td>\n",
       "      <td>24.4</td>\n",
       "      <td>0</td>\n",
       "      <td>0</td>\n",
       "      <td>4</td>\n",
       "      <td>0.0</td>\n",
       "      <td>0</td>\n",
       "      <td>2</td>\n",
       "      <td>0.0</td>\n",
       "      <td>0</td>\n",
       "      <td>0</td>\n",
       "      <td>0.0</td>\n",
       "      <td>3</td>\n",
       "      <td>5</td>\n",
       "      <td>8</td>\n",
       "      <td>2</td>\n",
       "      <td>0</td>\n",
       "      <td>3</td>\n",
       "      <td>0</td>\n",
       "      <td>4</td>\n",
       "      <td>22</td>\n",
       "      <td>0</td>\n",
       "      <td>0</td>\n",
       "      <td>-4</td>\n",
       "    </tr>\n",
       "  </tbody>\n",
       "</table>\n",
       "</div>"
      ],
      "text/plain": [
       "                  PName  POS Team  Age  GP  W  L   Min  PTS  FGM  FGA  FG%  3PM  3PA  3P%  FTM  FTA  FT%  OREB  DREB  REB  AST  TOV  STL  BLK  PF  FP  DD2  TD3  +/-\n",
       "534    Alondes Williams  NaN  BKN   23   1  1  0   5.3    0    0    0  0.0    0    0  0.0    0    0  0.0     0     1    1    0    2    0    0   1  -1    0    0   -5\n",
       "535       Deonte Burton  NaN  SAC   29   2  1  1   6.5    0    0    2  0.0    0    1  0.0    0    0  0.0     0     0    0    0    0    0    0   0   0    0    0    5\n",
       "536       Frank Jackson  NaN  UTA   24   1  0  1   5.0    0    0    3  0.0    0    1  0.0    0    0  0.0     1     1    2    1    0    0    0   0   4    0    0   -2\n",
       "537  Michael Foster Jr.  NaN  PHI   20   1  1  0   1.0    0    0    0  0.0    0    0  0.0    0    0  0.0     0     0    0    0    0    0    0   0   0    0    0   -2\n",
       "538      Sterling Brown  NaN  LAL   28   4  2  2  24.4    0    0    4  0.0    0    2  0.0    0    0  0.0     3     5    8    2    0    3    0   4  22    0    0   -4"
      ]
     },
     "execution_count": 8,
     "metadata": {},
     "output_type": "execute_result"
    }
   ],
   "source": [
    "data_raw[data_raw['POS'].isna()]"
   ]
  },
  {
   "cell_type": "code",
   "execution_count": 9,
   "metadata": {},
   "outputs": [],
   "source": [
    "data = data_raw.copy()"
   ]
  },
  {
   "cell_type": "markdown",
   "metadata": {},
   "source": [
    "# Tratamento dos valores faltantes"
   ]
  },
  {
   "cell_type": "markdown",
   "metadata": {},
   "source": [
    "Alondes Williams - PG<br>\n",
    "Deonte Burton - SF<br>\n",
    "Frank Jackson - SG<br>\n",
    "Michael Foster Jr. - PF<br>\n",
    "Sterling Brown - SF"
   ]
  },
  {
   "cell_type": "code",
   "execution_count": 10,
   "metadata": {},
   "outputs": [],
   "source": [
    "data.iloc[534, 1] = 'PG'\n",
    "data.iloc[535, 1] = 'SF'\n",
    "data.iloc[536, 1] = 'SG'\n",
    "data.iloc[537, 1] = 'PF'\n",
    "data.iloc[538, 1] = 'SF'"
   ]
  },
  {
   "cell_type": "code",
   "execution_count": 11,
   "metadata": {},
   "outputs": [
    {
     "data": {
      "text/html": [
       "<div>\n",
       "<style scoped>\n",
       "    .dataframe tbody tr th:only-of-type {\n",
       "        vertical-align: middle;\n",
       "    }\n",
       "\n",
       "    .dataframe tbody tr th {\n",
       "        vertical-align: top;\n",
       "    }\n",
       "\n",
       "    .dataframe thead th {\n",
       "        text-align: right;\n",
       "    }\n",
       "</style>\n",
       "<table border=\"1\" class=\"dataframe\">\n",
       "  <thead>\n",
       "    <tr style=\"text-align: right;\">\n",
       "      <th></th>\n",
       "      <th>PName</th>\n",
       "      <th>POS</th>\n",
       "      <th>Team</th>\n",
       "      <th>Age</th>\n",
       "      <th>GP</th>\n",
       "      <th>W</th>\n",
       "      <th>L</th>\n",
       "      <th>Min</th>\n",
       "      <th>PTS</th>\n",
       "      <th>FGM</th>\n",
       "      <th>FGA</th>\n",
       "      <th>FG%</th>\n",
       "      <th>3PM</th>\n",
       "      <th>3PA</th>\n",
       "      <th>3P%</th>\n",
       "      <th>FTM</th>\n",
       "      <th>FTA</th>\n",
       "      <th>FT%</th>\n",
       "      <th>OREB</th>\n",
       "      <th>DREB</th>\n",
       "      <th>REB</th>\n",
       "      <th>AST</th>\n",
       "      <th>TOV</th>\n",
       "      <th>STL</th>\n",
       "      <th>BLK</th>\n",
       "      <th>PF</th>\n",
       "      <th>FP</th>\n",
       "      <th>DD2</th>\n",
       "      <th>TD3</th>\n",
       "      <th>+/-</th>\n",
       "    </tr>\n",
       "  </thead>\n",
       "  <tbody>\n",
       "  </tbody>\n",
       "</table>\n",
       "</div>"
      ],
      "text/plain": [
       "Empty DataFrame\n",
       "Columns: [PName, POS, Team, Age, GP, W, L, Min, PTS, FGM, FGA, FG%, 3PM, 3PA, 3P%, FTM, FTA, FT%, OREB, DREB, REB, AST, TOV, STL, BLK, PF, FP, DD2, TD3, +/-]\n",
       "Index: []"
      ]
     },
     "execution_count": 11,
     "metadata": {},
     "output_type": "execute_result"
    }
   ],
   "source": [
    "data[data['POS'].isna()]"
   ]
  },
  {
   "cell_type": "markdown",
   "metadata": {},
   "source": [
    "## Derivar colunas 2PM, 2PA e 2P% a partir da subtração de FGM e 3PM e de FGA e 3PA"
   ]
  },
  {
   "cell_type": "code",
   "execution_count": 12,
   "metadata": {},
   "outputs": [],
   "source": [
    "data['2PM'] = data['FGM'] - data['3PM']\n",
    "data['2PA'] = data['FGA'] - data['3PA']\n",
    "data['2Pperc'] =  round((data['2PM'] / data['2PA']) * 100, 2)\n",
    "\n",
    "data.rename(columns={'2Pperc' : '2P%'}, inplace=True)"
   ]
  },
  {
   "cell_type": "code",
   "execution_count": 13,
   "metadata": {},
   "outputs": [
    {
     "name": "stdout",
     "output_type": "stream",
     "text": [
      "<class 'pandas.core.frame.DataFrame'>\n",
      "RangeIndex: 539 entries, 0 to 538\n",
      "Data columns (total 33 columns):\n",
      " #   Column  Non-Null Count  Dtype  \n",
      "---  ------  --------------  -----  \n",
      " 0   PName   539 non-null    object \n",
      " 1   POS     539 non-null    object \n",
      " 2   Team    539 non-null    object \n",
      " 3   Age     539 non-null    int64  \n",
      " 4   GP      539 non-null    int64  \n",
      " 5   W       539 non-null    int64  \n",
      " 6   L       539 non-null    int64  \n",
      " 7   Min     539 non-null    float64\n",
      " 8   PTS     539 non-null    int64  \n",
      " 9   FGM     539 non-null    int64  \n",
      " 10  FGA     539 non-null    int64  \n",
      " 11  FG%     539 non-null    float64\n",
      " 12  3PM     539 non-null    int64  \n",
      " 13  3PA     539 non-null    int64  \n",
      " 14  3P%     539 non-null    float64\n",
      " 15  FTM     539 non-null    int64  \n",
      " 16  FTA     539 non-null    int64  \n",
      " 17  FT%     539 non-null    float64\n",
      " 18  OREB    539 non-null    int64  \n",
      " 19  DREB    539 non-null    int64  \n",
      " 20  REB     539 non-null    int64  \n",
      " 21  AST     539 non-null    int64  \n",
      " 22  TOV     539 non-null    int64  \n",
      " 23  STL     539 non-null    int64  \n",
      " 24  BLK     539 non-null    int64  \n",
      " 25  PF      539 non-null    int64  \n",
      " 26  FP      539 non-null    int64  \n",
      " 27  DD2     539 non-null    int64  \n",
      " 28  TD3     539 non-null    int64  \n",
      " 29  +/-     539 non-null    int64  \n",
      " 30  2PM     539 non-null    int64  \n",
      " 31  2PA     539 non-null    int64  \n",
      " 32  2P%     534 non-null    float64\n",
      "dtypes: float64(5), int64(25), object(3)\n",
      "memory usage: 139.1+ KB\n"
     ]
    }
   ],
   "source": [
    "data.info() #NA em 5 linhas por conta de divisões 0 por 0"
   ]
  },
  {
   "cell_type": "code",
   "execution_count": 14,
   "metadata": {},
   "outputs": [
    {
     "data": {
      "text/html": [
       "<div>\n",
       "<style scoped>\n",
       "    .dataframe tbody tr th:only-of-type {\n",
       "        vertical-align: middle;\n",
       "    }\n",
       "\n",
       "    .dataframe tbody tr th {\n",
       "        vertical-align: top;\n",
       "    }\n",
       "\n",
       "    .dataframe thead th {\n",
       "        text-align: right;\n",
       "    }\n",
       "</style>\n",
       "<table border=\"1\" class=\"dataframe\">\n",
       "  <thead>\n",
       "    <tr style=\"text-align: right;\">\n",
       "      <th></th>\n",
       "      <th>PName</th>\n",
       "      <th>POS</th>\n",
       "      <th>Team</th>\n",
       "      <th>Age</th>\n",
       "      <th>GP</th>\n",
       "      <th>W</th>\n",
       "      <th>L</th>\n",
       "      <th>Min</th>\n",
       "      <th>PTS</th>\n",
       "      <th>FGM</th>\n",
       "      <th>FGA</th>\n",
       "      <th>FG%</th>\n",
       "      <th>3PM</th>\n",
       "      <th>3PA</th>\n",
       "      <th>3P%</th>\n",
       "      <th>FTM</th>\n",
       "      <th>FTA</th>\n",
       "      <th>FT%</th>\n",
       "      <th>OREB</th>\n",
       "      <th>DREB</th>\n",
       "      <th>REB</th>\n",
       "      <th>AST</th>\n",
       "      <th>TOV</th>\n",
       "      <th>STL</th>\n",
       "      <th>BLK</th>\n",
       "      <th>PF</th>\n",
       "      <th>FP</th>\n",
       "      <th>DD2</th>\n",
       "      <th>TD3</th>\n",
       "      <th>+/-</th>\n",
       "      <th>2PM</th>\n",
       "      <th>2PA</th>\n",
       "      <th>2P%</th>\n",
       "    </tr>\n",
       "  </thead>\n",
       "  <tbody>\n",
       "    <tr>\n",
       "      <th>528</th>\n",
       "      <td>Jacob Gilyard</td>\n",
       "      <td>G</td>\n",
       "      <td>MEM</td>\n",
       "      <td>24</td>\n",
       "      <td>1</td>\n",
       "      <td>0</td>\n",
       "      <td>1</td>\n",
       "      <td>40.8</td>\n",
       "      <td>3</td>\n",
       "      <td>1</td>\n",
       "      <td>3</td>\n",
       "      <td>33.3</td>\n",
       "      <td>1</td>\n",
       "      <td>3</td>\n",
       "      <td>33.3</td>\n",
       "      <td>0</td>\n",
       "      <td>0</td>\n",
       "      <td>0.0</td>\n",
       "      <td>0</td>\n",
       "      <td>4</td>\n",
       "      <td>4</td>\n",
       "      <td>7</td>\n",
       "      <td>2</td>\n",
       "      <td>3</td>\n",
       "      <td>0</td>\n",
       "      <td>3</td>\n",
       "      <td>25</td>\n",
       "      <td>0</td>\n",
       "      <td>0</td>\n",
       "      <td>-13</td>\n",
       "      <td>0</td>\n",
       "      <td>0</td>\n",
       "      <td>NaN</td>\n",
       "    </tr>\n",
       "    <tr>\n",
       "      <th>530</th>\n",
       "      <td>Trevor Keels</td>\n",
       "      <td>G</td>\n",
       "      <td>NYK</td>\n",
       "      <td>19</td>\n",
       "      <td>3</td>\n",
       "      <td>3</td>\n",
       "      <td>0</td>\n",
       "      <td>8.0</td>\n",
       "      <td>3</td>\n",
       "      <td>1</td>\n",
       "      <td>4</td>\n",
       "      <td>25.0</td>\n",
       "      <td>1</td>\n",
       "      <td>4</td>\n",
       "      <td>25.0</td>\n",
       "      <td>0</td>\n",
       "      <td>0</td>\n",
       "      <td>0.0</td>\n",
       "      <td>0</td>\n",
       "      <td>2</td>\n",
       "      <td>2</td>\n",
       "      <td>0</td>\n",
       "      <td>0</td>\n",
       "      <td>0</td>\n",
       "      <td>0</td>\n",
       "      <td>0</td>\n",
       "      <td>5</td>\n",
       "      <td>0</td>\n",
       "      <td>0</td>\n",
       "      <td>-18</td>\n",
       "      <td>0</td>\n",
       "      <td>0</td>\n",
       "      <td>NaN</td>\n",
       "    </tr>\n",
       "    <tr>\n",
       "      <th>533</th>\n",
       "      <td>Stanley Umude</td>\n",
       "      <td>G</td>\n",
       "      <td>DET</td>\n",
       "      <td>24</td>\n",
       "      <td>1</td>\n",
       "      <td>0</td>\n",
       "      <td>1</td>\n",
       "      <td>2.1</td>\n",
       "      <td>2</td>\n",
       "      <td>0</td>\n",
       "      <td>1</td>\n",
       "      <td>0.0</td>\n",
       "      <td>0</td>\n",
       "      <td>1</td>\n",
       "      <td>0.0</td>\n",
       "      <td>2</td>\n",
       "      <td>2</td>\n",
       "      <td>100.0</td>\n",
       "      <td>0</td>\n",
       "      <td>0</td>\n",
       "      <td>0</td>\n",
       "      <td>0</td>\n",
       "      <td>0</td>\n",
       "      <td>1</td>\n",
       "      <td>1</td>\n",
       "      <td>0</td>\n",
       "      <td>8</td>\n",
       "      <td>0</td>\n",
       "      <td>0</td>\n",
       "      <td>3</td>\n",
       "      <td>0</td>\n",
       "      <td>0</td>\n",
       "      <td>NaN</td>\n",
       "    </tr>\n",
       "    <tr>\n",
       "      <th>534</th>\n",
       "      <td>Alondes Williams</td>\n",
       "      <td>PG</td>\n",
       "      <td>BKN</td>\n",
       "      <td>23</td>\n",
       "      <td>1</td>\n",
       "      <td>1</td>\n",
       "      <td>0</td>\n",
       "      <td>5.3</td>\n",
       "      <td>0</td>\n",
       "      <td>0</td>\n",
       "      <td>0</td>\n",
       "      <td>0.0</td>\n",
       "      <td>0</td>\n",
       "      <td>0</td>\n",
       "      <td>0.0</td>\n",
       "      <td>0</td>\n",
       "      <td>0</td>\n",
       "      <td>0.0</td>\n",
       "      <td>0</td>\n",
       "      <td>1</td>\n",
       "      <td>1</td>\n",
       "      <td>0</td>\n",
       "      <td>2</td>\n",
       "      <td>0</td>\n",
       "      <td>0</td>\n",
       "      <td>1</td>\n",
       "      <td>-1</td>\n",
       "      <td>0</td>\n",
       "      <td>0</td>\n",
       "      <td>-5</td>\n",
       "      <td>0</td>\n",
       "      <td>0</td>\n",
       "      <td>NaN</td>\n",
       "    </tr>\n",
       "    <tr>\n",
       "      <th>537</th>\n",
       "      <td>Michael Foster Jr.</td>\n",
       "      <td>PF</td>\n",
       "      <td>PHI</td>\n",
       "      <td>20</td>\n",
       "      <td>1</td>\n",
       "      <td>1</td>\n",
       "      <td>0</td>\n",
       "      <td>1.0</td>\n",
       "      <td>0</td>\n",
       "      <td>0</td>\n",
       "      <td>0</td>\n",
       "      <td>0.0</td>\n",
       "      <td>0</td>\n",
       "      <td>0</td>\n",
       "      <td>0.0</td>\n",
       "      <td>0</td>\n",
       "      <td>0</td>\n",
       "      <td>0.0</td>\n",
       "      <td>0</td>\n",
       "      <td>0</td>\n",
       "      <td>0</td>\n",
       "      <td>0</td>\n",
       "      <td>0</td>\n",
       "      <td>0</td>\n",
       "      <td>0</td>\n",
       "      <td>0</td>\n",
       "      <td>0</td>\n",
       "      <td>0</td>\n",
       "      <td>0</td>\n",
       "      <td>-2</td>\n",
       "      <td>0</td>\n",
       "      <td>0</td>\n",
       "      <td>NaN</td>\n",
       "    </tr>\n",
       "  </tbody>\n",
       "</table>\n",
       "</div>"
      ],
      "text/plain": [
       "                  PName POS Team  Age  GP  W  L   Min  PTS  FGM  FGA   FG%  3PM  3PA   3P%  FTM  FTA    FT%  OREB  DREB  REB  AST  TOV  STL  BLK  PF  FP  DD2  TD3  +/-  2PM  2PA  2P%\n",
       "528       Jacob Gilyard   G  MEM   24   1  0  1  40.8    3    1    3  33.3    1    3  33.3    0    0    0.0     0     4    4    7    2    3    0   3  25    0    0  -13    0    0  NaN\n",
       "530        Trevor Keels   G  NYK   19   3  3  0   8.0    3    1    4  25.0    1    4  25.0    0    0    0.0     0     2    2    0    0    0    0   0   5    0    0  -18    0    0  NaN\n",
       "533       Stanley Umude   G  DET   24   1  0  1   2.1    2    0    1   0.0    0    1   0.0    2    2  100.0     0     0    0    0    0    1    1   0   8    0    0    3    0    0  NaN\n",
       "534    Alondes Williams  PG  BKN   23   1  1  0   5.3    0    0    0   0.0    0    0   0.0    0    0    0.0     0     1    1    0    2    0    0   1  -1    0    0   -5    0    0  NaN\n",
       "537  Michael Foster Jr.  PF  PHI   20   1  1  0   1.0    0    0    0   0.0    0    0   0.0    0    0    0.0     0     0    0    0    0    0    0   0   0    0    0   -2    0    0  NaN"
      ]
     },
     "execution_count": 14,
     "metadata": {},
     "output_type": "execute_result"
    }
   ],
   "source": [
    "data[data['2P%'].isna()] #Confirmando onde estão os NAs para podermos imputar valores 0 em seus lugares"
   ]
  },
  {
   "cell_type": "code",
   "execution_count": 15,
   "metadata": {},
   "outputs": [],
   "source": [
    "data.fillna({'2P%': 0}, inplace=True)"
   ]
  },
  {
   "cell_type": "markdown",
   "metadata": {},
   "source": [
    "## Derivar novas colunas com informações por jogo"
   ]
  },
  {
   "cell_type": "code",
   "execution_count": 16,
   "metadata": {},
   "outputs": [],
   "source": [
    "# data['PTSperGP'] = data['PTS']/data['GP']\n",
    "# data['3PMperGP'] = data['3PM']/data['GP']\n",
    "# data['FGMperGP'] = data['FGM']/data['GP']\n",
    "# data['FGAperGP'] = data['FGA']/data['GP']\n",
    "# data['3PAperGP'] = data['3PA']/data['GP']\n",
    "\n",
    "# Ao invés de fazer isso várias vezes, vou definir uma função que faça isso pra mim automaticamente."
   ]
  },
  {
   "cell_type": "code",
   "execution_count": 17,
   "metadata": {},
   "outputs": [],
   "source": [
    "def per_game(df, columns:list):\n",
    "    \"\"\"Cria novas colunas dividindo a coluna original com dados agregados para toda a temporada pelo número de jogos que um jogador esteve presente, obtendo uma média por jogo (per game).\n",
    "\n",
    "    Args:\n",
    "        df (DataFrame): o dataframe alvo\n",
    "        columns (list): uma lista contendo as colunas que desejamos usar para criar novas medidas.\n",
    "    \"\"\"\n",
    "    aux = pd.DataFrame()\n",
    "    for i in columns:\n",
    "        aux[f\"{i}perGP\"] = round(df[i]/df['GP'], 2)\n",
    "\n",
    "    aux['PName'] = df['PName']\n",
    "\n",
    "    return aux"
   ]
  },
  {
   "cell_type": "code",
   "execution_count": 18,
   "metadata": {},
   "outputs": [
    {
     "data": {
      "text/html": [
       "<div>\n",
       "<style scoped>\n",
       "    .dataframe tbody tr th:only-of-type {\n",
       "        vertical-align: middle;\n",
       "    }\n",
       "\n",
       "    .dataframe tbody tr th {\n",
       "        vertical-align: top;\n",
       "    }\n",
       "\n",
       "    .dataframe thead th {\n",
       "        text-align: right;\n",
       "    }\n",
       "</style>\n",
       "<table border=\"1\" class=\"dataframe\">\n",
       "  <thead>\n",
       "    <tr style=\"text-align: right;\">\n",
       "      <th></th>\n",
       "      <th>PTSperGP</th>\n",
       "      <th>FGMperGP</th>\n",
       "      <th>FGAperGP</th>\n",
       "      <th>3PMperGP</th>\n",
       "      <th>3PAperGP</th>\n",
       "      <th>FTMperGP</th>\n",
       "      <th>FTAperGP</th>\n",
       "      <th>OREBperGP</th>\n",
       "      <th>DREBperGP</th>\n",
       "      <th>REBperGP</th>\n",
       "      <th>ASTperGP</th>\n",
       "      <th>TOVperGP</th>\n",
       "      <th>BLKperGP</th>\n",
       "      <th>STLperGP</th>\n",
       "      <th>PFperGP</th>\n",
       "      <th>DD2perGP</th>\n",
       "      <th>TD3perGP</th>\n",
       "      <th>2PMperGP</th>\n",
       "      <th>2PAperGP</th>\n",
       "      <th>PName</th>\n",
       "    </tr>\n",
       "  </thead>\n",
       "  <tbody>\n",
       "    <tr>\n",
       "      <th>0</th>\n",
       "      <td>30.07</td>\n",
       "      <td>9.82</td>\n",
       "      <td>21.07</td>\n",
       "      <td>3.24</td>\n",
       "      <td>9.27</td>\n",
       "      <td>7.18</td>\n",
       "      <td>8.41</td>\n",
       "      <td>1.05</td>\n",
       "      <td>7.72</td>\n",
       "      <td>8.77</td>\n",
       "      <td>4.62</td>\n",
       "      <td>2.88</td>\n",
       "      <td>0.69</td>\n",
       "      <td>1.05</td>\n",
       "      <td>2.16</td>\n",
       "      <td>0.42</td>\n",
       "      <td>0.01</td>\n",
       "      <td>6.58</td>\n",
       "      <td>11.80</td>\n",
       "      <td>Jayson Tatum</td>\n",
       "    </tr>\n",
       "    <tr>\n",
       "      <th>1</th>\n",
       "      <td>33.08</td>\n",
       "      <td>11.03</td>\n",
       "      <td>20.12</td>\n",
       "      <td>1.00</td>\n",
       "      <td>3.03</td>\n",
       "      <td>10.02</td>\n",
       "      <td>11.68</td>\n",
       "      <td>1.71</td>\n",
       "      <td>8.44</td>\n",
       "      <td>10.15</td>\n",
       "      <td>4.15</td>\n",
       "      <td>3.42</td>\n",
       "      <td>1.70</td>\n",
       "      <td>1.00</td>\n",
       "      <td>3.11</td>\n",
       "      <td>0.59</td>\n",
       "      <td>0.02</td>\n",
       "      <td>10.03</td>\n",
       "      <td>17.09</td>\n",
       "      <td>Joel Embiid</td>\n",
       "    </tr>\n",
       "    <tr>\n",
       "      <th>2</th>\n",
       "      <td>32.39</td>\n",
       "      <td>10.89</td>\n",
       "      <td>21.95</td>\n",
       "      <td>2.80</td>\n",
       "      <td>8.20</td>\n",
       "      <td>7.80</td>\n",
       "      <td>10.52</td>\n",
       "      <td>0.82</td>\n",
       "      <td>7.80</td>\n",
       "      <td>8.62</td>\n",
       "      <td>8.02</td>\n",
       "      <td>3.58</td>\n",
       "      <td>0.50</td>\n",
       "      <td>1.36</td>\n",
       "      <td>2.52</td>\n",
       "      <td>0.55</td>\n",
       "      <td>0.15</td>\n",
       "      <td>8.09</td>\n",
       "      <td>13.76</td>\n",
       "      <td>Luka Doncic</td>\n",
       "    </tr>\n",
       "    <tr>\n",
       "      <th>3</th>\n",
       "      <td>31.40</td>\n",
       "      <td>10.35</td>\n",
       "      <td>20.31</td>\n",
       "      <td>0.85</td>\n",
       "      <td>2.47</td>\n",
       "      <td>9.84</td>\n",
       "      <td>10.87</td>\n",
       "      <td>0.87</td>\n",
       "      <td>3.97</td>\n",
       "      <td>4.84</td>\n",
       "      <td>5.46</td>\n",
       "      <td>2.82</td>\n",
       "      <td>0.96</td>\n",
       "      <td>1.65</td>\n",
       "      <td>2.82</td>\n",
       "      <td>0.04</td>\n",
       "      <td>0.00</td>\n",
       "      <td>9.50</td>\n",
       "      <td>17.84</td>\n",
       "      <td>Shai Gilgeous-Alexander</td>\n",
       "    </tr>\n",
       "    <tr>\n",
       "      <th>4</th>\n",
       "      <td>31.10</td>\n",
       "      <td>11.22</td>\n",
       "      <td>20.29</td>\n",
       "      <td>0.75</td>\n",
       "      <td>2.71</td>\n",
       "      <td>7.90</td>\n",
       "      <td>12.25</td>\n",
       "      <td>2.17</td>\n",
       "      <td>9.60</td>\n",
       "      <td>11.78</td>\n",
       "      <td>5.70</td>\n",
       "      <td>3.90</td>\n",
       "      <td>0.81</td>\n",
       "      <td>0.83</td>\n",
       "      <td>3.13</td>\n",
       "      <td>0.73</td>\n",
       "      <td>0.10</td>\n",
       "      <td>10.48</td>\n",
       "      <td>17.57</td>\n",
       "      <td>Giannis Antetokounmpo</td>\n",
       "    </tr>\n",
       "    <tr>\n",
       "      <th>...</th>\n",
       "      <td>...</td>\n",
       "      <td>...</td>\n",
       "      <td>...</td>\n",
       "      <td>...</td>\n",
       "      <td>...</td>\n",
       "      <td>...</td>\n",
       "      <td>...</td>\n",
       "      <td>...</td>\n",
       "      <td>...</td>\n",
       "      <td>...</td>\n",
       "      <td>...</td>\n",
       "      <td>...</td>\n",
       "      <td>...</td>\n",
       "      <td>...</td>\n",
       "      <td>...</td>\n",
       "      <td>...</td>\n",
       "      <td>...</td>\n",
       "      <td>...</td>\n",
       "      <td>...</td>\n",
       "      <td>...</td>\n",
       "    </tr>\n",
       "    <tr>\n",
       "      <th>534</th>\n",
       "      <td>0.00</td>\n",
       "      <td>0.00</td>\n",
       "      <td>0.00</td>\n",
       "      <td>0.00</td>\n",
       "      <td>0.00</td>\n",
       "      <td>0.00</td>\n",
       "      <td>0.00</td>\n",
       "      <td>0.00</td>\n",
       "      <td>1.00</td>\n",
       "      <td>1.00</td>\n",
       "      <td>0.00</td>\n",
       "      <td>2.00</td>\n",
       "      <td>0.00</td>\n",
       "      <td>0.00</td>\n",
       "      <td>1.00</td>\n",
       "      <td>0.00</td>\n",
       "      <td>0.00</td>\n",
       "      <td>0.00</td>\n",
       "      <td>0.00</td>\n",
       "      <td>Alondes Williams</td>\n",
       "    </tr>\n",
       "    <tr>\n",
       "      <th>535</th>\n",
       "      <td>0.00</td>\n",
       "      <td>0.00</td>\n",
       "      <td>1.00</td>\n",
       "      <td>0.00</td>\n",
       "      <td>0.50</td>\n",
       "      <td>0.00</td>\n",
       "      <td>0.00</td>\n",
       "      <td>0.00</td>\n",
       "      <td>0.00</td>\n",
       "      <td>0.00</td>\n",
       "      <td>0.00</td>\n",
       "      <td>0.00</td>\n",
       "      <td>0.00</td>\n",
       "      <td>0.00</td>\n",
       "      <td>0.00</td>\n",
       "      <td>0.00</td>\n",
       "      <td>0.00</td>\n",
       "      <td>0.00</td>\n",
       "      <td>0.50</td>\n",
       "      <td>Deonte Burton</td>\n",
       "    </tr>\n",
       "    <tr>\n",
       "      <th>536</th>\n",
       "      <td>0.00</td>\n",
       "      <td>0.00</td>\n",
       "      <td>3.00</td>\n",
       "      <td>0.00</td>\n",
       "      <td>1.00</td>\n",
       "      <td>0.00</td>\n",
       "      <td>0.00</td>\n",
       "      <td>1.00</td>\n",
       "      <td>1.00</td>\n",
       "      <td>2.00</td>\n",
       "      <td>1.00</td>\n",
       "      <td>0.00</td>\n",
       "      <td>0.00</td>\n",
       "      <td>0.00</td>\n",
       "      <td>0.00</td>\n",
       "      <td>0.00</td>\n",
       "      <td>0.00</td>\n",
       "      <td>0.00</td>\n",
       "      <td>2.00</td>\n",
       "      <td>Frank Jackson</td>\n",
       "    </tr>\n",
       "    <tr>\n",
       "      <th>537</th>\n",
       "      <td>0.00</td>\n",
       "      <td>0.00</td>\n",
       "      <td>0.00</td>\n",
       "      <td>0.00</td>\n",
       "      <td>0.00</td>\n",
       "      <td>0.00</td>\n",
       "      <td>0.00</td>\n",
       "      <td>0.00</td>\n",
       "      <td>0.00</td>\n",
       "      <td>0.00</td>\n",
       "      <td>0.00</td>\n",
       "      <td>0.00</td>\n",
       "      <td>0.00</td>\n",
       "      <td>0.00</td>\n",
       "      <td>0.00</td>\n",
       "      <td>0.00</td>\n",
       "      <td>0.00</td>\n",
       "      <td>0.00</td>\n",
       "      <td>0.00</td>\n",
       "      <td>Michael Foster Jr.</td>\n",
       "    </tr>\n",
       "    <tr>\n",
       "      <th>538</th>\n",
       "      <td>0.00</td>\n",
       "      <td>0.00</td>\n",
       "      <td>1.00</td>\n",
       "      <td>0.00</td>\n",
       "      <td>0.50</td>\n",
       "      <td>0.00</td>\n",
       "      <td>0.00</td>\n",
       "      <td>0.75</td>\n",
       "      <td>1.25</td>\n",
       "      <td>2.00</td>\n",
       "      <td>0.50</td>\n",
       "      <td>0.00</td>\n",
       "      <td>0.00</td>\n",
       "      <td>0.75</td>\n",
       "      <td>1.00</td>\n",
       "      <td>0.00</td>\n",
       "      <td>0.00</td>\n",
       "      <td>0.00</td>\n",
       "      <td>0.50</td>\n",
       "      <td>Sterling Brown</td>\n",
       "    </tr>\n",
       "  </tbody>\n",
       "</table>\n",
       "<p>539 rows × 20 columns</p>\n",
       "</div>"
      ],
      "text/plain": [
       "     PTSperGP  FGMperGP  FGAperGP  3PMperGP  3PAperGP  FTMperGP  FTAperGP  OREBperGP  DREBperGP  REBperGP  ASTperGP  TOVperGP  BLKperGP  STLperGP  PFperGP  DD2perGP  TD3perGP  2PMperGP  2PAperGP                    PName\n",
       "0       30.07      9.82     21.07      3.24      9.27      7.18      8.41       1.05       7.72      8.77      4.62      2.88      0.69      1.05     2.16      0.42      0.01      6.58     11.80             Jayson Tatum\n",
       "1       33.08     11.03     20.12      1.00      3.03     10.02     11.68       1.71       8.44     10.15      4.15      3.42      1.70      1.00     3.11      0.59      0.02     10.03     17.09              Joel Embiid\n",
       "2       32.39     10.89     21.95      2.80      8.20      7.80     10.52       0.82       7.80      8.62      8.02      3.58      0.50      1.36     2.52      0.55      0.15      8.09     13.76              Luka Doncic\n",
       "3       31.40     10.35     20.31      0.85      2.47      9.84     10.87       0.87       3.97      4.84      5.46      2.82      0.96      1.65     2.82      0.04      0.00      9.50     17.84  Shai Gilgeous-Alexander\n",
       "4       31.10     11.22     20.29      0.75      2.71      7.90     12.25       2.17       9.60     11.78      5.70      3.90      0.81      0.83     3.13      0.73      0.10     10.48     17.57    Giannis Antetokounmpo\n",
       "..        ...       ...       ...       ...       ...       ...       ...        ...        ...       ...       ...       ...       ...       ...      ...       ...       ...       ...       ...                      ...\n",
       "534      0.00      0.00      0.00      0.00      0.00      0.00      0.00       0.00       1.00      1.00      0.00      2.00      0.00      0.00     1.00      0.00      0.00      0.00      0.00         Alondes Williams\n",
       "535      0.00      0.00      1.00      0.00      0.50      0.00      0.00       0.00       0.00      0.00      0.00      0.00      0.00      0.00     0.00      0.00      0.00      0.00      0.50            Deonte Burton\n",
       "536      0.00      0.00      3.00      0.00      1.00      0.00      0.00       1.00       1.00      2.00      1.00      0.00      0.00      0.00     0.00      0.00      0.00      0.00      2.00            Frank Jackson\n",
       "537      0.00      0.00      0.00      0.00      0.00      0.00      0.00       0.00       0.00      0.00      0.00      0.00      0.00      0.00     0.00      0.00      0.00      0.00      0.00       Michael Foster Jr.\n",
       "538      0.00      0.00      1.00      0.00      0.50      0.00      0.00       0.75       1.25      2.00      0.50      0.00      0.00      0.75     1.00      0.00      0.00      0.00      0.50           Sterling Brown\n",
       "\n",
       "[539 rows x 20 columns]"
      ]
     },
     "execution_count": 18,
     "metadata": {},
     "output_type": "execute_result"
    }
   ],
   "source": [
    "aux = per_game(data, ['PTS', 'FGM', 'FGA', '3PM', '3PA', 'FTM', 'FTA', 'OREB', 'DREB', 'REB', 'AST', 'TOV', 'BLK', 'STL', 'PF', 'DD2', 'TD3', '2PM', '2PA'])\n",
    "aux"
   ]
  },
  {
   "cell_type": "code",
   "execution_count": 19,
   "metadata": {},
   "outputs": [],
   "source": [
    "data_merged = data.merge(aux, how='left', left_on='PName', right_on='PName')"
   ]
  },
  {
   "cell_type": "code",
   "execution_count": 20,
   "metadata": {},
   "outputs": [
    {
     "data": {
      "text/html": [
       "<div>\n",
       "<style scoped>\n",
       "    .dataframe tbody tr th:only-of-type {\n",
       "        vertical-align: middle;\n",
       "    }\n",
       "\n",
       "    .dataframe tbody tr th {\n",
       "        vertical-align: top;\n",
       "    }\n",
       "\n",
       "    .dataframe thead th {\n",
       "        text-align: right;\n",
       "    }\n",
       "</style>\n",
       "<table border=\"1\" class=\"dataframe\">\n",
       "  <thead>\n",
       "    <tr style=\"text-align: right;\">\n",
       "      <th></th>\n",
       "      <th>PName</th>\n",
       "      <th>POS</th>\n",
       "      <th>Team</th>\n",
       "      <th>Age</th>\n",
       "      <th>GP</th>\n",
       "      <th>W</th>\n",
       "      <th>L</th>\n",
       "      <th>Min</th>\n",
       "      <th>PTS</th>\n",
       "      <th>FGM</th>\n",
       "      <th>FGA</th>\n",
       "      <th>FG%</th>\n",
       "      <th>3PM</th>\n",
       "      <th>3PA</th>\n",
       "      <th>3P%</th>\n",
       "      <th>FTM</th>\n",
       "      <th>FTA</th>\n",
       "      <th>FT%</th>\n",
       "      <th>OREB</th>\n",
       "      <th>DREB</th>\n",
       "      <th>REB</th>\n",
       "      <th>AST</th>\n",
       "      <th>TOV</th>\n",
       "      <th>STL</th>\n",
       "      <th>BLK</th>\n",
       "      <th>PF</th>\n",
       "      <th>FP</th>\n",
       "      <th>DD2</th>\n",
       "      <th>TD3</th>\n",
       "      <th>+/-</th>\n",
       "      <th>2PM</th>\n",
       "      <th>2PA</th>\n",
       "      <th>2P%</th>\n",
       "      <th>PTSperGP</th>\n",
       "      <th>FGMperGP</th>\n",
       "      <th>FGAperGP</th>\n",
       "      <th>3PMperGP</th>\n",
       "      <th>3PAperGP</th>\n",
       "      <th>FTMperGP</th>\n",
       "      <th>FTAperGP</th>\n",
       "      <th>OREBperGP</th>\n",
       "      <th>DREBperGP</th>\n",
       "      <th>REBperGP</th>\n",
       "      <th>ASTperGP</th>\n",
       "      <th>TOVperGP</th>\n",
       "      <th>BLKperGP</th>\n",
       "      <th>STLperGP</th>\n",
       "      <th>PFperGP</th>\n",
       "      <th>DD2perGP</th>\n",
       "      <th>TD3perGP</th>\n",
       "      <th>2PMperGP</th>\n",
       "      <th>2PAperGP</th>\n",
       "    </tr>\n",
       "  </thead>\n",
       "  <tbody>\n",
       "    <tr>\n",
       "      <th>4</th>\n",
       "      <td>Giannis Antetokounmpo</td>\n",
       "      <td>PF</td>\n",
       "      <td>MIL</td>\n",
       "      <td>28</td>\n",
       "      <td>63</td>\n",
       "      <td>47</td>\n",
       "      <td>16</td>\n",
       "      <td>2023.6</td>\n",
       "      <td>1959</td>\n",
       "      <td>707</td>\n",
       "      <td>1278</td>\n",
       "      <td>55.3</td>\n",
       "      <td>47</td>\n",
       "      <td>171</td>\n",
       "      <td>27.5</td>\n",
       "      <td>498</td>\n",
       "      <td>772</td>\n",
       "      <td>64.5</td>\n",
       "      <td>137</td>\n",
       "      <td>605</td>\n",
       "      <td>742</td>\n",
       "      <td>359</td>\n",
       "      <td>246</td>\n",
       "      <td>52</td>\n",
       "      <td>51</td>\n",
       "      <td>197</td>\n",
       "      <td>3451</td>\n",
       "      <td>46</td>\n",
       "      <td>6</td>\n",
       "      <td>341</td>\n",
       "      <td>660</td>\n",
       "      <td>1107</td>\n",
       "      <td>59.62</td>\n",
       "      <td>31.10</td>\n",
       "      <td>11.22</td>\n",
       "      <td>20.29</td>\n",
       "      <td>0.75</td>\n",
       "      <td>2.71</td>\n",
       "      <td>7.90</td>\n",
       "      <td>12.25</td>\n",
       "      <td>2.17</td>\n",
       "      <td>9.60</td>\n",
       "      <td>11.78</td>\n",
       "      <td>5.70</td>\n",
       "      <td>3.90</td>\n",
       "      <td>0.81</td>\n",
       "      <td>0.83</td>\n",
       "      <td>3.13</td>\n",
       "      <td>0.73</td>\n",
       "      <td>0.1</td>\n",
       "      <td>10.48</td>\n",
       "      <td>17.57</td>\n",
       "    </tr>\n",
       "    <tr>\n",
       "      <th>156</th>\n",
       "      <td>Deni Avdija</td>\n",
       "      <td>SF</td>\n",
       "      <td>WAS</td>\n",
       "      <td>22</td>\n",
       "      <td>76</td>\n",
       "      <td>33</td>\n",
       "      <td>43</td>\n",
       "      <td>2020.4</td>\n",
       "      <td>697</td>\n",
       "      <td>253</td>\n",
       "      <td>579</td>\n",
       "      <td>43.7</td>\n",
       "      <td>69</td>\n",
       "      <td>232</td>\n",
       "      <td>29.7</td>\n",
       "      <td>122</td>\n",
       "      <td>165</td>\n",
       "      <td>73.9</td>\n",
       "      <td>74</td>\n",
       "      <td>413</td>\n",
       "      <td>487</td>\n",
       "      <td>211</td>\n",
       "      <td>123</td>\n",
       "      <td>65</td>\n",
       "      <td>29</td>\n",
       "      <td>209</td>\n",
       "      <td>1757</td>\n",
       "      <td>11</td>\n",
       "      <td>0</td>\n",
       "      <td>-51</td>\n",
       "      <td>184</td>\n",
       "      <td>347</td>\n",
       "      <td>53.03</td>\n",
       "      <td>9.17</td>\n",
       "      <td>3.33</td>\n",
       "      <td>7.62</td>\n",
       "      <td>0.91</td>\n",
       "      <td>3.05</td>\n",
       "      <td>1.61</td>\n",
       "      <td>2.17</td>\n",
       "      <td>0.97</td>\n",
       "      <td>5.43</td>\n",
       "      <td>6.41</td>\n",
       "      <td>2.78</td>\n",
       "      <td>1.62</td>\n",
       "      <td>0.38</td>\n",
       "      <td>0.86</td>\n",
       "      <td>2.75</td>\n",
       "      <td>0.14</td>\n",
       "      <td>0.0</td>\n",
       "      <td>2.42</td>\n",
       "      <td>4.57</td>\n",
       "    </tr>\n",
       "  </tbody>\n",
       "</table>\n",
       "</div>"
      ],
      "text/plain": [
       "                     PName POS Team  Age  GP   W   L     Min   PTS  FGM   FGA   FG%  3PM  3PA   3P%  FTM  FTA   FT%  OREB  DREB  REB  AST  TOV  STL  BLK   PF    FP  DD2  TD3  +/-  2PM   2PA    2P%  PTSperGP  FGMperGP  FGAperGP  3PMperGP  3PAperGP  FTMperGP  FTAperGP  OREBperGP  DREBperGP  REBperGP  ASTperGP  TOVperGP  BLKperGP  STLperGP  PFperGP  DD2perGP  TD3perGP  2PMperGP  2PAperGP\n",
       "4    Giannis Antetokounmpo  PF  MIL   28  63  47  16  2023.6  1959  707  1278  55.3   47  171  27.5  498  772  64.5   137   605  742  359  246   52   51  197  3451   46    6  341  660  1107  59.62     31.10     11.22     20.29      0.75      2.71      7.90     12.25       2.17       9.60     11.78      5.70      3.90      0.81      0.83     3.13      0.73       0.1     10.48     17.57\n",
       "156            Deni Avdija  SF  WAS   22  76  33  43  2020.4   697  253   579  43.7   69  232  29.7  122  165  73.9    74   413  487  211  123   65   29  209  1757   11    0  -51  184   347  53.03      9.17      3.33      7.62      0.91      3.05      1.61      2.17       0.97       5.43      6.41      2.78      1.62      0.38      0.86     2.75      0.14       0.0      2.42      4.57"
      ]
     },
     "execution_count": 20,
     "metadata": {},
     "output_type": "execute_result"
    }
   ],
   "source": [
    "data_merged.sample(2)"
   ]
  },
  {
   "cell_type": "code",
   "execution_count": 21,
   "metadata": {},
   "outputs": [
    {
     "data": {
      "text/plain": [
       "array(['BOS', 'PHI', 'DAL', 'OKC', 'MIL', 'MIN', 'NYK', 'CLE', 'ATL',\n",
       "       'CHI', 'POR', 'SAC', 'TOR', 'UTA', 'DEN', 'HOU', 'GSW', 'BKN',\n",
       "       'MEM', 'LAL', 'NOP', 'MIA', 'WAS', 'ORL', 'PHX', 'SAS', 'IND',\n",
       "       'LAC', 'CHA', 'DET'], dtype=object)"
      ]
     },
     "execution_count": 21,
     "metadata": {},
     "output_type": "execute_result"
    }
   ],
   "source": [
    "data_merged.Team.unique()"
   ]
  },
  {
   "cell_type": "markdown",
   "metadata": {},
   "source": [
    "Adicionar imagens e nomes dos times ao dataframe"
   ]
  },
  {
   "cell_type": "code",
   "execution_count": 22,
   "metadata": {},
   "outputs": [],
   "source": [
    "teams_image_map = {'BOS' : 'https://cdn.nba.com/logos/nba/1610612738/global/L/logo.svg', \n",
    "                   'PHI' : 'https://cdn.nba.com/logos/nba/1610612755/global/L/logo.svg', \n",
    "                   'DAL' : 'https://cdn.nba.com/logos/nba/1610612742/global/L/logo.svg', \n",
    "                   'OKC' : 'https://cdn.nba.com/logos/nba/1610612760/global/L/logo.svg', \n",
    "                   'MIL' : 'https://cdn.nba.com/logos/nba/1610612749/global/L/logo.svg', \n",
    "                   'MIN' : 'https://cdn.nba.com/logos/nba/1610612750/global/L/logo.svg', \n",
    "                   'NYK' : 'https://cdn.nba.com/logos/nba/1610612752/global/L/logo.svg', \n",
    "                   'CLE' : 'https://cdn.nba.com/logos/nba/1610612739/global/L/logo.svg', \n",
    "                   'ATL' : 'https://cdn.nba.com/logos/nba/1610612737/global/L/logo.svg',\n",
    "                   'CHI' : 'https://cdn.nba.com/logos/nba/1610612741/global/L/logo.svg', \n",
    "                   'POR' : 'https://cdn.nba.com/logos/nba/1610612757/global/L/logo.svg', \n",
    "                   'SAC' : 'https://cdn.nba.com/logos/nba/1610612758/global/L/logo.svg', \n",
    "                   'TOR' : 'https://cdn.nba.com/logos/nba/1610612761/global/L/logo.svg', \n",
    "                   'UTA' : 'https://cdn.nba.com/logos/nba/1610612762/global/L/logo.svg', \n",
    "                   'DEN' : 'https://cdn.nba.com/logos/nba/1610612743/global/L/logo.svg', \n",
    "                   'HOU' : 'https://cdn.nba.com/logos/nba/1610612745/global/L/logo.svg', \n",
    "                   'GSW' : 'https://cdn.nba.com/logos/nba/1610612744/global/L/logo.svg', \n",
    "                   'BKN' : 'https://cdn.nba.com/logos/nba/1610612751/global/L/logo.svg', \n",
    "                   'MEM' : 'https://cdn.nba.com/logos/nba/1610612763/global/L/logo.svg', \n",
    "                   'LAL' : 'https://cdn.nba.com/logos/nba/1610612747/global/L/logo.svg', \n",
    "                   'NOP' : 'https://cdn.nba.com/logos/nba/1610612740/global/L/logo.svg', \n",
    "                   'MIA' : 'https://cdn.nba.com/logos/nba/1610612748/global/L/logo.svg', \n",
    "                   'WAS' : 'https://cdn.nba.com/logos/nba/1610612764/global/L/logo.svg', \n",
    "                   'ORL' : 'https://cdn.nba.com/logos/nba/1610612753/global/L/logo.svg', \n",
    "                   'PHX' : 'https://cdn.nba.com/logos/nba/1610612756/global/L/logo.svg', \n",
    "                   'SAS' : 'https://cdn.nba.com/logos/nba/1610612759/global/L/logo.svg', \n",
    "                   'IND' : 'https://cdn.nba.com/logos/nba/1610612754/global/L/logo.svg', \n",
    "                   'LAC' : 'https://cdn.nba.com/logos/nba/1610612746/global/L/logo.svg', \n",
    "                   'CHA' : 'https://cdn.nba.com/logos/nba/1610612766/global/L/logo.svg', \n",
    "                   'DET': 'https://cdn.nba.com/logos/nba/1610612765/global/L/logo.svg'}"
   ]
  },
  {
   "cell_type": "code",
   "execution_count": 23,
   "metadata": {},
   "outputs": [],
   "source": [
    "teams_names_map = {'BOS' : 'Boston Celtics', \n",
    "                   'PHI' : 'Philadelphia 76ers', \n",
    "                   'DAL' : 'Dallas Mavericks', \n",
    "                   'OKC' : 'Oklahoma City Thunder', \n",
    "                   'MIL' : 'Milwaukee Bucks', \n",
    "                   'MIN' : 'Minnesota Timberwolves', \n",
    "                   'NYK' : 'New York Knicks', \n",
    "                   'CLE' : 'Cleveland Cavaliers', \n",
    "                   'ATL' : 'Atlanta Hawks',\n",
    "                   'CHI' : 'Chicago Bulls', \n",
    "                   'POR' : 'Portland Trails Brazers', \n",
    "                   'SAC' : 'Sacramento Kings', \n",
    "                   'TOR' : 'Toronto Raptors', \n",
    "                   'UTA' : 'Utah Jazz', \n",
    "                   'DEN' : 'Denver Nuggets', \n",
    "                   'HOU' : 'Houston Rockets', \n",
    "                   'GSW' : 'Golden State Warriors', \n",
    "                   'BKN' : 'Brooklyn Nets', \n",
    "                   'MEM' : 'Memphis Grizzlies', \n",
    "                   'LAL' : 'Los Angeles Lakers', \n",
    "                   'NOP' : 'New Orleans Pelicans', \n",
    "                   'MIA' : 'Miami Heat', \n",
    "                   'WAS' : 'Washington Wizards', \n",
    "                   'ORL' : 'Orlando Magic', \n",
    "                   'PHX' : 'Phoenix Suns', \n",
    "                   'SAS' : 'San Antonia Spurs', \n",
    "                   'IND' : 'Indiana Pacers', \n",
    "                   'LAC' : 'Los Angeles Clippers', \n",
    "                   'CHA' : 'Charlotte Hornets', \n",
    "                   'DET': 'Detroit Pistons'}"
   ]
  },
  {
   "cell_type": "code",
   "execution_count": 24,
   "metadata": {},
   "outputs": [],
   "source": [
    "data_merged['team_img'] = data_merged['Team'].map( teams_image_map )\n",
    "data_merged['team_name'] = data_merged['Team'].map( teams_names_map )"
   ]
  },
  {
   "cell_type": "code",
   "execution_count": 25,
   "metadata": {},
   "outputs": [
    {
     "data": {
      "text/html": [
       "<div>\n",
       "<style scoped>\n",
       "    .dataframe tbody tr th:only-of-type {\n",
       "        vertical-align: middle;\n",
       "    }\n",
       "\n",
       "    .dataframe tbody tr th {\n",
       "        vertical-align: top;\n",
       "    }\n",
       "\n",
       "    .dataframe thead th {\n",
       "        text-align: right;\n",
       "    }\n",
       "</style>\n",
       "<table border=\"1\" class=\"dataframe\">\n",
       "  <thead>\n",
       "    <tr style=\"text-align: right;\">\n",
       "      <th></th>\n",
       "      <th>PName</th>\n",
       "      <th>POS</th>\n",
       "      <th>Team</th>\n",
       "      <th>Age</th>\n",
       "      <th>GP</th>\n",
       "      <th>W</th>\n",
       "      <th>L</th>\n",
       "      <th>Min</th>\n",
       "      <th>PTS</th>\n",
       "      <th>FGM</th>\n",
       "      <th>FGA</th>\n",
       "      <th>FG%</th>\n",
       "      <th>3PM</th>\n",
       "      <th>3PA</th>\n",
       "      <th>3P%</th>\n",
       "      <th>FTM</th>\n",
       "      <th>FTA</th>\n",
       "      <th>FT%</th>\n",
       "      <th>OREB</th>\n",
       "      <th>DREB</th>\n",
       "      <th>REB</th>\n",
       "      <th>AST</th>\n",
       "      <th>TOV</th>\n",
       "      <th>STL</th>\n",
       "      <th>BLK</th>\n",
       "      <th>PF</th>\n",
       "      <th>FP</th>\n",
       "      <th>DD2</th>\n",
       "      <th>TD3</th>\n",
       "      <th>+/-</th>\n",
       "      <th>2PM</th>\n",
       "      <th>2PA</th>\n",
       "      <th>2P%</th>\n",
       "      <th>PTSperGP</th>\n",
       "      <th>FGMperGP</th>\n",
       "      <th>FGAperGP</th>\n",
       "      <th>3PMperGP</th>\n",
       "      <th>3PAperGP</th>\n",
       "      <th>FTMperGP</th>\n",
       "      <th>FTAperGP</th>\n",
       "      <th>OREBperGP</th>\n",
       "      <th>DREBperGP</th>\n",
       "      <th>REBperGP</th>\n",
       "      <th>ASTperGP</th>\n",
       "      <th>TOVperGP</th>\n",
       "      <th>BLKperGP</th>\n",
       "      <th>STLperGP</th>\n",
       "      <th>PFperGP</th>\n",
       "      <th>DD2perGP</th>\n",
       "      <th>TD3perGP</th>\n",
       "      <th>2PMperGP</th>\n",
       "      <th>2PAperGP</th>\n",
       "      <th>team_img</th>\n",
       "      <th>team_name</th>\n",
       "    </tr>\n",
       "  </thead>\n",
       "  <tbody>\n",
       "    <tr>\n",
       "      <th>405</th>\n",
       "      <td>Orlando Robinson</td>\n",
       "      <td>C</td>\n",
       "      <td>MIA</td>\n",
       "      <td>22</td>\n",
       "      <td>31</td>\n",
       "      <td>18</td>\n",
       "      <td>13</td>\n",
       "      <td>425.1</td>\n",
       "      <td>116</td>\n",
       "      <td>47</td>\n",
       "      <td>89</td>\n",
       "      <td>52.8</td>\n",
       "      <td>0</td>\n",
       "      <td>6</td>\n",
       "      <td>0.0</td>\n",
       "      <td>22</td>\n",
       "      <td>31</td>\n",
       "      <td>71.0</td>\n",
       "      <td>48</td>\n",
       "      <td>78</td>\n",
       "      <td>126</td>\n",
       "      <td>25</td>\n",
       "      <td>16</td>\n",
       "      <td>12</td>\n",
       "      <td>12</td>\n",
       "      <td>53</td>\n",
       "      <td>361</td>\n",
       "      <td>0</td>\n",
       "      <td>0</td>\n",
       "      <td>27</td>\n",
       "      <td>47</td>\n",
       "      <td>83</td>\n",
       "      <td>56.63</td>\n",
       "      <td>3.74</td>\n",
       "      <td>1.52</td>\n",
       "      <td>2.87</td>\n",
       "      <td>0.00</td>\n",
       "      <td>0.19</td>\n",
       "      <td>0.71</td>\n",
       "      <td>1.00</td>\n",
       "      <td>1.55</td>\n",
       "      <td>2.52</td>\n",
       "      <td>4.06</td>\n",
       "      <td>0.81</td>\n",
       "      <td>0.52</td>\n",
       "      <td>0.39</td>\n",
       "      <td>0.39</td>\n",
       "      <td>1.71</td>\n",
       "      <td>0.0</td>\n",
       "      <td>0.0</td>\n",
       "      <td>1.52</td>\n",
       "      <td>2.68</td>\n",
       "      <td>https://cdn.nba.com/logos/nba/1610612748/global/L/logo.svg</td>\n",
       "      <td>Miami Heat</td>\n",
       "    </tr>\n",
       "    <tr>\n",
       "      <th>273</th>\n",
       "      <td>JaMychal Green</td>\n",
       "      <td>F</td>\n",
       "      <td>GSW</td>\n",
       "      <td>32</td>\n",
       "      <td>57</td>\n",
       "      <td>30</td>\n",
       "      <td>27</td>\n",
       "      <td>796.7</td>\n",
       "      <td>366</td>\n",
       "      <td>136</td>\n",
       "      <td>252</td>\n",
       "      <td>54.0</td>\n",
       "      <td>42</td>\n",
       "      <td>111</td>\n",
       "      <td>37.8</td>\n",
       "      <td>52</td>\n",
       "      <td>67</td>\n",
       "      <td>77.6</td>\n",
       "      <td>72</td>\n",
       "      <td>133</td>\n",
       "      <td>205</td>\n",
       "      <td>51</td>\n",
       "      <td>52</td>\n",
       "      <td>25</td>\n",
       "      <td>23</td>\n",
       "      <td>105</td>\n",
       "      <td>781</td>\n",
       "      <td>0</td>\n",
       "      <td>0</td>\n",
       "      <td>-156</td>\n",
       "      <td>94</td>\n",
       "      <td>141</td>\n",
       "      <td>66.67</td>\n",
       "      <td>6.42</td>\n",
       "      <td>2.39</td>\n",
       "      <td>4.42</td>\n",
       "      <td>0.74</td>\n",
       "      <td>1.95</td>\n",
       "      <td>0.91</td>\n",
       "      <td>1.18</td>\n",
       "      <td>1.26</td>\n",
       "      <td>2.33</td>\n",
       "      <td>3.60</td>\n",
       "      <td>0.89</td>\n",
       "      <td>0.91</td>\n",
       "      <td>0.40</td>\n",
       "      <td>0.44</td>\n",
       "      <td>1.84</td>\n",
       "      <td>0.0</td>\n",
       "      <td>0.0</td>\n",
       "      <td>1.65</td>\n",
       "      <td>2.47</td>\n",
       "      <td>https://cdn.nba.com/logos/nba/1610612744/global/L/logo.svg</td>\n",
       "      <td>Golden State Warriors</td>\n",
       "    </tr>\n",
       "  </tbody>\n",
       "</table>\n",
       "</div>"
      ],
      "text/plain": [
       "                PName POS Team  Age  GP   W   L    Min  PTS  FGM  FGA   FG%  3PM  3PA   3P%  FTM  FTA   FT%  OREB  DREB  REB  AST  TOV  STL  BLK   PF   FP  DD2  TD3  +/-  2PM  2PA    2P%  PTSperGP  FGMperGP  FGAperGP  3PMperGP  3PAperGP  FTMperGP  FTAperGP  OREBperGP  DREBperGP  REBperGP  ASTperGP  TOVperGP  BLKperGP  STLperGP  PFperGP  DD2perGP  TD3perGP  2PMperGP  2PAperGP                                                    team_img              team_name\n",
       "405  Orlando Robinson   C  MIA   22  31  18  13  425.1  116   47   89  52.8    0    6   0.0   22   31  71.0    48    78  126   25   16   12   12   53  361    0    0   27   47   83  56.63      3.74      1.52      2.87      0.00      0.19      0.71      1.00       1.55       2.52      4.06      0.81      0.52      0.39      0.39     1.71       0.0       0.0      1.52      2.68  https://cdn.nba.com/logos/nba/1610612748/global/L/logo.svg             Miami Heat\n",
       "273    JaMychal Green   F  GSW   32  57  30  27  796.7  366  136  252  54.0   42  111  37.8   52   67  77.6    72   133  205   51   52   25   23  105  781    0    0 -156   94  141  66.67      6.42      2.39      4.42      0.74      1.95      0.91      1.18       1.26       2.33      3.60      0.89      0.91      0.40      0.44     1.84       0.0       0.0      1.65      2.47  https://cdn.nba.com/logos/nba/1610612744/global/L/logo.svg  Golden State Warriors"
      ]
     },
     "execution_count": 25,
     "metadata": {},
     "output_type": "execute_result"
    }
   ],
   "source": [
    "data_merged.sample(2)"
   ]
  },
  {
   "cell_type": "code",
   "execution_count": 26,
   "metadata": {},
   "outputs": [
    {
     "data": {
      "text/plain": [
       "Index(['PName', 'POS', 'Team', 'Age', 'GP', 'W', 'L', 'Min', 'PTS', 'FGM',\n",
       "       'FGA', 'FG%', '3PM', '3PA', '3P%', 'FTM', 'FTA', 'FT%', 'OREB', 'DREB',\n",
       "       'REB', 'AST', 'TOV', 'STL', 'BLK', 'PF', 'FP', 'DD2', 'TD3', '+/-',\n",
       "       '2PM', '2PA', '2P%', 'PTSperGP', 'FGMperGP', 'FGAperGP', '3PMperGP',\n",
       "       '3PAperGP', 'FTMperGP', 'FTAperGP', 'OREBperGP', 'DREBperGP',\n",
       "       'REBperGP', 'ASTperGP', 'TOVperGP', 'BLKperGP', 'STLperGP', 'PFperGP',\n",
       "       'DD2perGP', 'TD3perGP', '2PMperGP', '2PAperGP', 'team_img',\n",
       "       'team_name'],\n",
       "      dtype='object')"
      ]
     },
     "execution_count": 26,
     "metadata": {},
     "output_type": "execute_result"
    }
   ],
   "source": [
    "data_merged.columns"
   ]
  },
  {
   "cell_type": "markdown",
   "metadata": {},
   "source": [
    "## Criando dataframe de Times"
   ]
  },
  {
   "cell_type": "code",
   "execution_count": 27,
   "metadata": {},
   "outputs": [],
   "source": [
    "df_times = (data_merged[['Team', 'PTS', '3PM', '3PA', '3P%', 'FGM', 'FGA', 'FG%', 'FTM', 'FTA', 'FT%', 'OREB', 'DREB', 'REB', 'AST', 'TOV', 'STL', 'BLK', 'PF','2PM', '2PA', '2P%']].\n",
    "            groupby('Team').\n",
    "            agg({'PTS':'sum', '3PM':'sum', '3PA':'sum', 'FGM':'sum', 'FGA':'sum', 'FTM':'sum', 'FTA':'sum', '3P%':'mean', 'FG%':'mean', 'FT%':'mean', 'OREB' : 'sum', 'DREB': 'sum', 'REB': 'sum', 'AST': 'sum', 'TOV': 'sum', 'STL': 'sum', 'BLK': 'sum', 'PF': 'sum', '2PM': 'sum', '2PA': 'sum', '2P%': 'mean'}).\n",
    "            sort_values(by='PTS', ascending=False).\n",
    "            round(2).\n",
    "            reset_index())"
   ]
  },
  {
   "cell_type": "code",
   "execution_count": 28,
   "metadata": {},
   "outputs": [
    {
     "data": {
      "text/html": [
       "<div>\n",
       "<style scoped>\n",
       "    .dataframe tbody tr th:only-of-type {\n",
       "        vertical-align: middle;\n",
       "    }\n",
       "\n",
       "    .dataframe tbody tr th {\n",
       "        vertical-align: top;\n",
       "    }\n",
       "\n",
       "    .dataframe thead th {\n",
       "        text-align: right;\n",
       "    }\n",
       "</style>\n",
       "<table border=\"1\" class=\"dataframe\">\n",
       "  <thead>\n",
       "    <tr style=\"text-align: right;\">\n",
       "      <th></th>\n",
       "      <th>Team</th>\n",
       "      <th>PTS</th>\n",
       "      <th>3PM</th>\n",
       "      <th>3PA</th>\n",
       "      <th>FGM</th>\n",
       "      <th>FGA</th>\n",
       "      <th>FTM</th>\n",
       "      <th>FTA</th>\n",
       "      <th>3P%</th>\n",
       "      <th>FG%</th>\n",
       "      <th>FT%</th>\n",
       "      <th>OREB</th>\n",
       "      <th>DREB</th>\n",
       "      <th>REB</th>\n",
       "      <th>AST</th>\n",
       "      <th>TOV</th>\n",
       "      <th>STL</th>\n",
       "      <th>BLK</th>\n",
       "      <th>PF</th>\n",
       "      <th>2PM</th>\n",
       "      <th>2PA</th>\n",
       "      <th>2P%</th>\n",
       "    </tr>\n",
       "  </thead>\n",
       "  <tbody>\n",
       "    <tr>\n",
       "      <th>0</th>\n",
       "      <td>LAC</td>\n",
       "      <td>10954</td>\n",
       "      <td>1144</td>\n",
       "      <td>3081</td>\n",
       "      <td>3949</td>\n",
       "      <td>8278</td>\n",
       "      <td>1912</td>\n",
       "      <td>2515</td>\n",
       "      <td>32.68</td>\n",
       "      <td>46.37</td>\n",
       "      <td>67.08</td>\n",
       "      <td>986</td>\n",
       "      <td>3266</td>\n",
       "      <td>4252</td>\n",
       "      <td>2592</td>\n",
       "      <td>1391</td>\n",
       "      <td>666</td>\n",
       "      <td>429</td>\n",
       "      <td>1814</td>\n",
       "      <td>2805</td>\n",
       "      <td>5197</td>\n",
       "      <td>51.39</td>\n",
       "    </tr>\n",
       "    <tr>\n",
       "      <th>1</th>\n",
       "      <td>ATL</td>\n",
       "      <td>10625</td>\n",
       "      <td>995</td>\n",
       "      <td>2844</td>\n",
       "      <td>3938</td>\n",
       "      <td>8274</td>\n",
       "      <td>1754</td>\n",
       "      <td>2136</td>\n",
       "      <td>23.87</td>\n",
       "      <td>46.08</td>\n",
       "      <td>73.63</td>\n",
       "      <td>1032</td>\n",
       "      <td>2974</td>\n",
       "      <td>4006</td>\n",
       "      <td>2140</td>\n",
       "      <td>1084</td>\n",
       "      <td>649</td>\n",
       "      <td>437</td>\n",
       "      <td>1693</td>\n",
       "      <td>2943</td>\n",
       "      <td>5430</td>\n",
       "      <td>54.05</td>\n",
       "    </tr>\n",
       "    <tr>\n",
       "      <th>2</th>\n",
       "      <td>LAL</td>\n",
       "      <td>10492</td>\n",
       "      <td>1115</td>\n",
       "      <td>3111</td>\n",
       "      <td>3828</td>\n",
       "      <td>7985</td>\n",
       "      <td>1721</td>\n",
       "      <td>2182</td>\n",
       "      <td>32.82</td>\n",
       "      <td>42.75</td>\n",
       "      <td>67.46</td>\n",
       "      <td>881</td>\n",
       "      <td>3102</td>\n",
       "      <td>3983</td>\n",
       "      <td>2162</td>\n",
       "      <td>1149</td>\n",
       "      <td>597</td>\n",
       "      <td>385</td>\n",
       "      <td>1530</td>\n",
       "      <td>2713</td>\n",
       "      <td>4874</td>\n",
       "      <td>45.58</td>\n",
       "    </tr>\n",
       "    <tr>\n",
       "      <th>3</th>\n",
       "      <td>NYK</td>\n",
       "      <td>10225</td>\n",
       "      <td>1105</td>\n",
       "      <td>3144</td>\n",
       "      <td>3720</td>\n",
       "      <td>7949</td>\n",
       "      <td>1680</td>\n",
       "      <td>2233</td>\n",
       "      <td>28.59</td>\n",
       "      <td>46.16</td>\n",
       "      <td>68.79</td>\n",
       "      <td>1142</td>\n",
       "      <td>3198</td>\n",
       "      <td>4340</td>\n",
       "      <td>2158</td>\n",
       "      <td>1114</td>\n",
       "      <td>587</td>\n",
       "      <td>352</td>\n",
       "      <td>1839</td>\n",
       "      <td>2615</td>\n",
       "      <td>4805</td>\n",
       "      <td>50.87</td>\n",
       "    </tr>\n",
       "    <tr>\n",
       "      <th>4</th>\n",
       "      <td>PHI</td>\n",
       "      <td>10078</td>\n",
       "      <td>1090</td>\n",
       "      <td>2849</td>\n",
       "      <td>3579</td>\n",
       "      <td>7371</td>\n",
       "      <td>1830</td>\n",
       "      <td>2194</td>\n",
       "      <td>32.77</td>\n",
       "      <td>46.42</td>\n",
       "      <td>69.77</td>\n",
       "      <td>767</td>\n",
       "      <td>2905</td>\n",
       "      <td>3672</td>\n",
       "      <td>2165</td>\n",
       "      <td>1140</td>\n",
       "      <td>661</td>\n",
       "      <td>418</td>\n",
       "      <td>1828</td>\n",
       "      <td>2489</td>\n",
       "      <td>4522</td>\n",
       "      <td>52.90</td>\n",
       "    </tr>\n",
       "    <tr>\n",
       "      <th>5</th>\n",
       "      <td>TOR</td>\n",
       "      <td>10068</td>\n",
       "      <td>931</td>\n",
       "      <td>2763</td>\n",
       "      <td>3761</td>\n",
       "      <td>8127</td>\n",
       "      <td>1615</td>\n",
       "      <td>2091</td>\n",
       "      <td>28.20</td>\n",
       "      <td>45.03</td>\n",
       "      <td>72.11</td>\n",
       "      <td>1196</td>\n",
       "      <td>2830</td>\n",
       "      <td>4026</td>\n",
       "      <td>2189</td>\n",
       "      <td>1053</td>\n",
       "      <td>820</td>\n",
       "      <td>481</td>\n",
       "      <td>1773</td>\n",
       "      <td>2830</td>\n",
       "      <td>5364</td>\n",
       "      <td>51.39</td>\n",
       "    </tr>\n",
       "    <tr>\n",
       "      <th>6</th>\n",
       "      <td>DEN</td>\n",
       "      <td>9968</td>\n",
       "      <td>961</td>\n",
       "      <td>2544</td>\n",
       "      <td>3787</td>\n",
       "      <td>7387</td>\n",
       "      <td>1433</td>\n",
       "      <td>1906</td>\n",
       "      <td>39.40</td>\n",
       "      <td>51.32</td>\n",
       "      <td>71.31</td>\n",
       "      <td>898</td>\n",
       "      <td>2883</td>\n",
       "      <td>3781</td>\n",
       "      <td>2436</td>\n",
       "      <td>1171</td>\n",
       "      <td>629</td>\n",
       "      <td>379</td>\n",
       "      <td>1592</td>\n",
       "      <td>2826</td>\n",
       "      <td>4843</td>\n",
       "      <td>57.42</td>\n",
       "    </tr>\n",
       "    <tr>\n",
       "      <th>7</th>\n",
       "      <td>BOS</td>\n",
       "      <td>9942</td>\n",
       "      <td>1371</td>\n",
       "      <td>3634</td>\n",
       "      <td>3552</td>\n",
       "      <td>7484</td>\n",
       "      <td>1467</td>\n",
       "      <td>1808</td>\n",
       "      <td>30.14</td>\n",
       "      <td>45.66</td>\n",
       "      <td>71.70</td>\n",
       "      <td>820</td>\n",
       "      <td>3036</td>\n",
       "      <td>3856</td>\n",
       "      <td>2225</td>\n",
       "      <td>1057</td>\n",
       "      <td>532</td>\n",
       "      <td>449</td>\n",
       "      <td>1613</td>\n",
       "      <td>2181</td>\n",
       "      <td>3850</td>\n",
       "      <td>54.43</td>\n",
       "    </tr>\n",
       "    <tr>\n",
       "      <th>8</th>\n",
       "      <td>SAC</td>\n",
       "      <td>9913</td>\n",
       "      <td>1130</td>\n",
       "      <td>3072</td>\n",
       "      <td>3579</td>\n",
       "      <td>7256</td>\n",
       "      <td>1625</td>\n",
       "      <td>2057</td>\n",
       "      <td>28.77</td>\n",
       "      <td>45.58</td>\n",
       "      <td>60.64</td>\n",
       "      <td>788</td>\n",
       "      <td>2707</td>\n",
       "      <td>3495</td>\n",
       "      <td>2239</td>\n",
       "      <td>1080</td>\n",
       "      <td>577</td>\n",
       "      <td>276</td>\n",
       "      <td>1619</td>\n",
       "      <td>2449</td>\n",
       "      <td>4184</td>\n",
       "      <td>51.38</td>\n",
       "    </tr>\n",
       "    <tr>\n",
       "      <th>9</th>\n",
       "      <td>MEM</td>\n",
       "      <td>9852</td>\n",
       "      <td>1041</td>\n",
       "      <td>2931</td>\n",
       "      <td>3680</td>\n",
       "      <td>7751</td>\n",
       "      <td>1451</td>\n",
       "      <td>1974</td>\n",
       "      <td>29.18</td>\n",
       "      <td>46.52</td>\n",
       "      <td>68.62</td>\n",
       "      <td>993</td>\n",
       "      <td>2909</td>\n",
       "      <td>3902</td>\n",
       "      <td>2170</td>\n",
       "      <td>1087</td>\n",
       "      <td>698</td>\n",
       "      <td>477</td>\n",
       "      <td>1684</td>\n",
       "      <td>2639</td>\n",
       "      <td>4820</td>\n",
       "      <td>52.84</td>\n",
       "    </tr>\n",
       "    <tr>\n",
       "      <th>10</th>\n",
       "      <td>IND</td>\n",
       "      <td>9801</td>\n",
       "      <td>1167</td>\n",
       "      <td>3174</td>\n",
       "      <td>3522</td>\n",
       "      <td>7557</td>\n",
       "      <td>1590</td>\n",
       "      <td>2002</td>\n",
       "      <td>29.69</td>\n",
       "      <td>45.33</td>\n",
       "      <td>76.28</td>\n",
       "      <td>827</td>\n",
       "      <td>2676</td>\n",
       "      <td>3503</td>\n",
       "      <td>2312</td>\n",
       "      <td>1197</td>\n",
       "      <td>650</td>\n",
       "      <td>473</td>\n",
       "      <td>1758</td>\n",
       "      <td>2355</td>\n",
       "      <td>4383</td>\n",
       "      <td>54.11</td>\n",
       "    </tr>\n",
       "    <tr>\n",
       "      <th>11</th>\n",
       "      <td>GSW</td>\n",
       "      <td>9669</td>\n",
       "      <td>1371</td>\n",
       "      <td>3555</td>\n",
       "      <td>3503</td>\n",
       "      <td>7340</td>\n",
       "      <td>1292</td>\n",
       "      <td>1621</td>\n",
       "      <td>35.09</td>\n",
       "      <td>47.82</td>\n",
       "      <td>76.99</td>\n",
       "      <td>856</td>\n",
       "      <td>2767</td>\n",
       "      <td>3623</td>\n",
       "      <td>2454</td>\n",
       "      <td>1285</td>\n",
       "      <td>601</td>\n",
       "      <td>318</td>\n",
       "      <td>1746</td>\n",
       "      <td>2132</td>\n",
       "      <td>3785</td>\n",
       "      <td>55.43</td>\n",
       "    </tr>\n",
       "    <tr>\n",
       "      <th>12</th>\n",
       "      <td>PHX</td>\n",
       "      <td>9600</td>\n",
       "      <td>954</td>\n",
       "      <td>2577</td>\n",
       "      <td>3562</td>\n",
       "      <td>7412</td>\n",
       "      <td>1522</td>\n",
       "      <td>1910</td>\n",
       "      <td>33.51</td>\n",
       "      <td>46.36</td>\n",
       "      <td>76.09</td>\n",
       "      <td>926</td>\n",
       "      <td>2757</td>\n",
       "      <td>3683</td>\n",
       "      <td>2212</td>\n",
       "      <td>1112</td>\n",
       "      <td>578</td>\n",
       "      <td>473</td>\n",
       "      <td>1729</td>\n",
       "      <td>2608</td>\n",
       "      <td>4835</td>\n",
       "      <td>50.77</td>\n",
       "    </tr>\n",
       "    <tr>\n",
       "      <th>13</th>\n",
       "      <td>NOP</td>\n",
       "      <td>9579</td>\n",
       "      <td>907</td>\n",
       "      <td>2485</td>\n",
       "      <td>3539</td>\n",
       "      <td>7355</td>\n",
       "      <td>1594</td>\n",
       "      <td>2001</td>\n",
       "      <td>32.05</td>\n",
       "      <td>47.91</td>\n",
       "      <td>73.45</td>\n",
       "      <td>884</td>\n",
       "      <td>2746</td>\n",
       "      <td>3630</td>\n",
       "      <td>2143</td>\n",
       "      <td>1185</td>\n",
       "      <td>691</td>\n",
       "      <td>338</td>\n",
       "      <td>1700</td>\n",
       "      <td>2632</td>\n",
       "      <td>4870</td>\n",
       "      <td>52.49</td>\n",
       "    </tr>\n",
       "    <tr>\n",
       "      <th>14</th>\n",
       "      <td>MIL</td>\n",
       "      <td>9454</td>\n",
       "      <td>1192</td>\n",
       "      <td>3226</td>\n",
       "      <td>3477</td>\n",
       "      <td>7323</td>\n",
       "      <td>1308</td>\n",
       "      <td>1771</td>\n",
       "      <td>34.45</td>\n",
       "      <td>45.29</td>\n",
       "      <td>78.87</td>\n",
       "      <td>867</td>\n",
       "      <td>2950</td>\n",
       "      <td>3817</td>\n",
       "      <td>2111</td>\n",
       "      <td>1123</td>\n",
       "      <td>497</td>\n",
       "      <td>392</td>\n",
       "      <td>1449</td>\n",
       "      <td>2285</td>\n",
       "      <td>4097</td>\n",
       "      <td>54.07</td>\n",
       "    </tr>\n",
       "    <tr>\n",
       "      <th>15</th>\n",
       "      <td>BKN</td>\n",
       "      <td>9399</td>\n",
       "      <td>1172</td>\n",
       "      <td>3051</td>\n",
       "      <td>3409</td>\n",
       "      <td>7200</td>\n",
       "      <td>1409</td>\n",
       "      <td>1837</td>\n",
       "      <td>30.26</td>\n",
       "      <td>45.25</td>\n",
       "      <td>71.97</td>\n",
       "      <td>811</td>\n",
       "      <td>2744</td>\n",
       "      <td>3555</td>\n",
       "      <td>2200</td>\n",
       "      <td>1032</td>\n",
       "      <td>663</td>\n",
       "      <td>516</td>\n",
       "      <td>1869</td>\n",
       "      <td>2237</td>\n",
       "      <td>4149</td>\n",
       "      <td>49.78</td>\n",
       "    </tr>\n",
       "    <tr>\n",
       "      <th>16</th>\n",
       "      <td>DAL</td>\n",
       "      <td>9369</td>\n",
       "      <td>1211</td>\n",
       "      <td>3288</td>\n",
       "      <td>3318</td>\n",
       "      <td>6932</td>\n",
       "      <td>1522</td>\n",
       "      <td>1999</td>\n",
       "      <td>32.74</td>\n",
       "      <td>49.89</td>\n",
       "      <td>65.00</td>\n",
       "      <td>592</td>\n",
       "      <td>2525</td>\n",
       "      <td>3117</td>\n",
       "      <td>1803</td>\n",
       "      <td>948</td>\n",
       "      <td>491</td>\n",
       "      <td>316</td>\n",
       "      <td>1673</td>\n",
       "      <td>2107</td>\n",
       "      <td>3644</td>\n",
       "      <td>58.02</td>\n",
       "    </tr>\n",
       "    <tr>\n",
       "      <th>17</th>\n",
       "      <td>CHI</td>\n",
       "      <td>9307</td>\n",
       "      <td>868</td>\n",
       "      <td>2415</td>\n",
       "      <td>3488</td>\n",
       "      <td>7123</td>\n",
       "      <td>1463</td>\n",
       "      <td>1804</td>\n",
       "      <td>33.88</td>\n",
       "      <td>47.56</td>\n",
       "      <td>69.98</td>\n",
       "      <td>727</td>\n",
       "      <td>2856</td>\n",
       "      <td>3583</td>\n",
       "      <td>1995</td>\n",
       "      <td>1037</td>\n",
       "      <td>676</td>\n",
       "      <td>397</td>\n",
       "      <td>1636</td>\n",
       "      <td>2620</td>\n",
       "      <td>4708</td>\n",
       "      <td>55.86</td>\n",
       "    </tr>\n",
       "    <tr>\n",
       "      <th>18</th>\n",
       "      <td>OKC</td>\n",
       "      <td>9274</td>\n",
       "      <td>940</td>\n",
       "      <td>2648</td>\n",
       "      <td>3405</td>\n",
       "      <td>7313</td>\n",
       "      <td>1524</td>\n",
       "      <td>1856</td>\n",
       "      <td>34.94</td>\n",
       "      <td>45.74</td>\n",
       "      <td>70.20</td>\n",
       "      <td>899</td>\n",
       "      <td>2514</td>\n",
       "      <td>3413</td>\n",
       "      <td>1978</td>\n",
       "      <td>1006</td>\n",
       "      <td>645</td>\n",
       "      <td>298</td>\n",
       "      <td>1640</td>\n",
       "      <td>2465</td>\n",
       "      <td>4665</td>\n",
       "      <td>54.39</td>\n",
       "    </tr>\n",
       "    <tr>\n",
       "      <th>19</th>\n",
       "      <td>MIN</td>\n",
       "      <td>9261</td>\n",
       "      <td>974</td>\n",
       "      <td>2687</td>\n",
       "      <td>3427</td>\n",
       "      <td>7033</td>\n",
       "      <td>1433</td>\n",
       "      <td>1915</td>\n",
       "      <td>32.47</td>\n",
       "      <td>47.67</td>\n",
       "      <td>79.18</td>\n",
       "      <td>748</td>\n",
       "      <td>2701</td>\n",
       "      <td>3449</td>\n",
       "      <td>2221</td>\n",
       "      <td>1187</td>\n",
       "      <td>667</td>\n",
       "      <td>447</td>\n",
       "      <td>1816</td>\n",
       "      <td>2453</td>\n",
       "      <td>4346</td>\n",
       "      <td>55.19</td>\n",
       "    </tr>\n",
       "    <tr>\n",
       "      <th>20</th>\n",
       "      <td>POR</td>\n",
       "      <td>9245</td>\n",
       "      <td>1092</td>\n",
       "      <td>2992</td>\n",
       "      <td>3291</td>\n",
       "      <td>6997</td>\n",
       "      <td>1571</td>\n",
       "      <td>1961</td>\n",
       "      <td>32.35</td>\n",
       "      <td>45.42</td>\n",
       "      <td>64.44</td>\n",
       "      <td>715</td>\n",
       "      <td>2338</td>\n",
       "      <td>3053</td>\n",
       "      <td>1789</td>\n",
       "      <td>1079</td>\n",
       "      <td>548</td>\n",
       "      <td>398</td>\n",
       "      <td>1643</td>\n",
       "      <td>2199</td>\n",
       "      <td>4005</td>\n",
       "      <td>51.17</td>\n",
       "    </tr>\n",
       "    <tr>\n",
       "      <th>21</th>\n",
       "      <td>MIA</td>\n",
       "      <td>9127</td>\n",
       "      <td>1035</td>\n",
       "      <td>2999</td>\n",
       "      <td>3251</td>\n",
       "      <td>7120</td>\n",
       "      <td>1590</td>\n",
       "      <td>1902</td>\n",
       "      <td>28.64</td>\n",
       "      <td>46.15</td>\n",
       "      <td>80.86</td>\n",
       "      <td>808</td>\n",
       "      <td>2678</td>\n",
       "      <td>3486</td>\n",
       "      <td>2006</td>\n",
       "      <td>1070</td>\n",
       "      <td>647</td>\n",
       "      <td>231</td>\n",
       "      <td>1505</td>\n",
       "      <td>2216</td>\n",
       "      <td>4121</td>\n",
       "      <td>54.43</td>\n",
       "    </tr>\n",
       "    <tr>\n",
       "      <th>22</th>\n",
       "      <td>CLE</td>\n",
       "      <td>8867</td>\n",
       "      <td>884</td>\n",
       "      <td>2402</td>\n",
       "      <td>3300</td>\n",
       "      <td>6710</td>\n",
       "      <td>1383</td>\n",
       "      <td>1781</td>\n",
       "      <td>34.52</td>\n",
       "      <td>48.91</td>\n",
       "      <td>77.38</td>\n",
       "      <td>754</td>\n",
       "      <td>2339</td>\n",
       "      <td>3093</td>\n",
       "      <td>1971</td>\n",
       "      <td>976</td>\n",
       "      <td>580</td>\n",
       "      <td>377</td>\n",
       "      <td>1501</td>\n",
       "      <td>2416</td>\n",
       "      <td>4308</td>\n",
       "      <td>60.50</td>\n",
       "    </tr>\n",
       "    <tr>\n",
       "      <th>23</th>\n",
       "      <td>WAS</td>\n",
       "      <td>8853</td>\n",
       "      <td>886</td>\n",
       "      <td>2505</td>\n",
       "      <td>3294</td>\n",
       "      <td>6774</td>\n",
       "      <td>1379</td>\n",
       "      <td>1756</td>\n",
       "      <td>30.94</td>\n",
       "      <td>46.17</td>\n",
       "      <td>67.94</td>\n",
       "      <td>748</td>\n",
       "      <td>2640</td>\n",
       "      <td>3388</td>\n",
       "      <td>1988</td>\n",
       "      <td>1046</td>\n",
       "      <td>546</td>\n",
       "      <td>405</td>\n",
       "      <td>1496</td>\n",
       "      <td>2408</td>\n",
       "      <td>4269</td>\n",
       "      <td>49.99</td>\n",
       "    </tr>\n",
       "    <tr>\n",
       "      <th>24</th>\n",
       "      <td>SAS</td>\n",
       "      <td>8440</td>\n",
       "      <td>893</td>\n",
       "      <td>2597</td>\n",
       "      <td>3173</td>\n",
       "      <td>6967</td>\n",
       "      <td>1201</td>\n",
       "      <td>1591</td>\n",
       "      <td>30.90</td>\n",
       "      <td>45.82</td>\n",
       "      <td>73.22</td>\n",
       "      <td>800</td>\n",
       "      <td>2294</td>\n",
       "      <td>3094</td>\n",
       "      <td>2055</td>\n",
       "      <td>1062</td>\n",
       "      <td>518</td>\n",
       "      <td>272</td>\n",
       "      <td>1480</td>\n",
       "      <td>2280</td>\n",
       "      <td>4370</td>\n",
       "      <td>53.11</td>\n",
       "    </tr>\n",
       "    <tr>\n",
       "      <th>25</th>\n",
       "      <td>ORL</td>\n",
       "      <td>8432</td>\n",
       "      <td>765</td>\n",
       "      <td>2244</td>\n",
       "      <td>3065</td>\n",
       "      <td>6499</td>\n",
       "      <td>1537</td>\n",
       "      <td>1966</td>\n",
       "      <td>37.21</td>\n",
       "      <td>47.26</td>\n",
       "      <td>74.45</td>\n",
       "      <td>792</td>\n",
       "      <td>2495</td>\n",
       "      <td>3287</td>\n",
       "      <td>1794</td>\n",
       "      <td>1110</td>\n",
       "      <td>559</td>\n",
       "      <td>342</td>\n",
       "      <td>1525</td>\n",
       "      <td>2300</td>\n",
       "      <td>4255</td>\n",
       "      <td>53.44</td>\n",
       "    </tr>\n",
       "    <tr>\n",
       "      <th>26</th>\n",
       "      <td>DET</td>\n",
       "      <td>8412</td>\n",
       "      <td>816</td>\n",
       "      <td>2334</td>\n",
       "      <td>3056</td>\n",
       "      <td>6627</td>\n",
       "      <td>1484</td>\n",
       "      <td>1957</td>\n",
       "      <td>26.32</td>\n",
       "      <td>45.15</td>\n",
       "      <td>80.80</td>\n",
       "      <td>879</td>\n",
       "      <td>2378</td>\n",
       "      <td>3257</td>\n",
       "      <td>1837</td>\n",
       "      <td>1146</td>\n",
       "      <td>530</td>\n",
       "      <td>286</td>\n",
       "      <td>1735</td>\n",
       "      <td>2240</td>\n",
       "      <td>4293</td>\n",
       "      <td>51.25</td>\n",
       "    </tr>\n",
       "    <tr>\n",
       "      <th>27</th>\n",
       "      <td>HOU</td>\n",
       "      <td>8197</td>\n",
       "      <td>729</td>\n",
       "      <td>2241</td>\n",
       "      <td>3036</td>\n",
       "      <td>6590</td>\n",
       "      <td>1396</td>\n",
       "      <td>1866</td>\n",
       "      <td>29.31</td>\n",
       "      <td>45.24</td>\n",
       "      <td>76.23</td>\n",
       "      <td>1033</td>\n",
       "      <td>2517</td>\n",
       "      <td>3550</td>\n",
       "      <td>1667</td>\n",
       "      <td>1155</td>\n",
       "      <td>546</td>\n",
       "      <td>323</td>\n",
       "      <td>1531</td>\n",
       "      <td>2307</td>\n",
       "      <td>4349</td>\n",
       "      <td>53.36</td>\n",
       "    </tr>\n",
       "    <tr>\n",
       "      <th>28</th>\n",
       "      <td>UTA</td>\n",
       "      <td>7885</td>\n",
       "      <td>798</td>\n",
       "      <td>2294</td>\n",
       "      <td>2866</td>\n",
       "      <td>5951</td>\n",
       "      <td>1355</td>\n",
       "      <td>1711</td>\n",
       "      <td>29.15</td>\n",
       "      <td>45.68</td>\n",
       "      <td>64.80</td>\n",
       "      <td>830</td>\n",
       "      <td>2287</td>\n",
       "      <td>3117</td>\n",
       "      <td>1520</td>\n",
       "      <td>1003</td>\n",
       "      <td>350</td>\n",
       "      <td>403</td>\n",
       "      <td>1387</td>\n",
       "      <td>2068</td>\n",
       "      <td>3657</td>\n",
       "      <td>53.20</td>\n",
       "    </tr>\n",
       "    <tr>\n",
       "      <th>29</th>\n",
       "      <td>CHA</td>\n",
       "      <td>7839</td>\n",
       "      <td>822</td>\n",
       "      <td>2477</td>\n",
       "      <td>2905</td>\n",
       "      <td>6535</td>\n",
       "      <td>1207</td>\n",
       "      <td>1577</td>\n",
       "      <td>33.53</td>\n",
       "      <td>43.93</td>\n",
       "      <td>76.87</td>\n",
       "      <td>670</td>\n",
       "      <td>2178</td>\n",
       "      <td>2848</td>\n",
       "      <td>1747</td>\n",
       "      <td>956</td>\n",
       "      <td>534</td>\n",
       "      <td>361</td>\n",
       "      <td>1343</td>\n",
       "      <td>2083</td>\n",
       "      <td>4058</td>\n",
       "      <td>47.95</td>\n",
       "    </tr>\n",
       "  </tbody>\n",
       "</table>\n",
       "</div>"
      ],
      "text/plain": [
       "   Team    PTS   3PM   3PA   FGM   FGA   FTM   FTA    3P%    FG%    FT%  OREB  DREB   REB   AST   TOV  STL  BLK    PF   2PM   2PA    2P%\n",
       "0   LAC  10954  1144  3081  3949  8278  1912  2515  32.68  46.37  67.08   986  3266  4252  2592  1391  666  429  1814  2805  5197  51.39\n",
       "1   ATL  10625   995  2844  3938  8274  1754  2136  23.87  46.08  73.63  1032  2974  4006  2140  1084  649  437  1693  2943  5430  54.05\n",
       "2   LAL  10492  1115  3111  3828  7985  1721  2182  32.82  42.75  67.46   881  3102  3983  2162  1149  597  385  1530  2713  4874  45.58\n",
       "3   NYK  10225  1105  3144  3720  7949  1680  2233  28.59  46.16  68.79  1142  3198  4340  2158  1114  587  352  1839  2615  4805  50.87\n",
       "4   PHI  10078  1090  2849  3579  7371  1830  2194  32.77  46.42  69.77   767  2905  3672  2165  1140  661  418  1828  2489  4522  52.90\n",
       "5   TOR  10068   931  2763  3761  8127  1615  2091  28.20  45.03  72.11  1196  2830  4026  2189  1053  820  481  1773  2830  5364  51.39\n",
       "6   DEN   9968   961  2544  3787  7387  1433  1906  39.40  51.32  71.31   898  2883  3781  2436  1171  629  379  1592  2826  4843  57.42\n",
       "7   BOS   9942  1371  3634  3552  7484  1467  1808  30.14  45.66  71.70   820  3036  3856  2225  1057  532  449  1613  2181  3850  54.43\n",
       "8   SAC   9913  1130  3072  3579  7256  1625  2057  28.77  45.58  60.64   788  2707  3495  2239  1080  577  276  1619  2449  4184  51.38\n",
       "9   MEM   9852  1041  2931  3680  7751  1451  1974  29.18  46.52  68.62   993  2909  3902  2170  1087  698  477  1684  2639  4820  52.84\n",
       "10  IND   9801  1167  3174  3522  7557  1590  2002  29.69  45.33  76.28   827  2676  3503  2312  1197  650  473  1758  2355  4383  54.11\n",
       "11  GSW   9669  1371  3555  3503  7340  1292  1621  35.09  47.82  76.99   856  2767  3623  2454  1285  601  318  1746  2132  3785  55.43\n",
       "12  PHX   9600   954  2577  3562  7412  1522  1910  33.51  46.36  76.09   926  2757  3683  2212  1112  578  473  1729  2608  4835  50.77\n",
       "13  NOP   9579   907  2485  3539  7355  1594  2001  32.05  47.91  73.45   884  2746  3630  2143  1185  691  338  1700  2632  4870  52.49\n",
       "14  MIL   9454  1192  3226  3477  7323  1308  1771  34.45  45.29  78.87   867  2950  3817  2111  1123  497  392  1449  2285  4097  54.07\n",
       "15  BKN   9399  1172  3051  3409  7200  1409  1837  30.26  45.25  71.97   811  2744  3555  2200  1032  663  516  1869  2237  4149  49.78\n",
       "16  DAL   9369  1211  3288  3318  6932  1522  1999  32.74  49.89  65.00   592  2525  3117  1803   948  491  316  1673  2107  3644  58.02\n",
       "17  CHI   9307   868  2415  3488  7123  1463  1804  33.88  47.56  69.98   727  2856  3583  1995  1037  676  397  1636  2620  4708  55.86\n",
       "18  OKC   9274   940  2648  3405  7313  1524  1856  34.94  45.74  70.20   899  2514  3413  1978  1006  645  298  1640  2465  4665  54.39\n",
       "19  MIN   9261   974  2687  3427  7033  1433  1915  32.47  47.67  79.18   748  2701  3449  2221  1187  667  447  1816  2453  4346  55.19\n",
       "20  POR   9245  1092  2992  3291  6997  1571  1961  32.35  45.42  64.44   715  2338  3053  1789  1079  548  398  1643  2199  4005  51.17\n",
       "21  MIA   9127  1035  2999  3251  7120  1590  1902  28.64  46.15  80.86   808  2678  3486  2006  1070  647  231  1505  2216  4121  54.43\n",
       "22  CLE   8867   884  2402  3300  6710  1383  1781  34.52  48.91  77.38   754  2339  3093  1971   976  580  377  1501  2416  4308  60.50\n",
       "23  WAS   8853   886  2505  3294  6774  1379  1756  30.94  46.17  67.94   748  2640  3388  1988  1046  546  405  1496  2408  4269  49.99\n",
       "24  SAS   8440   893  2597  3173  6967  1201  1591  30.90  45.82  73.22   800  2294  3094  2055  1062  518  272  1480  2280  4370  53.11\n",
       "25  ORL   8432   765  2244  3065  6499  1537  1966  37.21  47.26  74.45   792  2495  3287  1794  1110  559  342  1525  2300  4255  53.44\n",
       "26  DET   8412   816  2334  3056  6627  1484  1957  26.32  45.15  80.80   879  2378  3257  1837  1146  530  286  1735  2240  4293  51.25\n",
       "27  HOU   8197   729  2241  3036  6590  1396  1866  29.31  45.24  76.23  1033  2517  3550  1667  1155  546  323  1531  2307  4349  53.36\n",
       "28  UTA   7885   798  2294  2866  5951  1355  1711  29.15  45.68  64.80   830  2287  3117  1520  1003  350  403  1387  2068  3657  53.20\n",
       "29  CHA   7839   822  2477  2905  6535  1207  1577  33.53  43.93  76.87   670  2178  2848  1747   956  534  361  1343  2083  4058  47.95"
      ]
     },
     "execution_count": 28,
     "metadata": {},
     "output_type": "execute_result"
    }
   ],
   "source": [
    "df_times"
   ]
  },
  {
   "cell_type": "code",
   "execution_count": 29,
   "metadata": {},
   "outputs": [],
   "source": [
    "# df_times['2PM'] = df_times['FGM'] - df_times['3PM']\n",
    "# df_times['2PA'] = df_times['FGA'] - df_times['3PA']\n",
    "# df_times['2P%'] = round(df_times['2PM']/df_times['2PA']*100, 2)"
   ]
  },
  {
   "cell_type": "code",
   "execution_count": 30,
   "metadata": {},
   "outputs": [],
   "source": [
    "df_times['Logo'] = df_times['Team'].map(teams_image_map)\n",
    "df_times['Names'] = df_times['Team'].map(teams_names_map)"
   ]
  },
  {
   "cell_type": "code",
   "execution_count": 31,
   "metadata": {},
   "outputs": [],
   "source": [
    "df_times['defensive'] = df_times['DREB'] + df_times['STL'] + df_times['BLK']"
   ]
  },
  {
   "cell_type": "markdown",
   "metadata": {},
   "source": [
    "## Exportando os dataframes"
   ]
  },
  {
   "cell_type": "code",
   "execution_count": 32,
   "metadata": {},
   "outputs": [],
   "source": [
    "df_times.to_csv('/home/bruno/repos/aula_dsfame/data/df_times.csv', index=False)"
   ]
  },
  {
   "cell_type": "code",
   "execution_count": 33,
   "metadata": {},
   "outputs": [],
   "source": [
    "data_merged.to_csv('/home/bruno/repos/aula_dsfame/data/df_jogadores.csv', index=False)"
   ]
  },
  {
   "cell_type": "markdown",
   "metadata": {},
   "source": [
    "## Importando os dataframes"
   ]
  },
  {
   "cell_type": "code",
   "execution_count": 34,
   "metadata": {},
   "outputs": [],
   "source": [
    "df_times = pd.read_csv('/home/bruno/repos/aula_dsfame/data/df_times.csv', low_memory=False)\n",
    "\n",
    "df_jogadores = pd.read_csv('/home/bruno/repos/aula_dsfame/data/df_jogadores.csv', low_memory=False)"
   ]
  },
  {
   "cell_type": "markdown",
   "metadata": {},
   "source": [
    "### Offensive"
   ]
  },
  {
   "cell_type": "code",
   "execution_count": 35,
   "metadata": {},
   "outputs": [
    {
     "data": {
      "application/vnd.plotly.v1+json": {
       "config": {
        "plotlyServerURL": "https://plot.ly"
       },
       "data": [
        {
         "alignmentgroup": "True",
         "hovertemplate": "Team=%{y}<br>PTS=%{x}<extra></extra>",
         "legendgroup": "LAC",
         "marker": {
          "color": "#636efa",
          "pattern": {
           "shape": ""
          }
         },
         "name": "LAC",
         "offsetgroup": "LAC",
         "orientation": "h",
         "showlegend": true,
         "textposition": "auto",
         "type": "bar",
         "x": [
          10954
         ],
         "xaxis": "x",
         "y": [
          "LAC"
         ],
         "yaxis": "y"
        },
        {
         "alignmentgroup": "True",
         "hovertemplate": "Team=%{y}<br>PTS=%{x}<extra></extra>",
         "legendgroup": "ATL",
         "marker": {
          "color": "#EF553B",
          "pattern": {
           "shape": ""
          }
         },
         "name": "ATL",
         "offsetgroup": "ATL",
         "orientation": "h",
         "showlegend": true,
         "textposition": "auto",
         "type": "bar",
         "x": [
          10625
         ],
         "xaxis": "x",
         "y": [
          "ATL"
         ],
         "yaxis": "y"
        },
        {
         "alignmentgroup": "True",
         "hovertemplate": "Team=%{y}<br>PTS=%{x}<extra></extra>",
         "legendgroup": "LAL",
         "marker": {
          "color": "#00cc96",
          "pattern": {
           "shape": ""
          }
         },
         "name": "LAL",
         "offsetgroup": "LAL",
         "orientation": "h",
         "showlegend": true,
         "textposition": "auto",
         "type": "bar",
         "x": [
          10492
         ],
         "xaxis": "x",
         "y": [
          "LAL"
         ],
         "yaxis": "y"
        },
        {
         "alignmentgroup": "True",
         "hovertemplate": "Team=%{y}<br>PTS=%{x}<extra></extra>",
         "legendgroup": "NYK",
         "marker": {
          "color": "#ab63fa",
          "pattern": {
           "shape": ""
          }
         },
         "name": "NYK",
         "offsetgroup": "NYK",
         "orientation": "h",
         "showlegend": true,
         "textposition": "auto",
         "type": "bar",
         "x": [
          10225
         ],
         "xaxis": "x",
         "y": [
          "NYK"
         ],
         "yaxis": "y"
        },
        {
         "alignmentgroup": "True",
         "hovertemplate": "Team=%{y}<br>PTS=%{x}<extra></extra>",
         "legendgroup": "PHI",
         "marker": {
          "color": "#FFA15A",
          "pattern": {
           "shape": ""
          }
         },
         "name": "PHI",
         "offsetgroup": "PHI",
         "orientation": "h",
         "showlegend": true,
         "textposition": "auto",
         "type": "bar",
         "x": [
          10078
         ],
         "xaxis": "x",
         "y": [
          "PHI"
         ],
         "yaxis": "y"
        },
        {
         "alignmentgroup": "True",
         "hovertemplate": "Team=%{y}<br>PTS=%{x}<extra></extra>",
         "legendgroup": "TOR",
         "marker": {
          "color": "#19d3f3",
          "pattern": {
           "shape": ""
          }
         },
         "name": "TOR",
         "offsetgroup": "TOR",
         "orientation": "h",
         "showlegend": true,
         "textposition": "auto",
         "type": "bar",
         "x": [
          10068
         ],
         "xaxis": "x",
         "y": [
          "TOR"
         ],
         "yaxis": "y"
        },
        {
         "alignmentgroup": "True",
         "hovertemplate": "Team=%{y}<br>PTS=%{x}<extra></extra>",
         "legendgroup": "DEN",
         "marker": {
          "color": "#FF6692",
          "pattern": {
           "shape": ""
          }
         },
         "name": "DEN",
         "offsetgroup": "DEN",
         "orientation": "h",
         "showlegend": true,
         "textposition": "auto",
         "type": "bar",
         "x": [
          9968
         ],
         "xaxis": "x",
         "y": [
          "DEN"
         ],
         "yaxis": "y"
        },
        {
         "alignmentgroup": "True",
         "hovertemplate": "Team=%{y}<br>PTS=%{x}<extra></extra>",
         "legendgroup": "BOS",
         "marker": {
          "color": "#B6E880",
          "pattern": {
           "shape": ""
          }
         },
         "name": "BOS",
         "offsetgroup": "BOS",
         "orientation": "h",
         "showlegend": true,
         "textposition": "auto",
         "type": "bar",
         "x": [
          9942
         ],
         "xaxis": "x",
         "y": [
          "BOS"
         ],
         "yaxis": "y"
        },
        {
         "alignmentgroup": "True",
         "hovertemplate": "Team=%{y}<br>PTS=%{x}<extra></extra>",
         "legendgroup": "SAC",
         "marker": {
          "color": "#FF97FF",
          "pattern": {
           "shape": ""
          }
         },
         "name": "SAC",
         "offsetgroup": "SAC",
         "orientation": "h",
         "showlegend": true,
         "textposition": "auto",
         "type": "bar",
         "x": [
          9913
         ],
         "xaxis": "x",
         "y": [
          "SAC"
         ],
         "yaxis": "y"
        },
        {
         "alignmentgroup": "True",
         "hovertemplate": "Team=%{y}<br>PTS=%{x}<extra></extra>",
         "legendgroup": "MEM",
         "marker": {
          "color": "#FECB52",
          "pattern": {
           "shape": ""
          }
         },
         "name": "MEM",
         "offsetgroup": "MEM",
         "orientation": "h",
         "showlegend": true,
         "textposition": "auto",
         "type": "bar",
         "x": [
          9852
         ],
         "xaxis": "x",
         "y": [
          "MEM"
         ],
         "yaxis": "y"
        },
        {
         "alignmentgroup": "True",
         "hovertemplate": "Team=%{y}<br>PTS=%{x}<extra></extra>",
         "legendgroup": "IND",
         "marker": {
          "color": "#636efa",
          "pattern": {
           "shape": ""
          }
         },
         "name": "IND",
         "offsetgroup": "IND",
         "orientation": "h",
         "showlegend": true,
         "textposition": "auto",
         "type": "bar",
         "x": [
          9801
         ],
         "xaxis": "x",
         "y": [
          "IND"
         ],
         "yaxis": "y"
        },
        {
         "alignmentgroup": "True",
         "hovertemplate": "Team=%{y}<br>PTS=%{x}<extra></extra>",
         "legendgroup": "GSW",
         "marker": {
          "color": "#EF553B",
          "pattern": {
           "shape": ""
          }
         },
         "name": "GSW",
         "offsetgroup": "GSW",
         "orientation": "h",
         "showlegend": true,
         "textposition": "auto",
         "type": "bar",
         "x": [
          9669
         ],
         "xaxis": "x",
         "y": [
          "GSW"
         ],
         "yaxis": "y"
        },
        {
         "alignmentgroup": "True",
         "hovertemplate": "Team=%{y}<br>PTS=%{x}<extra></extra>",
         "legendgroup": "PHX",
         "marker": {
          "color": "#00cc96",
          "pattern": {
           "shape": ""
          }
         },
         "name": "PHX",
         "offsetgroup": "PHX",
         "orientation": "h",
         "showlegend": true,
         "textposition": "auto",
         "type": "bar",
         "x": [
          9600
         ],
         "xaxis": "x",
         "y": [
          "PHX"
         ],
         "yaxis": "y"
        },
        {
         "alignmentgroup": "True",
         "hovertemplate": "Team=%{y}<br>PTS=%{x}<extra></extra>",
         "legendgroup": "NOP",
         "marker": {
          "color": "#ab63fa",
          "pattern": {
           "shape": ""
          }
         },
         "name": "NOP",
         "offsetgroup": "NOP",
         "orientation": "h",
         "showlegend": true,
         "textposition": "auto",
         "type": "bar",
         "x": [
          9579
         ],
         "xaxis": "x",
         "y": [
          "NOP"
         ],
         "yaxis": "y"
        },
        {
         "alignmentgroup": "True",
         "hovertemplate": "Team=%{y}<br>PTS=%{x}<extra></extra>",
         "legendgroup": "MIL",
         "marker": {
          "color": "#FFA15A",
          "pattern": {
           "shape": ""
          }
         },
         "name": "MIL",
         "offsetgroup": "MIL",
         "orientation": "h",
         "showlegend": true,
         "textposition": "auto",
         "type": "bar",
         "x": [
          9454
         ],
         "xaxis": "x",
         "y": [
          "MIL"
         ],
         "yaxis": "y"
        },
        {
         "alignmentgroup": "True",
         "hovertemplate": "Team=%{y}<br>PTS=%{x}<extra></extra>",
         "legendgroup": "BKN",
         "marker": {
          "color": "#19d3f3",
          "pattern": {
           "shape": ""
          }
         },
         "name": "BKN",
         "offsetgroup": "BKN",
         "orientation": "h",
         "showlegend": true,
         "textposition": "auto",
         "type": "bar",
         "x": [
          9399
         ],
         "xaxis": "x",
         "y": [
          "BKN"
         ],
         "yaxis": "y"
        },
        {
         "alignmentgroup": "True",
         "hovertemplate": "Team=%{y}<br>PTS=%{x}<extra></extra>",
         "legendgroup": "DAL",
         "marker": {
          "color": "#FF6692",
          "pattern": {
           "shape": ""
          }
         },
         "name": "DAL",
         "offsetgroup": "DAL",
         "orientation": "h",
         "showlegend": true,
         "textposition": "auto",
         "type": "bar",
         "x": [
          9369
         ],
         "xaxis": "x",
         "y": [
          "DAL"
         ],
         "yaxis": "y"
        },
        {
         "alignmentgroup": "True",
         "hovertemplate": "Team=%{y}<br>PTS=%{x}<extra></extra>",
         "legendgroup": "CHI",
         "marker": {
          "color": "#B6E880",
          "pattern": {
           "shape": ""
          }
         },
         "name": "CHI",
         "offsetgroup": "CHI",
         "orientation": "h",
         "showlegend": true,
         "textposition": "auto",
         "type": "bar",
         "x": [
          9307
         ],
         "xaxis": "x",
         "y": [
          "CHI"
         ],
         "yaxis": "y"
        },
        {
         "alignmentgroup": "True",
         "hovertemplate": "Team=%{y}<br>PTS=%{x}<extra></extra>",
         "legendgroup": "OKC",
         "marker": {
          "color": "#FF97FF",
          "pattern": {
           "shape": ""
          }
         },
         "name": "OKC",
         "offsetgroup": "OKC",
         "orientation": "h",
         "showlegend": true,
         "textposition": "auto",
         "type": "bar",
         "x": [
          9274
         ],
         "xaxis": "x",
         "y": [
          "OKC"
         ],
         "yaxis": "y"
        },
        {
         "alignmentgroup": "True",
         "hovertemplate": "Team=%{y}<br>PTS=%{x}<extra></extra>",
         "legendgroup": "MIN",
         "marker": {
          "color": "#FECB52",
          "pattern": {
           "shape": ""
          }
         },
         "name": "MIN",
         "offsetgroup": "MIN",
         "orientation": "h",
         "showlegend": true,
         "textposition": "auto",
         "type": "bar",
         "x": [
          9261
         ],
         "xaxis": "x",
         "y": [
          "MIN"
         ],
         "yaxis": "y"
        },
        {
         "alignmentgroup": "True",
         "hovertemplate": "Team=%{y}<br>PTS=%{x}<extra></extra>",
         "legendgroup": "POR",
         "marker": {
          "color": "#636efa",
          "pattern": {
           "shape": ""
          }
         },
         "name": "POR",
         "offsetgroup": "POR",
         "orientation": "h",
         "showlegend": true,
         "textposition": "auto",
         "type": "bar",
         "x": [
          9245
         ],
         "xaxis": "x",
         "y": [
          "POR"
         ],
         "yaxis": "y"
        },
        {
         "alignmentgroup": "True",
         "hovertemplate": "Team=%{y}<br>PTS=%{x}<extra></extra>",
         "legendgroup": "MIA",
         "marker": {
          "color": "#EF553B",
          "pattern": {
           "shape": ""
          }
         },
         "name": "MIA",
         "offsetgroup": "MIA",
         "orientation": "h",
         "showlegend": true,
         "textposition": "auto",
         "type": "bar",
         "x": [
          9127
         ],
         "xaxis": "x",
         "y": [
          "MIA"
         ],
         "yaxis": "y"
        },
        {
         "alignmentgroup": "True",
         "hovertemplate": "Team=%{y}<br>PTS=%{x}<extra></extra>",
         "legendgroup": "CLE",
         "marker": {
          "color": "#00cc96",
          "pattern": {
           "shape": ""
          }
         },
         "name": "CLE",
         "offsetgroup": "CLE",
         "orientation": "h",
         "showlegend": true,
         "textposition": "auto",
         "type": "bar",
         "x": [
          8867
         ],
         "xaxis": "x",
         "y": [
          "CLE"
         ],
         "yaxis": "y"
        },
        {
         "alignmentgroup": "True",
         "hovertemplate": "Team=%{y}<br>PTS=%{x}<extra></extra>",
         "legendgroup": "WAS",
         "marker": {
          "color": "#ab63fa",
          "pattern": {
           "shape": ""
          }
         },
         "name": "WAS",
         "offsetgroup": "WAS",
         "orientation": "h",
         "showlegend": true,
         "textposition": "auto",
         "type": "bar",
         "x": [
          8853
         ],
         "xaxis": "x",
         "y": [
          "WAS"
         ],
         "yaxis": "y"
        },
        {
         "alignmentgroup": "True",
         "hovertemplate": "Team=%{y}<br>PTS=%{x}<extra></extra>",
         "legendgroup": "SAS",
         "marker": {
          "color": "#FFA15A",
          "pattern": {
           "shape": ""
          }
         },
         "name": "SAS",
         "offsetgroup": "SAS",
         "orientation": "h",
         "showlegend": true,
         "textposition": "auto",
         "type": "bar",
         "x": [
          8440
         ],
         "xaxis": "x",
         "y": [
          "SAS"
         ],
         "yaxis": "y"
        },
        {
         "alignmentgroup": "True",
         "hovertemplate": "Team=%{y}<br>PTS=%{x}<extra></extra>",
         "legendgroup": "ORL",
         "marker": {
          "color": "#19d3f3",
          "pattern": {
           "shape": ""
          }
         },
         "name": "ORL",
         "offsetgroup": "ORL",
         "orientation": "h",
         "showlegend": true,
         "textposition": "auto",
         "type": "bar",
         "x": [
          8432
         ],
         "xaxis": "x",
         "y": [
          "ORL"
         ],
         "yaxis": "y"
        },
        {
         "alignmentgroup": "True",
         "hovertemplate": "Team=%{y}<br>PTS=%{x}<extra></extra>",
         "legendgroup": "DET",
         "marker": {
          "color": "#FF6692",
          "pattern": {
           "shape": ""
          }
         },
         "name": "DET",
         "offsetgroup": "DET",
         "orientation": "h",
         "showlegend": true,
         "textposition": "auto",
         "type": "bar",
         "x": [
          8412
         ],
         "xaxis": "x",
         "y": [
          "DET"
         ],
         "yaxis": "y"
        },
        {
         "alignmentgroup": "True",
         "hovertemplate": "Team=%{y}<br>PTS=%{x}<extra></extra>",
         "legendgroup": "HOU",
         "marker": {
          "color": "#B6E880",
          "pattern": {
           "shape": ""
          }
         },
         "name": "HOU",
         "offsetgroup": "HOU",
         "orientation": "h",
         "showlegend": true,
         "textposition": "auto",
         "type": "bar",
         "x": [
          8197
         ],
         "xaxis": "x",
         "y": [
          "HOU"
         ],
         "yaxis": "y"
        },
        {
         "alignmentgroup": "True",
         "hovertemplate": "Team=%{y}<br>PTS=%{x}<extra></extra>",
         "legendgroup": "UTA",
         "marker": {
          "color": "#FF97FF",
          "pattern": {
           "shape": ""
          }
         },
         "name": "UTA",
         "offsetgroup": "UTA",
         "orientation": "h",
         "showlegend": true,
         "textposition": "auto",
         "type": "bar",
         "x": [
          7885
         ],
         "xaxis": "x",
         "y": [
          "UTA"
         ],
         "yaxis": "y"
        },
        {
         "alignmentgroup": "True",
         "hovertemplate": "Team=%{y}<br>PTS=%{x}<extra></extra>",
         "legendgroup": "CHA",
         "marker": {
          "color": "#FECB52",
          "pattern": {
           "shape": ""
          }
         },
         "name": "CHA",
         "offsetgroup": "CHA",
         "orientation": "h",
         "showlegend": true,
         "textposition": "auto",
         "type": "bar",
         "x": [
          7839
         ],
         "xaxis": "x",
         "y": [
          "CHA"
         ],
         "yaxis": "y"
        }
       ],
       "layout": {
        "barmode": "relative",
        "height": 800,
        "legend": {
         "title": {
          "text": "Team"
         },
         "tracegroupgap": 0
        },
        "margin": {
         "t": 60
        },
        "showlegend": false,
        "template": {
         "data": {
          "bar": [
           {
            "error_x": {
             "color": "#f2f5fa"
            },
            "error_y": {
             "color": "#f2f5fa"
            },
            "marker": {
             "line": {
              "color": "rgb(17,17,17)",
              "width": 0.5
             },
             "pattern": {
              "fillmode": "overlay",
              "size": 10,
              "solidity": 0.2
             }
            },
            "type": "bar"
           }
          ],
          "barpolar": [
           {
            "marker": {
             "line": {
              "color": "rgb(17,17,17)",
              "width": 0.5
             },
             "pattern": {
              "fillmode": "overlay",
              "size": 10,
              "solidity": 0.2
             }
            },
            "type": "barpolar"
           }
          ],
          "carpet": [
           {
            "aaxis": {
             "endlinecolor": "#A2B1C6",
             "gridcolor": "#506784",
             "linecolor": "#506784",
             "minorgridcolor": "#506784",
             "startlinecolor": "#A2B1C6"
            },
            "baxis": {
             "endlinecolor": "#A2B1C6",
             "gridcolor": "#506784",
             "linecolor": "#506784",
             "minorgridcolor": "#506784",
             "startlinecolor": "#A2B1C6"
            },
            "type": "carpet"
           }
          ],
          "choropleth": [
           {
            "colorbar": {
             "outlinewidth": 0,
             "ticks": ""
            },
            "type": "choropleth"
           }
          ],
          "contour": [
           {
            "colorbar": {
             "outlinewidth": 0,
             "ticks": ""
            },
            "colorscale": [
             [
              0,
              "#0d0887"
             ],
             [
              0.1111111111111111,
              "#46039f"
             ],
             [
              0.2222222222222222,
              "#7201a8"
             ],
             [
              0.3333333333333333,
              "#9c179e"
             ],
             [
              0.4444444444444444,
              "#bd3786"
             ],
             [
              0.5555555555555556,
              "#d8576b"
             ],
             [
              0.6666666666666666,
              "#ed7953"
             ],
             [
              0.7777777777777778,
              "#fb9f3a"
             ],
             [
              0.8888888888888888,
              "#fdca26"
             ],
             [
              1,
              "#f0f921"
             ]
            ],
            "type": "contour"
           }
          ],
          "contourcarpet": [
           {
            "colorbar": {
             "outlinewidth": 0,
             "ticks": ""
            },
            "type": "contourcarpet"
           }
          ],
          "heatmap": [
           {
            "colorbar": {
             "outlinewidth": 0,
             "ticks": ""
            },
            "colorscale": [
             [
              0,
              "#0d0887"
             ],
             [
              0.1111111111111111,
              "#46039f"
             ],
             [
              0.2222222222222222,
              "#7201a8"
             ],
             [
              0.3333333333333333,
              "#9c179e"
             ],
             [
              0.4444444444444444,
              "#bd3786"
             ],
             [
              0.5555555555555556,
              "#d8576b"
             ],
             [
              0.6666666666666666,
              "#ed7953"
             ],
             [
              0.7777777777777778,
              "#fb9f3a"
             ],
             [
              0.8888888888888888,
              "#fdca26"
             ],
             [
              1,
              "#f0f921"
             ]
            ],
            "type": "heatmap"
           }
          ],
          "heatmapgl": [
           {
            "colorbar": {
             "outlinewidth": 0,
             "ticks": ""
            },
            "colorscale": [
             [
              0,
              "#0d0887"
             ],
             [
              0.1111111111111111,
              "#46039f"
             ],
             [
              0.2222222222222222,
              "#7201a8"
             ],
             [
              0.3333333333333333,
              "#9c179e"
             ],
             [
              0.4444444444444444,
              "#bd3786"
             ],
             [
              0.5555555555555556,
              "#d8576b"
             ],
             [
              0.6666666666666666,
              "#ed7953"
             ],
             [
              0.7777777777777778,
              "#fb9f3a"
             ],
             [
              0.8888888888888888,
              "#fdca26"
             ],
             [
              1,
              "#f0f921"
             ]
            ],
            "type": "heatmapgl"
           }
          ],
          "histogram": [
           {
            "marker": {
             "pattern": {
              "fillmode": "overlay",
              "size": 10,
              "solidity": 0.2
             }
            },
            "type": "histogram"
           }
          ],
          "histogram2d": [
           {
            "colorbar": {
             "outlinewidth": 0,
             "ticks": ""
            },
            "colorscale": [
             [
              0,
              "#0d0887"
             ],
             [
              0.1111111111111111,
              "#46039f"
             ],
             [
              0.2222222222222222,
              "#7201a8"
             ],
             [
              0.3333333333333333,
              "#9c179e"
             ],
             [
              0.4444444444444444,
              "#bd3786"
             ],
             [
              0.5555555555555556,
              "#d8576b"
             ],
             [
              0.6666666666666666,
              "#ed7953"
             ],
             [
              0.7777777777777778,
              "#fb9f3a"
             ],
             [
              0.8888888888888888,
              "#fdca26"
             ],
             [
              1,
              "#f0f921"
             ]
            ],
            "type": "histogram2d"
           }
          ],
          "histogram2dcontour": [
           {
            "colorbar": {
             "outlinewidth": 0,
             "ticks": ""
            },
            "colorscale": [
             [
              0,
              "#0d0887"
             ],
             [
              0.1111111111111111,
              "#46039f"
             ],
             [
              0.2222222222222222,
              "#7201a8"
             ],
             [
              0.3333333333333333,
              "#9c179e"
             ],
             [
              0.4444444444444444,
              "#bd3786"
             ],
             [
              0.5555555555555556,
              "#d8576b"
             ],
             [
              0.6666666666666666,
              "#ed7953"
             ],
             [
              0.7777777777777778,
              "#fb9f3a"
             ],
             [
              0.8888888888888888,
              "#fdca26"
             ],
             [
              1,
              "#f0f921"
             ]
            ],
            "type": "histogram2dcontour"
           }
          ],
          "mesh3d": [
           {
            "colorbar": {
             "outlinewidth": 0,
             "ticks": ""
            },
            "type": "mesh3d"
           }
          ],
          "parcoords": [
           {
            "line": {
             "colorbar": {
              "outlinewidth": 0,
              "ticks": ""
             }
            },
            "type": "parcoords"
           }
          ],
          "pie": [
           {
            "automargin": true,
            "type": "pie"
           }
          ],
          "scatter": [
           {
            "marker": {
             "line": {
              "color": "#283442"
             }
            },
            "type": "scatter"
           }
          ],
          "scatter3d": [
           {
            "line": {
             "colorbar": {
              "outlinewidth": 0,
              "ticks": ""
             }
            },
            "marker": {
             "colorbar": {
              "outlinewidth": 0,
              "ticks": ""
             }
            },
            "type": "scatter3d"
           }
          ],
          "scattercarpet": [
           {
            "marker": {
             "colorbar": {
              "outlinewidth": 0,
              "ticks": ""
             }
            },
            "type": "scattercarpet"
           }
          ],
          "scattergeo": [
           {
            "marker": {
             "colorbar": {
              "outlinewidth": 0,
              "ticks": ""
             }
            },
            "type": "scattergeo"
           }
          ],
          "scattergl": [
           {
            "marker": {
             "line": {
              "color": "#283442"
             }
            },
            "type": "scattergl"
           }
          ],
          "scattermapbox": [
           {
            "marker": {
             "colorbar": {
              "outlinewidth": 0,
              "ticks": ""
             }
            },
            "type": "scattermapbox"
           }
          ],
          "scatterpolar": [
           {
            "marker": {
             "colorbar": {
              "outlinewidth": 0,
              "ticks": ""
             }
            },
            "type": "scatterpolar"
           }
          ],
          "scatterpolargl": [
           {
            "marker": {
             "colorbar": {
              "outlinewidth": 0,
              "ticks": ""
             }
            },
            "type": "scatterpolargl"
           }
          ],
          "scatterternary": [
           {
            "marker": {
             "colorbar": {
              "outlinewidth": 0,
              "ticks": ""
             }
            },
            "type": "scatterternary"
           }
          ],
          "surface": [
           {
            "colorbar": {
             "outlinewidth": 0,
             "ticks": ""
            },
            "colorscale": [
             [
              0,
              "#0d0887"
             ],
             [
              0.1111111111111111,
              "#46039f"
             ],
             [
              0.2222222222222222,
              "#7201a8"
             ],
             [
              0.3333333333333333,
              "#9c179e"
             ],
             [
              0.4444444444444444,
              "#bd3786"
             ],
             [
              0.5555555555555556,
              "#d8576b"
             ],
             [
              0.6666666666666666,
              "#ed7953"
             ],
             [
              0.7777777777777778,
              "#fb9f3a"
             ],
             [
              0.8888888888888888,
              "#fdca26"
             ],
             [
              1,
              "#f0f921"
             ]
            ],
            "type": "surface"
           }
          ],
          "table": [
           {
            "cells": {
             "fill": {
              "color": "#506784"
             },
             "line": {
              "color": "rgb(17,17,17)"
             }
            },
            "header": {
             "fill": {
              "color": "#2a3f5f"
             },
             "line": {
              "color": "rgb(17,17,17)"
             }
            },
            "type": "table"
           }
          ]
         },
         "layout": {
          "annotationdefaults": {
           "arrowcolor": "#f2f5fa",
           "arrowhead": 0,
           "arrowwidth": 1
          },
          "autotypenumbers": "strict",
          "coloraxis": {
           "colorbar": {
            "outlinewidth": 0,
            "ticks": ""
           }
          },
          "colorscale": {
           "diverging": [
            [
             0,
             "#8e0152"
            ],
            [
             0.1,
             "#c51b7d"
            ],
            [
             0.2,
             "#de77ae"
            ],
            [
             0.3,
             "#f1b6da"
            ],
            [
             0.4,
             "#fde0ef"
            ],
            [
             0.5,
             "#f7f7f7"
            ],
            [
             0.6,
             "#e6f5d0"
            ],
            [
             0.7,
             "#b8e186"
            ],
            [
             0.8,
             "#7fbc41"
            ],
            [
             0.9,
             "#4d9221"
            ],
            [
             1,
             "#276419"
            ]
           ],
           "sequential": [
            [
             0,
             "#0d0887"
            ],
            [
             0.1111111111111111,
             "#46039f"
            ],
            [
             0.2222222222222222,
             "#7201a8"
            ],
            [
             0.3333333333333333,
             "#9c179e"
            ],
            [
             0.4444444444444444,
             "#bd3786"
            ],
            [
             0.5555555555555556,
             "#d8576b"
            ],
            [
             0.6666666666666666,
             "#ed7953"
            ],
            [
             0.7777777777777778,
             "#fb9f3a"
            ],
            [
             0.8888888888888888,
             "#fdca26"
            ],
            [
             1,
             "#f0f921"
            ]
           ],
           "sequentialminus": [
            [
             0,
             "#0d0887"
            ],
            [
             0.1111111111111111,
             "#46039f"
            ],
            [
             0.2222222222222222,
             "#7201a8"
            ],
            [
             0.3333333333333333,
             "#9c179e"
            ],
            [
             0.4444444444444444,
             "#bd3786"
            ],
            [
             0.5555555555555556,
             "#d8576b"
            ],
            [
             0.6666666666666666,
             "#ed7953"
            ],
            [
             0.7777777777777778,
             "#fb9f3a"
            ],
            [
             0.8888888888888888,
             "#fdca26"
            ],
            [
             1,
             "#f0f921"
            ]
           ]
          },
          "colorway": [
           "#636efa",
           "#EF553B",
           "#00cc96",
           "#ab63fa",
           "#FFA15A",
           "#19d3f3",
           "#FF6692",
           "#B6E880",
           "#FF97FF",
           "#FECB52"
          ],
          "font": {
           "color": "#f2f5fa"
          },
          "geo": {
           "bgcolor": "rgb(17,17,17)",
           "lakecolor": "rgb(17,17,17)",
           "landcolor": "rgb(17,17,17)",
           "showlakes": true,
           "showland": true,
           "subunitcolor": "#506784"
          },
          "hoverlabel": {
           "align": "left"
          },
          "hovermode": "closest",
          "mapbox": {
           "style": "dark"
          },
          "paper_bgcolor": "rgb(17,17,17)",
          "plot_bgcolor": "rgb(17,17,17)",
          "polar": {
           "angularaxis": {
            "gridcolor": "#506784",
            "linecolor": "#506784",
            "ticks": ""
           },
           "bgcolor": "rgb(17,17,17)",
           "radialaxis": {
            "gridcolor": "#506784",
            "linecolor": "#506784",
            "ticks": ""
           }
          },
          "scene": {
           "xaxis": {
            "backgroundcolor": "rgb(17,17,17)",
            "gridcolor": "#506784",
            "gridwidth": 2,
            "linecolor": "#506784",
            "showbackground": true,
            "ticks": "",
            "zerolinecolor": "#C8D4E3"
           },
           "yaxis": {
            "backgroundcolor": "rgb(17,17,17)",
            "gridcolor": "#506784",
            "gridwidth": 2,
            "linecolor": "#506784",
            "showbackground": true,
            "ticks": "",
            "zerolinecolor": "#C8D4E3"
           },
           "zaxis": {
            "backgroundcolor": "rgb(17,17,17)",
            "gridcolor": "#506784",
            "gridwidth": 2,
            "linecolor": "#506784",
            "showbackground": true,
            "ticks": "",
            "zerolinecolor": "#C8D4E3"
           }
          },
          "shapedefaults": {
           "line": {
            "color": "#f2f5fa"
           }
          },
          "sliderdefaults": {
           "bgcolor": "#C8D4E3",
           "bordercolor": "rgb(17,17,17)",
           "borderwidth": 1,
           "tickwidth": 0
          },
          "ternary": {
           "aaxis": {
            "gridcolor": "#506784",
            "linecolor": "#506784",
            "ticks": ""
           },
           "baxis": {
            "gridcolor": "#506784",
            "linecolor": "#506784",
            "ticks": ""
           },
           "bgcolor": "rgb(17,17,17)",
           "caxis": {
            "gridcolor": "#506784",
            "linecolor": "#506784",
            "ticks": ""
           }
          },
          "title": {
           "x": 0.05
          },
          "updatemenudefaults": {
           "bgcolor": "#506784",
           "borderwidth": 0
          },
          "xaxis": {
           "automargin": true,
           "gridcolor": "#283442",
           "linecolor": "#506784",
           "ticks": "",
           "title": {
            "standoff": 15
           },
           "zerolinecolor": "#283442",
           "zerolinewidth": 2
          },
          "yaxis": {
           "automargin": true,
           "gridcolor": "#283442",
           "linecolor": "#506784",
           "ticks": "",
           "title": {
            "standoff": 15
           },
           "zerolinecolor": "#283442",
           "zerolinewidth": 2
          }
         }
        },
        "title": {
         "text": "Total points made per team"
        },
        "width": 800,
        "xaxis": {
         "anchor": "y",
         "domain": [
          0,
          1
         ],
         "title": {
          "text": "Points made"
         }
        },
        "yaxis": {
         "anchor": "x",
         "categoryarray": [
          "CHA",
          "UTA",
          "HOU",
          "DET",
          "ORL",
          "SAS",
          "WAS",
          "CLE",
          "MIA",
          "POR",
          "MIN",
          "OKC",
          "CHI",
          "DAL",
          "BKN",
          "MIL",
          "NOP",
          "PHX",
          "GSW",
          "IND",
          "MEM",
          "SAC",
          "BOS",
          "DEN",
          "TOR",
          "PHI",
          "NYK",
          "LAL",
          "ATL",
          "LAC"
         ],
         "categoryorder": "array",
         "domain": [
          0,
          1
         ],
         "title": {
          "text": "Team"
         }
        }
       }
      }
     },
     "metadata": {},
     "output_type": "display_data"
    }
   ],
   "source": [
    "px.bar(data_frame=df_times,\n",
    "       y='Team',\n",
    "       x='PTS',\n",
    "       orientation='h',\n",
    "       color='Team',\n",
    "       template='plotly_dark',\n",
    "       height=800,\n",
    "       width=800).update_layout(title='Total points made per team',\n",
    "                                xaxis_title='Points made',\n",
    "                                yaxis_title='Team',\n",
    "                                showlegend=False)"
   ]
  },
  {
   "cell_type": "code",
   "execution_count": 36,
   "metadata": {},
   "outputs": [
    {
     "data": {
      "application/vnd.plotly.v1+json": {
       "config": {
        "plotlyServerURL": "https://plot.ly"
       },
       "data": [
        {
         "hovertemplate": "Team=LAC<br>2PM=%{x}<br>3PM=%{y}<extra></extra>",
         "legendgroup": "LAC",
         "marker": {
          "color": "#636efa",
          "opacity": 0.6,
          "size": 40,
          "symbol": "circle"
         },
         "mode": "markers",
         "name": "LAC",
         "orientation": "v",
         "showlegend": true,
         "type": "scatter",
         "x": [
          2805
         ],
         "xaxis": "x",
         "y": [
          1144
         ],
         "yaxis": "y"
        },
        {
         "hovertemplate": "Team=ATL<br>2PM=%{x}<br>3PM=%{y}<extra></extra>",
         "legendgroup": "ATL",
         "marker": {
          "color": "#EF553B",
          "opacity": 0.6,
          "size": 40,
          "symbol": "circle"
         },
         "mode": "markers",
         "name": "ATL",
         "orientation": "v",
         "showlegend": true,
         "type": "scatter",
         "x": [
          2943
         ],
         "xaxis": "x",
         "y": [
          995
         ],
         "yaxis": "y"
        },
        {
         "hovertemplate": "Team=LAL<br>2PM=%{x}<br>3PM=%{y}<extra></extra>",
         "legendgroup": "LAL",
         "marker": {
          "color": "#00cc96",
          "opacity": 0.6,
          "size": 40,
          "symbol": "circle"
         },
         "mode": "markers",
         "name": "LAL",
         "orientation": "v",
         "showlegend": true,
         "type": "scatter",
         "x": [
          2713
         ],
         "xaxis": "x",
         "y": [
          1115
         ],
         "yaxis": "y"
        },
        {
         "hovertemplate": "Team=NYK<br>2PM=%{x}<br>3PM=%{y}<extra></extra>",
         "legendgroup": "NYK",
         "marker": {
          "color": "#ab63fa",
          "opacity": 0.6,
          "size": 40,
          "symbol": "circle"
         },
         "mode": "markers",
         "name": "NYK",
         "orientation": "v",
         "showlegend": true,
         "type": "scatter",
         "x": [
          2615
         ],
         "xaxis": "x",
         "y": [
          1105
         ],
         "yaxis": "y"
        },
        {
         "hovertemplate": "Team=PHI<br>2PM=%{x}<br>3PM=%{y}<extra></extra>",
         "legendgroup": "PHI",
         "marker": {
          "color": "#FFA15A",
          "opacity": 0.6,
          "size": 40,
          "symbol": "circle"
         },
         "mode": "markers",
         "name": "PHI",
         "orientation": "v",
         "showlegend": true,
         "type": "scatter",
         "x": [
          2489
         ],
         "xaxis": "x",
         "y": [
          1090
         ],
         "yaxis": "y"
        },
        {
         "hovertemplate": "Team=TOR<br>2PM=%{x}<br>3PM=%{y}<extra></extra>",
         "legendgroup": "TOR",
         "marker": {
          "color": "#19d3f3",
          "opacity": 0.6,
          "size": 40,
          "symbol": "circle"
         },
         "mode": "markers",
         "name": "TOR",
         "orientation": "v",
         "showlegend": true,
         "type": "scatter",
         "x": [
          2830
         ],
         "xaxis": "x",
         "y": [
          931
         ],
         "yaxis": "y"
        },
        {
         "hovertemplate": "Team=DEN<br>2PM=%{x}<br>3PM=%{y}<extra></extra>",
         "legendgroup": "DEN",
         "marker": {
          "color": "#FF6692",
          "opacity": 0.6,
          "size": 40,
          "symbol": "circle"
         },
         "mode": "markers",
         "name": "DEN",
         "orientation": "v",
         "showlegend": true,
         "type": "scatter",
         "x": [
          2826
         ],
         "xaxis": "x",
         "y": [
          961
         ],
         "yaxis": "y"
        },
        {
         "hovertemplate": "Team=BOS<br>2PM=%{x}<br>3PM=%{y}<extra></extra>",
         "legendgroup": "BOS",
         "marker": {
          "color": "#B6E880",
          "opacity": 0.6,
          "size": 40,
          "symbol": "circle"
         },
         "mode": "markers",
         "name": "BOS",
         "orientation": "v",
         "showlegend": true,
         "type": "scatter",
         "x": [
          2181
         ],
         "xaxis": "x",
         "y": [
          1371
         ],
         "yaxis": "y"
        },
        {
         "hovertemplate": "Team=SAC<br>2PM=%{x}<br>3PM=%{y}<extra></extra>",
         "legendgroup": "SAC",
         "marker": {
          "color": "#FF97FF",
          "opacity": 0.6,
          "size": 40,
          "symbol": "circle"
         },
         "mode": "markers",
         "name": "SAC",
         "orientation": "v",
         "showlegend": true,
         "type": "scatter",
         "x": [
          2449
         ],
         "xaxis": "x",
         "y": [
          1130
         ],
         "yaxis": "y"
        },
        {
         "hovertemplate": "Team=MEM<br>2PM=%{x}<br>3PM=%{y}<extra></extra>",
         "legendgroup": "MEM",
         "marker": {
          "color": "#FECB52",
          "opacity": 0.6,
          "size": 40,
          "symbol": "circle"
         },
         "mode": "markers",
         "name": "MEM",
         "orientation": "v",
         "showlegend": true,
         "type": "scatter",
         "x": [
          2639
         ],
         "xaxis": "x",
         "y": [
          1041
         ],
         "yaxis": "y"
        },
        {
         "hovertemplate": "Team=IND<br>2PM=%{x}<br>3PM=%{y}<extra></extra>",
         "legendgroup": "IND",
         "marker": {
          "color": "#636efa",
          "opacity": 0.6,
          "size": 40,
          "symbol": "circle"
         },
         "mode": "markers",
         "name": "IND",
         "orientation": "v",
         "showlegend": true,
         "type": "scatter",
         "x": [
          2355
         ],
         "xaxis": "x",
         "y": [
          1167
         ],
         "yaxis": "y"
        },
        {
         "hovertemplate": "Team=GSW<br>2PM=%{x}<br>3PM=%{y}<extra></extra>",
         "legendgroup": "GSW",
         "marker": {
          "color": "#EF553B",
          "opacity": 0.6,
          "size": 40,
          "symbol": "circle"
         },
         "mode": "markers",
         "name": "GSW",
         "orientation": "v",
         "showlegend": true,
         "type": "scatter",
         "x": [
          2132
         ],
         "xaxis": "x",
         "y": [
          1371
         ],
         "yaxis": "y"
        },
        {
         "hovertemplate": "Team=PHX<br>2PM=%{x}<br>3PM=%{y}<extra></extra>",
         "legendgroup": "PHX",
         "marker": {
          "color": "#00cc96",
          "opacity": 0.6,
          "size": 40,
          "symbol": "circle"
         },
         "mode": "markers",
         "name": "PHX",
         "orientation": "v",
         "showlegend": true,
         "type": "scatter",
         "x": [
          2608
         ],
         "xaxis": "x",
         "y": [
          954
         ],
         "yaxis": "y"
        },
        {
         "hovertemplate": "Team=NOP<br>2PM=%{x}<br>3PM=%{y}<extra></extra>",
         "legendgroup": "NOP",
         "marker": {
          "color": "#ab63fa",
          "opacity": 0.6,
          "size": 40,
          "symbol": "circle"
         },
         "mode": "markers",
         "name": "NOP",
         "orientation": "v",
         "showlegend": true,
         "type": "scatter",
         "x": [
          2632
         ],
         "xaxis": "x",
         "y": [
          907
         ],
         "yaxis": "y"
        },
        {
         "hovertemplate": "Team=MIL<br>2PM=%{x}<br>3PM=%{y}<extra></extra>",
         "legendgroup": "MIL",
         "marker": {
          "color": "#FFA15A",
          "opacity": 0.6,
          "size": 40,
          "symbol": "circle"
         },
         "mode": "markers",
         "name": "MIL",
         "orientation": "v",
         "showlegend": true,
         "type": "scatter",
         "x": [
          2285
         ],
         "xaxis": "x",
         "y": [
          1192
         ],
         "yaxis": "y"
        },
        {
         "hovertemplate": "Team=BKN<br>2PM=%{x}<br>3PM=%{y}<extra></extra>",
         "legendgroup": "BKN",
         "marker": {
          "color": "#19d3f3",
          "opacity": 0.6,
          "size": 40,
          "symbol": "circle"
         },
         "mode": "markers",
         "name": "BKN",
         "orientation": "v",
         "showlegend": true,
         "type": "scatter",
         "x": [
          2237
         ],
         "xaxis": "x",
         "y": [
          1172
         ],
         "yaxis": "y"
        },
        {
         "hovertemplate": "Team=DAL<br>2PM=%{x}<br>3PM=%{y}<extra></extra>",
         "legendgroup": "DAL",
         "marker": {
          "color": "#FF6692",
          "opacity": 0.6,
          "size": 40,
          "symbol": "circle"
         },
         "mode": "markers",
         "name": "DAL",
         "orientation": "v",
         "showlegend": true,
         "type": "scatter",
         "x": [
          2107
         ],
         "xaxis": "x",
         "y": [
          1211
         ],
         "yaxis": "y"
        },
        {
         "hovertemplate": "Team=CHI<br>2PM=%{x}<br>3PM=%{y}<extra></extra>",
         "legendgroup": "CHI",
         "marker": {
          "color": "#B6E880",
          "opacity": 0.6,
          "size": 40,
          "symbol": "circle"
         },
         "mode": "markers",
         "name": "CHI",
         "orientation": "v",
         "showlegend": true,
         "type": "scatter",
         "x": [
          2620
         ],
         "xaxis": "x",
         "y": [
          868
         ],
         "yaxis": "y"
        },
        {
         "hovertemplate": "Team=OKC<br>2PM=%{x}<br>3PM=%{y}<extra></extra>",
         "legendgroup": "OKC",
         "marker": {
          "color": "#FF97FF",
          "opacity": 0.6,
          "size": 40,
          "symbol": "circle"
         },
         "mode": "markers",
         "name": "OKC",
         "orientation": "v",
         "showlegend": true,
         "type": "scatter",
         "x": [
          2465
         ],
         "xaxis": "x",
         "y": [
          940
         ],
         "yaxis": "y"
        },
        {
         "hovertemplate": "Team=MIN<br>2PM=%{x}<br>3PM=%{y}<extra></extra>",
         "legendgroup": "MIN",
         "marker": {
          "color": "#FECB52",
          "opacity": 0.6,
          "size": 40,
          "symbol": "circle"
         },
         "mode": "markers",
         "name": "MIN",
         "orientation": "v",
         "showlegend": true,
         "type": "scatter",
         "x": [
          2453
         ],
         "xaxis": "x",
         "y": [
          974
         ],
         "yaxis": "y"
        },
        {
         "hovertemplate": "Team=POR<br>2PM=%{x}<br>3PM=%{y}<extra></extra>",
         "legendgroup": "POR",
         "marker": {
          "color": "#636efa",
          "opacity": 0.6,
          "size": 40,
          "symbol": "circle"
         },
         "mode": "markers",
         "name": "POR",
         "orientation": "v",
         "showlegend": true,
         "type": "scatter",
         "x": [
          2199
         ],
         "xaxis": "x",
         "y": [
          1092
         ],
         "yaxis": "y"
        },
        {
         "hovertemplate": "Team=MIA<br>2PM=%{x}<br>3PM=%{y}<extra></extra>",
         "legendgroup": "MIA",
         "marker": {
          "color": "#EF553B",
          "opacity": 0.6,
          "size": 40,
          "symbol": "circle"
         },
         "mode": "markers",
         "name": "MIA",
         "orientation": "v",
         "showlegend": true,
         "type": "scatter",
         "x": [
          2216
         ],
         "xaxis": "x",
         "y": [
          1035
         ],
         "yaxis": "y"
        },
        {
         "hovertemplate": "Team=CLE<br>2PM=%{x}<br>3PM=%{y}<extra></extra>",
         "legendgroup": "CLE",
         "marker": {
          "color": "#00cc96",
          "opacity": 0.6,
          "size": 40,
          "symbol": "circle"
         },
         "mode": "markers",
         "name": "CLE",
         "orientation": "v",
         "showlegend": true,
         "type": "scatter",
         "x": [
          2416
         ],
         "xaxis": "x",
         "y": [
          884
         ],
         "yaxis": "y"
        },
        {
         "hovertemplate": "Team=WAS<br>2PM=%{x}<br>3PM=%{y}<extra></extra>",
         "legendgroup": "WAS",
         "marker": {
          "color": "#ab63fa",
          "opacity": 0.6,
          "size": 40,
          "symbol": "circle"
         },
         "mode": "markers",
         "name": "WAS",
         "orientation": "v",
         "showlegend": true,
         "type": "scatter",
         "x": [
          2408
         ],
         "xaxis": "x",
         "y": [
          886
         ],
         "yaxis": "y"
        },
        {
         "hovertemplate": "Team=SAS<br>2PM=%{x}<br>3PM=%{y}<extra></extra>",
         "legendgroup": "SAS",
         "marker": {
          "color": "#FFA15A",
          "opacity": 0.6,
          "size": 40,
          "symbol": "circle"
         },
         "mode": "markers",
         "name": "SAS",
         "orientation": "v",
         "showlegend": true,
         "type": "scatter",
         "x": [
          2280
         ],
         "xaxis": "x",
         "y": [
          893
         ],
         "yaxis": "y"
        },
        {
         "hovertemplate": "Team=ORL<br>2PM=%{x}<br>3PM=%{y}<extra></extra>",
         "legendgroup": "ORL",
         "marker": {
          "color": "#19d3f3",
          "opacity": 0.6,
          "size": 40,
          "symbol": "circle"
         },
         "mode": "markers",
         "name": "ORL",
         "orientation": "v",
         "showlegend": true,
         "type": "scatter",
         "x": [
          2300
         ],
         "xaxis": "x",
         "y": [
          765
         ],
         "yaxis": "y"
        },
        {
         "hovertemplate": "Team=DET<br>2PM=%{x}<br>3PM=%{y}<extra></extra>",
         "legendgroup": "DET",
         "marker": {
          "color": "#FF6692",
          "opacity": 0.6,
          "size": 40,
          "symbol": "circle"
         },
         "mode": "markers",
         "name": "DET",
         "orientation": "v",
         "showlegend": true,
         "type": "scatter",
         "x": [
          2240
         ],
         "xaxis": "x",
         "y": [
          816
         ],
         "yaxis": "y"
        },
        {
         "hovertemplate": "Team=HOU<br>2PM=%{x}<br>3PM=%{y}<extra></extra>",
         "legendgroup": "HOU",
         "marker": {
          "color": "#B6E880",
          "opacity": 0.6,
          "size": 40,
          "symbol": "circle"
         },
         "mode": "markers",
         "name": "HOU",
         "orientation": "v",
         "showlegend": true,
         "type": "scatter",
         "x": [
          2307
         ],
         "xaxis": "x",
         "y": [
          729
         ],
         "yaxis": "y"
        },
        {
         "hovertemplate": "Team=UTA<br>2PM=%{x}<br>3PM=%{y}<extra></extra>",
         "legendgroup": "UTA",
         "marker": {
          "color": "#FF97FF",
          "opacity": 0.6,
          "size": 40,
          "symbol": "circle"
         },
         "mode": "markers",
         "name": "UTA",
         "orientation": "v",
         "showlegend": true,
         "type": "scatter",
         "x": [
          2068
         ],
         "xaxis": "x",
         "y": [
          798
         ],
         "yaxis": "y"
        },
        {
         "hovertemplate": "Team=CHA<br>2PM=%{x}<br>3PM=%{y}<extra></extra>",
         "legendgroup": "CHA",
         "marker": {
          "color": "#FECB52",
          "opacity": 0.6,
          "size": 40,
          "symbol": "circle"
         },
         "mode": "markers",
         "name": "CHA",
         "orientation": "v",
         "showlegend": true,
         "type": "scatter",
         "x": [
          2083
         ],
         "xaxis": "x",
         "y": [
          822
         ],
         "yaxis": "y"
        }
       ],
       "layout": {
        "legend": {
         "title": {
          "text": "Team"
         },
         "tracegroupgap": 0
        },
        "template": {
         "data": {
          "bar": [
           {
            "error_x": {
             "color": "#f2f5fa"
            },
            "error_y": {
             "color": "#f2f5fa"
            },
            "marker": {
             "line": {
              "color": "rgb(17,17,17)",
              "width": 0.5
             },
             "pattern": {
              "fillmode": "overlay",
              "size": 10,
              "solidity": 0.2
             }
            },
            "type": "bar"
           }
          ],
          "barpolar": [
           {
            "marker": {
             "line": {
              "color": "rgb(17,17,17)",
              "width": 0.5
             },
             "pattern": {
              "fillmode": "overlay",
              "size": 10,
              "solidity": 0.2
             }
            },
            "type": "barpolar"
           }
          ],
          "carpet": [
           {
            "aaxis": {
             "endlinecolor": "#A2B1C6",
             "gridcolor": "#506784",
             "linecolor": "#506784",
             "minorgridcolor": "#506784",
             "startlinecolor": "#A2B1C6"
            },
            "baxis": {
             "endlinecolor": "#A2B1C6",
             "gridcolor": "#506784",
             "linecolor": "#506784",
             "minorgridcolor": "#506784",
             "startlinecolor": "#A2B1C6"
            },
            "type": "carpet"
           }
          ],
          "choropleth": [
           {
            "colorbar": {
             "outlinewidth": 0,
             "ticks": ""
            },
            "type": "choropleth"
           }
          ],
          "contour": [
           {
            "colorbar": {
             "outlinewidth": 0,
             "ticks": ""
            },
            "colorscale": [
             [
              0,
              "#0d0887"
             ],
             [
              0.1111111111111111,
              "#46039f"
             ],
             [
              0.2222222222222222,
              "#7201a8"
             ],
             [
              0.3333333333333333,
              "#9c179e"
             ],
             [
              0.4444444444444444,
              "#bd3786"
             ],
             [
              0.5555555555555556,
              "#d8576b"
             ],
             [
              0.6666666666666666,
              "#ed7953"
             ],
             [
              0.7777777777777778,
              "#fb9f3a"
             ],
             [
              0.8888888888888888,
              "#fdca26"
             ],
             [
              1,
              "#f0f921"
             ]
            ],
            "type": "contour"
           }
          ],
          "contourcarpet": [
           {
            "colorbar": {
             "outlinewidth": 0,
             "ticks": ""
            },
            "type": "contourcarpet"
           }
          ],
          "heatmap": [
           {
            "colorbar": {
             "outlinewidth": 0,
             "ticks": ""
            },
            "colorscale": [
             [
              0,
              "#0d0887"
             ],
             [
              0.1111111111111111,
              "#46039f"
             ],
             [
              0.2222222222222222,
              "#7201a8"
             ],
             [
              0.3333333333333333,
              "#9c179e"
             ],
             [
              0.4444444444444444,
              "#bd3786"
             ],
             [
              0.5555555555555556,
              "#d8576b"
             ],
             [
              0.6666666666666666,
              "#ed7953"
             ],
             [
              0.7777777777777778,
              "#fb9f3a"
             ],
             [
              0.8888888888888888,
              "#fdca26"
             ],
             [
              1,
              "#f0f921"
             ]
            ],
            "type": "heatmap"
           }
          ],
          "heatmapgl": [
           {
            "colorbar": {
             "outlinewidth": 0,
             "ticks": ""
            },
            "colorscale": [
             [
              0,
              "#0d0887"
             ],
             [
              0.1111111111111111,
              "#46039f"
             ],
             [
              0.2222222222222222,
              "#7201a8"
             ],
             [
              0.3333333333333333,
              "#9c179e"
             ],
             [
              0.4444444444444444,
              "#bd3786"
             ],
             [
              0.5555555555555556,
              "#d8576b"
             ],
             [
              0.6666666666666666,
              "#ed7953"
             ],
             [
              0.7777777777777778,
              "#fb9f3a"
             ],
             [
              0.8888888888888888,
              "#fdca26"
             ],
             [
              1,
              "#f0f921"
             ]
            ],
            "type": "heatmapgl"
           }
          ],
          "histogram": [
           {
            "marker": {
             "pattern": {
              "fillmode": "overlay",
              "size": 10,
              "solidity": 0.2
             }
            },
            "type": "histogram"
           }
          ],
          "histogram2d": [
           {
            "colorbar": {
             "outlinewidth": 0,
             "ticks": ""
            },
            "colorscale": [
             [
              0,
              "#0d0887"
             ],
             [
              0.1111111111111111,
              "#46039f"
             ],
             [
              0.2222222222222222,
              "#7201a8"
             ],
             [
              0.3333333333333333,
              "#9c179e"
             ],
             [
              0.4444444444444444,
              "#bd3786"
             ],
             [
              0.5555555555555556,
              "#d8576b"
             ],
             [
              0.6666666666666666,
              "#ed7953"
             ],
             [
              0.7777777777777778,
              "#fb9f3a"
             ],
             [
              0.8888888888888888,
              "#fdca26"
             ],
             [
              1,
              "#f0f921"
             ]
            ],
            "type": "histogram2d"
           }
          ],
          "histogram2dcontour": [
           {
            "colorbar": {
             "outlinewidth": 0,
             "ticks": ""
            },
            "colorscale": [
             [
              0,
              "#0d0887"
             ],
             [
              0.1111111111111111,
              "#46039f"
             ],
             [
              0.2222222222222222,
              "#7201a8"
             ],
             [
              0.3333333333333333,
              "#9c179e"
             ],
             [
              0.4444444444444444,
              "#bd3786"
             ],
             [
              0.5555555555555556,
              "#d8576b"
             ],
             [
              0.6666666666666666,
              "#ed7953"
             ],
             [
              0.7777777777777778,
              "#fb9f3a"
             ],
             [
              0.8888888888888888,
              "#fdca26"
             ],
             [
              1,
              "#f0f921"
             ]
            ],
            "type": "histogram2dcontour"
           }
          ],
          "mesh3d": [
           {
            "colorbar": {
             "outlinewidth": 0,
             "ticks": ""
            },
            "type": "mesh3d"
           }
          ],
          "parcoords": [
           {
            "line": {
             "colorbar": {
              "outlinewidth": 0,
              "ticks": ""
             }
            },
            "type": "parcoords"
           }
          ],
          "pie": [
           {
            "automargin": true,
            "type": "pie"
           }
          ],
          "scatter": [
           {
            "marker": {
             "line": {
              "color": "#283442"
             }
            },
            "type": "scatter"
           }
          ],
          "scatter3d": [
           {
            "line": {
             "colorbar": {
              "outlinewidth": 0,
              "ticks": ""
             }
            },
            "marker": {
             "colorbar": {
              "outlinewidth": 0,
              "ticks": ""
             }
            },
            "type": "scatter3d"
           }
          ],
          "scattercarpet": [
           {
            "marker": {
             "colorbar": {
              "outlinewidth": 0,
              "ticks": ""
             }
            },
            "type": "scattercarpet"
           }
          ],
          "scattergeo": [
           {
            "marker": {
             "colorbar": {
              "outlinewidth": 0,
              "ticks": ""
             }
            },
            "type": "scattergeo"
           }
          ],
          "scattergl": [
           {
            "marker": {
             "line": {
              "color": "#283442"
             }
            },
            "type": "scattergl"
           }
          ],
          "scattermapbox": [
           {
            "marker": {
             "colorbar": {
              "outlinewidth": 0,
              "ticks": ""
             }
            },
            "type": "scattermapbox"
           }
          ],
          "scatterpolar": [
           {
            "marker": {
             "colorbar": {
              "outlinewidth": 0,
              "ticks": ""
             }
            },
            "type": "scatterpolar"
           }
          ],
          "scatterpolargl": [
           {
            "marker": {
             "colorbar": {
              "outlinewidth": 0,
              "ticks": ""
             }
            },
            "type": "scatterpolargl"
           }
          ],
          "scatterternary": [
           {
            "marker": {
             "colorbar": {
              "outlinewidth": 0,
              "ticks": ""
             }
            },
            "type": "scatterternary"
           }
          ],
          "surface": [
           {
            "colorbar": {
             "outlinewidth": 0,
             "ticks": ""
            },
            "colorscale": [
             [
              0,
              "#0d0887"
             ],
             [
              0.1111111111111111,
              "#46039f"
             ],
             [
              0.2222222222222222,
              "#7201a8"
             ],
             [
              0.3333333333333333,
              "#9c179e"
             ],
             [
              0.4444444444444444,
              "#bd3786"
             ],
             [
              0.5555555555555556,
              "#d8576b"
             ],
             [
              0.6666666666666666,
              "#ed7953"
             ],
             [
              0.7777777777777778,
              "#fb9f3a"
             ],
             [
              0.8888888888888888,
              "#fdca26"
             ],
             [
              1,
              "#f0f921"
             ]
            ],
            "type": "surface"
           }
          ],
          "table": [
           {
            "cells": {
             "fill": {
              "color": "#506784"
             },
             "line": {
              "color": "rgb(17,17,17)"
             }
            },
            "header": {
             "fill": {
              "color": "#2a3f5f"
             },
             "line": {
              "color": "rgb(17,17,17)"
             }
            },
            "type": "table"
           }
          ]
         },
         "layout": {
          "annotationdefaults": {
           "arrowcolor": "#f2f5fa",
           "arrowhead": 0,
           "arrowwidth": 1
          },
          "autotypenumbers": "strict",
          "coloraxis": {
           "colorbar": {
            "outlinewidth": 0,
            "ticks": ""
           }
          },
          "colorscale": {
           "diverging": [
            [
             0,
             "#8e0152"
            ],
            [
             0.1,
             "#c51b7d"
            ],
            [
             0.2,
             "#de77ae"
            ],
            [
             0.3,
             "#f1b6da"
            ],
            [
             0.4,
             "#fde0ef"
            ],
            [
             0.5,
             "#f7f7f7"
            ],
            [
             0.6,
             "#e6f5d0"
            ],
            [
             0.7,
             "#b8e186"
            ],
            [
             0.8,
             "#7fbc41"
            ],
            [
             0.9,
             "#4d9221"
            ],
            [
             1,
             "#276419"
            ]
           ],
           "sequential": [
            [
             0,
             "#0d0887"
            ],
            [
             0.1111111111111111,
             "#46039f"
            ],
            [
             0.2222222222222222,
             "#7201a8"
            ],
            [
             0.3333333333333333,
             "#9c179e"
            ],
            [
             0.4444444444444444,
             "#bd3786"
            ],
            [
             0.5555555555555556,
             "#d8576b"
            ],
            [
             0.6666666666666666,
             "#ed7953"
            ],
            [
             0.7777777777777778,
             "#fb9f3a"
            ],
            [
             0.8888888888888888,
             "#fdca26"
            ],
            [
             1,
             "#f0f921"
            ]
           ],
           "sequentialminus": [
            [
             0,
             "#0d0887"
            ],
            [
             0.1111111111111111,
             "#46039f"
            ],
            [
             0.2222222222222222,
             "#7201a8"
            ],
            [
             0.3333333333333333,
             "#9c179e"
            ],
            [
             0.4444444444444444,
             "#bd3786"
            ],
            [
             0.5555555555555556,
             "#d8576b"
            ],
            [
             0.6666666666666666,
             "#ed7953"
            ],
            [
             0.7777777777777778,
             "#fb9f3a"
            ],
            [
             0.8888888888888888,
             "#fdca26"
            ],
            [
             1,
             "#f0f921"
            ]
           ]
          },
          "colorway": [
           "#636efa",
           "#EF553B",
           "#00cc96",
           "#ab63fa",
           "#FFA15A",
           "#19d3f3",
           "#FF6692",
           "#B6E880",
           "#FF97FF",
           "#FECB52"
          ],
          "font": {
           "color": "#f2f5fa"
          },
          "geo": {
           "bgcolor": "rgb(17,17,17)",
           "lakecolor": "rgb(17,17,17)",
           "landcolor": "rgb(17,17,17)",
           "showlakes": true,
           "showland": true,
           "subunitcolor": "#506784"
          },
          "hoverlabel": {
           "align": "left"
          },
          "hovermode": "closest",
          "mapbox": {
           "style": "dark"
          },
          "paper_bgcolor": "rgb(17,17,17)",
          "plot_bgcolor": "rgb(17,17,17)",
          "polar": {
           "angularaxis": {
            "gridcolor": "#506784",
            "linecolor": "#506784",
            "ticks": ""
           },
           "bgcolor": "rgb(17,17,17)",
           "radialaxis": {
            "gridcolor": "#506784",
            "linecolor": "#506784",
            "ticks": ""
           }
          },
          "scene": {
           "xaxis": {
            "backgroundcolor": "rgb(17,17,17)",
            "gridcolor": "#506784",
            "gridwidth": 2,
            "linecolor": "#506784",
            "showbackground": true,
            "ticks": "",
            "zerolinecolor": "#C8D4E3"
           },
           "yaxis": {
            "backgroundcolor": "rgb(17,17,17)",
            "gridcolor": "#506784",
            "gridwidth": 2,
            "linecolor": "#506784",
            "showbackground": true,
            "ticks": "",
            "zerolinecolor": "#C8D4E3"
           },
           "zaxis": {
            "backgroundcolor": "rgb(17,17,17)",
            "gridcolor": "#506784",
            "gridwidth": 2,
            "linecolor": "#506784",
            "showbackground": true,
            "ticks": "",
            "zerolinecolor": "#C8D4E3"
           }
          },
          "shapedefaults": {
           "line": {
            "color": "#f2f5fa"
           }
          },
          "sliderdefaults": {
           "bgcolor": "#C8D4E3",
           "bordercolor": "rgb(17,17,17)",
           "borderwidth": 1,
           "tickwidth": 0
          },
          "ternary": {
           "aaxis": {
            "gridcolor": "#506784",
            "linecolor": "#506784",
            "ticks": ""
           },
           "baxis": {
            "gridcolor": "#506784",
            "linecolor": "#506784",
            "ticks": ""
           },
           "bgcolor": "rgb(17,17,17)",
           "caxis": {
            "gridcolor": "#506784",
            "linecolor": "#506784",
            "ticks": ""
           }
          },
          "title": {
           "x": 0.05
          },
          "updatemenudefaults": {
           "bgcolor": "#506784",
           "borderwidth": 0
          },
          "xaxis": {
           "automargin": true,
           "gridcolor": "#283442",
           "linecolor": "#506784",
           "ticks": "",
           "title": {
            "standoff": 15
           },
           "zerolinecolor": "#283442",
           "zerolinewidth": 2
          },
          "yaxis": {
           "automargin": true,
           "gridcolor": "#283442",
           "linecolor": "#506784",
           "ticks": "",
           "title": {
            "standoff": 15
           },
           "zerolinecolor": "#283442",
           "zerolinewidth": 2
          }
         }
        },
        "title": {
         "text": "3PM and 2PM by all players per team"
        },
        "xaxis": {
         "anchor": "y",
         "domain": [
          0,
          1
         ],
         "title": {
          "text": "2PM"
         }
        },
        "yaxis": {
         "anchor": "x",
         "domain": [
          0,
          1
         ],
         "title": {
          "text": "3PM"
         }
        }
       }
      }
     },
     "metadata": {},
     "output_type": "display_data"
    }
   ],
   "source": [
    "px.scatter(data_frame=df_times,\n",
    "           x = '2PM',\n",
    "           y = '3PM', \n",
    "           color = 'Team',\n",
    "           template='plotly_dark',\n",
    "           opacity=0.6,\n",
    "           title='3PM and 2PM by all players per team').update_traces(marker_size=40)"
   ]
  },
  {
   "cell_type": "code",
   "execution_count": 84,
   "metadata": {},
   "outputs": [
    {
     "data": {
      "application/vnd.plotly.v1+json": {
       "config": {
        "plotlyServerURL": "https://plot.ly"
       },
       "data": [
        {
         "customdata": [
          [
           "LAC"
          ]
         ],
         "hovertemplate": "Team=%{customdata[0]}<br>2P%=%{x}<br>3P%=%{y}<extra></extra>",
         "legendgroup": "LAC",
         "marker": {
          "color": "#636efa",
          "opacity": 0.6,
          "size": 40,
          "symbol": "circle"
         },
         "mode": "markers",
         "name": "LAC",
         "orientation": "v",
         "showlegend": true,
         "type": "scatter",
         "x": [
          51.39
         ],
         "xaxis": "x",
         "y": [
          32.68
         ],
         "yaxis": "y"
        },
        {
         "customdata": [
          [
           "ATL"
          ]
         ],
         "hovertemplate": "Team=%{customdata[0]}<br>2P%=%{x}<br>3P%=%{y}<extra></extra>",
         "legendgroup": "ATL",
         "marker": {
          "color": "#EF553B",
          "opacity": 0.6,
          "size": 40,
          "symbol": "circle"
         },
         "mode": "markers",
         "name": "ATL",
         "orientation": "v",
         "showlegend": true,
         "type": "scatter",
         "x": [
          54.05
         ],
         "xaxis": "x",
         "y": [
          23.87
         ],
         "yaxis": "y"
        },
        {
         "customdata": [
          [
           "LAL"
          ]
         ],
         "hovertemplate": "Team=%{customdata[0]}<br>2P%=%{x}<br>3P%=%{y}<extra></extra>",
         "legendgroup": "LAL",
         "marker": {
          "color": "#00cc96",
          "opacity": 0.6,
          "size": 40,
          "symbol": "circle"
         },
         "mode": "markers",
         "name": "LAL",
         "orientation": "v",
         "showlegend": true,
         "type": "scatter",
         "x": [
          45.58
         ],
         "xaxis": "x",
         "y": [
          32.82
         ],
         "yaxis": "y"
        },
        {
         "customdata": [
          [
           "NYK"
          ]
         ],
         "hovertemplate": "Team=%{customdata[0]}<br>2P%=%{x}<br>3P%=%{y}<extra></extra>",
         "legendgroup": "NYK",
         "marker": {
          "color": "#ab63fa",
          "opacity": 0.6,
          "size": 40,
          "symbol": "circle"
         },
         "mode": "markers",
         "name": "NYK",
         "orientation": "v",
         "showlegend": true,
         "type": "scatter",
         "x": [
          50.87
         ],
         "xaxis": "x",
         "y": [
          28.59
         ],
         "yaxis": "y"
        },
        {
         "customdata": [
          [
           "PHI"
          ]
         ],
         "hovertemplate": "Team=%{customdata[0]}<br>2P%=%{x}<br>3P%=%{y}<extra></extra>",
         "legendgroup": "PHI",
         "marker": {
          "color": "#FFA15A",
          "opacity": 0.6,
          "size": 40,
          "symbol": "circle"
         },
         "mode": "markers",
         "name": "PHI",
         "orientation": "v",
         "showlegend": true,
         "type": "scatter",
         "x": [
          52.9
         ],
         "xaxis": "x",
         "y": [
          32.77
         ],
         "yaxis": "y"
        },
        {
         "customdata": [
          [
           "TOR"
          ]
         ],
         "hovertemplate": "Team=%{customdata[0]}<br>2P%=%{x}<br>3P%=%{y}<extra></extra>",
         "legendgroup": "TOR",
         "marker": {
          "color": "#19d3f3",
          "opacity": 0.6,
          "size": 40,
          "symbol": "circle"
         },
         "mode": "markers",
         "name": "TOR",
         "orientation": "v",
         "showlegend": true,
         "type": "scatter",
         "x": [
          51.39
         ],
         "xaxis": "x",
         "y": [
          28.2
         ],
         "yaxis": "y"
        },
        {
         "customdata": [
          [
           "DEN"
          ]
         ],
         "hovertemplate": "Team=%{customdata[0]}<br>2P%=%{x}<br>3P%=%{y}<extra></extra>",
         "legendgroup": "DEN",
         "marker": {
          "color": "#FF6692",
          "opacity": 0.6,
          "size": 40,
          "symbol": "circle"
         },
         "mode": "markers",
         "name": "DEN",
         "orientation": "v",
         "showlegend": true,
         "type": "scatter",
         "x": [
          57.42
         ],
         "xaxis": "x",
         "y": [
          39.4
         ],
         "yaxis": "y"
        },
        {
         "customdata": [
          [
           "BOS"
          ]
         ],
         "hovertemplate": "Team=%{customdata[0]}<br>2P%=%{x}<br>3P%=%{y}<extra></extra>",
         "legendgroup": "BOS",
         "marker": {
          "color": "#B6E880",
          "opacity": 0.6,
          "size": 40,
          "symbol": "circle"
         },
         "mode": "markers",
         "name": "BOS",
         "orientation": "v",
         "showlegend": true,
         "type": "scatter",
         "x": [
          54.43
         ],
         "xaxis": "x",
         "y": [
          30.14
         ],
         "yaxis": "y"
        },
        {
         "customdata": [
          [
           "SAC"
          ]
         ],
         "hovertemplate": "Team=%{customdata[0]}<br>2P%=%{x}<br>3P%=%{y}<extra></extra>",
         "legendgroup": "SAC",
         "marker": {
          "color": "#FF97FF",
          "opacity": 0.6,
          "size": 40,
          "symbol": "circle"
         },
         "mode": "markers",
         "name": "SAC",
         "orientation": "v",
         "showlegend": true,
         "type": "scatter",
         "x": [
          51.38
         ],
         "xaxis": "x",
         "y": [
          28.77
         ],
         "yaxis": "y"
        },
        {
         "customdata": [
          [
           "MEM"
          ]
         ],
         "hovertemplate": "Team=%{customdata[0]}<br>2P%=%{x}<br>3P%=%{y}<extra></extra>",
         "legendgroup": "MEM",
         "marker": {
          "color": "#FECB52",
          "opacity": 0.6,
          "size": 40,
          "symbol": "circle"
         },
         "mode": "markers",
         "name": "MEM",
         "orientation": "v",
         "showlegend": true,
         "type": "scatter",
         "x": [
          52.84
         ],
         "xaxis": "x",
         "y": [
          29.18
         ],
         "yaxis": "y"
        },
        {
         "customdata": [
          [
           "IND"
          ]
         ],
         "hovertemplate": "Team=%{customdata[0]}<br>2P%=%{x}<br>3P%=%{y}<extra></extra>",
         "legendgroup": "IND",
         "marker": {
          "color": "#636efa",
          "opacity": 0.6,
          "size": 40,
          "symbol": "circle"
         },
         "mode": "markers",
         "name": "IND",
         "orientation": "v",
         "showlegend": true,
         "type": "scatter",
         "x": [
          54.11
         ],
         "xaxis": "x",
         "y": [
          29.69
         ],
         "yaxis": "y"
        },
        {
         "customdata": [
          [
           "GSW"
          ]
         ],
         "hovertemplate": "Team=%{customdata[0]}<br>2P%=%{x}<br>3P%=%{y}<extra></extra>",
         "legendgroup": "GSW",
         "marker": {
          "color": "#EF553B",
          "opacity": 0.6,
          "size": 40,
          "symbol": "circle"
         },
         "mode": "markers",
         "name": "GSW",
         "orientation": "v",
         "showlegend": true,
         "type": "scatter",
         "x": [
          55.43
         ],
         "xaxis": "x",
         "y": [
          35.09
         ],
         "yaxis": "y"
        },
        {
         "customdata": [
          [
           "PHX"
          ]
         ],
         "hovertemplate": "Team=%{customdata[0]}<br>2P%=%{x}<br>3P%=%{y}<extra></extra>",
         "legendgroup": "PHX",
         "marker": {
          "color": "#00cc96",
          "opacity": 0.6,
          "size": 40,
          "symbol": "circle"
         },
         "mode": "markers",
         "name": "PHX",
         "orientation": "v",
         "showlegend": true,
         "type": "scatter",
         "x": [
          50.77
         ],
         "xaxis": "x",
         "y": [
          33.51
         ],
         "yaxis": "y"
        },
        {
         "customdata": [
          [
           "NOP"
          ]
         ],
         "hovertemplate": "Team=%{customdata[0]}<br>2P%=%{x}<br>3P%=%{y}<extra></extra>",
         "legendgroup": "NOP",
         "marker": {
          "color": "#ab63fa",
          "opacity": 0.6,
          "size": 40,
          "symbol": "circle"
         },
         "mode": "markers",
         "name": "NOP",
         "orientation": "v",
         "showlegend": true,
         "type": "scatter",
         "x": [
          52.49
         ],
         "xaxis": "x",
         "y": [
          32.05
         ],
         "yaxis": "y"
        },
        {
         "customdata": [
          [
           "MIL"
          ]
         ],
         "hovertemplate": "Team=%{customdata[0]}<br>2P%=%{x}<br>3P%=%{y}<extra></extra>",
         "legendgroup": "MIL",
         "marker": {
          "color": "#FFA15A",
          "opacity": 0.6,
          "size": 40,
          "symbol": "circle"
         },
         "mode": "markers",
         "name": "MIL",
         "orientation": "v",
         "showlegend": true,
         "type": "scatter",
         "x": [
          54.07
         ],
         "xaxis": "x",
         "y": [
          34.45
         ],
         "yaxis": "y"
        },
        {
         "customdata": [
          [
           "BKN"
          ]
         ],
         "hovertemplate": "Team=%{customdata[0]}<br>2P%=%{x}<br>3P%=%{y}<extra></extra>",
         "legendgroup": "BKN",
         "marker": {
          "color": "#19d3f3",
          "opacity": 0.6,
          "size": 40,
          "symbol": "circle"
         },
         "mode": "markers",
         "name": "BKN",
         "orientation": "v",
         "showlegend": true,
         "type": "scatter",
         "x": [
          49.78
         ],
         "xaxis": "x",
         "y": [
          30.26
         ],
         "yaxis": "y"
        },
        {
         "customdata": [
          [
           "DAL"
          ]
         ],
         "hovertemplate": "Team=%{customdata[0]}<br>2P%=%{x}<br>3P%=%{y}<extra></extra>",
         "legendgroup": "DAL",
         "marker": {
          "color": "#FF6692",
          "opacity": 0.6,
          "size": 40,
          "symbol": "circle"
         },
         "mode": "markers",
         "name": "DAL",
         "orientation": "v",
         "showlegend": true,
         "type": "scatter",
         "x": [
          58.02
         ],
         "xaxis": "x",
         "y": [
          32.74
         ],
         "yaxis": "y"
        },
        {
         "customdata": [
          [
           "CHI"
          ]
         ],
         "hovertemplate": "Team=%{customdata[0]}<br>2P%=%{x}<br>3P%=%{y}<extra></extra>",
         "legendgroup": "CHI",
         "marker": {
          "color": "#B6E880",
          "opacity": 0.6,
          "size": 40,
          "symbol": "circle"
         },
         "mode": "markers",
         "name": "CHI",
         "orientation": "v",
         "showlegend": true,
         "type": "scatter",
         "x": [
          55.86
         ],
         "xaxis": "x",
         "y": [
          33.88
         ],
         "yaxis": "y"
        },
        {
         "customdata": [
          [
           "OKC"
          ]
         ],
         "hovertemplate": "Team=%{customdata[0]}<br>2P%=%{x}<br>3P%=%{y}<extra></extra>",
         "legendgroup": "OKC",
         "marker": {
          "color": "#FF97FF",
          "opacity": 0.6,
          "size": 40,
          "symbol": "circle"
         },
         "mode": "markers",
         "name": "OKC",
         "orientation": "v",
         "showlegend": true,
         "type": "scatter",
         "x": [
          54.39
         ],
         "xaxis": "x",
         "y": [
          34.94
         ],
         "yaxis": "y"
        },
        {
         "customdata": [
          [
           "MIN"
          ]
         ],
         "hovertemplate": "Team=%{customdata[0]}<br>2P%=%{x}<br>3P%=%{y}<extra></extra>",
         "legendgroup": "MIN",
         "marker": {
          "color": "#FECB52",
          "opacity": 0.6,
          "size": 40,
          "symbol": "circle"
         },
         "mode": "markers",
         "name": "MIN",
         "orientation": "v",
         "showlegend": true,
         "type": "scatter",
         "x": [
          55.19
         ],
         "xaxis": "x",
         "y": [
          32.47
         ],
         "yaxis": "y"
        },
        {
         "customdata": [
          [
           "POR"
          ]
         ],
         "hovertemplate": "Team=%{customdata[0]}<br>2P%=%{x}<br>3P%=%{y}<extra></extra>",
         "legendgroup": "POR",
         "marker": {
          "color": "#636efa",
          "opacity": 0.6,
          "size": 40,
          "symbol": "circle"
         },
         "mode": "markers",
         "name": "POR",
         "orientation": "v",
         "showlegend": true,
         "type": "scatter",
         "x": [
          51.17
         ],
         "xaxis": "x",
         "y": [
          32.35
         ],
         "yaxis": "y"
        },
        {
         "customdata": [
          [
           "MIA"
          ]
         ],
         "hovertemplate": "Team=%{customdata[0]}<br>2P%=%{x}<br>3P%=%{y}<extra></extra>",
         "legendgroup": "MIA",
         "marker": {
          "color": "#EF553B",
          "opacity": 0.6,
          "size": 40,
          "symbol": "circle"
         },
         "mode": "markers",
         "name": "MIA",
         "orientation": "v",
         "showlegend": true,
         "type": "scatter",
         "x": [
          54.43
         ],
         "xaxis": "x",
         "y": [
          28.64
         ],
         "yaxis": "y"
        },
        {
         "customdata": [
          [
           "CLE"
          ]
         ],
         "hovertemplate": "Team=%{customdata[0]}<br>2P%=%{x}<br>3P%=%{y}<extra></extra>",
         "legendgroup": "CLE",
         "marker": {
          "color": "#00cc96",
          "opacity": 0.6,
          "size": 40,
          "symbol": "circle"
         },
         "mode": "markers",
         "name": "CLE",
         "orientation": "v",
         "showlegend": true,
         "type": "scatter",
         "x": [
          60.5
         ],
         "xaxis": "x",
         "y": [
          34.52
         ],
         "yaxis": "y"
        },
        {
         "customdata": [
          [
           "WAS"
          ]
         ],
         "hovertemplate": "Team=%{customdata[0]}<br>2P%=%{x}<br>3P%=%{y}<extra></extra>",
         "legendgroup": "WAS",
         "marker": {
          "color": "#ab63fa",
          "opacity": 0.6,
          "size": 40,
          "symbol": "circle"
         },
         "mode": "markers",
         "name": "WAS",
         "orientation": "v",
         "showlegend": true,
         "type": "scatter",
         "x": [
          49.99
         ],
         "xaxis": "x",
         "y": [
          30.94
         ],
         "yaxis": "y"
        },
        {
         "customdata": [
          [
           "SAS"
          ]
         ],
         "hovertemplate": "Team=%{customdata[0]}<br>2P%=%{x}<br>3P%=%{y}<extra></extra>",
         "legendgroup": "SAS",
         "marker": {
          "color": "#FFA15A",
          "opacity": 0.6,
          "size": 40,
          "symbol": "circle"
         },
         "mode": "markers",
         "name": "SAS",
         "orientation": "v",
         "showlegend": true,
         "type": "scatter",
         "x": [
          53.11
         ],
         "xaxis": "x",
         "y": [
          30.9
         ],
         "yaxis": "y"
        },
        {
         "customdata": [
          [
           "ORL"
          ]
         ],
         "hovertemplate": "Team=%{customdata[0]}<br>2P%=%{x}<br>3P%=%{y}<extra></extra>",
         "legendgroup": "ORL",
         "marker": {
          "color": "#19d3f3",
          "opacity": 0.6,
          "size": 40,
          "symbol": "circle"
         },
         "mode": "markers",
         "name": "ORL",
         "orientation": "v",
         "showlegend": true,
         "type": "scatter",
         "x": [
          53.44
         ],
         "xaxis": "x",
         "y": [
          37.21
         ],
         "yaxis": "y"
        },
        {
         "customdata": [
          [
           "DET"
          ]
         ],
         "hovertemplate": "Team=%{customdata[0]}<br>2P%=%{x}<br>3P%=%{y}<extra></extra>",
         "legendgroup": "DET",
         "marker": {
          "color": "#FF6692",
          "opacity": 0.6,
          "size": 40,
          "symbol": "circle"
         },
         "mode": "markers",
         "name": "DET",
         "orientation": "v",
         "showlegend": true,
         "type": "scatter",
         "x": [
          51.25
         ],
         "xaxis": "x",
         "y": [
          26.32
         ],
         "yaxis": "y"
        },
        {
         "customdata": [
          [
           "HOU"
          ]
         ],
         "hovertemplate": "Team=%{customdata[0]}<br>2P%=%{x}<br>3P%=%{y}<extra></extra>",
         "legendgroup": "HOU",
         "marker": {
          "color": "#B6E880",
          "opacity": 0.6,
          "size": 40,
          "symbol": "circle"
         },
         "mode": "markers",
         "name": "HOU",
         "orientation": "v",
         "showlegend": true,
         "type": "scatter",
         "x": [
          53.36
         ],
         "xaxis": "x",
         "y": [
          29.31
         ],
         "yaxis": "y"
        },
        {
         "customdata": [
          [
           "UTA"
          ]
         ],
         "hovertemplate": "Team=%{customdata[0]}<br>2P%=%{x}<br>3P%=%{y}<extra></extra>",
         "legendgroup": "UTA",
         "marker": {
          "color": "#FF97FF",
          "opacity": 0.6,
          "size": 40,
          "symbol": "circle"
         },
         "mode": "markers",
         "name": "UTA",
         "orientation": "v",
         "showlegend": true,
         "type": "scatter",
         "x": [
          53.2
         ],
         "xaxis": "x",
         "y": [
          29.15
         ],
         "yaxis": "y"
        },
        {
         "customdata": [
          [
           "CHA"
          ]
         ],
         "hovertemplate": "Team=%{customdata[0]}<br>2P%=%{x}<br>3P%=%{y}<extra></extra>",
         "legendgroup": "CHA",
         "marker": {
          "color": "#FECB52",
          "opacity": 0.6,
          "size": 40,
          "symbol": "circle"
         },
         "mode": "markers",
         "name": "CHA",
         "orientation": "v",
         "showlegend": true,
         "type": "scatter",
         "x": [
          47.95
         ],
         "xaxis": "x",
         "y": [
          33.53
         ],
         "yaxis": "y"
        }
       ],
       "layout": {
        "legend": {
         "title": {
          "text": "Team"
         },
         "tracegroupgap": 0
        },
        "template": {
         "data": {
          "bar": [
           {
            "error_x": {
             "color": "#f2f5fa"
            },
            "error_y": {
             "color": "#f2f5fa"
            },
            "marker": {
             "line": {
              "color": "rgb(17,17,17)",
              "width": 0.5
             },
             "pattern": {
              "fillmode": "overlay",
              "size": 10,
              "solidity": 0.2
             }
            },
            "type": "bar"
           }
          ],
          "barpolar": [
           {
            "marker": {
             "line": {
              "color": "rgb(17,17,17)",
              "width": 0.5
             },
             "pattern": {
              "fillmode": "overlay",
              "size": 10,
              "solidity": 0.2
             }
            },
            "type": "barpolar"
           }
          ],
          "carpet": [
           {
            "aaxis": {
             "endlinecolor": "#A2B1C6",
             "gridcolor": "#506784",
             "linecolor": "#506784",
             "minorgridcolor": "#506784",
             "startlinecolor": "#A2B1C6"
            },
            "baxis": {
             "endlinecolor": "#A2B1C6",
             "gridcolor": "#506784",
             "linecolor": "#506784",
             "minorgridcolor": "#506784",
             "startlinecolor": "#A2B1C6"
            },
            "type": "carpet"
           }
          ],
          "choropleth": [
           {
            "colorbar": {
             "outlinewidth": 0,
             "ticks": ""
            },
            "type": "choropleth"
           }
          ],
          "contour": [
           {
            "colorbar": {
             "outlinewidth": 0,
             "ticks": ""
            },
            "colorscale": [
             [
              0,
              "#0d0887"
             ],
             [
              0.1111111111111111,
              "#46039f"
             ],
             [
              0.2222222222222222,
              "#7201a8"
             ],
             [
              0.3333333333333333,
              "#9c179e"
             ],
             [
              0.4444444444444444,
              "#bd3786"
             ],
             [
              0.5555555555555556,
              "#d8576b"
             ],
             [
              0.6666666666666666,
              "#ed7953"
             ],
             [
              0.7777777777777778,
              "#fb9f3a"
             ],
             [
              0.8888888888888888,
              "#fdca26"
             ],
             [
              1,
              "#f0f921"
             ]
            ],
            "type": "contour"
           }
          ],
          "contourcarpet": [
           {
            "colorbar": {
             "outlinewidth": 0,
             "ticks": ""
            },
            "type": "contourcarpet"
           }
          ],
          "heatmap": [
           {
            "colorbar": {
             "outlinewidth": 0,
             "ticks": ""
            },
            "colorscale": [
             [
              0,
              "#0d0887"
             ],
             [
              0.1111111111111111,
              "#46039f"
             ],
             [
              0.2222222222222222,
              "#7201a8"
             ],
             [
              0.3333333333333333,
              "#9c179e"
             ],
             [
              0.4444444444444444,
              "#bd3786"
             ],
             [
              0.5555555555555556,
              "#d8576b"
             ],
             [
              0.6666666666666666,
              "#ed7953"
             ],
             [
              0.7777777777777778,
              "#fb9f3a"
             ],
             [
              0.8888888888888888,
              "#fdca26"
             ],
             [
              1,
              "#f0f921"
             ]
            ],
            "type": "heatmap"
           }
          ],
          "heatmapgl": [
           {
            "colorbar": {
             "outlinewidth": 0,
             "ticks": ""
            },
            "colorscale": [
             [
              0,
              "#0d0887"
             ],
             [
              0.1111111111111111,
              "#46039f"
             ],
             [
              0.2222222222222222,
              "#7201a8"
             ],
             [
              0.3333333333333333,
              "#9c179e"
             ],
             [
              0.4444444444444444,
              "#bd3786"
             ],
             [
              0.5555555555555556,
              "#d8576b"
             ],
             [
              0.6666666666666666,
              "#ed7953"
             ],
             [
              0.7777777777777778,
              "#fb9f3a"
             ],
             [
              0.8888888888888888,
              "#fdca26"
             ],
             [
              1,
              "#f0f921"
             ]
            ],
            "type": "heatmapgl"
           }
          ],
          "histogram": [
           {
            "marker": {
             "pattern": {
              "fillmode": "overlay",
              "size": 10,
              "solidity": 0.2
             }
            },
            "type": "histogram"
           }
          ],
          "histogram2d": [
           {
            "colorbar": {
             "outlinewidth": 0,
             "ticks": ""
            },
            "colorscale": [
             [
              0,
              "#0d0887"
             ],
             [
              0.1111111111111111,
              "#46039f"
             ],
             [
              0.2222222222222222,
              "#7201a8"
             ],
             [
              0.3333333333333333,
              "#9c179e"
             ],
             [
              0.4444444444444444,
              "#bd3786"
             ],
             [
              0.5555555555555556,
              "#d8576b"
             ],
             [
              0.6666666666666666,
              "#ed7953"
             ],
             [
              0.7777777777777778,
              "#fb9f3a"
             ],
             [
              0.8888888888888888,
              "#fdca26"
             ],
             [
              1,
              "#f0f921"
             ]
            ],
            "type": "histogram2d"
           }
          ],
          "histogram2dcontour": [
           {
            "colorbar": {
             "outlinewidth": 0,
             "ticks": ""
            },
            "colorscale": [
             [
              0,
              "#0d0887"
             ],
             [
              0.1111111111111111,
              "#46039f"
             ],
             [
              0.2222222222222222,
              "#7201a8"
             ],
             [
              0.3333333333333333,
              "#9c179e"
             ],
             [
              0.4444444444444444,
              "#bd3786"
             ],
             [
              0.5555555555555556,
              "#d8576b"
             ],
             [
              0.6666666666666666,
              "#ed7953"
             ],
             [
              0.7777777777777778,
              "#fb9f3a"
             ],
             [
              0.8888888888888888,
              "#fdca26"
             ],
             [
              1,
              "#f0f921"
             ]
            ],
            "type": "histogram2dcontour"
           }
          ],
          "mesh3d": [
           {
            "colorbar": {
             "outlinewidth": 0,
             "ticks": ""
            },
            "type": "mesh3d"
           }
          ],
          "parcoords": [
           {
            "line": {
             "colorbar": {
              "outlinewidth": 0,
              "ticks": ""
             }
            },
            "type": "parcoords"
           }
          ],
          "pie": [
           {
            "automargin": true,
            "type": "pie"
           }
          ],
          "scatter": [
           {
            "marker": {
             "line": {
              "color": "#283442"
             }
            },
            "type": "scatter"
           }
          ],
          "scatter3d": [
           {
            "line": {
             "colorbar": {
              "outlinewidth": 0,
              "ticks": ""
             }
            },
            "marker": {
             "colorbar": {
              "outlinewidth": 0,
              "ticks": ""
             }
            },
            "type": "scatter3d"
           }
          ],
          "scattercarpet": [
           {
            "marker": {
             "colorbar": {
              "outlinewidth": 0,
              "ticks": ""
             }
            },
            "type": "scattercarpet"
           }
          ],
          "scattergeo": [
           {
            "marker": {
             "colorbar": {
              "outlinewidth": 0,
              "ticks": ""
             }
            },
            "type": "scattergeo"
           }
          ],
          "scattergl": [
           {
            "marker": {
             "line": {
              "color": "#283442"
             }
            },
            "type": "scattergl"
           }
          ],
          "scattermapbox": [
           {
            "marker": {
             "colorbar": {
              "outlinewidth": 0,
              "ticks": ""
             }
            },
            "type": "scattermapbox"
           }
          ],
          "scatterpolar": [
           {
            "marker": {
             "colorbar": {
              "outlinewidth": 0,
              "ticks": ""
             }
            },
            "type": "scatterpolar"
           }
          ],
          "scatterpolargl": [
           {
            "marker": {
             "colorbar": {
              "outlinewidth": 0,
              "ticks": ""
             }
            },
            "type": "scatterpolargl"
           }
          ],
          "scatterternary": [
           {
            "marker": {
             "colorbar": {
              "outlinewidth": 0,
              "ticks": ""
             }
            },
            "type": "scatterternary"
           }
          ],
          "surface": [
           {
            "colorbar": {
             "outlinewidth": 0,
             "ticks": ""
            },
            "colorscale": [
             [
              0,
              "#0d0887"
             ],
             [
              0.1111111111111111,
              "#46039f"
             ],
             [
              0.2222222222222222,
              "#7201a8"
             ],
             [
              0.3333333333333333,
              "#9c179e"
             ],
             [
              0.4444444444444444,
              "#bd3786"
             ],
             [
              0.5555555555555556,
              "#d8576b"
             ],
             [
              0.6666666666666666,
              "#ed7953"
             ],
             [
              0.7777777777777778,
              "#fb9f3a"
             ],
             [
              0.8888888888888888,
              "#fdca26"
             ],
             [
              1,
              "#f0f921"
             ]
            ],
            "type": "surface"
           }
          ],
          "table": [
           {
            "cells": {
             "fill": {
              "color": "#506784"
             },
             "line": {
              "color": "rgb(17,17,17)"
             }
            },
            "header": {
             "fill": {
              "color": "#2a3f5f"
             },
             "line": {
              "color": "rgb(17,17,17)"
             }
            },
            "type": "table"
           }
          ]
         },
         "layout": {
          "annotationdefaults": {
           "arrowcolor": "#f2f5fa",
           "arrowhead": 0,
           "arrowwidth": 1
          },
          "autotypenumbers": "strict",
          "coloraxis": {
           "colorbar": {
            "outlinewidth": 0,
            "ticks": ""
           }
          },
          "colorscale": {
           "diverging": [
            [
             0,
             "#8e0152"
            ],
            [
             0.1,
             "#c51b7d"
            ],
            [
             0.2,
             "#de77ae"
            ],
            [
             0.3,
             "#f1b6da"
            ],
            [
             0.4,
             "#fde0ef"
            ],
            [
             0.5,
             "#f7f7f7"
            ],
            [
             0.6,
             "#e6f5d0"
            ],
            [
             0.7,
             "#b8e186"
            ],
            [
             0.8,
             "#7fbc41"
            ],
            [
             0.9,
             "#4d9221"
            ],
            [
             1,
             "#276419"
            ]
           ],
           "sequential": [
            [
             0,
             "#0d0887"
            ],
            [
             0.1111111111111111,
             "#46039f"
            ],
            [
             0.2222222222222222,
             "#7201a8"
            ],
            [
             0.3333333333333333,
             "#9c179e"
            ],
            [
             0.4444444444444444,
             "#bd3786"
            ],
            [
             0.5555555555555556,
             "#d8576b"
            ],
            [
             0.6666666666666666,
             "#ed7953"
            ],
            [
             0.7777777777777778,
             "#fb9f3a"
            ],
            [
             0.8888888888888888,
             "#fdca26"
            ],
            [
             1,
             "#f0f921"
            ]
           ],
           "sequentialminus": [
            [
             0,
             "#0d0887"
            ],
            [
             0.1111111111111111,
             "#46039f"
            ],
            [
             0.2222222222222222,
             "#7201a8"
            ],
            [
             0.3333333333333333,
             "#9c179e"
            ],
            [
             0.4444444444444444,
             "#bd3786"
            ],
            [
             0.5555555555555556,
             "#d8576b"
            ],
            [
             0.6666666666666666,
             "#ed7953"
            ],
            [
             0.7777777777777778,
             "#fb9f3a"
            ],
            [
             0.8888888888888888,
             "#fdca26"
            ],
            [
             1,
             "#f0f921"
            ]
           ]
          },
          "colorway": [
           "#636efa",
           "#EF553B",
           "#00cc96",
           "#ab63fa",
           "#FFA15A",
           "#19d3f3",
           "#FF6692",
           "#B6E880",
           "#FF97FF",
           "#FECB52"
          ],
          "font": {
           "color": "#f2f5fa"
          },
          "geo": {
           "bgcolor": "rgb(17,17,17)",
           "lakecolor": "rgb(17,17,17)",
           "landcolor": "rgb(17,17,17)",
           "showlakes": true,
           "showland": true,
           "subunitcolor": "#506784"
          },
          "hoverlabel": {
           "align": "left"
          },
          "hovermode": "closest",
          "mapbox": {
           "style": "dark"
          },
          "paper_bgcolor": "rgb(17,17,17)",
          "plot_bgcolor": "rgb(17,17,17)",
          "polar": {
           "angularaxis": {
            "gridcolor": "#506784",
            "linecolor": "#506784",
            "ticks": ""
           },
           "bgcolor": "rgb(17,17,17)",
           "radialaxis": {
            "gridcolor": "#506784",
            "linecolor": "#506784",
            "ticks": ""
           }
          },
          "scene": {
           "xaxis": {
            "backgroundcolor": "rgb(17,17,17)",
            "gridcolor": "#506784",
            "gridwidth": 2,
            "linecolor": "#506784",
            "showbackground": true,
            "ticks": "",
            "zerolinecolor": "#C8D4E3"
           },
           "yaxis": {
            "backgroundcolor": "rgb(17,17,17)",
            "gridcolor": "#506784",
            "gridwidth": 2,
            "linecolor": "#506784",
            "showbackground": true,
            "ticks": "",
            "zerolinecolor": "#C8D4E3"
           },
           "zaxis": {
            "backgroundcolor": "rgb(17,17,17)",
            "gridcolor": "#506784",
            "gridwidth": 2,
            "linecolor": "#506784",
            "showbackground": true,
            "ticks": "",
            "zerolinecolor": "#C8D4E3"
           }
          },
          "shapedefaults": {
           "line": {
            "color": "#f2f5fa"
           }
          },
          "sliderdefaults": {
           "bgcolor": "#C8D4E3",
           "bordercolor": "rgb(17,17,17)",
           "borderwidth": 1,
           "tickwidth": 0
          },
          "ternary": {
           "aaxis": {
            "gridcolor": "#506784",
            "linecolor": "#506784",
            "ticks": ""
           },
           "baxis": {
            "gridcolor": "#506784",
            "linecolor": "#506784",
            "ticks": ""
           },
           "bgcolor": "rgb(17,17,17)",
           "caxis": {
            "gridcolor": "#506784",
            "linecolor": "#506784",
            "ticks": ""
           }
          },
          "title": {
           "x": 0.05
          },
          "updatemenudefaults": {
           "bgcolor": "#506784",
           "borderwidth": 0
          },
          "xaxis": {
           "automargin": true,
           "gridcolor": "#283442",
           "linecolor": "#506784",
           "ticks": "",
           "title": {
            "standoff": 15
           },
           "zerolinecolor": "#283442",
           "zerolinewidth": 2
          },
          "yaxis": {
           "automargin": true,
           "gridcolor": "#283442",
           "linecolor": "#506784",
           "ticks": "",
           "title": {
            "standoff": 15
           },
           "zerolinecolor": "#283442",
           "zerolinewidth": 2
          }
         }
        },
        "title": {
         "text": "Mean 3P percentage vs 2P percentage for all players per team"
        },
        "xaxis": {
         "anchor": "y",
         "domain": [
          0,
          1
         ],
         "title": {
          "text": "2P%"
         }
        },
        "yaxis": {
         "anchor": "x",
         "domain": [
          0,
          1
         ],
         "title": {
          "text": "3P%"
         }
        }
       }
      }
     },
     "metadata": {},
     "output_type": "display_data"
    }
   ],
   "source": [
    "px.scatter(df_times,\n",
    "           y='3P%', \n",
    "           x='2P%',\n",
    "           hover_data='Team',\n",
    "           template='plotly_dark',\n",
    "           color='Team',\n",
    "           title='Mean 3P percentage vs 2P percentage for all players per team',\n",
    "           opacity=0.6).update_traces(marker_size=40)"
   ]
  },
  {
   "cell_type": "markdown",
   "metadata": {},
   "source": [
    "### Defensive"
   ]
  },
  {
   "cell_type": "code",
   "execution_count": 38,
   "metadata": {},
   "outputs": [
    {
     "data": {
      "text/html": [
       "<div>\n",
       "<style scoped>\n",
       "    .dataframe tbody tr th:only-of-type {\n",
       "        vertical-align: middle;\n",
       "    }\n",
       "\n",
       "    .dataframe tbody tr th {\n",
       "        vertical-align: top;\n",
       "    }\n",
       "\n",
       "    .dataframe thead th {\n",
       "        text-align: right;\n",
       "    }\n",
       "</style>\n",
       "<table border=\"1\" class=\"dataframe\">\n",
       "  <thead>\n",
       "    <tr style=\"text-align: right;\">\n",
       "      <th></th>\n",
       "      <th>Team</th>\n",
       "      <th>PTS</th>\n",
       "      <th>3PM</th>\n",
       "      <th>3PA</th>\n",
       "      <th>FGM</th>\n",
       "      <th>FGA</th>\n",
       "      <th>FTM</th>\n",
       "      <th>FTA</th>\n",
       "      <th>3P%</th>\n",
       "      <th>FG%</th>\n",
       "      <th>FT%</th>\n",
       "      <th>OREB</th>\n",
       "      <th>DREB</th>\n",
       "      <th>REB</th>\n",
       "      <th>AST</th>\n",
       "      <th>TOV</th>\n",
       "      <th>STL</th>\n",
       "      <th>BLK</th>\n",
       "      <th>PF</th>\n",
       "      <th>2PM</th>\n",
       "      <th>2PA</th>\n",
       "      <th>2P%</th>\n",
       "      <th>Logo</th>\n",
       "      <th>Names</th>\n",
       "      <th>defensive</th>\n",
       "    </tr>\n",
       "  </thead>\n",
       "  <tbody>\n",
       "    <tr>\n",
       "      <th>0</th>\n",
       "      <td>LAC</td>\n",
       "      <td>10954</td>\n",
       "      <td>1144</td>\n",
       "      <td>3081</td>\n",
       "      <td>3949</td>\n",
       "      <td>8278</td>\n",
       "      <td>1912</td>\n",
       "      <td>2515</td>\n",
       "      <td>32.68</td>\n",
       "      <td>46.37</td>\n",
       "      <td>67.08</td>\n",
       "      <td>986</td>\n",
       "      <td>3266</td>\n",
       "      <td>4252</td>\n",
       "      <td>2592</td>\n",
       "      <td>1391</td>\n",
       "      <td>666</td>\n",
       "      <td>429</td>\n",
       "      <td>1814</td>\n",
       "      <td>2805</td>\n",
       "      <td>5197</td>\n",
       "      <td>51.39</td>\n",
       "      <td>https://cdn.nba.com/logos/nba/1610612746/global/L/logo.svg</td>\n",
       "      <td>Los Angeles Clippers</td>\n",
       "      <td>4361</td>\n",
       "    </tr>\n",
       "    <tr>\n",
       "      <th>1</th>\n",
       "      <td>ATL</td>\n",
       "      <td>10625</td>\n",
       "      <td>995</td>\n",
       "      <td>2844</td>\n",
       "      <td>3938</td>\n",
       "      <td>8274</td>\n",
       "      <td>1754</td>\n",
       "      <td>2136</td>\n",
       "      <td>23.87</td>\n",
       "      <td>46.08</td>\n",
       "      <td>73.63</td>\n",
       "      <td>1032</td>\n",
       "      <td>2974</td>\n",
       "      <td>4006</td>\n",
       "      <td>2140</td>\n",
       "      <td>1084</td>\n",
       "      <td>649</td>\n",
       "      <td>437</td>\n",
       "      <td>1693</td>\n",
       "      <td>2943</td>\n",
       "      <td>5430</td>\n",
       "      <td>54.05</td>\n",
       "      <td>https://cdn.nba.com/logos/nba/1610612737/global/L/logo.svg</td>\n",
       "      <td>Atlanta Hawks</td>\n",
       "      <td>4060</td>\n",
       "    </tr>\n",
       "    <tr>\n",
       "      <th>2</th>\n",
       "      <td>LAL</td>\n",
       "      <td>10492</td>\n",
       "      <td>1115</td>\n",
       "      <td>3111</td>\n",
       "      <td>3828</td>\n",
       "      <td>7985</td>\n",
       "      <td>1721</td>\n",
       "      <td>2182</td>\n",
       "      <td>32.82</td>\n",
       "      <td>42.75</td>\n",
       "      <td>67.46</td>\n",
       "      <td>881</td>\n",
       "      <td>3102</td>\n",
       "      <td>3983</td>\n",
       "      <td>2162</td>\n",
       "      <td>1149</td>\n",
       "      <td>597</td>\n",
       "      <td>385</td>\n",
       "      <td>1530</td>\n",
       "      <td>2713</td>\n",
       "      <td>4874</td>\n",
       "      <td>45.58</td>\n",
       "      <td>https://cdn.nba.com/logos/nba/1610612747/global/L/logo.svg</td>\n",
       "      <td>Los Angeles Lakers</td>\n",
       "      <td>4084</td>\n",
       "    </tr>\n",
       "    <tr>\n",
       "      <th>3</th>\n",
       "      <td>NYK</td>\n",
       "      <td>10225</td>\n",
       "      <td>1105</td>\n",
       "      <td>3144</td>\n",
       "      <td>3720</td>\n",
       "      <td>7949</td>\n",
       "      <td>1680</td>\n",
       "      <td>2233</td>\n",
       "      <td>28.59</td>\n",
       "      <td>46.16</td>\n",
       "      <td>68.79</td>\n",
       "      <td>1142</td>\n",
       "      <td>3198</td>\n",
       "      <td>4340</td>\n",
       "      <td>2158</td>\n",
       "      <td>1114</td>\n",
       "      <td>587</td>\n",
       "      <td>352</td>\n",
       "      <td>1839</td>\n",
       "      <td>2615</td>\n",
       "      <td>4805</td>\n",
       "      <td>50.87</td>\n",
       "      <td>https://cdn.nba.com/logos/nba/1610612752/global/L/logo.svg</td>\n",
       "      <td>New York Knicks</td>\n",
       "      <td>4137</td>\n",
       "    </tr>\n",
       "    <tr>\n",
       "      <th>4</th>\n",
       "      <td>PHI</td>\n",
       "      <td>10078</td>\n",
       "      <td>1090</td>\n",
       "      <td>2849</td>\n",
       "      <td>3579</td>\n",
       "      <td>7371</td>\n",
       "      <td>1830</td>\n",
       "      <td>2194</td>\n",
       "      <td>32.77</td>\n",
       "      <td>46.42</td>\n",
       "      <td>69.77</td>\n",
       "      <td>767</td>\n",
       "      <td>2905</td>\n",
       "      <td>3672</td>\n",
       "      <td>2165</td>\n",
       "      <td>1140</td>\n",
       "      <td>661</td>\n",
       "      <td>418</td>\n",
       "      <td>1828</td>\n",
       "      <td>2489</td>\n",
       "      <td>4522</td>\n",
       "      <td>52.90</td>\n",
       "      <td>https://cdn.nba.com/logos/nba/1610612755/global/L/logo.svg</td>\n",
       "      <td>Philadelphia 76ers</td>\n",
       "      <td>3984</td>\n",
       "    </tr>\n",
       "  </tbody>\n",
       "</table>\n",
       "</div>"
      ],
      "text/plain": [
       "  Team    PTS   3PM   3PA   FGM   FGA   FTM   FTA    3P%    FG%    FT%  OREB  DREB   REB   AST   TOV  STL  BLK    PF   2PM   2PA    2P%                                                        Logo                 Names  defensive\n",
       "0  LAC  10954  1144  3081  3949  8278  1912  2515  32.68  46.37  67.08   986  3266  4252  2592  1391  666  429  1814  2805  5197  51.39  https://cdn.nba.com/logos/nba/1610612746/global/L/logo.svg  Los Angeles Clippers       4361\n",
       "1  ATL  10625   995  2844  3938  8274  1754  2136  23.87  46.08  73.63  1032  2974  4006  2140  1084  649  437  1693  2943  5430  54.05  https://cdn.nba.com/logos/nba/1610612737/global/L/logo.svg         Atlanta Hawks       4060\n",
       "2  LAL  10492  1115  3111  3828  7985  1721  2182  32.82  42.75  67.46   881  3102  3983  2162  1149  597  385  1530  2713  4874  45.58  https://cdn.nba.com/logos/nba/1610612747/global/L/logo.svg    Los Angeles Lakers       4084\n",
       "3  NYK  10225  1105  3144  3720  7949  1680  2233  28.59  46.16  68.79  1142  3198  4340  2158  1114  587  352  1839  2615  4805  50.87  https://cdn.nba.com/logos/nba/1610612752/global/L/logo.svg       New York Knicks       4137\n",
       "4  PHI  10078  1090  2849  3579  7371  1830  2194  32.77  46.42  69.77   767  2905  3672  2165  1140  661  418  1828  2489  4522  52.90  https://cdn.nba.com/logos/nba/1610612755/global/L/logo.svg    Philadelphia 76ers       3984"
      ]
     },
     "execution_count": 38,
     "metadata": {},
     "output_type": "execute_result"
    }
   ],
   "source": [
    "df_times.head()"
   ]
  },
  {
   "cell_type": "code",
   "execution_count": 39,
   "metadata": {},
   "outputs": [
    {
     "data": {
      "application/vnd.plotly.v1+json": {
       "config": {
        "plotlyServerURL": "https://plot.ly"
       },
       "data": [
        {
         "alignmentgroup": "True",
         "hovertemplate": "Team=%{y}<br>defensive=%{x}<extra></extra>",
         "legendgroup": "LAC",
         "marker": {
          "color": "#636efa",
          "pattern": {
           "shape": ""
          }
         },
         "name": "LAC",
         "offsetgroup": "LAC",
         "orientation": "h",
         "showlegend": true,
         "textposition": "auto",
         "type": "bar",
         "x": [
          4361
         ],
         "xaxis": "x",
         "y": [
          "LAC"
         ],
         "yaxis": "y"
        },
        {
         "alignmentgroup": "True",
         "hovertemplate": "Team=%{y}<br>defensive=%{x}<extra></extra>",
         "legendgroup": "NYK",
         "marker": {
          "color": "#EF553B",
          "pattern": {
           "shape": ""
          }
         },
         "name": "NYK",
         "offsetgroup": "NYK",
         "orientation": "h",
         "showlegend": true,
         "textposition": "auto",
         "type": "bar",
         "x": [
          4137
         ],
         "xaxis": "x",
         "y": [
          "NYK"
         ],
         "yaxis": "y"
        },
        {
         "alignmentgroup": "True",
         "hovertemplate": "Team=%{y}<br>defensive=%{x}<extra></extra>",
         "legendgroup": "TOR",
         "marker": {
          "color": "#00cc96",
          "pattern": {
           "shape": ""
          }
         },
         "name": "TOR",
         "offsetgroup": "TOR",
         "orientation": "h",
         "showlegend": true,
         "textposition": "auto",
         "type": "bar",
         "x": [
          4131
         ],
         "xaxis": "x",
         "y": [
          "TOR"
         ],
         "yaxis": "y"
        },
        {
         "alignmentgroup": "True",
         "hovertemplate": "Team=%{y}<br>defensive=%{x}<extra></extra>",
         "legendgroup": "MEM",
         "marker": {
          "color": "#ab63fa",
          "pattern": {
           "shape": ""
          }
         },
         "name": "MEM",
         "offsetgroup": "MEM",
         "orientation": "h",
         "showlegend": true,
         "textposition": "auto",
         "type": "bar",
         "x": [
          4084
         ],
         "xaxis": "x",
         "y": [
          "MEM"
         ],
         "yaxis": "y"
        },
        {
         "alignmentgroup": "True",
         "hovertemplate": "Team=%{y}<br>defensive=%{x}<extra></extra>",
         "legendgroup": "LAL",
         "marker": {
          "color": "#FFA15A",
          "pattern": {
           "shape": ""
          }
         },
         "name": "LAL",
         "offsetgroup": "LAL",
         "orientation": "h",
         "showlegend": true,
         "textposition": "auto",
         "type": "bar",
         "x": [
          4084
         ],
         "xaxis": "x",
         "y": [
          "LAL"
         ],
         "yaxis": "y"
        },
        {
         "alignmentgroup": "True",
         "hovertemplate": "Team=%{y}<br>defensive=%{x}<extra></extra>",
         "legendgroup": "ATL",
         "marker": {
          "color": "#19d3f3",
          "pattern": {
           "shape": ""
          }
         },
         "name": "ATL",
         "offsetgroup": "ATL",
         "orientation": "h",
         "showlegend": true,
         "textposition": "auto",
         "type": "bar",
         "x": [
          4060
         ],
         "xaxis": "x",
         "y": [
          "ATL"
         ],
         "yaxis": "y"
        },
        {
         "alignmentgroup": "True",
         "hovertemplate": "Team=%{y}<br>defensive=%{x}<extra></extra>",
         "legendgroup": "BOS",
         "marker": {
          "color": "#FF6692",
          "pattern": {
           "shape": ""
          }
         },
         "name": "BOS",
         "offsetgroup": "BOS",
         "orientation": "h",
         "showlegend": true,
         "textposition": "auto",
         "type": "bar",
         "x": [
          4017
         ],
         "xaxis": "x",
         "y": [
          "BOS"
         ],
         "yaxis": "y"
        },
        {
         "alignmentgroup": "True",
         "hovertemplate": "Team=%{y}<br>defensive=%{x}<extra></extra>",
         "legendgroup": "PHI",
         "marker": {
          "color": "#B6E880",
          "pattern": {
           "shape": ""
          }
         },
         "name": "PHI",
         "offsetgroup": "PHI",
         "orientation": "h",
         "showlegend": true,
         "textposition": "auto",
         "type": "bar",
         "x": [
          3984
         ],
         "xaxis": "x",
         "y": [
          "PHI"
         ],
         "yaxis": "y"
        },
        {
         "alignmentgroup": "True",
         "hovertemplate": "Team=%{y}<br>defensive=%{x}<extra></extra>",
         "legendgroup": "CHI",
         "marker": {
          "color": "#FF97FF",
          "pattern": {
           "shape": ""
          }
         },
         "name": "CHI",
         "offsetgroup": "CHI",
         "orientation": "h",
         "showlegend": true,
         "textposition": "auto",
         "type": "bar",
         "x": [
          3929
         ],
         "xaxis": "x",
         "y": [
          "CHI"
         ],
         "yaxis": "y"
        },
        {
         "alignmentgroup": "True",
         "hovertemplate": "Team=%{y}<br>defensive=%{x}<extra></extra>",
         "legendgroup": "BKN",
         "marker": {
          "color": "#FECB52",
          "pattern": {
           "shape": ""
          }
         },
         "name": "BKN",
         "offsetgroup": "BKN",
         "orientation": "h",
         "showlegend": true,
         "textposition": "auto",
         "type": "bar",
         "x": [
          3923
         ],
         "xaxis": "x",
         "y": [
          "BKN"
         ],
         "yaxis": "y"
        },
        {
         "alignmentgroup": "True",
         "hovertemplate": "Team=%{y}<br>defensive=%{x}<extra></extra>",
         "legendgroup": "DEN",
         "marker": {
          "color": "#636efa",
          "pattern": {
           "shape": ""
          }
         },
         "name": "DEN",
         "offsetgroup": "DEN",
         "orientation": "h",
         "showlegend": true,
         "textposition": "auto",
         "type": "bar",
         "x": [
          3891
         ],
         "xaxis": "x",
         "y": [
          "DEN"
         ],
         "yaxis": "y"
        },
        {
         "alignmentgroup": "True",
         "hovertemplate": "Team=%{y}<br>defensive=%{x}<extra></extra>",
         "legendgroup": "MIL",
         "marker": {
          "color": "#EF553B",
          "pattern": {
           "shape": ""
          }
         },
         "name": "MIL",
         "offsetgroup": "MIL",
         "orientation": "h",
         "showlegend": true,
         "textposition": "auto",
         "type": "bar",
         "x": [
          3839
         ],
         "xaxis": "x",
         "y": [
          "MIL"
         ],
         "yaxis": "y"
        },
        {
         "alignmentgroup": "True",
         "hovertemplate": "Team=%{y}<br>defensive=%{x}<extra></extra>",
         "legendgroup": "MIN",
         "marker": {
          "color": "#00cc96",
          "pattern": {
           "shape": ""
          }
         },
         "name": "MIN",
         "offsetgroup": "MIN",
         "orientation": "h",
         "showlegend": true,
         "textposition": "auto",
         "type": "bar",
         "x": [
          3815
         ],
         "xaxis": "x",
         "y": [
          "MIN"
         ],
         "yaxis": "y"
        },
        {
         "alignmentgroup": "True",
         "hovertemplate": "Team=%{y}<br>defensive=%{x}<extra></extra>",
         "legendgroup": "PHX",
         "marker": {
          "color": "#ab63fa",
          "pattern": {
           "shape": ""
          }
         },
         "name": "PHX",
         "offsetgroup": "PHX",
         "orientation": "h",
         "showlegend": true,
         "textposition": "auto",
         "type": "bar",
         "x": [
          3808
         ],
         "xaxis": "x",
         "y": [
          "PHX"
         ],
         "yaxis": "y"
        },
        {
         "alignmentgroup": "True",
         "hovertemplate": "Team=%{y}<br>defensive=%{x}<extra></extra>",
         "legendgroup": "IND",
         "marker": {
          "color": "#FFA15A",
          "pattern": {
           "shape": ""
          }
         },
         "name": "IND",
         "offsetgroup": "IND",
         "orientation": "h",
         "showlegend": true,
         "textposition": "auto",
         "type": "bar",
         "x": [
          3799
         ],
         "xaxis": "x",
         "y": [
          "IND"
         ],
         "yaxis": "y"
        },
        {
         "alignmentgroup": "True",
         "hovertemplate": "Team=%{y}<br>defensive=%{x}<extra></extra>",
         "legendgroup": "NOP",
         "marker": {
          "color": "#19d3f3",
          "pattern": {
           "shape": ""
          }
         },
         "name": "NOP",
         "offsetgroup": "NOP",
         "orientation": "h",
         "showlegend": true,
         "textposition": "auto",
         "type": "bar",
         "x": [
          3775
         ],
         "xaxis": "x",
         "y": [
          "NOP"
         ],
         "yaxis": "y"
        },
        {
         "alignmentgroup": "True",
         "hovertemplate": "Team=%{y}<br>defensive=%{x}<extra></extra>",
         "legendgroup": "GSW",
         "marker": {
          "color": "#FF6692",
          "pattern": {
           "shape": ""
          }
         },
         "name": "GSW",
         "offsetgroup": "GSW",
         "orientation": "h",
         "showlegend": true,
         "textposition": "auto",
         "type": "bar",
         "x": [
          3686
         ],
         "xaxis": "x",
         "y": [
          "GSW"
         ],
         "yaxis": "y"
        },
        {
         "alignmentgroup": "True",
         "hovertemplate": "Team=%{y}<br>defensive=%{x}<extra></extra>",
         "legendgroup": "WAS",
         "marker": {
          "color": "#B6E880",
          "pattern": {
           "shape": ""
          }
         },
         "name": "WAS",
         "offsetgroup": "WAS",
         "orientation": "h",
         "showlegend": true,
         "textposition": "auto",
         "type": "bar",
         "x": [
          3591
         ],
         "xaxis": "x",
         "y": [
          "WAS"
         ],
         "yaxis": "y"
        },
        {
         "alignmentgroup": "True",
         "hovertemplate": "Team=%{y}<br>defensive=%{x}<extra></extra>",
         "legendgroup": "SAC",
         "marker": {
          "color": "#FF97FF",
          "pattern": {
           "shape": ""
          }
         },
         "name": "SAC",
         "offsetgroup": "SAC",
         "orientation": "h",
         "showlegend": true,
         "textposition": "auto",
         "type": "bar",
         "x": [
          3560
         ],
         "xaxis": "x",
         "y": [
          "SAC"
         ],
         "yaxis": "y"
        },
        {
         "alignmentgroup": "True",
         "hovertemplate": "Team=%{y}<br>defensive=%{x}<extra></extra>",
         "legendgroup": "MIA",
         "marker": {
          "color": "#FECB52",
          "pattern": {
           "shape": ""
          }
         },
         "name": "MIA",
         "offsetgroup": "MIA",
         "orientation": "h",
         "showlegend": true,
         "textposition": "auto",
         "type": "bar",
         "x": [
          3556
         ],
         "xaxis": "x",
         "y": [
          "MIA"
         ],
         "yaxis": "y"
        },
        {
         "alignmentgroup": "True",
         "hovertemplate": "Team=%{y}<br>defensive=%{x}<extra></extra>",
         "legendgroup": "OKC",
         "marker": {
          "color": "#636efa",
          "pattern": {
           "shape": ""
          }
         },
         "name": "OKC",
         "offsetgroup": "OKC",
         "orientation": "h",
         "showlegend": true,
         "textposition": "auto",
         "type": "bar",
         "x": [
          3457
         ],
         "xaxis": "x",
         "y": [
          "OKC"
         ],
         "yaxis": "y"
        },
        {
         "alignmentgroup": "True",
         "hovertemplate": "Team=%{y}<br>defensive=%{x}<extra></extra>",
         "legendgroup": "ORL",
         "marker": {
          "color": "#EF553B",
          "pattern": {
           "shape": ""
          }
         },
         "name": "ORL",
         "offsetgroup": "ORL",
         "orientation": "h",
         "showlegend": true,
         "textposition": "auto",
         "type": "bar",
         "x": [
          3396
         ],
         "xaxis": "x",
         "y": [
          "ORL"
         ],
         "yaxis": "y"
        },
        {
         "alignmentgroup": "True",
         "hovertemplate": "Team=%{y}<br>defensive=%{x}<extra></extra>",
         "legendgroup": "HOU",
         "marker": {
          "color": "#00cc96",
          "pattern": {
           "shape": ""
          }
         },
         "name": "HOU",
         "offsetgroup": "HOU",
         "orientation": "h",
         "showlegend": true,
         "textposition": "auto",
         "type": "bar",
         "x": [
          3386
         ],
         "xaxis": "x",
         "y": [
          "HOU"
         ],
         "yaxis": "y"
        },
        {
         "alignmentgroup": "True",
         "hovertemplate": "Team=%{y}<br>defensive=%{x}<extra></extra>",
         "legendgroup": "DAL",
         "marker": {
          "color": "#ab63fa",
          "pattern": {
           "shape": ""
          }
         },
         "name": "DAL",
         "offsetgroup": "DAL",
         "orientation": "h",
         "showlegend": true,
         "textposition": "auto",
         "type": "bar",
         "x": [
          3332
         ],
         "xaxis": "x",
         "y": [
          "DAL"
         ],
         "yaxis": "y"
        },
        {
         "alignmentgroup": "True",
         "hovertemplate": "Team=%{y}<br>defensive=%{x}<extra></extra>",
         "legendgroup": "CLE",
         "marker": {
          "color": "#FFA15A",
          "pattern": {
           "shape": ""
          }
         },
         "name": "CLE",
         "offsetgroup": "CLE",
         "orientation": "h",
         "showlegend": true,
         "textposition": "auto",
         "type": "bar",
         "x": [
          3296
         ],
         "xaxis": "x",
         "y": [
          "CLE"
         ],
         "yaxis": "y"
        },
        {
         "alignmentgroup": "True",
         "hovertemplate": "Team=%{y}<br>defensive=%{x}<extra></extra>",
         "legendgroup": "POR",
         "marker": {
          "color": "#19d3f3",
          "pattern": {
           "shape": ""
          }
         },
         "name": "POR",
         "offsetgroup": "POR",
         "orientation": "h",
         "showlegend": true,
         "textposition": "auto",
         "type": "bar",
         "x": [
          3284
         ],
         "xaxis": "x",
         "y": [
          "POR"
         ],
         "yaxis": "y"
        },
        {
         "alignmentgroup": "True",
         "hovertemplate": "Team=%{y}<br>defensive=%{x}<extra></extra>",
         "legendgroup": "DET",
         "marker": {
          "color": "#FF6692",
          "pattern": {
           "shape": ""
          }
         },
         "name": "DET",
         "offsetgroup": "DET",
         "orientation": "h",
         "showlegend": true,
         "textposition": "auto",
         "type": "bar",
         "x": [
          3194
         ],
         "xaxis": "x",
         "y": [
          "DET"
         ],
         "yaxis": "y"
        },
        {
         "alignmentgroup": "True",
         "hovertemplate": "Team=%{y}<br>defensive=%{x}<extra></extra>",
         "legendgroup": "SAS",
         "marker": {
          "color": "#B6E880",
          "pattern": {
           "shape": ""
          }
         },
         "name": "SAS",
         "offsetgroup": "SAS",
         "orientation": "h",
         "showlegend": true,
         "textposition": "auto",
         "type": "bar",
         "x": [
          3084
         ],
         "xaxis": "x",
         "y": [
          "SAS"
         ],
         "yaxis": "y"
        },
        {
         "alignmentgroup": "True",
         "hovertemplate": "Team=%{y}<br>defensive=%{x}<extra></extra>",
         "legendgroup": "CHA",
         "marker": {
          "color": "#FF97FF",
          "pattern": {
           "shape": ""
          }
         },
         "name": "CHA",
         "offsetgroup": "CHA",
         "orientation": "h",
         "showlegend": true,
         "textposition": "auto",
         "type": "bar",
         "x": [
          3073
         ],
         "xaxis": "x",
         "y": [
          "CHA"
         ],
         "yaxis": "y"
        },
        {
         "alignmentgroup": "True",
         "hovertemplate": "Team=%{y}<br>defensive=%{x}<extra></extra>",
         "legendgroup": "UTA",
         "marker": {
          "color": "#FECB52",
          "pattern": {
           "shape": ""
          }
         },
         "name": "UTA",
         "offsetgroup": "UTA",
         "orientation": "h",
         "showlegend": true,
         "textposition": "auto",
         "type": "bar",
         "x": [
          3040
         ],
         "xaxis": "x",
         "y": [
          "UTA"
         ],
         "yaxis": "y"
        }
       ],
       "layout": {
        "barmode": "relative",
        "height": 800,
        "legend": {
         "title": {
          "text": "Team"
         },
         "tracegroupgap": 0
        },
        "margin": {
         "t": 60
        },
        "showlegend": false,
        "template": {
         "data": {
          "bar": [
           {
            "error_x": {
             "color": "#f2f5fa"
            },
            "error_y": {
             "color": "#f2f5fa"
            },
            "marker": {
             "line": {
              "color": "rgb(17,17,17)",
              "width": 0.5
             },
             "pattern": {
              "fillmode": "overlay",
              "size": 10,
              "solidity": 0.2
             }
            },
            "type": "bar"
           }
          ],
          "barpolar": [
           {
            "marker": {
             "line": {
              "color": "rgb(17,17,17)",
              "width": 0.5
             },
             "pattern": {
              "fillmode": "overlay",
              "size": 10,
              "solidity": 0.2
             }
            },
            "type": "barpolar"
           }
          ],
          "carpet": [
           {
            "aaxis": {
             "endlinecolor": "#A2B1C6",
             "gridcolor": "#506784",
             "linecolor": "#506784",
             "minorgridcolor": "#506784",
             "startlinecolor": "#A2B1C6"
            },
            "baxis": {
             "endlinecolor": "#A2B1C6",
             "gridcolor": "#506784",
             "linecolor": "#506784",
             "minorgridcolor": "#506784",
             "startlinecolor": "#A2B1C6"
            },
            "type": "carpet"
           }
          ],
          "choropleth": [
           {
            "colorbar": {
             "outlinewidth": 0,
             "ticks": ""
            },
            "type": "choropleth"
           }
          ],
          "contour": [
           {
            "colorbar": {
             "outlinewidth": 0,
             "ticks": ""
            },
            "colorscale": [
             [
              0,
              "#0d0887"
             ],
             [
              0.1111111111111111,
              "#46039f"
             ],
             [
              0.2222222222222222,
              "#7201a8"
             ],
             [
              0.3333333333333333,
              "#9c179e"
             ],
             [
              0.4444444444444444,
              "#bd3786"
             ],
             [
              0.5555555555555556,
              "#d8576b"
             ],
             [
              0.6666666666666666,
              "#ed7953"
             ],
             [
              0.7777777777777778,
              "#fb9f3a"
             ],
             [
              0.8888888888888888,
              "#fdca26"
             ],
             [
              1,
              "#f0f921"
             ]
            ],
            "type": "contour"
           }
          ],
          "contourcarpet": [
           {
            "colorbar": {
             "outlinewidth": 0,
             "ticks": ""
            },
            "type": "contourcarpet"
           }
          ],
          "heatmap": [
           {
            "colorbar": {
             "outlinewidth": 0,
             "ticks": ""
            },
            "colorscale": [
             [
              0,
              "#0d0887"
             ],
             [
              0.1111111111111111,
              "#46039f"
             ],
             [
              0.2222222222222222,
              "#7201a8"
             ],
             [
              0.3333333333333333,
              "#9c179e"
             ],
             [
              0.4444444444444444,
              "#bd3786"
             ],
             [
              0.5555555555555556,
              "#d8576b"
             ],
             [
              0.6666666666666666,
              "#ed7953"
             ],
             [
              0.7777777777777778,
              "#fb9f3a"
             ],
             [
              0.8888888888888888,
              "#fdca26"
             ],
             [
              1,
              "#f0f921"
             ]
            ],
            "type": "heatmap"
           }
          ],
          "heatmapgl": [
           {
            "colorbar": {
             "outlinewidth": 0,
             "ticks": ""
            },
            "colorscale": [
             [
              0,
              "#0d0887"
             ],
             [
              0.1111111111111111,
              "#46039f"
             ],
             [
              0.2222222222222222,
              "#7201a8"
             ],
             [
              0.3333333333333333,
              "#9c179e"
             ],
             [
              0.4444444444444444,
              "#bd3786"
             ],
             [
              0.5555555555555556,
              "#d8576b"
             ],
             [
              0.6666666666666666,
              "#ed7953"
             ],
             [
              0.7777777777777778,
              "#fb9f3a"
             ],
             [
              0.8888888888888888,
              "#fdca26"
             ],
             [
              1,
              "#f0f921"
             ]
            ],
            "type": "heatmapgl"
           }
          ],
          "histogram": [
           {
            "marker": {
             "pattern": {
              "fillmode": "overlay",
              "size": 10,
              "solidity": 0.2
             }
            },
            "type": "histogram"
           }
          ],
          "histogram2d": [
           {
            "colorbar": {
             "outlinewidth": 0,
             "ticks": ""
            },
            "colorscale": [
             [
              0,
              "#0d0887"
             ],
             [
              0.1111111111111111,
              "#46039f"
             ],
             [
              0.2222222222222222,
              "#7201a8"
             ],
             [
              0.3333333333333333,
              "#9c179e"
             ],
             [
              0.4444444444444444,
              "#bd3786"
             ],
             [
              0.5555555555555556,
              "#d8576b"
             ],
             [
              0.6666666666666666,
              "#ed7953"
             ],
             [
              0.7777777777777778,
              "#fb9f3a"
             ],
             [
              0.8888888888888888,
              "#fdca26"
             ],
             [
              1,
              "#f0f921"
             ]
            ],
            "type": "histogram2d"
           }
          ],
          "histogram2dcontour": [
           {
            "colorbar": {
             "outlinewidth": 0,
             "ticks": ""
            },
            "colorscale": [
             [
              0,
              "#0d0887"
             ],
             [
              0.1111111111111111,
              "#46039f"
             ],
             [
              0.2222222222222222,
              "#7201a8"
             ],
             [
              0.3333333333333333,
              "#9c179e"
             ],
             [
              0.4444444444444444,
              "#bd3786"
             ],
             [
              0.5555555555555556,
              "#d8576b"
             ],
             [
              0.6666666666666666,
              "#ed7953"
             ],
             [
              0.7777777777777778,
              "#fb9f3a"
             ],
             [
              0.8888888888888888,
              "#fdca26"
             ],
             [
              1,
              "#f0f921"
             ]
            ],
            "type": "histogram2dcontour"
           }
          ],
          "mesh3d": [
           {
            "colorbar": {
             "outlinewidth": 0,
             "ticks": ""
            },
            "type": "mesh3d"
           }
          ],
          "parcoords": [
           {
            "line": {
             "colorbar": {
              "outlinewidth": 0,
              "ticks": ""
             }
            },
            "type": "parcoords"
           }
          ],
          "pie": [
           {
            "automargin": true,
            "type": "pie"
           }
          ],
          "scatter": [
           {
            "marker": {
             "line": {
              "color": "#283442"
             }
            },
            "type": "scatter"
           }
          ],
          "scatter3d": [
           {
            "line": {
             "colorbar": {
              "outlinewidth": 0,
              "ticks": ""
             }
            },
            "marker": {
             "colorbar": {
              "outlinewidth": 0,
              "ticks": ""
             }
            },
            "type": "scatter3d"
           }
          ],
          "scattercarpet": [
           {
            "marker": {
             "colorbar": {
              "outlinewidth": 0,
              "ticks": ""
             }
            },
            "type": "scattercarpet"
           }
          ],
          "scattergeo": [
           {
            "marker": {
             "colorbar": {
              "outlinewidth": 0,
              "ticks": ""
             }
            },
            "type": "scattergeo"
           }
          ],
          "scattergl": [
           {
            "marker": {
             "line": {
              "color": "#283442"
             }
            },
            "type": "scattergl"
           }
          ],
          "scattermapbox": [
           {
            "marker": {
             "colorbar": {
              "outlinewidth": 0,
              "ticks": ""
             }
            },
            "type": "scattermapbox"
           }
          ],
          "scatterpolar": [
           {
            "marker": {
             "colorbar": {
              "outlinewidth": 0,
              "ticks": ""
             }
            },
            "type": "scatterpolar"
           }
          ],
          "scatterpolargl": [
           {
            "marker": {
             "colorbar": {
              "outlinewidth": 0,
              "ticks": ""
             }
            },
            "type": "scatterpolargl"
           }
          ],
          "scatterternary": [
           {
            "marker": {
             "colorbar": {
              "outlinewidth": 0,
              "ticks": ""
             }
            },
            "type": "scatterternary"
           }
          ],
          "surface": [
           {
            "colorbar": {
             "outlinewidth": 0,
             "ticks": ""
            },
            "colorscale": [
             [
              0,
              "#0d0887"
             ],
             [
              0.1111111111111111,
              "#46039f"
             ],
             [
              0.2222222222222222,
              "#7201a8"
             ],
             [
              0.3333333333333333,
              "#9c179e"
             ],
             [
              0.4444444444444444,
              "#bd3786"
             ],
             [
              0.5555555555555556,
              "#d8576b"
             ],
             [
              0.6666666666666666,
              "#ed7953"
             ],
             [
              0.7777777777777778,
              "#fb9f3a"
             ],
             [
              0.8888888888888888,
              "#fdca26"
             ],
             [
              1,
              "#f0f921"
             ]
            ],
            "type": "surface"
           }
          ],
          "table": [
           {
            "cells": {
             "fill": {
              "color": "#506784"
             },
             "line": {
              "color": "rgb(17,17,17)"
             }
            },
            "header": {
             "fill": {
              "color": "#2a3f5f"
             },
             "line": {
              "color": "rgb(17,17,17)"
             }
            },
            "type": "table"
           }
          ]
         },
         "layout": {
          "annotationdefaults": {
           "arrowcolor": "#f2f5fa",
           "arrowhead": 0,
           "arrowwidth": 1
          },
          "autotypenumbers": "strict",
          "coloraxis": {
           "colorbar": {
            "outlinewidth": 0,
            "ticks": ""
           }
          },
          "colorscale": {
           "diverging": [
            [
             0,
             "#8e0152"
            ],
            [
             0.1,
             "#c51b7d"
            ],
            [
             0.2,
             "#de77ae"
            ],
            [
             0.3,
             "#f1b6da"
            ],
            [
             0.4,
             "#fde0ef"
            ],
            [
             0.5,
             "#f7f7f7"
            ],
            [
             0.6,
             "#e6f5d0"
            ],
            [
             0.7,
             "#b8e186"
            ],
            [
             0.8,
             "#7fbc41"
            ],
            [
             0.9,
             "#4d9221"
            ],
            [
             1,
             "#276419"
            ]
           ],
           "sequential": [
            [
             0,
             "#0d0887"
            ],
            [
             0.1111111111111111,
             "#46039f"
            ],
            [
             0.2222222222222222,
             "#7201a8"
            ],
            [
             0.3333333333333333,
             "#9c179e"
            ],
            [
             0.4444444444444444,
             "#bd3786"
            ],
            [
             0.5555555555555556,
             "#d8576b"
            ],
            [
             0.6666666666666666,
             "#ed7953"
            ],
            [
             0.7777777777777778,
             "#fb9f3a"
            ],
            [
             0.8888888888888888,
             "#fdca26"
            ],
            [
             1,
             "#f0f921"
            ]
           ],
           "sequentialminus": [
            [
             0,
             "#0d0887"
            ],
            [
             0.1111111111111111,
             "#46039f"
            ],
            [
             0.2222222222222222,
             "#7201a8"
            ],
            [
             0.3333333333333333,
             "#9c179e"
            ],
            [
             0.4444444444444444,
             "#bd3786"
            ],
            [
             0.5555555555555556,
             "#d8576b"
            ],
            [
             0.6666666666666666,
             "#ed7953"
            ],
            [
             0.7777777777777778,
             "#fb9f3a"
            ],
            [
             0.8888888888888888,
             "#fdca26"
            ],
            [
             1,
             "#f0f921"
            ]
           ]
          },
          "colorway": [
           "#636efa",
           "#EF553B",
           "#00cc96",
           "#ab63fa",
           "#FFA15A",
           "#19d3f3",
           "#FF6692",
           "#B6E880",
           "#FF97FF",
           "#FECB52"
          ],
          "font": {
           "color": "#f2f5fa"
          },
          "geo": {
           "bgcolor": "rgb(17,17,17)",
           "lakecolor": "rgb(17,17,17)",
           "landcolor": "rgb(17,17,17)",
           "showlakes": true,
           "showland": true,
           "subunitcolor": "#506784"
          },
          "hoverlabel": {
           "align": "left"
          },
          "hovermode": "closest",
          "mapbox": {
           "style": "dark"
          },
          "paper_bgcolor": "rgb(17,17,17)",
          "plot_bgcolor": "rgb(17,17,17)",
          "polar": {
           "angularaxis": {
            "gridcolor": "#506784",
            "linecolor": "#506784",
            "ticks": ""
           },
           "bgcolor": "rgb(17,17,17)",
           "radialaxis": {
            "gridcolor": "#506784",
            "linecolor": "#506784",
            "ticks": ""
           }
          },
          "scene": {
           "xaxis": {
            "backgroundcolor": "rgb(17,17,17)",
            "gridcolor": "#506784",
            "gridwidth": 2,
            "linecolor": "#506784",
            "showbackground": true,
            "ticks": "",
            "zerolinecolor": "#C8D4E3"
           },
           "yaxis": {
            "backgroundcolor": "rgb(17,17,17)",
            "gridcolor": "#506784",
            "gridwidth": 2,
            "linecolor": "#506784",
            "showbackground": true,
            "ticks": "",
            "zerolinecolor": "#C8D4E3"
           },
           "zaxis": {
            "backgroundcolor": "rgb(17,17,17)",
            "gridcolor": "#506784",
            "gridwidth": 2,
            "linecolor": "#506784",
            "showbackground": true,
            "ticks": "",
            "zerolinecolor": "#C8D4E3"
           }
          },
          "shapedefaults": {
           "line": {
            "color": "#f2f5fa"
           }
          },
          "sliderdefaults": {
           "bgcolor": "#C8D4E3",
           "bordercolor": "rgb(17,17,17)",
           "borderwidth": 1,
           "tickwidth": 0
          },
          "ternary": {
           "aaxis": {
            "gridcolor": "#506784",
            "linecolor": "#506784",
            "ticks": ""
           },
           "baxis": {
            "gridcolor": "#506784",
            "linecolor": "#506784",
            "ticks": ""
           },
           "bgcolor": "rgb(17,17,17)",
           "caxis": {
            "gridcolor": "#506784",
            "linecolor": "#506784",
            "ticks": ""
           }
          },
          "title": {
           "x": 0.05
          },
          "updatemenudefaults": {
           "bgcolor": "#506784",
           "borderwidth": 0
          },
          "xaxis": {
           "automargin": true,
           "gridcolor": "#283442",
           "linecolor": "#506784",
           "ticks": "",
           "title": {
            "standoff": 15
           },
           "zerolinecolor": "#283442",
           "zerolinewidth": 2
          },
          "yaxis": {
           "automargin": true,
           "gridcolor": "#283442",
           "linecolor": "#506784",
           "ticks": "",
           "title": {
            "standoff": 15
           },
           "zerolinecolor": "#283442",
           "zerolinewidth": 2
          }
         }
        },
        "title": {
         "text": "Total defensive acts per team"
        },
        "width": 800,
        "xaxis": {
         "anchor": "y",
         "domain": [
          0,
          1
         ],
         "title": {
          "text": "Defensive acts made"
         }
        },
        "yaxis": {
         "anchor": "x",
         "categoryarray": [
          "UTA",
          "CHA",
          "SAS",
          "DET",
          "POR",
          "CLE",
          "DAL",
          "HOU",
          "ORL",
          "OKC",
          "MIA",
          "SAC",
          "WAS",
          "GSW",
          "NOP",
          "IND",
          "PHX",
          "MIN",
          "MIL",
          "DEN",
          "BKN",
          "CHI",
          "PHI",
          "BOS",
          "ATL",
          "LAL",
          "MEM",
          "TOR",
          "NYK",
          "LAC"
         ],
         "categoryorder": "array",
         "domain": [
          0,
          1
         ],
         "title": {
          "text": "Team"
         }
        }
       }
      }
     },
     "metadata": {},
     "output_type": "display_data"
    }
   ],
   "source": [
    "px.bar(data_frame=df_times.sort_values(by='defensive', ascending=False),\n",
    "       x='defensive',\n",
    "       y='Team',\n",
    "       color='Team',\n",
    "       orientation='h',\n",
    "       template='plotly_dark',\n",
    "       height=800,\n",
    "       width=800).update_layout(title='Total defensive acts per team',\n",
    "                                xaxis_title='Defensive acts made',yaxis_title='Team',\n",
    "                                showlegend=False)"
   ]
  },
  {
   "cell_type": "markdown",
   "metadata": {},
   "source": [
    "### Specific"
   ]
  },
  {
   "cell_type": "code",
   "execution_count": 40,
   "metadata": {},
   "outputs": [
    {
     "data": {
      "text/html": [
       "<div>\n",
       "<style scoped>\n",
       "    .dataframe tbody tr th:only-of-type {\n",
       "        vertical-align: middle;\n",
       "    }\n",
       "\n",
       "    .dataframe tbody tr th {\n",
       "        vertical-align: top;\n",
       "    }\n",
       "\n",
       "    .dataframe thead th {\n",
       "        text-align: right;\n",
       "    }\n",
       "</style>\n",
       "<table border=\"1\" class=\"dataframe\">\n",
       "  <thead>\n",
       "    <tr style=\"text-align: right;\">\n",
       "      <th></th>\n",
       "      <th>Team</th>\n",
       "      <th>PTS</th>\n",
       "      <th>3PM</th>\n",
       "      <th>3PA</th>\n",
       "      <th>FGM</th>\n",
       "      <th>FGA</th>\n",
       "      <th>FTM</th>\n",
       "      <th>FTA</th>\n",
       "      <th>3P%</th>\n",
       "      <th>FG%</th>\n",
       "      <th>FT%</th>\n",
       "      <th>OREB</th>\n",
       "      <th>DREB</th>\n",
       "      <th>REB</th>\n",
       "      <th>AST</th>\n",
       "      <th>TOV</th>\n",
       "      <th>STL</th>\n",
       "      <th>BLK</th>\n",
       "      <th>PF</th>\n",
       "      <th>2PM</th>\n",
       "      <th>2PA</th>\n",
       "      <th>2P%</th>\n",
       "      <th>Logo</th>\n",
       "      <th>Names</th>\n",
       "      <th>defensive</th>\n",
       "    </tr>\n",
       "  </thead>\n",
       "  <tbody>\n",
       "    <tr>\n",
       "      <th>7</th>\n",
       "      <td>BOS</td>\n",
       "      <td>9942</td>\n",
       "      <td>1371</td>\n",
       "      <td>3634</td>\n",
       "      <td>3552</td>\n",
       "      <td>7484</td>\n",
       "      <td>1467</td>\n",
       "      <td>1808</td>\n",
       "      <td>30.14</td>\n",
       "      <td>45.66</td>\n",
       "      <td>71.7</td>\n",
       "      <td>820</td>\n",
       "      <td>3036</td>\n",
       "      <td>3856</td>\n",
       "      <td>2225</td>\n",
       "      <td>1057</td>\n",
       "      <td>532</td>\n",
       "      <td>449</td>\n",
       "      <td>1613</td>\n",
       "      <td>2181</td>\n",
       "      <td>3850</td>\n",
       "      <td>54.43</td>\n",
       "      <td>https://cdn.nba.com/logos/nba/1610612738/global/L/logo.svg</td>\n",
       "      <td>Boston Celtics</td>\n",
       "      <td>4017</td>\n",
       "    </tr>\n",
       "  </tbody>\n",
       "</table>\n",
       "</div>"
      ],
      "text/plain": [
       "  Team   PTS   3PM   3PA   FGM   FGA   FTM   FTA    3P%    FG%   FT%  OREB  DREB   REB   AST   TOV  STL  BLK    PF   2PM   2PA    2P%                                                        Logo           Names  defensive\n",
       "7  BOS  9942  1371  3634  3552  7484  1467  1808  30.14  45.66  71.7   820  3036  3856  2225  1057  532  449  1613  2181  3850  54.43  https://cdn.nba.com/logos/nba/1610612738/global/L/logo.svg  Boston Celtics       4017"
      ]
     },
     "execution_count": 40,
     "metadata": {},
     "output_type": "execute_result"
    }
   ],
   "source": [
    "df_times[df_times['Team'] == 'BOS']"
   ]
  },
  {
   "cell_type": "code",
   "execution_count": 41,
   "metadata": {},
   "outputs": [
    {
     "data": {
      "text/html": [
       "<div>\n",
       "<style scoped>\n",
       "    .dataframe tbody tr th:only-of-type {\n",
       "        vertical-align: middle;\n",
       "    }\n",
       "\n",
       "    .dataframe tbody tr th {\n",
       "        vertical-align: top;\n",
       "    }\n",
       "\n",
       "    .dataframe thead th {\n",
       "        text-align: right;\n",
       "    }\n",
       "</style>\n",
       "<table border=\"1\" class=\"dataframe\">\n",
       "  <thead>\n",
       "    <tr style=\"text-align: right;\">\n",
       "      <th></th>\n",
       "      <th>PName</th>\n",
       "      <th>POS</th>\n",
       "      <th>Team</th>\n",
       "      <th>Age</th>\n",
       "      <th>GP</th>\n",
       "      <th>W</th>\n",
       "      <th>L</th>\n",
       "      <th>Min</th>\n",
       "      <th>PTS</th>\n",
       "      <th>FGM</th>\n",
       "      <th>FGA</th>\n",
       "      <th>FG%</th>\n",
       "      <th>3PM</th>\n",
       "      <th>3PA</th>\n",
       "      <th>3P%</th>\n",
       "      <th>FTM</th>\n",
       "      <th>FTA</th>\n",
       "      <th>FT%</th>\n",
       "      <th>OREB</th>\n",
       "      <th>DREB</th>\n",
       "      <th>REB</th>\n",
       "      <th>AST</th>\n",
       "      <th>TOV</th>\n",
       "      <th>STL</th>\n",
       "      <th>BLK</th>\n",
       "      <th>PF</th>\n",
       "      <th>FP</th>\n",
       "      <th>DD2</th>\n",
       "      <th>TD3</th>\n",
       "      <th>+/-</th>\n",
       "      <th>2PM</th>\n",
       "      <th>2PA</th>\n",
       "      <th>2P%</th>\n",
       "      <th>PTSperGP</th>\n",
       "      <th>FGMperGP</th>\n",
       "      <th>FGAperGP</th>\n",
       "      <th>3PMperGP</th>\n",
       "      <th>3PAperGP</th>\n",
       "      <th>FTMperGP</th>\n",
       "      <th>FTAperGP</th>\n",
       "      <th>OREBperGP</th>\n",
       "      <th>DREBperGP</th>\n",
       "      <th>REBperGP</th>\n",
       "      <th>ASTperGP</th>\n",
       "      <th>TOVperGP</th>\n",
       "      <th>BLKperGP</th>\n",
       "      <th>STLperGP</th>\n",
       "      <th>PFperGP</th>\n",
       "      <th>DD2perGP</th>\n",
       "      <th>TD3perGP</th>\n",
       "      <th>2PMperGP</th>\n",
       "      <th>2PAperGP</th>\n",
       "      <th>team_img</th>\n",
       "      <th>team_name</th>\n",
       "    </tr>\n",
       "  </thead>\n",
       "  <tbody>\n",
       "    <tr>\n",
       "      <th>0</th>\n",
       "      <td>Jayson Tatum</td>\n",
       "      <td>SF</td>\n",
       "      <td>BOS</td>\n",
       "      <td>25</td>\n",
       "      <td>74</td>\n",
       "      <td>52</td>\n",
       "      <td>22</td>\n",
       "      <td>2732.2</td>\n",
       "      <td>2225</td>\n",
       "      <td>727</td>\n",
       "      <td>1559</td>\n",
       "      <td>46.6</td>\n",
       "      <td>240</td>\n",
       "      <td>686</td>\n",
       "      <td>35.0</td>\n",
       "      <td>531</td>\n",
       "      <td>622</td>\n",
       "      <td>85.4</td>\n",
       "      <td>78</td>\n",
       "      <td>571</td>\n",
       "      <td>649</td>\n",
       "      <td>342</td>\n",
       "      <td>213</td>\n",
       "      <td>78</td>\n",
       "      <td>51</td>\n",
       "      <td>160</td>\n",
       "      <td>3691</td>\n",
       "      <td>31</td>\n",
       "      <td>1</td>\n",
       "      <td>470</td>\n",
       "      <td>487</td>\n",
       "      <td>873</td>\n",
       "      <td>55.78</td>\n",
       "      <td>30.07</td>\n",
       "      <td>9.82</td>\n",
       "      <td>21.07</td>\n",
       "      <td>3.24</td>\n",
       "      <td>9.27</td>\n",
       "      <td>7.18</td>\n",
       "      <td>8.41</td>\n",
       "      <td>1.05</td>\n",
       "      <td>7.72</td>\n",
       "      <td>8.77</td>\n",
       "      <td>4.62</td>\n",
       "      <td>2.88</td>\n",
       "      <td>0.69</td>\n",
       "      <td>1.05</td>\n",
       "      <td>2.16</td>\n",
       "      <td>0.42</td>\n",
       "      <td>0.01</td>\n",
       "      <td>6.58</td>\n",
       "      <td>11.80</td>\n",
       "      <td>https://cdn.nba.com/logos/nba/1610612738/global/L/logo.svg</td>\n",
       "      <td>Boston Celtics</td>\n",
       "    </tr>\n",
       "    <tr>\n",
       "      <th>1</th>\n",
       "      <td>Joel Embiid</td>\n",
       "      <td>C</td>\n",
       "      <td>PHI</td>\n",
       "      <td>29</td>\n",
       "      <td>66</td>\n",
       "      <td>43</td>\n",
       "      <td>23</td>\n",
       "      <td>2284.1</td>\n",
       "      <td>2183</td>\n",
       "      <td>728</td>\n",
       "      <td>1328</td>\n",
       "      <td>54.8</td>\n",
       "      <td>66</td>\n",
       "      <td>200</td>\n",
       "      <td>33.0</td>\n",
       "      <td>661</td>\n",
       "      <td>771</td>\n",
       "      <td>85.7</td>\n",
       "      <td>113</td>\n",
       "      <td>557</td>\n",
       "      <td>670</td>\n",
       "      <td>274</td>\n",
       "      <td>226</td>\n",
       "      <td>66</td>\n",
       "      <td>112</td>\n",
       "      <td>205</td>\n",
       "      <td>3706</td>\n",
       "      <td>39</td>\n",
       "      <td>1</td>\n",
       "      <td>424</td>\n",
       "      <td>662</td>\n",
       "      <td>1128</td>\n",
       "      <td>58.69</td>\n",
       "      <td>33.08</td>\n",
       "      <td>11.03</td>\n",
       "      <td>20.12</td>\n",
       "      <td>1.00</td>\n",
       "      <td>3.03</td>\n",
       "      <td>10.02</td>\n",
       "      <td>11.68</td>\n",
       "      <td>1.71</td>\n",
       "      <td>8.44</td>\n",
       "      <td>10.15</td>\n",
       "      <td>4.15</td>\n",
       "      <td>3.42</td>\n",
       "      <td>1.70</td>\n",
       "      <td>1.00</td>\n",
       "      <td>3.11</td>\n",
       "      <td>0.59</td>\n",
       "      <td>0.02</td>\n",
       "      <td>10.03</td>\n",
       "      <td>17.09</td>\n",
       "      <td>https://cdn.nba.com/logos/nba/1610612755/global/L/logo.svg</td>\n",
       "      <td>Philadelphia 76ers</td>\n",
       "    </tr>\n",
       "  </tbody>\n",
       "</table>\n",
       "</div>"
      ],
      "text/plain": [
       "          PName POS Team  Age  GP   W   L     Min   PTS  FGM   FGA   FG%  3PM  3PA   3P%  FTM  FTA   FT%  OREB  DREB  REB  AST  TOV  STL  BLK   PF    FP  DD2  TD3  +/-  2PM   2PA    2P%  PTSperGP  FGMperGP  FGAperGP  3PMperGP  3PAperGP  FTMperGP  FTAperGP  OREBperGP  DREBperGP  REBperGP  ASTperGP  TOVperGP  BLKperGP  STLperGP  PFperGP  DD2perGP  TD3perGP  2PMperGP  2PAperGP                                                    team_img           team_name\n",
       "0  Jayson Tatum  SF  BOS   25  74  52  22  2732.2  2225  727  1559  46.6  240  686  35.0  531  622  85.4    78   571  649  342  213   78   51  160  3691   31    1  470  487   873  55.78     30.07      9.82     21.07      3.24      9.27      7.18      8.41       1.05       7.72      8.77      4.62      2.88      0.69      1.05     2.16      0.42      0.01      6.58     11.80  https://cdn.nba.com/logos/nba/1610612738/global/L/logo.svg      Boston Celtics\n",
       "1   Joel Embiid   C  PHI   29  66  43  23  2284.1  2183  728  1328  54.8   66  200  33.0  661  771  85.7   113   557  670  274  226   66  112  205  3706   39    1  424  662  1128  58.69     33.08     11.03     20.12      1.00      3.03     10.02     11.68       1.71       8.44     10.15      4.15      3.42      1.70      1.00     3.11      0.59      0.02     10.03     17.09  https://cdn.nba.com/logos/nba/1610612755/global/L/logo.svg  Philadelphia 76ers"
      ]
     },
     "execution_count": 41,
     "metadata": {},
     "output_type": "execute_result"
    }
   ],
   "source": [
    "df_jogadores.head(2)"
   ]
  },
  {
   "cell_type": "code",
   "execution_count": 88,
   "metadata": {},
   "outputs": [],
   "source": [
    "aux = df_jogadores[df_jogadores['Team']=='GSW']"
   ]
  },
  {
   "cell_type": "code",
   "execution_count": 91,
   "metadata": {},
   "outputs": [
    {
     "data": {
      "application/vnd.plotly.v1+json": {
       "config": {
        "plotlyServerURL": "https://plot.ly"
       },
       "data": [
        {
         "customdata": [
          [
           "Jordan Poole"
          ],
          [
           "Stephen Curry"
          ],
          [
           "Klay Thompson"
          ],
          [
           "Donte DiVincenzo"
          ],
          [
           "Jonathan Kuminga"
          ],
          [
           "Andrew Wiggins"
          ],
          [
           "Draymond Green"
          ],
          [
           "Kevon Looney"
          ],
          [
           "Anthony Lamb"
          ],
          [
           "JaMychal Green"
          ],
          [
           "Ty Jerome"
          ],
          [
           "Moses Moody"
          ],
          [
           "Patrick Baldwin Jr."
          ],
          [
           "Gary Payton II"
          ],
          [
           "Ryan Rollins"
          ],
          [
           "Andre Iguodala"
          ],
          [
           "Lester Quinones"
          ]
         ],
         "hovertemplate": "2PM=%{x}<br>3PM=%{y}<br>GP=%{marker.size}<br>PName=%{customdata[0]}<extra></extra>",
         "legendgroup": "",
         "marker": {
          "color": "#636efa",
          "size": [
           82,
           56,
           69,
           72,
           67,
           37,
           73,
           82,
           62,
           57,
           45,
           63,
           31,
           22,
           12,
           8,
           4
          ],
          "sizemode": "area",
          "sizeref": 0.205,
          "symbol": "circle"
         },
         "mode": "markers",
         "name": "",
         "orientation": "v",
         "showlegend": false,
         "type": "scatter",
         "x": [
          336,
          286,
          245,
          85,
          207,
          161,
          210,
          242,
          75,
          94,
          83,
          59,
          11,
          28,
          4,
          6,
          0
         ],
         "xaxis": "x",
         "y": [
          214,
          273,
          301,
          150,
          54,
          89,
          40,
          0,
          73,
          42,
          35,
          49,
          32,
          13,
          3,
          1,
          2
         ],
         "yaxis": "y"
        }
       ],
       "layout": {
        "legend": {
         "itemsizing": "constant",
         "tracegroupgap": 0
        },
        "template": {
         "data": {
          "bar": [
           {
            "error_x": {
             "color": "#f2f5fa"
            },
            "error_y": {
             "color": "#f2f5fa"
            },
            "marker": {
             "line": {
              "color": "rgb(17,17,17)",
              "width": 0.5
             },
             "pattern": {
              "fillmode": "overlay",
              "size": 10,
              "solidity": 0.2
             }
            },
            "type": "bar"
           }
          ],
          "barpolar": [
           {
            "marker": {
             "line": {
              "color": "rgb(17,17,17)",
              "width": 0.5
             },
             "pattern": {
              "fillmode": "overlay",
              "size": 10,
              "solidity": 0.2
             }
            },
            "type": "barpolar"
           }
          ],
          "carpet": [
           {
            "aaxis": {
             "endlinecolor": "#A2B1C6",
             "gridcolor": "#506784",
             "linecolor": "#506784",
             "minorgridcolor": "#506784",
             "startlinecolor": "#A2B1C6"
            },
            "baxis": {
             "endlinecolor": "#A2B1C6",
             "gridcolor": "#506784",
             "linecolor": "#506784",
             "minorgridcolor": "#506784",
             "startlinecolor": "#A2B1C6"
            },
            "type": "carpet"
           }
          ],
          "choropleth": [
           {
            "colorbar": {
             "outlinewidth": 0,
             "ticks": ""
            },
            "type": "choropleth"
           }
          ],
          "contour": [
           {
            "colorbar": {
             "outlinewidth": 0,
             "ticks": ""
            },
            "colorscale": [
             [
              0,
              "#0d0887"
             ],
             [
              0.1111111111111111,
              "#46039f"
             ],
             [
              0.2222222222222222,
              "#7201a8"
             ],
             [
              0.3333333333333333,
              "#9c179e"
             ],
             [
              0.4444444444444444,
              "#bd3786"
             ],
             [
              0.5555555555555556,
              "#d8576b"
             ],
             [
              0.6666666666666666,
              "#ed7953"
             ],
             [
              0.7777777777777778,
              "#fb9f3a"
             ],
             [
              0.8888888888888888,
              "#fdca26"
             ],
             [
              1,
              "#f0f921"
             ]
            ],
            "type": "contour"
           }
          ],
          "contourcarpet": [
           {
            "colorbar": {
             "outlinewidth": 0,
             "ticks": ""
            },
            "type": "contourcarpet"
           }
          ],
          "heatmap": [
           {
            "colorbar": {
             "outlinewidth": 0,
             "ticks": ""
            },
            "colorscale": [
             [
              0,
              "#0d0887"
             ],
             [
              0.1111111111111111,
              "#46039f"
             ],
             [
              0.2222222222222222,
              "#7201a8"
             ],
             [
              0.3333333333333333,
              "#9c179e"
             ],
             [
              0.4444444444444444,
              "#bd3786"
             ],
             [
              0.5555555555555556,
              "#d8576b"
             ],
             [
              0.6666666666666666,
              "#ed7953"
             ],
             [
              0.7777777777777778,
              "#fb9f3a"
             ],
             [
              0.8888888888888888,
              "#fdca26"
             ],
             [
              1,
              "#f0f921"
             ]
            ],
            "type": "heatmap"
           }
          ],
          "heatmapgl": [
           {
            "colorbar": {
             "outlinewidth": 0,
             "ticks": ""
            },
            "colorscale": [
             [
              0,
              "#0d0887"
             ],
             [
              0.1111111111111111,
              "#46039f"
             ],
             [
              0.2222222222222222,
              "#7201a8"
             ],
             [
              0.3333333333333333,
              "#9c179e"
             ],
             [
              0.4444444444444444,
              "#bd3786"
             ],
             [
              0.5555555555555556,
              "#d8576b"
             ],
             [
              0.6666666666666666,
              "#ed7953"
             ],
             [
              0.7777777777777778,
              "#fb9f3a"
             ],
             [
              0.8888888888888888,
              "#fdca26"
             ],
             [
              1,
              "#f0f921"
             ]
            ],
            "type": "heatmapgl"
           }
          ],
          "histogram": [
           {
            "marker": {
             "pattern": {
              "fillmode": "overlay",
              "size": 10,
              "solidity": 0.2
             }
            },
            "type": "histogram"
           }
          ],
          "histogram2d": [
           {
            "colorbar": {
             "outlinewidth": 0,
             "ticks": ""
            },
            "colorscale": [
             [
              0,
              "#0d0887"
             ],
             [
              0.1111111111111111,
              "#46039f"
             ],
             [
              0.2222222222222222,
              "#7201a8"
             ],
             [
              0.3333333333333333,
              "#9c179e"
             ],
             [
              0.4444444444444444,
              "#bd3786"
             ],
             [
              0.5555555555555556,
              "#d8576b"
             ],
             [
              0.6666666666666666,
              "#ed7953"
             ],
             [
              0.7777777777777778,
              "#fb9f3a"
             ],
             [
              0.8888888888888888,
              "#fdca26"
             ],
             [
              1,
              "#f0f921"
             ]
            ],
            "type": "histogram2d"
           }
          ],
          "histogram2dcontour": [
           {
            "colorbar": {
             "outlinewidth": 0,
             "ticks": ""
            },
            "colorscale": [
             [
              0,
              "#0d0887"
             ],
             [
              0.1111111111111111,
              "#46039f"
             ],
             [
              0.2222222222222222,
              "#7201a8"
             ],
             [
              0.3333333333333333,
              "#9c179e"
             ],
             [
              0.4444444444444444,
              "#bd3786"
             ],
             [
              0.5555555555555556,
              "#d8576b"
             ],
             [
              0.6666666666666666,
              "#ed7953"
             ],
             [
              0.7777777777777778,
              "#fb9f3a"
             ],
             [
              0.8888888888888888,
              "#fdca26"
             ],
             [
              1,
              "#f0f921"
             ]
            ],
            "type": "histogram2dcontour"
           }
          ],
          "mesh3d": [
           {
            "colorbar": {
             "outlinewidth": 0,
             "ticks": ""
            },
            "type": "mesh3d"
           }
          ],
          "parcoords": [
           {
            "line": {
             "colorbar": {
              "outlinewidth": 0,
              "ticks": ""
             }
            },
            "type": "parcoords"
           }
          ],
          "pie": [
           {
            "automargin": true,
            "type": "pie"
           }
          ],
          "scatter": [
           {
            "marker": {
             "line": {
              "color": "#283442"
             }
            },
            "type": "scatter"
           }
          ],
          "scatter3d": [
           {
            "line": {
             "colorbar": {
              "outlinewidth": 0,
              "ticks": ""
             }
            },
            "marker": {
             "colorbar": {
              "outlinewidth": 0,
              "ticks": ""
             }
            },
            "type": "scatter3d"
           }
          ],
          "scattercarpet": [
           {
            "marker": {
             "colorbar": {
              "outlinewidth": 0,
              "ticks": ""
             }
            },
            "type": "scattercarpet"
           }
          ],
          "scattergeo": [
           {
            "marker": {
             "colorbar": {
              "outlinewidth": 0,
              "ticks": ""
             }
            },
            "type": "scattergeo"
           }
          ],
          "scattergl": [
           {
            "marker": {
             "line": {
              "color": "#283442"
             }
            },
            "type": "scattergl"
           }
          ],
          "scattermapbox": [
           {
            "marker": {
             "colorbar": {
              "outlinewidth": 0,
              "ticks": ""
             }
            },
            "type": "scattermapbox"
           }
          ],
          "scatterpolar": [
           {
            "marker": {
             "colorbar": {
              "outlinewidth": 0,
              "ticks": ""
             }
            },
            "type": "scatterpolar"
           }
          ],
          "scatterpolargl": [
           {
            "marker": {
             "colorbar": {
              "outlinewidth": 0,
              "ticks": ""
             }
            },
            "type": "scatterpolargl"
           }
          ],
          "scatterternary": [
           {
            "marker": {
             "colorbar": {
              "outlinewidth": 0,
              "ticks": ""
             }
            },
            "type": "scatterternary"
           }
          ],
          "surface": [
           {
            "colorbar": {
             "outlinewidth": 0,
             "ticks": ""
            },
            "colorscale": [
             [
              0,
              "#0d0887"
             ],
             [
              0.1111111111111111,
              "#46039f"
             ],
             [
              0.2222222222222222,
              "#7201a8"
             ],
             [
              0.3333333333333333,
              "#9c179e"
             ],
             [
              0.4444444444444444,
              "#bd3786"
             ],
             [
              0.5555555555555556,
              "#d8576b"
             ],
             [
              0.6666666666666666,
              "#ed7953"
             ],
             [
              0.7777777777777778,
              "#fb9f3a"
             ],
             [
              0.8888888888888888,
              "#fdca26"
             ],
             [
              1,
              "#f0f921"
             ]
            ],
            "type": "surface"
           }
          ],
          "table": [
           {
            "cells": {
             "fill": {
              "color": "#506784"
             },
             "line": {
              "color": "rgb(17,17,17)"
             }
            },
            "header": {
             "fill": {
              "color": "#2a3f5f"
             },
             "line": {
              "color": "rgb(17,17,17)"
             }
            },
            "type": "table"
           }
          ]
         },
         "layout": {
          "annotationdefaults": {
           "arrowcolor": "#f2f5fa",
           "arrowhead": 0,
           "arrowwidth": 1
          },
          "autotypenumbers": "strict",
          "coloraxis": {
           "colorbar": {
            "outlinewidth": 0,
            "ticks": ""
           }
          },
          "colorscale": {
           "diverging": [
            [
             0,
             "#8e0152"
            ],
            [
             0.1,
             "#c51b7d"
            ],
            [
             0.2,
             "#de77ae"
            ],
            [
             0.3,
             "#f1b6da"
            ],
            [
             0.4,
             "#fde0ef"
            ],
            [
             0.5,
             "#f7f7f7"
            ],
            [
             0.6,
             "#e6f5d0"
            ],
            [
             0.7,
             "#b8e186"
            ],
            [
             0.8,
             "#7fbc41"
            ],
            [
             0.9,
             "#4d9221"
            ],
            [
             1,
             "#276419"
            ]
           ],
           "sequential": [
            [
             0,
             "#0d0887"
            ],
            [
             0.1111111111111111,
             "#46039f"
            ],
            [
             0.2222222222222222,
             "#7201a8"
            ],
            [
             0.3333333333333333,
             "#9c179e"
            ],
            [
             0.4444444444444444,
             "#bd3786"
            ],
            [
             0.5555555555555556,
             "#d8576b"
            ],
            [
             0.6666666666666666,
             "#ed7953"
            ],
            [
             0.7777777777777778,
             "#fb9f3a"
            ],
            [
             0.8888888888888888,
             "#fdca26"
            ],
            [
             1,
             "#f0f921"
            ]
           ],
           "sequentialminus": [
            [
             0,
             "#0d0887"
            ],
            [
             0.1111111111111111,
             "#46039f"
            ],
            [
             0.2222222222222222,
             "#7201a8"
            ],
            [
             0.3333333333333333,
             "#9c179e"
            ],
            [
             0.4444444444444444,
             "#bd3786"
            ],
            [
             0.5555555555555556,
             "#d8576b"
            ],
            [
             0.6666666666666666,
             "#ed7953"
            ],
            [
             0.7777777777777778,
             "#fb9f3a"
            ],
            [
             0.8888888888888888,
             "#fdca26"
            ],
            [
             1,
             "#f0f921"
            ]
           ]
          },
          "colorway": [
           "#636efa",
           "#EF553B",
           "#00cc96",
           "#ab63fa",
           "#FFA15A",
           "#19d3f3",
           "#FF6692",
           "#B6E880",
           "#FF97FF",
           "#FECB52"
          ],
          "font": {
           "color": "#f2f5fa"
          },
          "geo": {
           "bgcolor": "rgb(17,17,17)",
           "lakecolor": "rgb(17,17,17)",
           "landcolor": "rgb(17,17,17)",
           "showlakes": true,
           "showland": true,
           "subunitcolor": "#506784"
          },
          "hoverlabel": {
           "align": "left"
          },
          "hovermode": "closest",
          "mapbox": {
           "style": "dark"
          },
          "paper_bgcolor": "rgb(17,17,17)",
          "plot_bgcolor": "rgb(17,17,17)",
          "polar": {
           "angularaxis": {
            "gridcolor": "#506784",
            "linecolor": "#506784",
            "ticks": ""
           },
           "bgcolor": "rgb(17,17,17)",
           "radialaxis": {
            "gridcolor": "#506784",
            "linecolor": "#506784",
            "ticks": ""
           }
          },
          "scene": {
           "xaxis": {
            "backgroundcolor": "rgb(17,17,17)",
            "gridcolor": "#506784",
            "gridwidth": 2,
            "linecolor": "#506784",
            "showbackground": true,
            "ticks": "",
            "zerolinecolor": "#C8D4E3"
           },
           "yaxis": {
            "backgroundcolor": "rgb(17,17,17)",
            "gridcolor": "#506784",
            "gridwidth": 2,
            "linecolor": "#506784",
            "showbackground": true,
            "ticks": "",
            "zerolinecolor": "#C8D4E3"
           },
           "zaxis": {
            "backgroundcolor": "rgb(17,17,17)",
            "gridcolor": "#506784",
            "gridwidth": 2,
            "linecolor": "#506784",
            "showbackground": true,
            "ticks": "",
            "zerolinecolor": "#C8D4E3"
           }
          },
          "shapedefaults": {
           "line": {
            "color": "#f2f5fa"
           }
          },
          "sliderdefaults": {
           "bgcolor": "#C8D4E3",
           "bordercolor": "rgb(17,17,17)",
           "borderwidth": 1,
           "tickwidth": 0
          },
          "ternary": {
           "aaxis": {
            "gridcolor": "#506784",
            "linecolor": "#506784",
            "ticks": ""
           },
           "baxis": {
            "gridcolor": "#506784",
            "linecolor": "#506784",
            "ticks": ""
           },
           "bgcolor": "rgb(17,17,17)",
           "caxis": {
            "gridcolor": "#506784",
            "linecolor": "#506784",
            "ticks": ""
           }
          },
          "title": {
           "x": 0.05
          },
          "updatemenudefaults": {
           "bgcolor": "#506784",
           "borderwidth": 0
          },
          "xaxis": {
           "automargin": true,
           "gridcolor": "#283442",
           "linecolor": "#506784",
           "ticks": "",
           "title": {
            "standoff": 15
           },
           "zerolinecolor": "#283442",
           "zerolinewidth": 2
          },
          "yaxis": {
           "automargin": true,
           "gridcolor": "#283442",
           "linecolor": "#506784",
           "ticks": "",
           "title": {
            "standoff": 15
           },
           "zerolinecolor": "#283442",
           "zerolinewidth": 2
          }
         }
        },
        "title": {
         "text": "3PM versus 2PM with size proportional to the Games Played",
         "x": 0.35
        },
        "xaxis": {
         "anchor": "y",
         "domain": [
          0,
          1
         ],
         "title": {
          "text": "2PM"
         }
        },
        "yaxis": {
         "anchor": "x",
         "domain": [
          0,
          1
         ],
         "title": {
          "text": "3PM"
         }
        }
       }
      }
     },
     "metadata": {},
     "output_type": "display_data"
    }
   ],
   "source": [
    "px.scatter(data_frame= aux,\n",
    "           y='3PM',\n",
    "           x='2PM',\n",
    "           size='GP',\n",
    "           hover_data='PName',\n",
    "           template='plotly_dark',\n",
    "           title='3PM versus 2PM with size proportional to the Games Played').update_layout(title_x=0.35)"
   ]
  },
  {
   "cell_type": "code",
   "execution_count": 44,
   "metadata": {},
   "outputs": [
    {
     "data": {
      "application/vnd.plotly.v1+json": {
       "config": {
        "plotlyServerURL": "https://plot.ly"
       },
       "data": [
        {
         "alignmentgroup": "True",
         "bingroup": "x",
         "hovertemplate": "POS=%{x}<br>count=%{y}<extra></extra>",
         "legendgroup": "SF",
         "marker": {
          "color": "#636efa",
          "pattern": {
           "shape": ""
          }
         },
         "name": "SF",
         "offsetgroup": "SF",
         "orientation": "v",
         "showlegend": true,
         "type": "histogram",
         "x": [
          "SF",
          "SF",
          "SF",
          "SF"
         ],
         "xaxis": "x",
         "yaxis": "y"
        },
        {
         "alignmentgroup": "True",
         "bingroup": "x",
         "hovertemplate": "POS=%{x}<br>count=%{y}<extra></extra>",
         "legendgroup": "SG",
         "marker": {
          "color": "#EF553B",
          "pattern": {
           "shape": ""
          }
         },
         "name": "SG",
         "offsetgroup": "SG",
         "orientation": "v",
         "showlegend": true,
         "type": "histogram",
         "x": [
          "SG",
          "SG"
         ],
         "xaxis": "x",
         "yaxis": "y"
        },
        {
         "alignmentgroup": "True",
         "bingroup": "x",
         "hovertemplate": "POS=%{x}<br>count=%{y}<extra></extra>",
         "legendgroup": "PG",
         "marker": {
          "color": "#00cc96",
          "pattern": {
           "shape": ""
          }
         },
         "name": "PG",
         "offsetgroup": "PG",
         "orientation": "v",
         "showlegend": true,
         "type": "histogram",
         "x": [
          "PG",
          "PG",
          "PG",
          "PG"
         ],
         "xaxis": "x",
         "yaxis": "y"
        },
        {
         "alignmentgroup": "True",
         "bingroup": "x",
         "hovertemplate": "POS=%{x}<br>count=%{y}<extra></extra>",
         "legendgroup": "PF",
         "marker": {
          "color": "#ab63fa",
          "pattern": {
           "shape": ""
          }
         },
         "name": "PF",
         "offsetgroup": "PF",
         "orientation": "v",
         "showlegend": true,
         "type": "histogram",
         "x": [
          "PF",
          "PF",
          "PF"
         ],
         "xaxis": "x",
         "yaxis": "y"
        },
        {
         "alignmentgroup": "True",
         "bingroup": "x",
         "hovertemplate": "POS=%{x}<br>count=%{y}<extra></extra>",
         "legendgroup": "C",
         "marker": {
          "color": "#FFA15A",
          "pattern": {
           "shape": ""
          }
         },
         "name": "C",
         "offsetgroup": "C",
         "orientation": "v",
         "showlegend": true,
         "type": "histogram",
         "x": [
          "C",
          "C",
          "C",
          "C",
          "C"
         ],
         "xaxis": "x",
         "yaxis": "y"
        }
       ],
       "layout": {
        "barmode": "relative",
        "legend": {
         "title": {
          "text": "POS"
         },
         "tracegroupgap": 0
        },
        "margin": {
         "t": 60
        },
        "template": {
         "data": {
          "bar": [
           {
            "error_x": {
             "color": "#f2f5fa"
            },
            "error_y": {
             "color": "#f2f5fa"
            },
            "marker": {
             "line": {
              "color": "rgb(17,17,17)",
              "width": 0.5
             },
             "pattern": {
              "fillmode": "overlay",
              "size": 10,
              "solidity": 0.2
             }
            },
            "type": "bar"
           }
          ],
          "barpolar": [
           {
            "marker": {
             "line": {
              "color": "rgb(17,17,17)",
              "width": 0.5
             },
             "pattern": {
              "fillmode": "overlay",
              "size": 10,
              "solidity": 0.2
             }
            },
            "type": "barpolar"
           }
          ],
          "carpet": [
           {
            "aaxis": {
             "endlinecolor": "#A2B1C6",
             "gridcolor": "#506784",
             "linecolor": "#506784",
             "minorgridcolor": "#506784",
             "startlinecolor": "#A2B1C6"
            },
            "baxis": {
             "endlinecolor": "#A2B1C6",
             "gridcolor": "#506784",
             "linecolor": "#506784",
             "minorgridcolor": "#506784",
             "startlinecolor": "#A2B1C6"
            },
            "type": "carpet"
           }
          ],
          "choropleth": [
           {
            "colorbar": {
             "outlinewidth": 0,
             "ticks": ""
            },
            "type": "choropleth"
           }
          ],
          "contour": [
           {
            "colorbar": {
             "outlinewidth": 0,
             "ticks": ""
            },
            "colorscale": [
             [
              0,
              "#0d0887"
             ],
             [
              0.1111111111111111,
              "#46039f"
             ],
             [
              0.2222222222222222,
              "#7201a8"
             ],
             [
              0.3333333333333333,
              "#9c179e"
             ],
             [
              0.4444444444444444,
              "#bd3786"
             ],
             [
              0.5555555555555556,
              "#d8576b"
             ],
             [
              0.6666666666666666,
              "#ed7953"
             ],
             [
              0.7777777777777778,
              "#fb9f3a"
             ],
             [
              0.8888888888888888,
              "#fdca26"
             ],
             [
              1,
              "#f0f921"
             ]
            ],
            "type": "contour"
           }
          ],
          "contourcarpet": [
           {
            "colorbar": {
             "outlinewidth": 0,
             "ticks": ""
            },
            "type": "contourcarpet"
           }
          ],
          "heatmap": [
           {
            "colorbar": {
             "outlinewidth": 0,
             "ticks": ""
            },
            "colorscale": [
             [
              0,
              "#0d0887"
             ],
             [
              0.1111111111111111,
              "#46039f"
             ],
             [
              0.2222222222222222,
              "#7201a8"
             ],
             [
              0.3333333333333333,
              "#9c179e"
             ],
             [
              0.4444444444444444,
              "#bd3786"
             ],
             [
              0.5555555555555556,
              "#d8576b"
             ],
             [
              0.6666666666666666,
              "#ed7953"
             ],
             [
              0.7777777777777778,
              "#fb9f3a"
             ],
             [
              0.8888888888888888,
              "#fdca26"
             ],
             [
              1,
              "#f0f921"
             ]
            ],
            "type": "heatmap"
           }
          ],
          "heatmapgl": [
           {
            "colorbar": {
             "outlinewidth": 0,
             "ticks": ""
            },
            "colorscale": [
             [
              0,
              "#0d0887"
             ],
             [
              0.1111111111111111,
              "#46039f"
             ],
             [
              0.2222222222222222,
              "#7201a8"
             ],
             [
              0.3333333333333333,
              "#9c179e"
             ],
             [
              0.4444444444444444,
              "#bd3786"
             ],
             [
              0.5555555555555556,
              "#d8576b"
             ],
             [
              0.6666666666666666,
              "#ed7953"
             ],
             [
              0.7777777777777778,
              "#fb9f3a"
             ],
             [
              0.8888888888888888,
              "#fdca26"
             ],
             [
              1,
              "#f0f921"
             ]
            ],
            "type": "heatmapgl"
           }
          ],
          "histogram": [
           {
            "marker": {
             "pattern": {
              "fillmode": "overlay",
              "size": 10,
              "solidity": 0.2
             }
            },
            "type": "histogram"
           }
          ],
          "histogram2d": [
           {
            "colorbar": {
             "outlinewidth": 0,
             "ticks": ""
            },
            "colorscale": [
             [
              0,
              "#0d0887"
             ],
             [
              0.1111111111111111,
              "#46039f"
             ],
             [
              0.2222222222222222,
              "#7201a8"
             ],
             [
              0.3333333333333333,
              "#9c179e"
             ],
             [
              0.4444444444444444,
              "#bd3786"
             ],
             [
              0.5555555555555556,
              "#d8576b"
             ],
             [
              0.6666666666666666,
              "#ed7953"
             ],
             [
              0.7777777777777778,
              "#fb9f3a"
             ],
             [
              0.8888888888888888,
              "#fdca26"
             ],
             [
              1,
              "#f0f921"
             ]
            ],
            "type": "histogram2d"
           }
          ],
          "histogram2dcontour": [
           {
            "colorbar": {
             "outlinewidth": 0,
             "ticks": ""
            },
            "colorscale": [
             [
              0,
              "#0d0887"
             ],
             [
              0.1111111111111111,
              "#46039f"
             ],
             [
              0.2222222222222222,
              "#7201a8"
             ],
             [
              0.3333333333333333,
              "#9c179e"
             ],
             [
              0.4444444444444444,
              "#bd3786"
             ],
             [
              0.5555555555555556,
              "#d8576b"
             ],
             [
              0.6666666666666666,
              "#ed7953"
             ],
             [
              0.7777777777777778,
              "#fb9f3a"
             ],
             [
              0.8888888888888888,
              "#fdca26"
             ],
             [
              1,
              "#f0f921"
             ]
            ],
            "type": "histogram2dcontour"
           }
          ],
          "mesh3d": [
           {
            "colorbar": {
             "outlinewidth": 0,
             "ticks": ""
            },
            "type": "mesh3d"
           }
          ],
          "parcoords": [
           {
            "line": {
             "colorbar": {
              "outlinewidth": 0,
              "ticks": ""
             }
            },
            "type": "parcoords"
           }
          ],
          "pie": [
           {
            "automargin": true,
            "type": "pie"
           }
          ],
          "scatter": [
           {
            "marker": {
             "line": {
              "color": "#283442"
             }
            },
            "type": "scatter"
           }
          ],
          "scatter3d": [
           {
            "line": {
             "colorbar": {
              "outlinewidth": 0,
              "ticks": ""
             }
            },
            "marker": {
             "colorbar": {
              "outlinewidth": 0,
              "ticks": ""
             }
            },
            "type": "scatter3d"
           }
          ],
          "scattercarpet": [
           {
            "marker": {
             "colorbar": {
              "outlinewidth": 0,
              "ticks": ""
             }
            },
            "type": "scattercarpet"
           }
          ],
          "scattergeo": [
           {
            "marker": {
             "colorbar": {
              "outlinewidth": 0,
              "ticks": ""
             }
            },
            "type": "scattergeo"
           }
          ],
          "scattergl": [
           {
            "marker": {
             "line": {
              "color": "#283442"
             }
            },
            "type": "scattergl"
           }
          ],
          "scattermapbox": [
           {
            "marker": {
             "colorbar": {
              "outlinewidth": 0,
              "ticks": ""
             }
            },
            "type": "scattermapbox"
           }
          ],
          "scatterpolar": [
           {
            "marker": {
             "colorbar": {
              "outlinewidth": 0,
              "ticks": ""
             }
            },
            "type": "scatterpolar"
           }
          ],
          "scatterpolargl": [
           {
            "marker": {
             "colorbar": {
              "outlinewidth": 0,
              "ticks": ""
             }
            },
            "type": "scatterpolargl"
           }
          ],
          "scatterternary": [
           {
            "marker": {
             "colorbar": {
              "outlinewidth": 0,
              "ticks": ""
             }
            },
            "type": "scatterternary"
           }
          ],
          "surface": [
           {
            "colorbar": {
             "outlinewidth": 0,
             "ticks": ""
            },
            "colorscale": [
             [
              0,
              "#0d0887"
             ],
             [
              0.1111111111111111,
              "#46039f"
             ],
             [
              0.2222222222222222,
              "#7201a8"
             ],
             [
              0.3333333333333333,
              "#9c179e"
             ],
             [
              0.4444444444444444,
              "#bd3786"
             ],
             [
              0.5555555555555556,
              "#d8576b"
             ],
             [
              0.6666666666666666,
              "#ed7953"
             ],
             [
              0.7777777777777778,
              "#fb9f3a"
             ],
             [
              0.8888888888888888,
              "#fdca26"
             ],
             [
              1,
              "#f0f921"
             ]
            ],
            "type": "surface"
           }
          ],
          "table": [
           {
            "cells": {
             "fill": {
              "color": "#506784"
             },
             "line": {
              "color": "rgb(17,17,17)"
             }
            },
            "header": {
             "fill": {
              "color": "#2a3f5f"
             },
             "line": {
              "color": "rgb(17,17,17)"
             }
            },
            "type": "table"
           }
          ]
         },
         "layout": {
          "annotationdefaults": {
           "arrowcolor": "#f2f5fa",
           "arrowhead": 0,
           "arrowwidth": 1
          },
          "autotypenumbers": "strict",
          "coloraxis": {
           "colorbar": {
            "outlinewidth": 0,
            "ticks": ""
           }
          },
          "colorscale": {
           "diverging": [
            [
             0,
             "#8e0152"
            ],
            [
             0.1,
             "#c51b7d"
            ],
            [
             0.2,
             "#de77ae"
            ],
            [
             0.3,
             "#f1b6da"
            ],
            [
             0.4,
             "#fde0ef"
            ],
            [
             0.5,
             "#f7f7f7"
            ],
            [
             0.6,
             "#e6f5d0"
            ],
            [
             0.7,
             "#b8e186"
            ],
            [
             0.8,
             "#7fbc41"
            ],
            [
             0.9,
             "#4d9221"
            ],
            [
             1,
             "#276419"
            ]
           ],
           "sequential": [
            [
             0,
             "#0d0887"
            ],
            [
             0.1111111111111111,
             "#46039f"
            ],
            [
             0.2222222222222222,
             "#7201a8"
            ],
            [
             0.3333333333333333,
             "#9c179e"
            ],
            [
             0.4444444444444444,
             "#bd3786"
            ],
            [
             0.5555555555555556,
             "#d8576b"
            ],
            [
             0.6666666666666666,
             "#ed7953"
            ],
            [
             0.7777777777777778,
             "#fb9f3a"
            ],
            [
             0.8888888888888888,
             "#fdca26"
            ],
            [
             1,
             "#f0f921"
            ]
           ],
           "sequentialminus": [
            [
             0,
             "#0d0887"
            ],
            [
             0.1111111111111111,
             "#46039f"
            ],
            [
             0.2222222222222222,
             "#7201a8"
            ],
            [
             0.3333333333333333,
             "#9c179e"
            ],
            [
             0.4444444444444444,
             "#bd3786"
            ],
            [
             0.5555555555555556,
             "#d8576b"
            ],
            [
             0.6666666666666666,
             "#ed7953"
            ],
            [
             0.7777777777777778,
             "#fb9f3a"
            ],
            [
             0.8888888888888888,
             "#fdca26"
            ],
            [
             1,
             "#f0f921"
            ]
           ]
          },
          "colorway": [
           "#636efa",
           "#EF553B",
           "#00cc96",
           "#ab63fa",
           "#FFA15A",
           "#19d3f3",
           "#FF6692",
           "#B6E880",
           "#FF97FF",
           "#FECB52"
          ],
          "font": {
           "color": "#f2f5fa"
          },
          "geo": {
           "bgcolor": "rgb(17,17,17)",
           "lakecolor": "rgb(17,17,17)",
           "landcolor": "rgb(17,17,17)",
           "showlakes": true,
           "showland": true,
           "subunitcolor": "#506784"
          },
          "hoverlabel": {
           "align": "left"
          },
          "hovermode": "closest",
          "mapbox": {
           "style": "dark"
          },
          "paper_bgcolor": "rgb(17,17,17)",
          "plot_bgcolor": "rgb(17,17,17)",
          "polar": {
           "angularaxis": {
            "gridcolor": "#506784",
            "linecolor": "#506784",
            "ticks": ""
           },
           "bgcolor": "rgb(17,17,17)",
           "radialaxis": {
            "gridcolor": "#506784",
            "linecolor": "#506784",
            "ticks": ""
           }
          },
          "scene": {
           "xaxis": {
            "backgroundcolor": "rgb(17,17,17)",
            "gridcolor": "#506784",
            "gridwidth": 2,
            "linecolor": "#506784",
            "showbackground": true,
            "ticks": "",
            "zerolinecolor": "#C8D4E3"
           },
           "yaxis": {
            "backgroundcolor": "rgb(17,17,17)",
            "gridcolor": "#506784",
            "gridwidth": 2,
            "linecolor": "#506784",
            "showbackground": true,
            "ticks": "",
            "zerolinecolor": "#C8D4E3"
           },
           "zaxis": {
            "backgroundcolor": "rgb(17,17,17)",
            "gridcolor": "#506784",
            "gridwidth": 2,
            "linecolor": "#506784",
            "showbackground": true,
            "ticks": "",
            "zerolinecolor": "#C8D4E3"
           }
          },
          "shapedefaults": {
           "line": {
            "color": "#f2f5fa"
           }
          },
          "sliderdefaults": {
           "bgcolor": "#C8D4E3",
           "bordercolor": "rgb(17,17,17)",
           "borderwidth": 1,
           "tickwidth": 0
          },
          "ternary": {
           "aaxis": {
            "gridcolor": "#506784",
            "linecolor": "#506784",
            "ticks": ""
           },
           "baxis": {
            "gridcolor": "#506784",
            "linecolor": "#506784",
            "ticks": ""
           },
           "bgcolor": "rgb(17,17,17)",
           "caxis": {
            "gridcolor": "#506784",
            "linecolor": "#506784",
            "ticks": ""
           }
          },
          "title": {
           "x": 0.05
          },
          "updatemenudefaults": {
           "bgcolor": "#506784",
           "borderwidth": 0
          },
          "xaxis": {
           "automargin": true,
           "gridcolor": "#283442",
           "linecolor": "#506784",
           "ticks": "",
           "title": {
            "standoff": 15
           },
           "zerolinecolor": "#283442",
           "zerolinewidth": 2
          },
          "yaxis": {
           "automargin": true,
           "gridcolor": "#283442",
           "linecolor": "#506784",
           "ticks": "",
           "title": {
            "standoff": 15
           },
           "zerolinecolor": "#283442",
           "zerolinewidth": 2
          }
         }
        },
        "title": {
         "x": 0.35
        },
        "xaxis": {
         "anchor": "y",
         "categoryarray": [
          "SF",
          "SG",
          "PG",
          "PF",
          "C"
         ],
         "categoryorder": "array",
         "domain": [
          0,
          1
         ],
         "title": {
          "text": "POS"
         }
        },
        "yaxis": {
         "anchor": "x",
         "domain": [
          0,
          1
         ],
         "title": {
          "text": "count"
         }
        }
       }
      }
     },
     "metadata": {},
     "output_type": "display_data"
    }
   ],
   "source": [
    "px.histogram(data_frame=df_jogadores[df_jogadores['Team'] == 'BOS'],\n",
    "             x='POS',\n",
    "             template='plotly_dark',\n",
    "             color='POS').update_layout(title_x=0.35)"
   ]
  },
  {
   "cell_type": "code",
   "execution_count": 45,
   "metadata": {},
   "outputs": [
    {
     "data": {
      "application/vnd.plotly.v1+json": {
       "config": {
        "plotlyServerURL": "https://plot.ly"
       },
       "data": [
        {
         "domain": {
          "x": [
           0,
           1
          ],
          "y": [
           0,
           1
          ]
         },
         "hole": 0.5,
         "hovertemplate": "POS=%{label}<br>PTS=%{value}<extra></extra>",
         "labels": [
          "SF",
          "SG",
          "PG",
          "PG",
          "PG",
          "PF",
          "C",
          "SF",
          "C",
          "C",
          "PG",
          "C",
          "PF",
          "PF",
          "SF",
          "SG",
          "SF",
          "C"
         ],
         "legendgroup": "",
         "name": "",
         "showlegend": true,
         "type": "pie",
         "values": [
          2225,
          1784,
          1017,
          1000,
          703,
          641,
          616,
          512,
          383,
          279,
          270,
          261,
          170,
          25,
          20,
          19,
          11,
          6
         ]
        }
       ],
       "layout": {
        "legend": {
         "tracegroupgap": 0
        },
        "template": {
         "data": {
          "bar": [
           {
            "error_x": {
             "color": "#f2f5fa"
            },
            "error_y": {
             "color": "#f2f5fa"
            },
            "marker": {
             "line": {
              "color": "rgb(17,17,17)",
              "width": 0.5
             },
             "pattern": {
              "fillmode": "overlay",
              "size": 10,
              "solidity": 0.2
             }
            },
            "type": "bar"
           }
          ],
          "barpolar": [
           {
            "marker": {
             "line": {
              "color": "rgb(17,17,17)",
              "width": 0.5
             },
             "pattern": {
              "fillmode": "overlay",
              "size": 10,
              "solidity": 0.2
             }
            },
            "type": "barpolar"
           }
          ],
          "carpet": [
           {
            "aaxis": {
             "endlinecolor": "#A2B1C6",
             "gridcolor": "#506784",
             "linecolor": "#506784",
             "minorgridcolor": "#506784",
             "startlinecolor": "#A2B1C6"
            },
            "baxis": {
             "endlinecolor": "#A2B1C6",
             "gridcolor": "#506784",
             "linecolor": "#506784",
             "minorgridcolor": "#506784",
             "startlinecolor": "#A2B1C6"
            },
            "type": "carpet"
           }
          ],
          "choropleth": [
           {
            "colorbar": {
             "outlinewidth": 0,
             "ticks": ""
            },
            "type": "choropleth"
           }
          ],
          "contour": [
           {
            "colorbar": {
             "outlinewidth": 0,
             "ticks": ""
            },
            "colorscale": [
             [
              0,
              "#0d0887"
             ],
             [
              0.1111111111111111,
              "#46039f"
             ],
             [
              0.2222222222222222,
              "#7201a8"
             ],
             [
              0.3333333333333333,
              "#9c179e"
             ],
             [
              0.4444444444444444,
              "#bd3786"
             ],
             [
              0.5555555555555556,
              "#d8576b"
             ],
             [
              0.6666666666666666,
              "#ed7953"
             ],
             [
              0.7777777777777778,
              "#fb9f3a"
             ],
             [
              0.8888888888888888,
              "#fdca26"
             ],
             [
              1,
              "#f0f921"
             ]
            ],
            "type": "contour"
           }
          ],
          "contourcarpet": [
           {
            "colorbar": {
             "outlinewidth": 0,
             "ticks": ""
            },
            "type": "contourcarpet"
           }
          ],
          "heatmap": [
           {
            "colorbar": {
             "outlinewidth": 0,
             "ticks": ""
            },
            "colorscale": [
             [
              0,
              "#0d0887"
             ],
             [
              0.1111111111111111,
              "#46039f"
             ],
             [
              0.2222222222222222,
              "#7201a8"
             ],
             [
              0.3333333333333333,
              "#9c179e"
             ],
             [
              0.4444444444444444,
              "#bd3786"
             ],
             [
              0.5555555555555556,
              "#d8576b"
             ],
             [
              0.6666666666666666,
              "#ed7953"
             ],
             [
              0.7777777777777778,
              "#fb9f3a"
             ],
             [
              0.8888888888888888,
              "#fdca26"
             ],
             [
              1,
              "#f0f921"
             ]
            ],
            "type": "heatmap"
           }
          ],
          "heatmapgl": [
           {
            "colorbar": {
             "outlinewidth": 0,
             "ticks": ""
            },
            "colorscale": [
             [
              0,
              "#0d0887"
             ],
             [
              0.1111111111111111,
              "#46039f"
             ],
             [
              0.2222222222222222,
              "#7201a8"
             ],
             [
              0.3333333333333333,
              "#9c179e"
             ],
             [
              0.4444444444444444,
              "#bd3786"
             ],
             [
              0.5555555555555556,
              "#d8576b"
             ],
             [
              0.6666666666666666,
              "#ed7953"
             ],
             [
              0.7777777777777778,
              "#fb9f3a"
             ],
             [
              0.8888888888888888,
              "#fdca26"
             ],
             [
              1,
              "#f0f921"
             ]
            ],
            "type": "heatmapgl"
           }
          ],
          "histogram": [
           {
            "marker": {
             "pattern": {
              "fillmode": "overlay",
              "size": 10,
              "solidity": 0.2
             }
            },
            "type": "histogram"
           }
          ],
          "histogram2d": [
           {
            "colorbar": {
             "outlinewidth": 0,
             "ticks": ""
            },
            "colorscale": [
             [
              0,
              "#0d0887"
             ],
             [
              0.1111111111111111,
              "#46039f"
             ],
             [
              0.2222222222222222,
              "#7201a8"
             ],
             [
              0.3333333333333333,
              "#9c179e"
             ],
             [
              0.4444444444444444,
              "#bd3786"
             ],
             [
              0.5555555555555556,
              "#d8576b"
             ],
             [
              0.6666666666666666,
              "#ed7953"
             ],
             [
              0.7777777777777778,
              "#fb9f3a"
             ],
             [
              0.8888888888888888,
              "#fdca26"
             ],
             [
              1,
              "#f0f921"
             ]
            ],
            "type": "histogram2d"
           }
          ],
          "histogram2dcontour": [
           {
            "colorbar": {
             "outlinewidth": 0,
             "ticks": ""
            },
            "colorscale": [
             [
              0,
              "#0d0887"
             ],
             [
              0.1111111111111111,
              "#46039f"
             ],
             [
              0.2222222222222222,
              "#7201a8"
             ],
             [
              0.3333333333333333,
              "#9c179e"
             ],
             [
              0.4444444444444444,
              "#bd3786"
             ],
             [
              0.5555555555555556,
              "#d8576b"
             ],
             [
              0.6666666666666666,
              "#ed7953"
             ],
             [
              0.7777777777777778,
              "#fb9f3a"
             ],
             [
              0.8888888888888888,
              "#fdca26"
             ],
             [
              1,
              "#f0f921"
             ]
            ],
            "type": "histogram2dcontour"
           }
          ],
          "mesh3d": [
           {
            "colorbar": {
             "outlinewidth": 0,
             "ticks": ""
            },
            "type": "mesh3d"
           }
          ],
          "parcoords": [
           {
            "line": {
             "colorbar": {
              "outlinewidth": 0,
              "ticks": ""
             }
            },
            "type": "parcoords"
           }
          ],
          "pie": [
           {
            "automargin": true,
            "type": "pie"
           }
          ],
          "scatter": [
           {
            "marker": {
             "line": {
              "color": "#283442"
             }
            },
            "type": "scatter"
           }
          ],
          "scatter3d": [
           {
            "line": {
             "colorbar": {
              "outlinewidth": 0,
              "ticks": ""
             }
            },
            "marker": {
             "colorbar": {
              "outlinewidth": 0,
              "ticks": ""
             }
            },
            "type": "scatter3d"
           }
          ],
          "scattercarpet": [
           {
            "marker": {
             "colorbar": {
              "outlinewidth": 0,
              "ticks": ""
             }
            },
            "type": "scattercarpet"
           }
          ],
          "scattergeo": [
           {
            "marker": {
             "colorbar": {
              "outlinewidth": 0,
              "ticks": ""
             }
            },
            "type": "scattergeo"
           }
          ],
          "scattergl": [
           {
            "marker": {
             "line": {
              "color": "#283442"
             }
            },
            "type": "scattergl"
           }
          ],
          "scattermapbox": [
           {
            "marker": {
             "colorbar": {
              "outlinewidth": 0,
              "ticks": ""
             }
            },
            "type": "scattermapbox"
           }
          ],
          "scatterpolar": [
           {
            "marker": {
             "colorbar": {
              "outlinewidth": 0,
              "ticks": ""
             }
            },
            "type": "scatterpolar"
           }
          ],
          "scatterpolargl": [
           {
            "marker": {
             "colorbar": {
              "outlinewidth": 0,
              "ticks": ""
             }
            },
            "type": "scatterpolargl"
           }
          ],
          "scatterternary": [
           {
            "marker": {
             "colorbar": {
              "outlinewidth": 0,
              "ticks": ""
             }
            },
            "type": "scatterternary"
           }
          ],
          "surface": [
           {
            "colorbar": {
             "outlinewidth": 0,
             "ticks": ""
            },
            "colorscale": [
             [
              0,
              "#0d0887"
             ],
             [
              0.1111111111111111,
              "#46039f"
             ],
             [
              0.2222222222222222,
              "#7201a8"
             ],
             [
              0.3333333333333333,
              "#9c179e"
             ],
             [
              0.4444444444444444,
              "#bd3786"
             ],
             [
              0.5555555555555556,
              "#d8576b"
             ],
             [
              0.6666666666666666,
              "#ed7953"
             ],
             [
              0.7777777777777778,
              "#fb9f3a"
             ],
             [
              0.8888888888888888,
              "#fdca26"
             ],
             [
              1,
              "#f0f921"
             ]
            ],
            "type": "surface"
           }
          ],
          "table": [
           {
            "cells": {
             "fill": {
              "color": "#506784"
             },
             "line": {
              "color": "rgb(17,17,17)"
             }
            },
            "header": {
             "fill": {
              "color": "#2a3f5f"
             },
             "line": {
              "color": "rgb(17,17,17)"
             }
            },
            "type": "table"
           }
          ]
         },
         "layout": {
          "annotationdefaults": {
           "arrowcolor": "#f2f5fa",
           "arrowhead": 0,
           "arrowwidth": 1
          },
          "autotypenumbers": "strict",
          "coloraxis": {
           "colorbar": {
            "outlinewidth": 0,
            "ticks": ""
           }
          },
          "colorscale": {
           "diverging": [
            [
             0,
             "#8e0152"
            ],
            [
             0.1,
             "#c51b7d"
            ],
            [
             0.2,
             "#de77ae"
            ],
            [
             0.3,
             "#f1b6da"
            ],
            [
             0.4,
             "#fde0ef"
            ],
            [
             0.5,
             "#f7f7f7"
            ],
            [
             0.6,
             "#e6f5d0"
            ],
            [
             0.7,
             "#b8e186"
            ],
            [
             0.8,
             "#7fbc41"
            ],
            [
             0.9,
             "#4d9221"
            ],
            [
             1,
             "#276419"
            ]
           ],
           "sequential": [
            [
             0,
             "#0d0887"
            ],
            [
             0.1111111111111111,
             "#46039f"
            ],
            [
             0.2222222222222222,
             "#7201a8"
            ],
            [
             0.3333333333333333,
             "#9c179e"
            ],
            [
             0.4444444444444444,
             "#bd3786"
            ],
            [
             0.5555555555555556,
             "#d8576b"
            ],
            [
             0.6666666666666666,
             "#ed7953"
            ],
            [
             0.7777777777777778,
             "#fb9f3a"
            ],
            [
             0.8888888888888888,
             "#fdca26"
            ],
            [
             1,
             "#f0f921"
            ]
           ],
           "sequentialminus": [
            [
             0,
             "#0d0887"
            ],
            [
             0.1111111111111111,
             "#46039f"
            ],
            [
             0.2222222222222222,
             "#7201a8"
            ],
            [
             0.3333333333333333,
             "#9c179e"
            ],
            [
             0.4444444444444444,
             "#bd3786"
            ],
            [
             0.5555555555555556,
             "#d8576b"
            ],
            [
             0.6666666666666666,
             "#ed7953"
            ],
            [
             0.7777777777777778,
             "#fb9f3a"
            ],
            [
             0.8888888888888888,
             "#fdca26"
            ],
            [
             1,
             "#f0f921"
            ]
           ]
          },
          "colorway": [
           "#636efa",
           "#EF553B",
           "#00cc96",
           "#ab63fa",
           "#FFA15A",
           "#19d3f3",
           "#FF6692",
           "#B6E880",
           "#FF97FF",
           "#FECB52"
          ],
          "font": {
           "color": "#f2f5fa"
          },
          "geo": {
           "bgcolor": "rgb(17,17,17)",
           "lakecolor": "rgb(17,17,17)",
           "landcolor": "rgb(17,17,17)",
           "showlakes": true,
           "showland": true,
           "subunitcolor": "#506784"
          },
          "hoverlabel": {
           "align": "left"
          },
          "hovermode": "closest",
          "mapbox": {
           "style": "dark"
          },
          "paper_bgcolor": "rgb(17,17,17)",
          "plot_bgcolor": "rgb(17,17,17)",
          "polar": {
           "angularaxis": {
            "gridcolor": "#506784",
            "linecolor": "#506784",
            "ticks": ""
           },
           "bgcolor": "rgb(17,17,17)",
           "radialaxis": {
            "gridcolor": "#506784",
            "linecolor": "#506784",
            "ticks": ""
           }
          },
          "scene": {
           "xaxis": {
            "backgroundcolor": "rgb(17,17,17)",
            "gridcolor": "#506784",
            "gridwidth": 2,
            "linecolor": "#506784",
            "showbackground": true,
            "ticks": "",
            "zerolinecolor": "#C8D4E3"
           },
           "yaxis": {
            "backgroundcolor": "rgb(17,17,17)",
            "gridcolor": "#506784",
            "gridwidth": 2,
            "linecolor": "#506784",
            "showbackground": true,
            "ticks": "",
            "zerolinecolor": "#C8D4E3"
           },
           "zaxis": {
            "backgroundcolor": "rgb(17,17,17)",
            "gridcolor": "#506784",
            "gridwidth": 2,
            "linecolor": "#506784",
            "showbackground": true,
            "ticks": "",
            "zerolinecolor": "#C8D4E3"
           }
          },
          "shapedefaults": {
           "line": {
            "color": "#f2f5fa"
           }
          },
          "sliderdefaults": {
           "bgcolor": "#C8D4E3",
           "bordercolor": "rgb(17,17,17)",
           "borderwidth": 1,
           "tickwidth": 0
          },
          "ternary": {
           "aaxis": {
            "gridcolor": "#506784",
            "linecolor": "#506784",
            "ticks": ""
           },
           "baxis": {
            "gridcolor": "#506784",
            "linecolor": "#506784",
            "ticks": ""
           },
           "bgcolor": "rgb(17,17,17)",
           "caxis": {
            "gridcolor": "#506784",
            "linecolor": "#506784",
            "ticks": ""
           }
          },
          "title": {
           "x": 0.05
          },
          "updatemenudefaults": {
           "bgcolor": "#506784",
           "borderwidth": 0
          },
          "xaxis": {
           "automargin": true,
           "gridcolor": "#283442",
           "linecolor": "#506784",
           "ticks": "",
           "title": {
            "standoff": 15
           },
           "zerolinecolor": "#283442",
           "zerolinewidth": 2
          },
          "yaxis": {
           "automargin": true,
           "gridcolor": "#283442",
           "linecolor": "#506784",
           "ticks": "",
           "title": {
            "standoff": 15
           },
           "zerolinecolor": "#283442",
           "zerolinewidth": 2
          }
         }
        },
        "title": {
         "text": "Porcentagem de pontos feitos por cada posição no time",
         "x": 0.35
        }
       }
      }
     },
     "metadata": {},
     "output_type": "display_data"
    }
   ],
   "source": [
    "px.pie(data_frame=df_jogadores[df_jogadores['Team'] == 'BOS'],\n",
    "       names='POS',\n",
    "       values='PTS',\n",
    "       hole=0.5,\n",
    "       template='plotly_dark',\n",
    "       title='Porcentagem de pontos feitos por cada posição no time').update_layout(title_x=0.35)"
   ]
  },
  {
   "cell_type": "code",
   "execution_count": 46,
   "metadata": {},
   "outputs": [
    {
     "data": {
      "application/vnd.plotly.v1+json": {
       "config": {
        "plotlyServerURL": "https://plot.ly"
       },
       "data": [
        {
         "customdata": [
          [
           "Jordan Poole"
          ],
          [
           "Stephen Curry"
          ],
          [
           "Klay Thompson"
          ],
          [
           "Donte DiVincenzo"
          ],
          [
           "Jonathan Kuminga"
          ],
          [
           "Andrew Wiggins"
          ],
          [
           "Draymond Green"
          ],
          [
           "Kevon Looney"
          ],
          [
           "Anthony Lamb"
          ],
          [
           "JaMychal Green"
          ],
          [
           "Ty Jerome"
          ],
          [
           "Moses Moody"
          ],
          [
           "Patrick Baldwin Jr."
          ],
          [
           "Gary Payton II"
          ],
          [
           "Ryan Rollins"
          ],
          [
           "Andre Iguodala"
          ],
          [
           "Lester Quinones"
          ]
         ],
         "hovertemplate": "BLK=%{x}<br>STL=%{y}<br>DREB=%{marker.size}<br>PName=%{customdata[0]}<extra></extra>",
         "legendgroup": "",
         "marker": {
          "color": "#636efa",
          "size": [
           193,
           302,
           247,
           245,
           161,
           125,
           459,
           486,
           159,
           133,
           71,
           77,
           39,
           45,
           9,
           14,
           2
          ],
          "sizemode": "area",
          "sizeref": 1.215,
          "symbol": "circle"
         },
         "mode": "markers",
         "name": "",
         "orientation": "v",
         "showlegend": false,
         "type": "scatter",
         "x": [
          21,
          20,
          29,
          10,
          31,
          28,
          61,
          50,
          20,
          23,
          5,
          7,
          4,
          5,
          1,
          3,
          0
         ],
         "xaxis": "x",
         "y": [
          63,
          52,
          49,
          97,
          41,
          45,
          74,
          52,
          28,
          25,
          23,
          18,
          6,
          22,
          1,
          4,
          1
         ],
         "yaxis": "y"
        }
       ],
       "layout": {
        "legend": {
         "itemsizing": "constant",
         "tracegroupgap": 0
        },
        "template": {
         "data": {
          "bar": [
           {
            "error_x": {
             "color": "#f2f5fa"
            },
            "error_y": {
             "color": "#f2f5fa"
            },
            "marker": {
             "line": {
              "color": "rgb(17,17,17)",
              "width": 0.5
             },
             "pattern": {
              "fillmode": "overlay",
              "size": 10,
              "solidity": 0.2
             }
            },
            "type": "bar"
           }
          ],
          "barpolar": [
           {
            "marker": {
             "line": {
              "color": "rgb(17,17,17)",
              "width": 0.5
             },
             "pattern": {
              "fillmode": "overlay",
              "size": 10,
              "solidity": 0.2
             }
            },
            "type": "barpolar"
           }
          ],
          "carpet": [
           {
            "aaxis": {
             "endlinecolor": "#A2B1C6",
             "gridcolor": "#506784",
             "linecolor": "#506784",
             "minorgridcolor": "#506784",
             "startlinecolor": "#A2B1C6"
            },
            "baxis": {
             "endlinecolor": "#A2B1C6",
             "gridcolor": "#506784",
             "linecolor": "#506784",
             "minorgridcolor": "#506784",
             "startlinecolor": "#A2B1C6"
            },
            "type": "carpet"
           }
          ],
          "choropleth": [
           {
            "colorbar": {
             "outlinewidth": 0,
             "ticks": ""
            },
            "type": "choropleth"
           }
          ],
          "contour": [
           {
            "colorbar": {
             "outlinewidth": 0,
             "ticks": ""
            },
            "colorscale": [
             [
              0,
              "#0d0887"
             ],
             [
              0.1111111111111111,
              "#46039f"
             ],
             [
              0.2222222222222222,
              "#7201a8"
             ],
             [
              0.3333333333333333,
              "#9c179e"
             ],
             [
              0.4444444444444444,
              "#bd3786"
             ],
             [
              0.5555555555555556,
              "#d8576b"
             ],
             [
              0.6666666666666666,
              "#ed7953"
             ],
             [
              0.7777777777777778,
              "#fb9f3a"
             ],
             [
              0.8888888888888888,
              "#fdca26"
             ],
             [
              1,
              "#f0f921"
             ]
            ],
            "type": "contour"
           }
          ],
          "contourcarpet": [
           {
            "colorbar": {
             "outlinewidth": 0,
             "ticks": ""
            },
            "type": "contourcarpet"
           }
          ],
          "heatmap": [
           {
            "colorbar": {
             "outlinewidth": 0,
             "ticks": ""
            },
            "colorscale": [
             [
              0,
              "#0d0887"
             ],
             [
              0.1111111111111111,
              "#46039f"
             ],
             [
              0.2222222222222222,
              "#7201a8"
             ],
             [
              0.3333333333333333,
              "#9c179e"
             ],
             [
              0.4444444444444444,
              "#bd3786"
             ],
             [
              0.5555555555555556,
              "#d8576b"
             ],
             [
              0.6666666666666666,
              "#ed7953"
             ],
             [
              0.7777777777777778,
              "#fb9f3a"
             ],
             [
              0.8888888888888888,
              "#fdca26"
             ],
             [
              1,
              "#f0f921"
             ]
            ],
            "type": "heatmap"
           }
          ],
          "heatmapgl": [
           {
            "colorbar": {
             "outlinewidth": 0,
             "ticks": ""
            },
            "colorscale": [
             [
              0,
              "#0d0887"
             ],
             [
              0.1111111111111111,
              "#46039f"
             ],
             [
              0.2222222222222222,
              "#7201a8"
             ],
             [
              0.3333333333333333,
              "#9c179e"
             ],
             [
              0.4444444444444444,
              "#bd3786"
             ],
             [
              0.5555555555555556,
              "#d8576b"
             ],
             [
              0.6666666666666666,
              "#ed7953"
             ],
             [
              0.7777777777777778,
              "#fb9f3a"
             ],
             [
              0.8888888888888888,
              "#fdca26"
             ],
             [
              1,
              "#f0f921"
             ]
            ],
            "type": "heatmapgl"
           }
          ],
          "histogram": [
           {
            "marker": {
             "pattern": {
              "fillmode": "overlay",
              "size": 10,
              "solidity": 0.2
             }
            },
            "type": "histogram"
           }
          ],
          "histogram2d": [
           {
            "colorbar": {
             "outlinewidth": 0,
             "ticks": ""
            },
            "colorscale": [
             [
              0,
              "#0d0887"
             ],
             [
              0.1111111111111111,
              "#46039f"
             ],
             [
              0.2222222222222222,
              "#7201a8"
             ],
             [
              0.3333333333333333,
              "#9c179e"
             ],
             [
              0.4444444444444444,
              "#bd3786"
             ],
             [
              0.5555555555555556,
              "#d8576b"
             ],
             [
              0.6666666666666666,
              "#ed7953"
             ],
             [
              0.7777777777777778,
              "#fb9f3a"
             ],
             [
              0.8888888888888888,
              "#fdca26"
             ],
             [
              1,
              "#f0f921"
             ]
            ],
            "type": "histogram2d"
           }
          ],
          "histogram2dcontour": [
           {
            "colorbar": {
             "outlinewidth": 0,
             "ticks": ""
            },
            "colorscale": [
             [
              0,
              "#0d0887"
             ],
             [
              0.1111111111111111,
              "#46039f"
             ],
             [
              0.2222222222222222,
              "#7201a8"
             ],
             [
              0.3333333333333333,
              "#9c179e"
             ],
             [
              0.4444444444444444,
              "#bd3786"
             ],
             [
              0.5555555555555556,
              "#d8576b"
             ],
             [
              0.6666666666666666,
              "#ed7953"
             ],
             [
              0.7777777777777778,
              "#fb9f3a"
             ],
             [
              0.8888888888888888,
              "#fdca26"
             ],
             [
              1,
              "#f0f921"
             ]
            ],
            "type": "histogram2dcontour"
           }
          ],
          "mesh3d": [
           {
            "colorbar": {
             "outlinewidth": 0,
             "ticks": ""
            },
            "type": "mesh3d"
           }
          ],
          "parcoords": [
           {
            "line": {
             "colorbar": {
              "outlinewidth": 0,
              "ticks": ""
             }
            },
            "type": "parcoords"
           }
          ],
          "pie": [
           {
            "automargin": true,
            "type": "pie"
           }
          ],
          "scatter": [
           {
            "marker": {
             "line": {
              "color": "#283442"
             }
            },
            "type": "scatter"
           }
          ],
          "scatter3d": [
           {
            "line": {
             "colorbar": {
              "outlinewidth": 0,
              "ticks": ""
             }
            },
            "marker": {
             "colorbar": {
              "outlinewidth": 0,
              "ticks": ""
             }
            },
            "type": "scatter3d"
           }
          ],
          "scattercarpet": [
           {
            "marker": {
             "colorbar": {
              "outlinewidth": 0,
              "ticks": ""
             }
            },
            "type": "scattercarpet"
           }
          ],
          "scattergeo": [
           {
            "marker": {
             "colorbar": {
              "outlinewidth": 0,
              "ticks": ""
             }
            },
            "type": "scattergeo"
           }
          ],
          "scattergl": [
           {
            "marker": {
             "line": {
              "color": "#283442"
             }
            },
            "type": "scattergl"
           }
          ],
          "scattermapbox": [
           {
            "marker": {
             "colorbar": {
              "outlinewidth": 0,
              "ticks": ""
             }
            },
            "type": "scattermapbox"
           }
          ],
          "scatterpolar": [
           {
            "marker": {
             "colorbar": {
              "outlinewidth": 0,
              "ticks": ""
             }
            },
            "type": "scatterpolar"
           }
          ],
          "scatterpolargl": [
           {
            "marker": {
             "colorbar": {
              "outlinewidth": 0,
              "ticks": ""
             }
            },
            "type": "scatterpolargl"
           }
          ],
          "scatterternary": [
           {
            "marker": {
             "colorbar": {
              "outlinewidth": 0,
              "ticks": ""
             }
            },
            "type": "scatterternary"
           }
          ],
          "surface": [
           {
            "colorbar": {
             "outlinewidth": 0,
             "ticks": ""
            },
            "colorscale": [
             [
              0,
              "#0d0887"
             ],
             [
              0.1111111111111111,
              "#46039f"
             ],
             [
              0.2222222222222222,
              "#7201a8"
             ],
             [
              0.3333333333333333,
              "#9c179e"
             ],
             [
              0.4444444444444444,
              "#bd3786"
             ],
             [
              0.5555555555555556,
              "#d8576b"
             ],
             [
              0.6666666666666666,
              "#ed7953"
             ],
             [
              0.7777777777777778,
              "#fb9f3a"
             ],
             [
              0.8888888888888888,
              "#fdca26"
             ],
             [
              1,
              "#f0f921"
             ]
            ],
            "type": "surface"
           }
          ],
          "table": [
           {
            "cells": {
             "fill": {
              "color": "#506784"
             },
             "line": {
              "color": "rgb(17,17,17)"
             }
            },
            "header": {
             "fill": {
              "color": "#2a3f5f"
             },
             "line": {
              "color": "rgb(17,17,17)"
             }
            },
            "type": "table"
           }
          ]
         },
         "layout": {
          "annotationdefaults": {
           "arrowcolor": "#f2f5fa",
           "arrowhead": 0,
           "arrowwidth": 1
          },
          "autotypenumbers": "strict",
          "coloraxis": {
           "colorbar": {
            "outlinewidth": 0,
            "ticks": ""
           }
          },
          "colorscale": {
           "diverging": [
            [
             0,
             "#8e0152"
            ],
            [
             0.1,
             "#c51b7d"
            ],
            [
             0.2,
             "#de77ae"
            ],
            [
             0.3,
             "#f1b6da"
            ],
            [
             0.4,
             "#fde0ef"
            ],
            [
             0.5,
             "#f7f7f7"
            ],
            [
             0.6,
             "#e6f5d0"
            ],
            [
             0.7,
             "#b8e186"
            ],
            [
             0.8,
             "#7fbc41"
            ],
            [
             0.9,
             "#4d9221"
            ],
            [
             1,
             "#276419"
            ]
           ],
           "sequential": [
            [
             0,
             "#0d0887"
            ],
            [
             0.1111111111111111,
             "#46039f"
            ],
            [
             0.2222222222222222,
             "#7201a8"
            ],
            [
             0.3333333333333333,
             "#9c179e"
            ],
            [
             0.4444444444444444,
             "#bd3786"
            ],
            [
             0.5555555555555556,
             "#d8576b"
            ],
            [
             0.6666666666666666,
             "#ed7953"
            ],
            [
             0.7777777777777778,
             "#fb9f3a"
            ],
            [
             0.8888888888888888,
             "#fdca26"
            ],
            [
             1,
             "#f0f921"
            ]
           ],
           "sequentialminus": [
            [
             0,
             "#0d0887"
            ],
            [
             0.1111111111111111,
             "#46039f"
            ],
            [
             0.2222222222222222,
             "#7201a8"
            ],
            [
             0.3333333333333333,
             "#9c179e"
            ],
            [
             0.4444444444444444,
             "#bd3786"
            ],
            [
             0.5555555555555556,
             "#d8576b"
            ],
            [
             0.6666666666666666,
             "#ed7953"
            ],
            [
             0.7777777777777778,
             "#fb9f3a"
            ],
            [
             0.8888888888888888,
             "#fdca26"
            ],
            [
             1,
             "#f0f921"
            ]
           ]
          },
          "colorway": [
           "#636efa",
           "#EF553B",
           "#00cc96",
           "#ab63fa",
           "#FFA15A",
           "#19d3f3",
           "#FF6692",
           "#B6E880",
           "#FF97FF",
           "#FECB52"
          ],
          "font": {
           "color": "#f2f5fa"
          },
          "geo": {
           "bgcolor": "rgb(17,17,17)",
           "lakecolor": "rgb(17,17,17)",
           "landcolor": "rgb(17,17,17)",
           "showlakes": true,
           "showland": true,
           "subunitcolor": "#506784"
          },
          "hoverlabel": {
           "align": "left"
          },
          "hovermode": "closest",
          "mapbox": {
           "style": "dark"
          },
          "paper_bgcolor": "rgb(17,17,17)",
          "plot_bgcolor": "rgb(17,17,17)",
          "polar": {
           "angularaxis": {
            "gridcolor": "#506784",
            "linecolor": "#506784",
            "ticks": ""
           },
           "bgcolor": "rgb(17,17,17)",
           "radialaxis": {
            "gridcolor": "#506784",
            "linecolor": "#506784",
            "ticks": ""
           }
          },
          "scene": {
           "xaxis": {
            "backgroundcolor": "rgb(17,17,17)",
            "gridcolor": "#506784",
            "gridwidth": 2,
            "linecolor": "#506784",
            "showbackground": true,
            "ticks": "",
            "zerolinecolor": "#C8D4E3"
           },
           "yaxis": {
            "backgroundcolor": "rgb(17,17,17)",
            "gridcolor": "#506784",
            "gridwidth": 2,
            "linecolor": "#506784",
            "showbackground": true,
            "ticks": "",
            "zerolinecolor": "#C8D4E3"
           },
           "zaxis": {
            "backgroundcolor": "rgb(17,17,17)",
            "gridcolor": "#506784",
            "gridwidth": 2,
            "linecolor": "#506784",
            "showbackground": true,
            "ticks": "",
            "zerolinecolor": "#C8D4E3"
           }
          },
          "shapedefaults": {
           "line": {
            "color": "#f2f5fa"
           }
          },
          "sliderdefaults": {
           "bgcolor": "#C8D4E3",
           "bordercolor": "rgb(17,17,17)",
           "borderwidth": 1,
           "tickwidth": 0
          },
          "ternary": {
           "aaxis": {
            "gridcolor": "#506784",
            "linecolor": "#506784",
            "ticks": ""
           },
           "baxis": {
            "gridcolor": "#506784",
            "linecolor": "#506784",
            "ticks": ""
           },
           "bgcolor": "rgb(17,17,17)",
           "caxis": {
            "gridcolor": "#506784",
            "linecolor": "#506784",
            "ticks": ""
           }
          },
          "title": {
           "x": 0.05
          },
          "updatemenudefaults": {
           "bgcolor": "#506784",
           "borderwidth": 0
          },
          "xaxis": {
           "automargin": true,
           "gridcolor": "#283442",
           "linecolor": "#506784",
           "ticks": "",
           "title": {
            "standoff": 15
           },
           "zerolinecolor": "#283442",
           "zerolinewidth": 2
          },
          "yaxis": {
           "automargin": true,
           "gridcolor": "#283442",
           "linecolor": "#506784",
           "ticks": "",
           "title": {
            "standoff": 15
           },
           "zerolinecolor": "#283442",
           "zerolinewidth": 2
          }
         }
        },
        "title": {
         "text": "Bloqueios e roubos de bola de acordo com os rebotes defensivos por jogador do time",
         "x": 0.35
        },
        "xaxis": {
         "anchor": "y",
         "domain": [
          0,
          1
         ],
         "title": {
          "text": "BLK"
         }
        },
        "yaxis": {
         "anchor": "x",
         "domain": [
          0,
          1
         ],
         "title": {
          "text": "STL"
         }
        }
       }
      }
     },
     "metadata": {},
     "output_type": "display_data"
    }
   ],
   "source": [
    "px.scatter(data_frame=aux,\n",
    "                  x='BLK',\n",
    "                  y='STL',\n",
    "                  size='DREB',\n",
    "                  hover_data='PName', \n",
    "                  template='plotly_dark',\n",
    "                  title='Bloqueios e roubos de bola de acordo com os rebotes defensivos por jogador do time').update_layout(title_x=0.35)"
   ]
  },
  {
   "cell_type": "markdown",
   "metadata": {},
   "source": [
    "## Posições"
   ]
  },
  {
   "cell_type": "code",
   "execution_count": 47,
   "metadata": {},
   "outputs": [
    {
     "data": {
      "image/jpeg": "[encoded data removed]",
      "image/png": "[encoded data removed]",
      "text/plain": [
       "<PIL.Image.Image image mode=RGB size=500x419>"
      ]
     },
     "execution_count": 47,
     "metadata": {},
     "output_type": "execute_result"
    }
   ],
   "source": [
    "quadra = Image.open('/home/bruno/repos/aula_dsfame/img/quadra.png')\n",
    "quadra.resize((500, 419))"
   ]
  },
  {
   "cell_type": "markdown",
   "metadata": {},
   "source": [
    "### Ataque"
   ]
  },
  {
   "cell_type": "code",
   "execution_count": null,
   "metadata": {},
   "outputs": [],
   "source": [
    "# 1. Quantos jogadores em cada posição?"
   ]
  },
  {
   "cell_type": "code",
   "execution_count": null,
   "metadata": {},
   "outputs": [
    {
     "name": "stdout",
     "output_type": "stream",
     "text": [
      "  POS  count\n",
      "0  SG     97\n",
      "1  SF     79\n",
      "2   C     78\n",
      "3  PG     78\n",
      "4  PF     75\n",
      "5   F     66\n",
      "6   G     66\n"
     ]
    },
    {
     "data": {
      "application/vnd.plotly.v1+json": {
       "config": {
        "plotlyServerURL": "https://plot.ly"
       },
       "data": [
        {
         "alignmentgroup": "True",
         "hovertemplate": "POS=%{x}<br>count=%{y}<extra></extra>",
         "legendgroup": "C",
         "marker": {
          "color": "#636efa",
          "opacity": 0.6,
          "pattern": {
           "shape": ""
          }
         },
         "name": "C",
         "offsetgroup": "C",
         "orientation": "v",
         "showlegend": true,
         "textposition": "auto",
         "type": "bar",
         "x": [
          "C"
         ],
         "xaxis": "x",
         "y": [
          78
         ],
         "yaxis": "y"
        },
        {
         "alignmentgroup": "True",
         "hovertemplate": "POS=%{x}<br>count=%{y}<extra></extra>",
         "legendgroup": "F",
         "marker": {
          "color": "#EF553B",
          "opacity": 0.6,
          "pattern": {
           "shape": ""
          }
         },
         "name": "F",
         "offsetgroup": "F",
         "orientation": "v",
         "showlegend": true,
         "textposition": "auto",
         "type": "bar",
         "x": [
          "F"
         ],
         "xaxis": "x",
         "y": [
          66
         ],
         "yaxis": "y"
        },
        {
         "alignmentgroup": "True",
         "hovertemplate": "POS=%{x}<br>count=%{y}<extra></extra>",
         "legendgroup": "G",
         "marker": {
          "color": "#00cc96",
          "opacity": 0.6,
          "pattern": {
           "shape": ""
          }
         },
         "name": "G",
         "offsetgroup": "G",
         "orientation": "v",
         "showlegend": true,
         "textposition": "auto",
         "type": "bar",
         "x": [
          "G"
         ],
         "xaxis": "x",
         "y": [
          66
         ],
         "yaxis": "y"
        },
        {
         "alignmentgroup": "True",
         "hovertemplate": "POS=%{x}<br>count=%{y}<extra></extra>",
         "legendgroup": "PF",
         "marker": {
          "color": "#ab63fa",
          "opacity": 0.6,
          "pattern": {
           "shape": ""
          }
         },
         "name": "PF",
         "offsetgroup": "PF",
         "orientation": "v",
         "showlegend": true,
         "textposition": "auto",
         "type": "bar",
         "x": [
          "PF"
         ],
         "xaxis": "x",
         "y": [
          75
         ],
         "yaxis": "y"
        },
        {
         "alignmentgroup": "True",
         "hovertemplate": "POS=%{x}<br>count=%{y}<extra></extra>",
         "legendgroup": "PG",
         "marker": {
          "color": "#FFA15A",
          "opacity": 0.6,
          "pattern": {
           "shape": ""
          }
         },
         "name": "PG",
         "offsetgroup": "PG",
         "orientation": "v",
         "showlegend": true,
         "textposition": "auto",
         "type": "bar",
         "x": [
          "PG"
         ],
         "xaxis": "x",
         "y": [
          78
         ],
         "yaxis": "y"
        },
        {
         "alignmentgroup": "True",
         "hovertemplate": "POS=%{x}<br>count=%{y}<extra></extra>",
         "legendgroup": "SF",
         "marker": {
          "color": "#19d3f3",
          "opacity": 0.6,
          "pattern": {
           "shape": ""
          }
         },
         "name": "SF",
         "offsetgroup": "SF",
         "orientation": "v",
         "showlegend": true,
         "textposition": "auto",
         "type": "bar",
         "x": [
          "SF"
         ],
         "xaxis": "x",
         "y": [
          79
         ],
         "yaxis": "y"
        },
        {
         "alignmentgroup": "True",
         "hovertemplate": "POS=%{x}<br>count=%{y}<extra></extra>",
         "legendgroup": "SG",
         "marker": {
          "color": "#FF6692",
          "opacity": 0.6,
          "pattern": {
           "shape": ""
          }
         },
         "name": "SG",
         "offsetgroup": "SG",
         "orientation": "v",
         "showlegend": true,
         "textposition": "auto",
         "type": "bar",
         "x": [
          "SG"
         ],
         "xaxis": "x",
         "y": [
          97
         ],
         "yaxis": "y"
        }
       ],
       "layout": {
        "barmode": "relative",
        "legend": {
         "title": {
          "text": "POS"
         },
         "tracegroupgap": 0
        },
        "margin": {
         "t": 60
        },
        "template": {
         "data": {
          "bar": [
           {
            "error_x": {
             "color": "#f2f5fa"
            },
            "error_y": {
             "color": "#f2f5fa"
            },
            "marker": {
             "line": {
              "color": "rgb(17,17,17)",
              "width": 0.5
             },
             "pattern": {
              "fillmode": "overlay",
              "size": 10,
              "solidity": 0.2
             }
            },
            "type": "bar"
           }
          ],
          "barpolar": [
           {
            "marker": {
             "line": {
              "color": "rgb(17,17,17)",
              "width": 0.5
             },
             "pattern": {
              "fillmode": "overlay",
              "size": 10,
              "solidity": 0.2
             }
            },
            "type": "barpolar"
           }
          ],
          "carpet": [
           {
            "aaxis": {
             "endlinecolor": "#A2B1C6",
             "gridcolor": "#506784",
             "linecolor": "#506784",
             "minorgridcolor": "#506784",
             "startlinecolor": "#A2B1C6"
            },
            "baxis": {
             "endlinecolor": "#A2B1C6",
             "gridcolor": "#506784",
             "linecolor": "#506784",
             "minorgridcolor": "#506784",
             "startlinecolor": "#A2B1C6"
            },
            "type": "carpet"
           }
          ],
          "choropleth": [
           {
            "colorbar": {
             "outlinewidth": 0,
             "ticks": ""
            },
            "type": "choropleth"
           }
          ],
          "contour": [
           {
            "colorbar": {
             "outlinewidth": 0,
             "ticks": ""
            },
            "colorscale": [
             [
              0,
              "#0d0887"
             ],
             [
              0.1111111111111111,
              "#46039f"
             ],
             [
              0.2222222222222222,
              "#7201a8"
             ],
             [
              0.3333333333333333,
              "#9c179e"
             ],
             [
              0.4444444444444444,
              "#bd3786"
             ],
             [
              0.5555555555555556,
              "#d8576b"
             ],
             [
              0.6666666666666666,
              "#ed7953"
             ],
             [
              0.7777777777777778,
              "#fb9f3a"
             ],
             [
              0.8888888888888888,
              "#fdca26"
             ],
             [
              1,
              "#f0f921"
             ]
            ],
            "type": "contour"
           }
          ],
          "contourcarpet": [
           {
            "colorbar": {
             "outlinewidth": 0,
             "ticks": ""
            },
            "type": "contourcarpet"
           }
          ],
          "heatmap": [
           {
            "colorbar": {
             "outlinewidth": 0,
             "ticks": ""
            },
            "colorscale": [
             [
              0,
              "#0d0887"
             ],
             [
              0.1111111111111111,
              "#46039f"
             ],
             [
              0.2222222222222222,
              "#7201a8"
             ],
             [
              0.3333333333333333,
              "#9c179e"
             ],
             [
              0.4444444444444444,
              "#bd3786"
             ],
             [
              0.5555555555555556,
              "#d8576b"
             ],
             [
              0.6666666666666666,
              "#ed7953"
             ],
             [
              0.7777777777777778,
              "#fb9f3a"
             ],
             [
              0.8888888888888888,
              "#fdca26"
             ],
             [
              1,
              "#f0f921"
             ]
            ],
            "type": "heatmap"
           }
          ],
          "heatmapgl": [
           {
            "colorbar": {
             "outlinewidth": 0,
             "ticks": ""
            },
            "colorscale": [
             [
              0,
              "#0d0887"
             ],
             [
              0.1111111111111111,
              "#46039f"
             ],
             [
              0.2222222222222222,
              "#7201a8"
             ],
             [
              0.3333333333333333,
              "#9c179e"
             ],
             [
              0.4444444444444444,
              "#bd3786"
             ],
             [
              0.5555555555555556,
              "#d8576b"
             ],
             [
              0.6666666666666666,
              "#ed7953"
             ],
             [
              0.7777777777777778,
              "#fb9f3a"
             ],
             [
              0.8888888888888888,
              "#fdca26"
             ],
             [
              1,
              "#f0f921"
             ]
            ],
            "type": "heatmapgl"
           }
          ],
          "histogram": [
           {
            "marker": {
             "pattern": {
              "fillmode": "overlay",
              "size": 10,
              "solidity": 0.2
             }
            },
            "type": "histogram"
           }
          ],
          "histogram2d": [
           {
            "colorbar": {
             "outlinewidth": 0,
             "ticks": ""
            },
            "colorscale": [
             [
              0,
              "#0d0887"
             ],
             [
              0.1111111111111111,
              "#46039f"
             ],
             [
              0.2222222222222222,
              "#7201a8"
             ],
             [
              0.3333333333333333,
              "#9c179e"
             ],
             [
              0.4444444444444444,
              "#bd3786"
             ],
             [
              0.5555555555555556,
              "#d8576b"
             ],
             [
              0.6666666666666666,
              "#ed7953"
             ],
             [
              0.7777777777777778,
              "#fb9f3a"
             ],
             [
              0.8888888888888888,
              "#fdca26"
             ],
             [
              1,
              "#f0f921"
             ]
            ],
            "type": "histogram2d"
           }
          ],
          "histogram2dcontour": [
           {
            "colorbar": {
             "outlinewidth": 0,
             "ticks": ""
            },
            "colorscale": [
             [
              0,
              "#0d0887"
             ],
             [
              0.1111111111111111,
              "#46039f"
             ],
             [
              0.2222222222222222,
              "#7201a8"
             ],
             [
              0.3333333333333333,
              "#9c179e"
             ],
             [
              0.4444444444444444,
              "#bd3786"
             ],
             [
              0.5555555555555556,
              "#d8576b"
             ],
             [
              0.6666666666666666,
              "#ed7953"
             ],
             [
              0.7777777777777778,
              "#fb9f3a"
             ],
             [
              0.8888888888888888,
              "#fdca26"
             ],
             [
              1,
              "#f0f921"
             ]
            ],
            "type": "histogram2dcontour"
           }
          ],
          "mesh3d": [
           {
            "colorbar": {
             "outlinewidth": 0,
             "ticks": ""
            },
            "type": "mesh3d"
           }
          ],
          "parcoords": [
           {
            "line": {
             "colorbar": {
              "outlinewidth": 0,
              "ticks": ""
             }
            },
            "type": "parcoords"
           }
          ],
          "pie": [
           {
            "automargin": true,
            "type": "pie"
           }
          ],
          "scatter": [
           {
            "marker": {
             "line": {
              "color": "#283442"
             }
            },
            "type": "scatter"
           }
          ],
          "scatter3d": [
           {
            "line": {
             "colorbar": {
              "outlinewidth": 0,
              "ticks": ""
             }
            },
            "marker": {
             "colorbar": {
              "outlinewidth": 0,
              "ticks": ""
             }
            },
            "type": "scatter3d"
           }
          ],
          "scattercarpet": [
           {
            "marker": {
             "colorbar": {
              "outlinewidth": 0,
              "ticks": ""
             }
            },
            "type": "scattercarpet"
           }
          ],
          "scattergeo": [
           {
            "marker": {
             "colorbar": {
              "outlinewidth": 0,
              "ticks": ""
             }
            },
            "type": "scattergeo"
           }
          ],
          "scattergl": [
           {
            "marker": {
             "line": {
              "color": "#283442"
             }
            },
            "type": "scattergl"
           }
          ],
          "scattermapbox": [
           {
            "marker": {
             "colorbar": {
              "outlinewidth": 0,
              "ticks": ""
             }
            },
            "type": "scattermapbox"
           }
          ],
          "scatterpolar": [
           {
            "marker": {
             "colorbar": {
              "outlinewidth": 0,
              "ticks": ""
             }
            },
            "type": "scatterpolar"
           }
          ],
          "scatterpolargl": [
           {
            "marker": {
             "colorbar": {
              "outlinewidth": 0,
              "ticks": ""
             }
            },
            "type": "scatterpolargl"
           }
          ],
          "scatterternary": [
           {
            "marker": {
             "colorbar": {
              "outlinewidth": 0,
              "ticks": ""
             }
            },
            "type": "scatterternary"
           }
          ],
          "surface": [
           {
            "colorbar": {
             "outlinewidth": 0,
             "ticks": ""
            },
            "colorscale": [
             [
              0,
              "#0d0887"
             ],
             [
              0.1111111111111111,
              "#46039f"
             ],
             [
              0.2222222222222222,
              "#7201a8"
             ],
             [
              0.3333333333333333,
              "#9c179e"
             ],
             [
              0.4444444444444444,
              "#bd3786"
             ],
             [
              0.5555555555555556,
              "#d8576b"
             ],
             [
              0.6666666666666666,
              "#ed7953"
             ],
             [
              0.7777777777777778,
              "#fb9f3a"
             ],
             [
              0.8888888888888888,
              "#fdca26"
             ],
             [
              1,
              "#f0f921"
             ]
            ],
            "type": "surface"
           }
          ],
          "table": [
           {
            "cells": {
             "fill": {
              "color": "#506784"
             },
             "line": {
              "color": "rgb(17,17,17)"
             }
            },
            "header": {
             "fill": {
              "color": "#2a3f5f"
             },
             "line": {
              "color": "rgb(17,17,17)"
             }
            },
            "type": "table"
           }
          ]
         },
         "layout": {
          "annotationdefaults": {
           "arrowcolor": "#f2f5fa",
           "arrowhead": 0,
           "arrowwidth": 1
          },
          "autotypenumbers": "strict",
          "coloraxis": {
           "colorbar": {
            "outlinewidth": 0,
            "ticks": ""
           }
          },
          "colorscale": {
           "diverging": [
            [
             0,
             "#8e0152"
            ],
            [
             0.1,
             "#c51b7d"
            ],
            [
             0.2,
             "#de77ae"
            ],
            [
             0.3,
             "#f1b6da"
            ],
            [
             0.4,
             "#fde0ef"
            ],
            [
             0.5,
             "#f7f7f7"
            ],
            [
             0.6,
             "#e6f5d0"
            ],
            [
             0.7,
             "#b8e186"
            ],
            [
             0.8,
             "#7fbc41"
            ],
            [
             0.9,
             "#4d9221"
            ],
            [
             1,
             "#276419"
            ]
           ],
           "sequential": [
            [
             0,
             "#0d0887"
            ],
            [
             0.1111111111111111,
             "#46039f"
            ],
            [
             0.2222222222222222,
             "#7201a8"
            ],
            [
             0.3333333333333333,
             "#9c179e"
            ],
            [
             0.4444444444444444,
             "#bd3786"
            ],
            [
             0.5555555555555556,
             "#d8576b"
            ],
            [
             0.6666666666666666,
             "#ed7953"
            ],
            [
             0.7777777777777778,
             "#fb9f3a"
            ],
            [
             0.8888888888888888,
             "#fdca26"
            ],
            [
             1,
             "#f0f921"
            ]
           ],
           "sequentialminus": [
            [
             0,
             "#0d0887"
            ],
            [
             0.1111111111111111,
             "#46039f"
            ],
            [
             0.2222222222222222,
             "#7201a8"
            ],
            [
             0.3333333333333333,
             "#9c179e"
            ],
            [
             0.4444444444444444,
             "#bd3786"
            ],
            [
             0.5555555555555556,
             "#d8576b"
            ],
            [
             0.6666666666666666,
             "#ed7953"
            ],
            [
             0.7777777777777778,
             "#fb9f3a"
            ],
            [
             0.8888888888888888,
             "#fdca26"
            ],
            [
             1,
             "#f0f921"
            ]
           ]
          },
          "colorway": [
           "#636efa",
           "#EF553B",
           "#00cc96",
           "#ab63fa",
           "#FFA15A",
           "#19d3f3",
           "#FF6692",
           "#B6E880",
           "#FF97FF",
           "#FECB52"
          ],
          "font": {
           "color": "#f2f5fa"
          },
          "geo": {
           "bgcolor": "rgb(17,17,17)",
           "lakecolor": "rgb(17,17,17)",
           "landcolor": "rgb(17,17,17)",
           "showlakes": true,
           "showland": true,
           "subunitcolor": "#506784"
          },
          "hoverlabel": {
           "align": "left"
          },
          "hovermode": "closest",
          "mapbox": {
           "style": "dark"
          },
          "paper_bgcolor": "rgb(17,17,17)",
          "plot_bgcolor": "rgb(17,17,17)",
          "polar": {
           "angularaxis": {
            "gridcolor": "#506784",
            "linecolor": "#506784",
            "ticks": ""
           },
           "bgcolor": "rgb(17,17,17)",
           "radialaxis": {
            "gridcolor": "#506784",
            "linecolor": "#506784",
            "ticks": ""
           }
          },
          "scene": {
           "xaxis": {
            "backgroundcolor": "rgb(17,17,17)",
            "gridcolor": "#506784",
            "gridwidth": 2,
            "linecolor": "#506784",
            "showbackground": true,
            "ticks": "",
            "zerolinecolor": "#C8D4E3"
           },
           "yaxis": {
            "backgroundcolor": "rgb(17,17,17)",
            "gridcolor": "#506784",
            "gridwidth": 2,
            "linecolor": "#506784",
            "showbackground": true,
            "ticks": "",
            "zerolinecolor": "#C8D4E3"
           },
           "zaxis": {
            "backgroundcolor": "rgb(17,17,17)",
            "gridcolor": "#506784",
            "gridwidth": 2,
            "linecolor": "#506784",
            "showbackground": true,
            "ticks": "",
            "zerolinecolor": "#C8D4E3"
           }
          },
          "shapedefaults": {
           "line": {
            "color": "#f2f5fa"
           }
          },
          "sliderdefaults": {
           "bgcolor": "#C8D4E3",
           "bordercolor": "rgb(17,17,17)",
           "borderwidth": 1,
           "tickwidth": 0
          },
          "ternary": {
           "aaxis": {
            "gridcolor": "#506784",
            "linecolor": "#506784",
            "ticks": ""
           },
           "baxis": {
            "gridcolor": "#506784",
            "linecolor": "#506784",
            "ticks": ""
           },
           "bgcolor": "rgb(17,17,17)",
           "caxis": {
            "gridcolor": "#506784",
            "linecolor": "#506784",
            "ticks": ""
           }
          },
          "title": {
           "x": 0.05
          },
          "updatemenudefaults": {
           "bgcolor": "#506784",
           "borderwidth": 0
          },
          "xaxis": {
           "automargin": true,
           "gridcolor": "#283442",
           "linecolor": "#506784",
           "ticks": "",
           "title": {
            "standoff": 15
           },
           "zerolinecolor": "#283442",
           "zerolinewidth": 2
          },
          "yaxis": {
           "automargin": true,
           "gridcolor": "#283442",
           "linecolor": "#506784",
           "ticks": "",
           "title": {
            "standoff": 15
           },
           "zerolinecolor": "#283442",
           "zerolinewidth": 2
          }
         }
        },
        "xaxis": {
         "anchor": "y",
         "categoryarray": [
          "C",
          "F",
          "G",
          "PF",
          "PG",
          "SF",
          "SG"
         ],
         "categoryorder": "array",
         "domain": [
          0,
          1
         ],
         "title": {
          "text": "POS"
         }
        },
        "yaxis": {
         "anchor": "x",
         "domain": [
          0,
          1
         ],
         "title": {
          "text": "count"
         }
        }
       }
      }
     },
     "metadata": {},
     "output_type": "display_data"
    }
   ],
   "source": [
    "aux = data_merged['POS'].value_counts().reset_index()\n",
    "aux = aux.sort_values(by='POS', ascending=True)\n",
    "\n",
    "px.bar(aux, \n",
    "       x='POS', \n",
    "       y='count', \n",
    "       template='plotly_dark', \n",
    "       color='POS',\n",
    "       opacity=0.6)"
   ]
  },
  {
   "cell_type": "code",
   "execution_count": null,
   "metadata": {},
   "outputs": [],
   "source": [
    "# 2. Distribuição de pontos na temporada por posição"
   ]
  },
  {
   "cell_type": "code",
   "execution_count": 52,
   "metadata": {},
   "outputs": [
    {
     "data": {
      "text/html": [
       "<div>\n",
       "<style scoped>\n",
       "    .dataframe tbody tr th:only-of-type {\n",
       "        vertical-align: middle;\n",
       "    }\n",
       "\n",
       "    .dataframe tbody tr th {\n",
       "        vertical-align: top;\n",
       "    }\n",
       "\n",
       "    .dataframe thead th {\n",
       "        text-align: right;\n",
       "    }\n",
       "</style>\n",
       "<table border=\"1\" class=\"dataframe\">\n",
       "  <thead>\n",
       "    <tr style=\"text-align: right;\">\n",
       "      <th></th>\n",
       "      <th>POS</th>\n",
       "      <th>PTS</th>\n",
       "    </tr>\n",
       "  </thead>\n",
       "  <tbody>\n",
       "    <tr>\n",
       "      <th>0</th>\n",
       "      <td>C</td>\n",
       "      <td>482.76</td>\n",
       "    </tr>\n",
       "    <tr>\n",
       "      <th>1</th>\n",
       "      <td>F</td>\n",
       "      <td>245.00</td>\n",
       "    </tr>\n",
       "    <tr>\n",
       "      <th>2</th>\n",
       "      <td>G</td>\n",
       "      <td>153.82</td>\n",
       "    </tr>\n",
       "    <tr>\n",
       "      <th>3</th>\n",
       "      <td>PF</td>\n",
       "      <td>588.84</td>\n",
       "    </tr>\n",
       "    <tr>\n",
       "      <th>4</th>\n",
       "      <td>PG</td>\n",
       "      <td>721.42</td>\n",
       "    </tr>\n",
       "    <tr>\n",
       "      <th>5</th>\n",
       "      <td>SF</td>\n",
       "      <td>637.29</td>\n",
       "    </tr>\n",
       "    <tr>\n",
       "      <th>6</th>\n",
       "      <td>SG</td>\n",
       "      <td>694.54</td>\n",
       "    </tr>\n",
       "  </tbody>\n",
       "</table>\n",
       "</div>"
      ],
      "text/plain": [
       "  POS     PTS\n",
       "0   C  482.76\n",
       "1   F  245.00\n",
       "2   G  153.82\n",
       "3  PF  588.84\n",
       "4  PG  721.42\n",
       "5  SF  637.29\n",
       "6  SG  694.54"
      ]
     },
     "execution_count": 52,
     "metadata": {},
     "output_type": "execute_result"
    }
   ],
   "source": [
    "data_merged[['POS', 'PTS']].groupby('POS').mean('PTS').round(2).reset_index()"
   ]
  },
  {
   "cell_type": "code",
   "execution_count": 53,
   "metadata": {},
   "outputs": [
    {
     "data": {
      "application/vnd.plotly.v1+json": {
       "config": {
        "plotlyServerURL": "https://plot.ly"
       },
       "data": [
        {
         "alignmentgroup": "True",
         "hovertemplate": "POS=%{x}<br>PTS=%{y}<extra></extra>",
         "legendgroup": "C",
         "marker": {
          "color": "#636efa",
          "opacity": 0.6,
          "pattern": {
           "shape": ""
          }
         },
         "name": "C",
         "offsetgroup": "C",
         "orientation": "v",
         "showlegend": true,
         "textposition": "auto",
         "type": "bar",
         "x": [
          "C"
         ],
         "xaxis": "x",
         "y": [
          482.76
         ],
         "yaxis": "y"
        },
        {
         "alignmentgroup": "True",
         "hovertemplate": "POS=%{x}<br>PTS=%{y}<extra></extra>",
         "legendgroup": "F",
         "marker": {
          "color": "#EF553B",
          "opacity": 0.6,
          "pattern": {
           "shape": ""
          }
         },
         "name": "F",
         "offsetgroup": "F",
         "orientation": "v",
         "showlegend": true,
         "textposition": "auto",
         "type": "bar",
         "x": [
          "F"
         ],
         "xaxis": "x",
         "y": [
          245
         ],
         "yaxis": "y"
        },
        {
         "alignmentgroup": "True",
         "hovertemplate": "POS=%{x}<br>PTS=%{y}<extra></extra>",
         "legendgroup": "G",
         "marker": {
          "color": "#00cc96",
          "opacity": 0.6,
          "pattern": {
           "shape": ""
          }
         },
         "name": "G",
         "offsetgroup": "G",
         "orientation": "v",
         "showlegend": true,
         "textposition": "auto",
         "type": "bar",
         "x": [
          "G"
         ],
         "xaxis": "x",
         "y": [
          153.82
         ],
         "yaxis": "y"
        },
        {
         "alignmentgroup": "True",
         "hovertemplate": "POS=%{x}<br>PTS=%{y}<extra></extra>",
         "legendgroup": "PF",
         "marker": {
          "color": "#ab63fa",
          "opacity": 0.6,
          "pattern": {
           "shape": ""
          }
         },
         "name": "PF",
         "offsetgroup": "PF",
         "orientation": "v",
         "showlegend": true,
         "textposition": "auto",
         "type": "bar",
         "x": [
          "PF"
         ],
         "xaxis": "x",
         "y": [
          588.84
         ],
         "yaxis": "y"
        },
        {
         "alignmentgroup": "True",
         "hovertemplate": "POS=%{x}<br>PTS=%{y}<extra></extra>",
         "legendgroup": "PG",
         "marker": {
          "color": "#FFA15A",
          "opacity": 0.6,
          "pattern": {
           "shape": ""
          }
         },
         "name": "PG",
         "offsetgroup": "PG",
         "orientation": "v",
         "showlegend": true,
         "textposition": "auto",
         "type": "bar",
         "x": [
          "PG"
         ],
         "xaxis": "x",
         "y": [
          721.42
         ],
         "yaxis": "y"
        },
        {
         "alignmentgroup": "True",
         "hovertemplate": "POS=%{x}<br>PTS=%{y}<extra></extra>",
         "legendgroup": "SF",
         "marker": {
          "color": "#19d3f3",
          "opacity": 0.6,
          "pattern": {
           "shape": ""
          }
         },
         "name": "SF",
         "offsetgroup": "SF",
         "orientation": "v",
         "showlegend": true,
         "textposition": "auto",
         "type": "bar",
         "x": [
          "SF"
         ],
         "xaxis": "x",
         "y": [
          637.29
         ],
         "yaxis": "y"
        },
        {
         "alignmentgroup": "True",
         "hovertemplate": "POS=%{x}<br>PTS=%{y}<extra></extra>",
         "legendgroup": "SG",
         "marker": {
          "color": "#FF6692",
          "opacity": 0.6,
          "pattern": {
           "shape": ""
          }
         },
         "name": "SG",
         "offsetgroup": "SG",
         "orientation": "v",
         "showlegend": true,
         "textposition": "auto",
         "type": "bar",
         "x": [
          "SG"
         ],
         "xaxis": "x",
         "y": [
          694.54
         ],
         "yaxis": "y"
        }
       ],
       "layout": {
        "barmode": "relative",
        "legend": {
         "title": {
          "text": "POS"
         },
         "tracegroupgap": 0
        },
        "margin": {
         "t": 60
        },
        "template": {
         "data": {
          "bar": [
           {
            "error_x": {
             "color": "#f2f5fa"
            },
            "error_y": {
             "color": "#f2f5fa"
            },
            "marker": {
             "line": {
              "color": "rgb(17,17,17)",
              "width": 0.5
             },
             "pattern": {
              "fillmode": "overlay",
              "size": 10,
              "solidity": 0.2
             }
            },
            "type": "bar"
           }
          ],
          "barpolar": [
           {
            "marker": {
             "line": {
              "color": "rgb(17,17,17)",
              "width": 0.5
             },
             "pattern": {
              "fillmode": "overlay",
              "size": 10,
              "solidity": 0.2
             }
            },
            "type": "barpolar"
           }
          ],
          "carpet": [
           {
            "aaxis": {
             "endlinecolor": "#A2B1C6",
             "gridcolor": "#506784",
             "linecolor": "#506784",
             "minorgridcolor": "#506784",
             "startlinecolor": "#A2B1C6"
            },
            "baxis": {
             "endlinecolor": "#A2B1C6",
             "gridcolor": "#506784",
             "linecolor": "#506784",
             "minorgridcolor": "#506784",
             "startlinecolor": "#A2B1C6"
            },
            "type": "carpet"
           }
          ],
          "choropleth": [
           {
            "colorbar": {
             "outlinewidth": 0,
             "ticks": ""
            },
            "type": "choropleth"
           }
          ],
          "contour": [
           {
            "colorbar": {
             "outlinewidth": 0,
             "ticks": ""
            },
            "colorscale": [
             [
              0,
              "#0d0887"
             ],
             [
              0.1111111111111111,
              "#46039f"
             ],
             [
              0.2222222222222222,
              "#7201a8"
             ],
             [
              0.3333333333333333,
              "#9c179e"
             ],
             [
              0.4444444444444444,
              "#bd3786"
             ],
             [
              0.5555555555555556,
              "#d8576b"
             ],
             [
              0.6666666666666666,
              "#ed7953"
             ],
             [
              0.7777777777777778,
              "#fb9f3a"
             ],
             [
              0.8888888888888888,
              "#fdca26"
             ],
             [
              1,
              "#f0f921"
             ]
            ],
            "type": "contour"
           }
          ],
          "contourcarpet": [
           {
            "colorbar": {
             "outlinewidth": 0,
             "ticks": ""
            },
            "type": "contourcarpet"
           }
          ],
          "heatmap": [
           {
            "colorbar": {
             "outlinewidth": 0,
             "ticks": ""
            },
            "colorscale": [
             [
              0,
              "#0d0887"
             ],
             [
              0.1111111111111111,
              "#46039f"
             ],
             [
              0.2222222222222222,
              "#7201a8"
             ],
             [
              0.3333333333333333,
              "#9c179e"
             ],
             [
              0.4444444444444444,
              "#bd3786"
             ],
             [
              0.5555555555555556,
              "#d8576b"
             ],
             [
              0.6666666666666666,
              "#ed7953"
             ],
             [
              0.7777777777777778,
              "#fb9f3a"
             ],
             [
              0.8888888888888888,
              "#fdca26"
             ],
             [
              1,
              "#f0f921"
             ]
            ],
            "type": "heatmap"
           }
          ],
          "heatmapgl": [
           {
            "colorbar": {
             "outlinewidth": 0,
             "ticks": ""
            },
            "colorscale": [
             [
              0,
              "#0d0887"
             ],
             [
              0.1111111111111111,
              "#46039f"
             ],
             [
              0.2222222222222222,
              "#7201a8"
             ],
             [
              0.3333333333333333,
              "#9c179e"
             ],
             [
              0.4444444444444444,
              "#bd3786"
             ],
             [
              0.5555555555555556,
              "#d8576b"
             ],
             [
              0.6666666666666666,
              "#ed7953"
             ],
             [
              0.7777777777777778,
              "#fb9f3a"
             ],
             [
              0.8888888888888888,
              "#fdca26"
             ],
             [
              1,
              "#f0f921"
             ]
            ],
            "type": "heatmapgl"
           }
          ],
          "histogram": [
           {
            "marker": {
             "pattern": {
              "fillmode": "overlay",
              "size": 10,
              "solidity": 0.2
             }
            },
            "type": "histogram"
           }
          ],
          "histogram2d": [
           {
            "colorbar": {
             "outlinewidth": 0,
             "ticks": ""
            },
            "colorscale": [
             [
              0,
              "#0d0887"
             ],
             [
              0.1111111111111111,
              "#46039f"
             ],
             [
              0.2222222222222222,
              "#7201a8"
             ],
             [
              0.3333333333333333,
              "#9c179e"
             ],
             [
              0.4444444444444444,
              "#bd3786"
             ],
             [
              0.5555555555555556,
              "#d8576b"
             ],
             [
              0.6666666666666666,
              "#ed7953"
             ],
             [
              0.7777777777777778,
              "#fb9f3a"
             ],
             [
              0.8888888888888888,
              "#fdca26"
             ],
             [
              1,
              "#f0f921"
             ]
            ],
            "type": "histogram2d"
           }
          ],
          "histogram2dcontour": [
           {
            "colorbar": {
             "outlinewidth": 0,
             "ticks": ""
            },
            "colorscale": [
             [
              0,
              "#0d0887"
             ],
             [
              0.1111111111111111,
              "#46039f"
             ],
             [
              0.2222222222222222,
              "#7201a8"
             ],
             [
              0.3333333333333333,
              "#9c179e"
             ],
             [
              0.4444444444444444,
              "#bd3786"
             ],
             [
              0.5555555555555556,
              "#d8576b"
             ],
             [
              0.6666666666666666,
              "#ed7953"
             ],
             [
              0.7777777777777778,
              "#fb9f3a"
             ],
             [
              0.8888888888888888,
              "#fdca26"
             ],
             [
              1,
              "#f0f921"
             ]
            ],
            "type": "histogram2dcontour"
           }
          ],
          "mesh3d": [
           {
            "colorbar": {
             "outlinewidth": 0,
             "ticks": ""
            },
            "type": "mesh3d"
           }
          ],
          "parcoords": [
           {
            "line": {
             "colorbar": {
              "outlinewidth": 0,
              "ticks": ""
             }
            },
            "type": "parcoords"
           }
          ],
          "pie": [
           {
            "automargin": true,
            "type": "pie"
           }
          ],
          "scatter": [
           {
            "marker": {
             "line": {
              "color": "#283442"
             }
            },
            "type": "scatter"
           }
          ],
          "scatter3d": [
           {
            "line": {
             "colorbar": {
              "outlinewidth": 0,
              "ticks": ""
             }
            },
            "marker": {
             "colorbar": {
              "outlinewidth": 0,
              "ticks": ""
             }
            },
            "type": "scatter3d"
           }
          ],
          "scattercarpet": [
           {
            "marker": {
             "colorbar": {
              "outlinewidth": 0,
              "ticks": ""
             }
            },
            "type": "scattercarpet"
           }
          ],
          "scattergeo": [
           {
            "marker": {
             "colorbar": {
              "outlinewidth": 0,
              "ticks": ""
             }
            },
            "type": "scattergeo"
           }
          ],
          "scattergl": [
           {
            "marker": {
             "line": {
              "color": "#283442"
             }
            },
            "type": "scattergl"
           }
          ],
          "scattermapbox": [
           {
            "marker": {
             "colorbar": {
              "outlinewidth": 0,
              "ticks": ""
             }
            },
            "type": "scattermapbox"
           }
          ],
          "scatterpolar": [
           {
            "marker": {
             "colorbar": {
              "outlinewidth": 0,
              "ticks": ""
             }
            },
            "type": "scatterpolar"
           }
          ],
          "scatterpolargl": [
           {
            "marker": {
             "colorbar": {
              "outlinewidth": 0,
              "ticks": ""
             }
            },
            "type": "scatterpolargl"
           }
          ],
          "scatterternary": [
           {
            "marker": {
             "colorbar": {
              "outlinewidth": 0,
              "ticks": ""
             }
            },
            "type": "scatterternary"
           }
          ],
          "surface": [
           {
            "colorbar": {
             "outlinewidth": 0,
             "ticks": ""
            },
            "colorscale": [
             [
              0,
              "#0d0887"
             ],
             [
              0.1111111111111111,
              "#46039f"
             ],
             [
              0.2222222222222222,
              "#7201a8"
             ],
             [
              0.3333333333333333,
              "#9c179e"
             ],
             [
              0.4444444444444444,
              "#bd3786"
             ],
             [
              0.5555555555555556,
              "#d8576b"
             ],
             [
              0.6666666666666666,
              "#ed7953"
             ],
             [
              0.7777777777777778,
              "#fb9f3a"
             ],
             [
              0.8888888888888888,
              "#fdca26"
             ],
             [
              1,
              "#f0f921"
             ]
            ],
            "type": "surface"
           }
          ],
          "table": [
           {
            "cells": {
             "fill": {
              "color": "#506784"
             },
             "line": {
              "color": "rgb(17,17,17)"
             }
            },
            "header": {
             "fill": {
              "color": "#2a3f5f"
             },
             "line": {
              "color": "rgb(17,17,17)"
             }
            },
            "type": "table"
           }
          ]
         },
         "layout": {
          "annotationdefaults": {
           "arrowcolor": "#f2f5fa",
           "arrowhead": 0,
           "arrowwidth": 1
          },
          "autotypenumbers": "strict",
          "coloraxis": {
           "colorbar": {
            "outlinewidth": 0,
            "ticks": ""
           }
          },
          "colorscale": {
           "diverging": [
            [
             0,
             "#8e0152"
            ],
            [
             0.1,
             "#c51b7d"
            ],
            [
             0.2,
             "#de77ae"
            ],
            [
             0.3,
             "#f1b6da"
            ],
            [
             0.4,
             "#fde0ef"
            ],
            [
             0.5,
             "#f7f7f7"
            ],
            [
             0.6,
             "#e6f5d0"
            ],
            [
             0.7,
             "#b8e186"
            ],
            [
             0.8,
             "#7fbc41"
            ],
            [
             0.9,
             "#4d9221"
            ],
            [
             1,
             "#276419"
            ]
           ],
           "sequential": [
            [
             0,
             "#0d0887"
            ],
            [
             0.1111111111111111,
             "#46039f"
            ],
            [
             0.2222222222222222,
             "#7201a8"
            ],
            [
             0.3333333333333333,
             "#9c179e"
            ],
            [
             0.4444444444444444,
             "#bd3786"
            ],
            [
             0.5555555555555556,
             "#d8576b"
            ],
            [
             0.6666666666666666,
             "#ed7953"
            ],
            [
             0.7777777777777778,
             "#fb9f3a"
            ],
            [
             0.8888888888888888,
             "#fdca26"
            ],
            [
             1,
             "#f0f921"
            ]
           ],
           "sequentialminus": [
            [
             0,
             "#0d0887"
            ],
            [
             0.1111111111111111,
             "#46039f"
            ],
            [
             0.2222222222222222,
             "#7201a8"
            ],
            [
             0.3333333333333333,
             "#9c179e"
            ],
            [
             0.4444444444444444,
             "#bd3786"
            ],
            [
             0.5555555555555556,
             "#d8576b"
            ],
            [
             0.6666666666666666,
             "#ed7953"
            ],
            [
             0.7777777777777778,
             "#fb9f3a"
            ],
            [
             0.8888888888888888,
             "#fdca26"
            ],
            [
             1,
             "#f0f921"
            ]
           ]
          },
          "colorway": [
           "#636efa",
           "#EF553B",
           "#00cc96",
           "#ab63fa",
           "#FFA15A",
           "#19d3f3",
           "#FF6692",
           "#B6E880",
           "#FF97FF",
           "#FECB52"
          ],
          "font": {
           "color": "#f2f5fa"
          },
          "geo": {
           "bgcolor": "rgb(17,17,17)",
           "lakecolor": "rgb(17,17,17)",
           "landcolor": "rgb(17,17,17)",
           "showlakes": true,
           "showland": true,
           "subunitcolor": "#506784"
          },
          "hoverlabel": {
           "align": "left"
          },
          "hovermode": "closest",
          "mapbox": {
           "style": "dark"
          },
          "paper_bgcolor": "rgb(17,17,17)",
          "plot_bgcolor": "rgb(17,17,17)",
          "polar": {
           "angularaxis": {
            "gridcolor": "#506784",
            "linecolor": "#506784",
            "ticks": ""
           },
           "bgcolor": "rgb(17,17,17)",
           "radialaxis": {
            "gridcolor": "#506784",
            "linecolor": "#506784",
            "ticks": ""
           }
          },
          "scene": {
           "xaxis": {
            "backgroundcolor": "rgb(17,17,17)",
            "gridcolor": "#506784",
            "gridwidth": 2,
            "linecolor": "#506784",
            "showbackground": true,
            "ticks": "",
            "zerolinecolor": "#C8D4E3"
           },
           "yaxis": {
            "backgroundcolor": "rgb(17,17,17)",
            "gridcolor": "#506784",
            "gridwidth": 2,
            "linecolor": "#506784",
            "showbackground": true,
            "ticks": "",
            "zerolinecolor": "#C8D4E3"
           },
           "zaxis": {
            "backgroundcolor": "rgb(17,17,17)",
            "gridcolor": "#506784",
            "gridwidth": 2,
            "linecolor": "#506784",
            "showbackground": true,
            "ticks": "",
            "zerolinecolor": "#C8D4E3"
           }
          },
          "shapedefaults": {
           "line": {
            "color": "#f2f5fa"
           }
          },
          "sliderdefaults": {
           "bgcolor": "#C8D4E3",
           "bordercolor": "rgb(17,17,17)",
           "borderwidth": 1,
           "tickwidth": 0
          },
          "ternary": {
           "aaxis": {
            "gridcolor": "#506784",
            "linecolor": "#506784",
            "ticks": ""
           },
           "baxis": {
            "gridcolor": "#506784",
            "linecolor": "#506784",
            "ticks": ""
           },
           "bgcolor": "rgb(17,17,17)",
           "caxis": {
            "gridcolor": "#506784",
            "linecolor": "#506784",
            "ticks": ""
           }
          },
          "title": {
           "x": 0.05
          },
          "updatemenudefaults": {
           "bgcolor": "#506784",
           "borderwidth": 0
          },
          "xaxis": {
           "automargin": true,
           "gridcolor": "#283442",
           "linecolor": "#506784",
           "ticks": "",
           "title": {
            "standoff": 15
           },
           "zerolinecolor": "#283442",
           "zerolinewidth": 2
          },
          "yaxis": {
           "automargin": true,
           "gridcolor": "#283442",
           "linecolor": "#506784",
           "ticks": "",
           "title": {
            "standoff": 15
           },
           "zerolinecolor": "#283442",
           "zerolinewidth": 2
          }
         }
        },
        "xaxis": {
         "anchor": "y",
         "categoryarray": [
          "C",
          "F",
          "G",
          "PF",
          "PG",
          "SF",
          "SG"
         ],
         "categoryorder": "array",
         "domain": [
          0,
          1
         ],
         "title": {
          "text": "POS"
         }
        },
        "yaxis": {
         "anchor": "x",
         "domain": [
          0,
          1
         ],
         "title": {
          "text": "PTS"
         }
        }
       }
      }
     },
     "metadata": {},
     "output_type": "display_data"
    }
   ],
   "source": [
    "aux = data_merged[['POS', 'PTS']].groupby('POS').mean('PTS').round(2).reset_index()\n",
    "\n",
    "px.bar(data_frame=aux,\n",
    "       x='POS',\n",
    "       y='PTS',\n",
    "       color='POS',\n",
    "       template='plotly_dark',\n",
    "       opacity=0.6,\n",
    "       orientation='v')"
   ]
  },
  {
   "cell_type": "code",
   "execution_count": 54,
   "metadata": {},
   "outputs": [
    {
     "data": {
      "application/vnd.plotly.v1+json": {
       "config": {
        "plotlyServerURL": "https://plot.ly"
       },
       "data": [
        {
         "alignmentgroup": "True",
         "customdata": [
          [
           "Jayson Tatum"
          ],
          [
           "DeMar DeRozan"
          ],
          [
           "Mikal Bridges"
          ],
          [
           "LeBron James"
          ],
          [
           "Franz Wagner"
          ],
          [
           "Jimmy Butler"
          ],
          [
           "Keldon Johnson"
          ],
          [
           "Kyle Kuzma"
          ],
          [
           "Jerami Grant"
          ],
          [
           "Bojan Bogdanovic"
          ],
          [
           "Kawhi Leonard"
          ],
          [
           "Harrison Barnes"
          ],
          [
           "Scottie Barnes"
          ],
          [
           "O.G. Anunoby"
          ],
          [
           "Brandon Ingram"
          ],
          [
           "Michael Porter Jr."
          ],
          [
           "Saddiq Bey"
          ],
          [
           "Dillon Brooks"
          ],
          [
           "De'Andre Hunter"
          ],
          [
           "Tim Hardaway Jr."
          ],
          [
           "Keegan Murray"
          ],
          [
           "Bruce Brown"
          ],
          [
           "Corey Kispert"
          ],
          [
           "Aaron Nesmith"
          ],
          [
           "Gordon Hayward"
          ],
          [
           "Marcus Morris Sr."
          ],
          [
           "Naji Marshall"
          ],
          [
           "Deni Avdija"
          ],
          [
           "Caleb Martin"
          ],
          [
           "Cedi Osman"
          ],
          [
           "Doug McDermott"
          ],
          [
           "Cameron Johnson"
          ],
          [
           "Herbert Jones"
          ],
          [
           "Keita Bates-Diop"
          ],
          [
           "Kyle Anderson"
          ],
          [
           "Georges Niang"
          ],
          [
           "Andrew Wiggins"
          ],
          [
           "Torrey Craig"
          ],
          [
           "Joe Harris"
          ],
          [
           "Reggie Bullock"
          ],
          [
           "Jordan Nwora"
          ],
          [
           "Troy Brown Jr."
          ],
          [
           "Josh Okogie"
          ],
          [
           "Sam Hauser"
          ],
          [
           "Khris Middleton"
          ],
          [
           "Isaac Okoro"
          ],
          [
           "Isaiah Jackson"
          ],
          [
           "Kenrich Williams"
          ],
          [
           "Kevin Knox II"
          ],
          [
           "Oshae Brissett"
          ],
          [
           "Jalen Johnson"
          ],
          [
           "Cam Reddish"
          ],
          [
           "Nassir Little"
          ],
          [
           "Yuta Watanabe"
          ],
          [
           "Derrick Jones Jr."
          ],
          [
           "T.J. Warren"
          ],
          [
           "Vlatko Cancar"
          ],
          [
           "Rudy Gay"
          ],
          [
           "Paul Reed"
          ],
          [
           "Jae'Sean Tate"
          ],
          [
           "Danuel House Jr."
          ],
          [
           "Davis Bertans"
          ],
          [
           "Justin Holiday"
          ],
          [
           "Stanley Johnson"
          ],
          [
           "Javonte Green"
          ],
          [
           "Admiral Schofield"
          ],
          [
           "Juan Toscano-Anderson"
          ],
          [
           "Kessler Edwards"
          ],
          [
           "Thanasis Antetokounmpo"
          ],
          [
           "Garrett Temple"
          ],
          [
           "KZ Okpala"
          ],
          [
           "Otto Porter Jr."
          ],
          [
           "Cody Martin"
          ],
          [
           "Justin Jackson"
          ],
          [
           "Louis King"
          ],
          [
           "Justin Champagnie"
          ],
          [
           "Joe Wieskamp"
          ],
          [
           "Deonte Burton"
          ],
          [
           "Sterling Brown"
          ]
         ],
         "hovertemplate": "POS=%{x}<br>PTS=%{y}<br>PName=%{customdata[0]}<extra></extra>",
         "legendgroup": "SF",
         "marker": {
          "color": "#636efa"
         },
         "name": "SF",
         "notched": false,
         "offsetgroup": "SF",
         "orientation": "v",
         "showlegend": true,
         "type": "box",
         "x": [
          "SF",
          "SF",
          "SF",
          "SF",
          "SF",
          "SF",
          "SF",
          "SF",
          "SF",
          "SF",
          "SF",
          "SF",
          "SF",
          "SF",
          "SF",
          "SF",
          "SF",
          "SF",
          "SF",
          "SF",
          "SF",
          "SF",
          "SF",
          "SF",
          "SF",
          "SF",
          "SF",
          "SF",
          "SF",
          "SF",
          "SF",
          "SF",
          "SF",
          "SF",
          "SF",
          "SF",
          "SF",
          "SF",
          "SF",
          "SF",
          "SF",
          "SF",
          "SF",
          "SF",
          "SF",
          "SF",
          "SF",
          "SF",
          "SF",
          "SF",
          "SF",
          "SF",
          "SF",
          "SF",
          "SF",
          "SF",
          "SF",
          "SF",
          "SF",
          "SF",
          "SF",
          "SF",
          "SF",
          "SF",
          "SF",
          "SF",
          "SF",
          "SF",
          "SF",
          "SF",
          "SF",
          "SF",
          "SF",
          "SF",
          "SF",
          "SF",
          "SF",
          "SF",
          "SF"
         ],
         "x0": " ",
         "xaxis": "x",
         "y": [
          2225,
          1816,
          1671,
          1590,
          1485,
          1466,
          1385,
          1357,
          1290,
          1273,
          1239,
          1230,
          1179,
          1124,
          1112,
          1080,
          1062,
          1047,
          1029,
          1019,
          976,
          923,
          820,
          738,
          733,
          728,
          698,
          697,
          683,
          669,
          654,
          650,
          649,
          647,
          647,
          637,
          633,
          588,
          562,
          561,
          542,
          541,
          529,
          512,
          497,
          490,
          455,
          425,
          415,
          398,
          395,
          387,
          359,
          322,
          319,
          314,
          297,
          293,
          287,
          283,
          268,
          206,
          205,
          174,
          165,
          155,
          155,
          100,
          51,
          50,
          46,
          44,
          35,
          20,
          20,
          11,
          9,
          0,
          0
         ],
         "y0": " ",
         "yaxis": "y"
        },
        {
         "alignmentgroup": "True",
         "customdata": [
          [
           "Joel Embiid"
          ],
          [
           "Nikola Jokic"
          ],
          [
           "Bam Adebayo"
          ],
          [
           "Kristaps Porzingis"
          ],
          [
           "Nikola Vucevic"
          ],
          [
           "Brook Lopez"
          ],
          [
           "Deandre Ayton"
          ],
          [
           "Jonas Valanciunas"
          ],
          [
           "Myles Turner"
          ],
          [
           "Alperen Sengun"
          ],
          [
           "Jarrett Allen"
          ],
          [
           "Nic Claxton"
          ],
          [
           "Rudy Gobert"
          ],
          [
           "Jakob Poeltl"
          ],
          [
           "Wendell Carter Jr."
          ],
          [
           "Mason Plumlee"
          ],
          [
           "Ivica Zubac"
          ],
          [
           "Naz Reid"
          ],
          [
           "Clint Capela"
          ],
          [
           "Daniel Gafford"
          ],
          [
           "Jusuf Nurkic"
          ],
          [
           "Walker Kessler"
          ],
          [
           "Bol Bol"
          ],
          [
           "Al Horford"
          ],
          [
           "Jalen Duren"
          ],
          [
           "Karl-Anthony Towns"
          ],
          [
           "Moritz Wagner"
          ],
          [
           "Thomas Bryant"
          ],
          [
           "Isaiah Stewart"
          ],
          [
           "Nick Richards"
          ],
          [
           "Dwight Powell"
          ],
          [
           "Jock Landale"
          ],
          [
           "James Wiseman"
          ],
          [
           "Mitchell Robinson"
          ],
          [
           "Isaiah Hartenstein"
          ],
          [
           "Andre Drummond"
          ],
          [
           "Mark Williams"
          ],
          [
           "Mike Muscala"
          ],
          [
           "Steven Adams"
          ],
          [
           "Mo Bamba"
          ],
          [
           "Montrezl Harrell"
          ],
          [
           "Robert Williams III"
          ],
          [
           "Bismack Biyombo"
          ],
          [
           "Willy Hernangomez"
          ],
          [
           "Luke Kornet"
          ],
          [
           "Jaxson Hayes"
          ],
          [
           "Day'Ron Sharpe"
          ],
          [
           "Charles Bassey"
          ],
          [
           "DeAndre Jordan"
          ],
          [
           "Dewayne Dedmon"
          ],
          [
           "JaVale McGee"
          ],
          [
           "Christian Koloko"
          ],
          [
           "Luka Garza"
          ],
          [
           "Jericho Sims"
          ],
          [
           "Goga Bitadze"
          ],
          [
           "Moses Brown"
          ],
          [
           "Damian Jones"
          ],
          [
           "Udoka Azubuike"
          ],
          [
           "Gorgui Dieng"
          ],
          [
           "Orlando Robinson"
          ],
          [
           "Robin Lopez"
          ],
          [
           "Boban Marjanovic"
          ],
          [
           "Cody Zeller"
          ],
          [
           "Jay Huff"
          ],
          [
           "Daniel Theis"
          ],
          [
           "Alex Len"
          ],
          [
           "Khem Birch"
          ],
          [
           "Meyers Leonard"
          ],
          [
           "Omer Yurtseven"
          ],
          [
           "Olivier Sarr"
          ],
          [
           "Nerlens Noel"
          ],
          [
           "Micah Potter"
          ],
          [
           "Tony Bradley"
          ],
          [
           "Neemias Queta"
          ],
          [
           "Chance Comanche"
          ],
          [
           "Marko Simonovic"
          ],
          [
           "Mfiondu Kabengele"
          ],
          [
           "Vernon Carey Jr."
          ]
         ],
         "hovertemplate": "POS=%{x}<br>PTS=%{y}<br>PName=%{customdata[0]}<extra></extra>",
         "legendgroup": "C",
         "marker": {
          "color": "#EF553B"
         },
         "name": "C",
         "notched": false,
         "offsetgroup": "C",
         "orientation": "v",
         "showlegend": true,
         "type": "box",
         "x": [
          "C",
          "C",
          "C",
          "C",
          "C",
          "C",
          "C",
          "C",
          "C",
          "C",
          "C",
          "C",
          "C",
          "C",
          "C",
          "C",
          "C",
          "C",
          "C",
          "C",
          "C",
          "C",
          "C",
          "C",
          "C",
          "C",
          "C",
          "C",
          "C",
          "C",
          "C",
          "C",
          "C",
          "C",
          "C",
          "C",
          "C",
          "C",
          "C",
          "C",
          "C",
          "C",
          "C",
          "C",
          "C",
          "C",
          "C",
          "C",
          "C",
          "C",
          "C",
          "C",
          "C",
          "C",
          "C",
          "C",
          "C",
          "C",
          "C",
          "C",
          "C",
          "C",
          "C",
          "C",
          "C",
          "C",
          "C",
          "C",
          "C",
          "C",
          "C",
          "C",
          "C",
          "C",
          "C",
          "C",
          "C",
          "C"
         ],
         "x0": " ",
         "xaxis": "x",
         "y": [
          2183,
          1690,
          1529,
          1505,
          1447,
          1239,
          1203,
          1115,
          1113,
          1109,
          969,
          961,
          939,
          897,
          868,
          857,
          818,
          781,
          779,
          705,
          694,
          679,
          634,
          616,
          612,
          602,
          600,
          579,
          567,
          532,
          506,
          456,
          450,
          435,
          406,
          399,
          387,
          383,
          361,
          323,
          320,
          279,
          263,
          262,
          261,
          233,
          227,
          199,
          199,
          199,
          186,
          182,
          181,
          178,
          167,
          155,
          142,
          125,
          121,
          116,
          112,
          102,
          98,
          51,
          49,
          43,
          43,
          43,
          40,
          36,
          35,
          24,
          19,
          12,
          7,
          6,
          6,
          6
         ],
         "y0": " ",
         "yaxis": "y"
        },
        {
         "alignmentgroup": "True",
         "customdata": [
          [
           "Luka Doncic"
          ],
          [
           "Shai Gilgeous-Alexander"
          ],
          [
           "Trae Young"
          ],
          [
           "Damian Lillard"
          ],
          [
           "De'Aaron Fox"
          ],
          [
           "Stephen Curry"
          ],
          [
           "Jalen Brunson"
          ],
          [
           "Kyrie Irving"
          ],
          [
           "Ja Morant"
          ],
          [
           "Darius Garland"
          ],
          [
           "Spencer Dinwiddie"
          ],
          [
           "Tyler Herro"
          ],
          [
           "Jamal Murray"
          ],
          [
           "Jrue Holiday"
          ],
          [
           "Jordan Clarkson"
          ],
          [
           "D'Angelo Russell"
          ],
          [
           "Tyrese Maxey"
          ],
          [
           "Jaden Ivey"
          ],
          [
           "Tyrese Haliburton"
          ],
          [
           "Russell Westbrook"
          ],
          [
           "Derrick White"
          ],
          [
           "Malcolm Brogdon"
          ],
          [
           "Tre Jones"
          ],
          [
           "LaMelo Ball"
          ],
          [
           "Markelle Fultz"
          ],
          [
           "Dennis Schroder"
          ],
          [
           "Tyus Jones"
          ],
          [
           "Chris Paul"
          ],
          [
           "Mike Conley"
          ],
          [
           "Killian Hayes"
          ],
          [
           "Cole Anthony"
          ],
          [
           "Coby White"
          ],
          [
           "Andrew Nembhard"
          ],
          [
           "Marcus Smart"
          ],
          [
           "Reggie Jackson"
          ],
          [
           "Collin Sexton"
          ],
          [
           "Bones Hyland"
          ],
          [
           "Jevon Carter"
          ],
          [
           "T.J. McConnell"
          ],
          [
           "Gabe Vincent"
          ],
          [
           "Monte Morris"
          ],
          [
           "Kyle Lowry"
          ],
          [
           "Jose Alvarado"
          ],
          [
           "Devonte' Graham"
          ],
          [
           "Tre Mann"
          ],
          [
           "Cameron Payne"
          ],
          [
           "Dennis Smith Jr."
          ],
          [
           "Davion Mitchell"
          ],
          [
           "Cory Joseph"
          ],
          [
           "Patrick Beverley"
          ],
          [
           "John Wall"
          ],
          [
           "Edmond Sumner"
          ],
          [
           "Goran Dragic"
          ],
          [
           "R.J. Hampton"
          ],
          [
           "Theo Maledon"
          ],
          [
           "Ben Simmons"
          ],
          [
           "Payton Pritchard"
          ],
          [
           "Malachi Flynn"
          ],
          [
           "Patty Mills"
          ],
          [
           "Duane Washington Jr."
          ],
          [
           "Cade Cunningham"
          ],
          [
           "George Hill"
          ],
          [
           "Miles McBride"
          ],
          [
           "Ricky Rubio"
          ],
          [
           "Jordan McLaughlin"
          ],
          [
           "Raul Neto"
          ],
          [
           "Derrick Rose"
          ],
          [
           "Dalano Banton"
          ],
          [
           "Frank Ntilikina"
          ],
          [
           "Kira Lewis Jr."
          ],
          [
           "McKinley Wright IV"
          ],
          [
           "Ish Smith"
          ],
          [
           "Kemba Walker"
          ],
          [
           "Jeff Dowtin Jr."
          ],
          [
           "Matthew Dellavedova"
          ],
          [
           "Jason Preston"
          ],
          [
           "Xavier Moon"
          ],
          [
           "Alondes Williams"
          ]
         ],
         "hovertemplate": "POS=%{x}<br>PTS=%{y}<br>PName=%{customdata[0]}<extra></extra>",
         "legendgroup": "PG",
         "marker": {
          "color": "#00cc96"
         },
         "name": "PG",
         "notched": false,
         "offsetgroup": "PG",
         "orientation": "v",
         "showlegend": true,
         "type": "box",
         "x": [
          "PG",
          "PG",
          "PG",
          "PG",
          "PG",
          "PG",
          "PG",
          "PG",
          "PG",
          "PG",
          "PG",
          "PG",
          "PG",
          "PG",
          "PG",
          "PG",
          "PG",
          "PG",
          "PG",
          "PG",
          "PG",
          "PG",
          "PG",
          "PG",
          "PG",
          "PG",
          "PG",
          "PG",
          "PG",
          "PG",
          "PG",
          "PG",
          "PG",
          "PG",
          "PG",
          "PG",
          "PG",
          "PG",
          "PG",
          "PG",
          "PG",
          "PG",
          "PG",
          "PG",
          "PG",
          "PG",
          "PG",
          "PG",
          "PG",
          "PG",
          "PG",
          "PG",
          "PG",
          "PG",
          "PG",
          "PG",
          "PG",
          "PG",
          "PG",
          "PG",
          "PG",
          "PG",
          "PG",
          "PG",
          "PG",
          "PG",
          "PG",
          "PG",
          "PG",
          "PG",
          "PG",
          "PG",
          "PG",
          "PG",
          "PG",
          "PG",
          "PG",
          "PG"
         ],
         "x0": " ",
         "xaxis": "x",
         "y": [
          2138,
          2135,
          1914,
          1866,
          1826,
          1648,
          1633,
          1623,
          1596,
          1490,
          1369,
          1347,
          1298,
          1290,
          1271,
          1263,
          1218,
          1204,
          1160,
          1159,
          1017,
          1000,
          875,
          838,
          837,
          830,
          822,
          819,
          798,
          786,
          781,
          715,
          709,
          703,
          693,
          685,
          659,
          651,
          650,
          641,
          636,
          615,
          550,
          539,
          517,
          493,
          474,
          450,
          427,
          415,
          386,
          378,
          365,
          302,
          295,
          291,
          270,
          246,
          246,
          244,
          239,
          232,
          222,
          171,
          161,
          157,
          152,
          142,
          135,
          114,
          114,
          108,
          72,
          61,
          47,
          41,
          7,
          0
         ],
         "y0": " ",
         "yaxis": "y"
        },
        {
         "alignmentgroup": "True",
         "customdata": [
          [
           "Giannis Antetokounmpo"
          ],
          [
           "Julius Randle"
          ],
          [
           "Pascal Siakam"
          ],
          [
           "Lauri Markkanen"
          ],
          [
           "Domantas Sabonis"
          ],
          [
           "Anthony Davis"
          ],
          [
           "Paolo Banchero"
          ],
          [
           "Kevin Durant"
          ],
          [
           "Evan Mobley"
          ],
          [
           "Jaren Jackson Jr."
          ],
          [
           "P.J. Washington"
          ],
          [
           "Aaron Gordon"
          ],
          [
           "Tobias Harris"
          ],
          [
           "Jabari Smith Jr."
          ],
          [
           "Jaden McDaniels"
          ],
          [
           "John Collins"
          ],
          [
           "Kelly Olynyk"
          ],
          [
           "Patrick Williams"
          ],
          [
           "Onyeka Okongwu"
          ],
          [
           "Jalen McDaniels"
          ],
          [
           "Zion Williamson"
          ],
          [
           "Zach Collins"
          ],
          [
           "Chris Boucher"
          ],
          [
           "Rui Hachimura"
          ],
          [
           "Santi Aldama"
          ],
          [
           "Royce O'Neale"
          ],
          [
           "Jonathan Kuminga"
          ],
          [
           "Jalen Smith"
          ],
          [
           "Grant Williams"
          ],
          [
           "Jarred Vanderbilt"
          ],
          [
           "Draymond Green"
          ],
          [
           "Trey Lyles"
          ],
          [
           "Brandon Clarke"
          ],
          [
           "Dorian Finney-Smith"
          ],
          [
           "Drew Eubanks"
          ],
          [
           "Kevin Love"
          ],
          [
           "Precious Achiuwa"
          ],
          [
           "Marvin Bagley III"
          ],
          [
           "Obi Toppin"
          ],
          [
           "Taurean Prince"
          ],
          [
           "Nicolas Batum"
          ],
          [
           "Trendon Watford"
          ],
          [
           "Larry Nance Jr."
          ],
          [
           "Jeff Green"
          ],
          [
           "Dario Saric"
          ],
          [
           "Isaiah Livers"
          ],
          [
           "Chimezie Metu"
          ],
          [
           "Jeremiah Robinson-Earl"
          ],
          [
           "Robert Covington"
          ],
          [
           "Zeke Nnaji"
          ],
          [
           "P.J. Tucker"
          ],
          [
           "Sandro Mamukelashvili"
          ],
          [
           "Thaddeus Young"
          ],
          [
           "Usman Garuba"
          ],
          [
           "Darius Bazley"
          ],
          [
           "Maxi Kleber"
          ],
          [
           "Dean Wade"
          ],
          [
           "Justise Winslow"
          ],
          [
           "Anthony Gill"
          ],
          [
           "Blake Griffin"
          ],
          [
           "Kai Jones"
          ],
          [
           "Bruno Fernando"
          ],
          [
           "Markieff Morris"
          ],
          [
           "Chuma Okeke"
          ],
          [
           "Jae Crowder"
          ],
          [
           "Juancho Hernangomez"
          ],
          [
           "Frank Kaminsky"
          ],
          [
           "Jonathan Isaac"
          ],
          [
           "James Johnson"
          ],
          [
           "Greg Brown III"
          ],
          [
           "Udonis Haslem"
          ],
          [
           "Noah Vonleh"
          ],
          [
           "Jarrell Brantley"
          ],
          [
           "Isaiah Todd"
          ],
          [
           "Michael Foster Jr."
          ]
         ],
         "hovertemplate": "POS=%{x}<br>PTS=%{y}<br>PName=%{customdata[0]}<extra></extra>",
         "legendgroup": "PF",
         "marker": {
          "color": "#ab63fa"
         },
         "name": "PF",
         "notched": false,
         "offsetgroup": "PF",
         "orientation": "v",
         "showlegend": true,
         "type": "box",
         "x": [
          "PF",
          "PF",
          "PF",
          "PF",
          "PF",
          "PF",
          "PF",
          "PF",
          "PF",
          "PF",
          "PF",
          "PF",
          "PF",
          "PF",
          "PF",
          "PF",
          "PF",
          "PF",
          "PF",
          "PF",
          "PF",
          "PF",
          "PF",
          "PF",
          "PF",
          "PF",
          "PF",
          "PF",
          "PF",
          "PF",
          "PF",
          "PF",
          "PF",
          "PF",
          "PF",
          "PF",
          "PF",
          "PF",
          "PF",
          "PF",
          "PF",
          "PF",
          "PF",
          "PF",
          "PF",
          "PF",
          "PF",
          "PF",
          "PF",
          "PF",
          "PF",
          "PF",
          "PF",
          "PF",
          "PF",
          "PF",
          "PF",
          "PF",
          "PF",
          "PF",
          "PF",
          "PF",
          "PF",
          "PF",
          "PF",
          "PF",
          "PF",
          "PF",
          "PF",
          "PF",
          "PF",
          "PF",
          "PF",
          "PF",
          "PF"
         ],
         "x0": " ",
         "xaxis": "x",
         "y": [
          1959,
          1936,
          1720,
          1691,
          1510,
          1451,
          1437,
          1366,
          1277,
          1173,
          1144,
          1109,
          1085,
          1010,
          953,
          931,
          847,
          833,
          791,
          755,
          754,
          731,
          712,
          707,
          696,
          671,
          666,
          642,
          641,
          619,
          617,
          562,
          559,
          551,
          518,
          509,
          508,
          504,
          497,
          493,
          478,
          459,
          441,
          437,
          362,
          346,
          321,
          292,
          288,
          277,
          266,
          263,
          240,
          225,
          224,
          220,
          206,
          196,
          195,
          170,
          157,
          153,
          132,
          128,
          124,
          122,
          89,
          55,
          51,
          28,
          27,
          25,
          22,
          9,
          0
         ],
         "y0": " ",
         "yaxis": "y"
        },
        {
         "alignmentgroup": "True",
         "customdata": [
          [
           "Anthony Edwards"
          ],
          [
           "Donovan Mitchell"
          ],
          [
           "Zach LaVine"
          ],
          [
           "Jaylen Brown"
          ],
          [
           "Jalen Green"
          ],
          [
           "Jordan Poole"
          ],
          [
           "CJ McCollum"
          ],
          [
           "Dejounte Murray"
          ],
          [
           "Klay Thompson"
          ],
          [
           "Devin Booker"
          ],
          [
           "RJ Barrett"
          ],
          [
           "Buddy Hield"
          ],
          [
           "Fred VanVleet"
          ],
          [
           "Terry Rozier"
          ],
          [
           "Anfernee Simons"
          ],
          [
           "Bennedict Mathurin"
          ],
          [
           "Josh Giddey"
          ],
          [
           "Desmond Bane"
          ],
          [
           "James Harden"
          ],
          [
           "Immanuel Quickley"
          ],
          [
           "Bradley Beal"
          ],
          [
           "Gary Trent Jr."
          ],
          [
           "Trey Murphy III"
          ],
          [
           "Kevin Huerter"
          ],
          [
           "Kevin Porter Jr."
          ],
          [
           "Malik Monk"
          ],
          [
           "Malik Beasley"
          ],
          [
           "Kelly Oubre Jr."
          ],
          [
           "Max Strus"
          ],
          [
           "Caris LeVert"
          ],
          [
           "Eric Gordon"
          ],
          [
           "Austin Reaves"
          ],
          [
           "Kentavious Caldwell-Pope"
          ],
          [
           "Quentin Grimes"
          ],
          [
           "Shaedon Sharpe"
          ],
          [
           "De'Anthony Melton"
          ],
          [
           "Bogdan Bogdanovic"
          ],
          [
           "Grayson Allen"
          ],
          [
           "Josh Hart"
          ],
          [
           "Terance Mann"
          ],
          [
           "Jaylen Nowell"
          ],
          [
           "Devin Vassell"
          ],
          [
           "Talen Horton-Tucker"
          ],
          [
           "Isaiah Joe"
          ],
          [
           "Ayo Dosunmu"
          ],
          [
           "Donte DiVincenzo"
          ],
          [
           "Josh Richardson"
          ],
          [
           "Alec Burks"
          ],
          [
           "Shake Milton"
          ],
          [
           "Cam Thomas"
          ],
          [
           "Damion Lee"
          ],
          [
           "Seth Curry"
          ],
          [
           "Josh Green"
          ],
          [
           "Luke Kennard"
          ],
          [
           "Jalen Suggs"
          ],
          [
           "Hamidou Diallo"
          ],
          [
           "Aaron Wiggins"
          ],
          [
           "Pat Connaughton"
          ],
          [
           "Victor Oladipo"
          ],
          [
           "Terence Davis"
          ],
          [
           "Gary Harris"
          ],
          [
           "Alex Caruso"
          ],
          [
           "Josh Christopher"
          ],
          [
           "Delon Wright"
          ],
          [
           "John Konchar"
          ],
          [
           "Nickeil Alexander-Walker"
          ],
          [
           "Chris Duarte"
          ],
          [
           "Landry Shamet"
          ],
          [
           "Joe Ingles"
          ],
          [
           "Ty Jerome"
          ],
          [
           "Moses Moody"
          ],
          [
           "Romeo Langford"
          ],
          [
           "Matisse Thybulle"
          ],
          [
           "Garrison Mathews"
          ],
          [
           "Austin Rivers"
          ],
          [
           "Daishen Nix"
          ],
          [
           "Svi Mykhailiuk"
          ],
          [
           "James Bouknight"
          ],
          [
           "Keon Johnson"
          ],
          [
           "Wesley Matthews"
          ],
          [
           "Amir Coffey"
          ],
          [
           "Evan Fournier"
          ],
          [
           "Brandon Boston Jr."
          ],
          [
           "Furkan Korkmaz"
          ],
          [
           "Gary Payton II"
          ],
          [
           "Skylar Mays"
          ],
          [
           "Bryn Forbes"
          ],
          [
           "Davon Reed"
          ],
          [
           "Jared Butler"
          ],
          [
           "Joshua Primo"
          ],
          [
           "Mac McClung"
          ],
          [
           "Sam Merrill"
          ],
          [
           "Trevelin Queen"
          ],
          [
           "JD Davison"
          ],
          [
           "Kendall Brown"
          ],
          [
           "Dylan Windler"
          ],
          [
           "Frank Jackson"
          ]
         ],
         "hovertemplate": "POS=%{x}<br>PTS=%{y}<br>PName=%{customdata[0]}<extra></extra>",
         "legendgroup": "SG",
         "marker": {
          "color": "#FFA15A"
         },
         "name": "SG",
         "notched": false,
         "offsetgroup": "SG",
         "orientation": "v",
         "showlegend": true,
         "type": "box",
         "x": [
          "SG",
          "SG",
          "SG",
          "SG",
          "SG",
          "SG",
          "SG",
          "SG",
          "SG",
          "SG",
          "SG",
          "SG",
          "SG",
          "SG",
          "SG",
          "SG",
          "SG",
          "SG",
          "SG",
          "SG",
          "SG",
          "SG",
          "SG",
          "SG",
          "SG",
          "SG",
          "SG",
          "SG",
          "SG",
          "SG",
          "SG",
          "SG",
          "SG",
          "SG",
          "SG",
          "SG",
          "SG",
          "SG",
          "SG",
          "SG",
          "SG",
          "SG",
          "SG",
          "SG",
          "SG",
          "SG",
          "SG",
          "SG",
          "SG",
          "SG",
          "SG",
          "SG",
          "SG",
          "SG",
          "SG",
          "SG",
          "SG",
          "SG",
          "SG",
          "SG",
          "SG",
          "SG",
          "SG",
          "SG",
          "SG",
          "SG",
          "SG",
          "SG",
          "SG",
          "SG",
          "SG",
          "SG",
          "SG",
          "SG",
          "SG",
          "SG",
          "SG",
          "SG",
          "SG",
          "SG",
          "SG",
          "SG",
          "SG",
          "SG",
          "SG",
          "SG",
          "SG",
          "SG",
          "SG",
          "SG",
          "SG",
          "SG",
          "SG",
          "SG",
          "SG",
          "SG",
          "SG"
         ],
         "x0": " ",
         "xaxis": "x",
         "y": [
          1946,
          1922,
          1913,
          1784,
          1683,
          1675,
          1568,
          1515,
          1509,
          1471,
          1431,
          1344,
          1335,
          1329,
          1306,
          1302,
          1260,
          1247,
          1216,
          1209,
          1160,
          1148,
          1148,
          1140,
          1130,
          1041,
          1025,
          972,
          923,
          897,
          856,
          833,
          822,
          799,
          789,
          780,
          756,
          750,
          743,
          713,
          704,
          703,
          698,
          691,
          687,
          678,
          654,
          652,
          637,
          604,
          604,
          561,
          546,
          546,
          524,
          522,
          479,
          466,
          449,
          431,
          397,
          374,
          372,
          369,
          364,
          363,
          362,
          346,
          317,
          309,
          302,
          297,
          293,
          257,
          255,
          226,
          222,
          191,
          189,
          179,
          172,
          165,
          143,
          140,
          101,
          92,
          89,
          89,
          37,
          28,
          25,
          25,
          21,
          19,
          9,
          5,
          0
         ],
         "y0": " ",
         "yaxis": "y"
        },
        {
         "alignmentgroup": "True",
         "customdata": [
          [
           "Paul George"
          ],
          [
           "Christian Wood"
          ],
          [
           "Jalen Williams"
          ],
          [
           "Kenyon Martin Jr."
          ],
          [
           "Bobby Portis"
          ],
          [
           "Tari Eason"
          ],
          [
           "AJ Griffin"
          ],
          [
           "Jeremy Sochan"
          ],
          [
           "Kevon Looney"
          ],
          [
           "David Roddy"
          ],
          [
           "Xavier Tillman"
          ],
          [
           "Anthony Lamb"
          ],
          [
           "Wenyen Gabriel"
          ],
          [
           "JaMychal Green"
          ],
          [
           "Lamar Stevens"
          ],
          [
           "Simone Fontecchio"
          ],
          [
           "Jaylin Williams"
          ],
          [
           "Eugene Omoruyi"
          ],
          [
           "Aleksej Pokusevski"
          ],
          [
           "Duncan Robinson"
          ],
          [
           "MarJon Beauchamp"
          ],
          [
           "JT Thor"
          ],
          [
           "Ish Wainright"
          ],
          [
           "Haywood Highsmith"
          ],
          [
           "Jabari Walker"
          ],
          [
           "Lindy Waters III"
          ],
          [
           "Ziaire Williams"
          ],
          [
           "Ousmane Dieng"
          ],
          [
           "Isaiah Roby"
          ],
          [
           "Taj Gibson"
          ],
          [
           "Julian Champagnie"
          ],
          [
           "Nathan Knight"
          ],
          [
           "Richaun Holmes"
          ],
          [
           "Matt Ryan"
          ],
          [
           "Patrick Baldwin Jr."
          ],
          [
           "Kenneth Lofton Jr."
          ],
          [
           "Dominick Barlow"
          ],
          [
           "Jake LaRavia"
          ],
          [
           "Jamal Cain"
          ],
          [
           "Terry Taylor"
          ],
          [
           "Dalen Terry"
          ],
          [
           "Nikola Jovic"
          ],
          [
           "Peyton Watson"
          ],
          [
           "Luka Samanic"
          ],
          [
           "Serge Ibaka"
          ],
          [
           "Danny Green"
          ],
          [
           "Moussa Diabate"
          ],
          [
           "Mamadi Diakite"
          ],
          [
           "Josh Minott"
          ],
          [
           "John Butler Jr."
          ],
          [
           "Isaiah Mobley"
          ],
          [
           "Jack White"
          ],
          [
           "Ron Harper Jr."
          ],
          [
           "Andre Iguodala"
          ],
          [
           "Justin Minaya"
          ],
          [
           "Xavier Sneed"
          ],
          [
           "Buddy Boeheim"
          ],
          [
           "RaiQuan Gray"
          ],
          [
           "Darius Days"
          ],
          [
           "Cole Swider"
          ],
          [
           "Alize Johnson"
          ],
          [
           "Leandro Bolmaro"
          ],
          [
           "Malcolm Hill"
          ],
          [
           "Jordan Schakel"
          ],
          [
           "Chima Moneke"
          ],
          [
           "Chris Silva"
          ]
         ],
         "hovertemplate": "POS=%{x}<br>PTS=%{y}<br>PName=%{customdata[0]}<extra></extra>",
         "legendgroup": "F",
         "marker": {
          "color": "#19d3f3"
         },
         "name": "F",
         "notched": false,
         "offsetgroup": "F",
         "orientation": "v",
         "showlegend": true,
         "type": "box",
         "x": [
          "F",
          "F",
          "F",
          "F",
          "F",
          "F",
          "F",
          "F",
          "F",
          "F",
          "F",
          "F",
          "F",
          "F",
          "F",
          "F",
          "F",
          "F",
          "F",
          "F",
          "F",
          "F",
          "F",
          "F",
          "F",
          "F",
          "F",
          "F",
          "F",
          "F",
          "F",
          "F",
          "F",
          "F",
          "F",
          "F",
          "F",
          "F",
          "F",
          "F",
          "F",
          "F",
          "F",
          "F",
          "F",
          "F",
          "F",
          "F",
          "F",
          "F",
          "F",
          "F",
          "F",
          "F",
          "F",
          "F",
          "F",
          "F",
          "F",
          "F",
          "F",
          "F",
          "F",
          "F",
          "F",
          "F"
         ],
         "x0": " ",
         "xaxis": "x",
         "y": [
          1332,
          1114,
          1056,
          1039,
          987,
          760,
          639,
          614,
          578,
          466,
          429,
          415,
          372,
          366,
          328,
          328,
          288,
          278,
          276,
          268,
          266,
          262,
          251,
          236,
          216,
          214,
          210,
          193,
          172,
          168,
          165,
          139,
          130,
          122,
          122,
          120,
          110,
          105,
          98,
          89,
          85,
          82,
          75,
          69,
          66,
          61,
          59,
          57,
          46,
          45,
          31,
          21,
          20,
          17,
          17,
          17,
          16,
          16,
          15,
          9,
          7,
          6,
          5,
          3,
          2,
          2
         ],
         "y0": " ",
         "yaxis": "y"
        },
        {
         "alignmentgroup": "True",
         "customdata": [
          [
           "Norman Powell"
          ],
          [
           "Luguentz Dort"
          ],
          [
           "Malaki Branham"
          ],
          [
           "Lonnie Walker IV"
          ],
          [
           "Terrence Ross"
          ],
          [
           "Kendrick Nunn"
          ],
          [
           "Ochai Agbaji"
          ],
          [
           "Jaden Hardy"
          ],
          [
           "Jordan Goodwin"
          ],
          [
           "Will Barton"
          ],
          [
           "Christian Braun"
          ],
          [
           "Kris Dunn"
          ],
          [
           "Aaron Holiday"
          ],
          [
           "Bryce McGowens"
          ],
          [
           "Dyson Daniels"
          ],
          [
           "Caleb Houstan"
          ],
          [
           "Blake Wesley"
          ],
          [
           "Rodney McGruder"
          ],
          [
           "Johnny Davis"
          ],
          [
           "AJ Green"
          ],
          [
           "Saben Lee"
          ],
          [
           "TyTy Washington Jr."
          ],
          [
           "Kevon Harris"
          ],
          [
           "Max Christie"
          ],
          [
           "Theo Pinson"
          ],
          [
           "Johnny Juzang"
          ],
          [
           "David Duke Jr."
          ],
          [
           "Kennedy Chandler"
          ],
          [
           "A.J. Lawson"
          ],
          [
           "Quenton Jackson"
          ],
          [
           "Jeenathan Williams"
          ],
          [
           "Trent Forrest"
          ],
          [
           "Lindell Wigginton"
          ],
          [
           "Jared Rhoden"
          ],
          [
           "Dru Smith"
          ],
          [
           "Jarrett Culver"
          ],
          [
           "Shaquille Harrison"
          ],
          [
           "Jaden Springer"
          ],
          [
           "Wendell Moore Jr."
          ],
          [
           "Xavier Cooks"
          ],
          [
           "Vit Krejci"
          ],
          [
           "Vince Williams Jr."
          ],
          [
           "Jordan Hall"
          ],
          [
           "Ryan Arcidiacono"
          ],
          [
           "Gabe York"
          ],
          [
           "Keon Ellis"
          ],
          [
           "Ryan Rollins"
          ],
          [
           "PJ Dozier"
          ],
          [
           "Tyrese Martin"
          ],
          [
           "Carlik Jones"
          ],
          [
           "Michael Carter-Williams"
          ],
          [
           "Jamaree Bouyea"
          ],
          [
           "Scotty Pippen Jr."
          ],
          [
           "Jay Scrubb"
          ],
          [
           "Facundo Campazzo"
          ],
          [
           "Lester Quinones"
          ],
          [
           "Trevor Hudgins"
          ],
          [
           "Tyler Dorsey"
          ],
          [
           "Kobi Simmons"
          ],
          [
           "Braxton Key"
          ],
          [
           "Dereon Seabron"
          ],
          [
           "Donovan Williams"
          ],
          [
           "Devon Dotson"
          ],
          [
           "Jacob Gilyard"
          ],
          [
           "Trevor Keels"
          ],
          [
           "Stanley Umude"
          ]
         ],
         "hovertemplate": "POS=%{x}<br>PTS=%{y}<br>PName=%{customdata[0]}<extra></extra>",
         "legendgroup": "G",
         "marker": {
          "color": "#FF6692"
         },
         "name": "G",
         "notched": false,
         "offsetgroup": "G",
         "orientation": "v",
         "showlegend": true,
         "type": "box",
         "x": [
          "G",
          "G",
          "G",
          "G",
          "G",
          "G",
          "G",
          "G",
          "G",
          "G",
          "G",
          "G",
          "G",
          "G",
          "G",
          "G",
          "G",
          "G",
          "G",
          "G",
          "G",
          "G",
          "G",
          "G",
          "G",
          "G",
          "G",
          "G",
          "G",
          "G",
          "G",
          "G",
          "G",
          "G",
          "G",
          "G",
          "G",
          "G",
          "G",
          "G",
          "G",
          "G",
          "G",
          "G",
          "G",
          "G",
          "G",
          "G",
          "G",
          "G",
          "G",
          "G",
          "G",
          "G",
          "G",
          "G",
          "G",
          "G",
          "G",
          "G",
          "G",
          "G",
          "G",
          "G",
          "G",
          "G"
         ],
         "x0": " ",
         "xaxis": "x",
         "y": [
          1019,
          1013,
          673,
          654,
          522,
          496,
          467,
          420,
          407,
          379,
          360,
          290,
          247,
          246,
          227,
          193,
          184,
          183,
          163,
          154,
          151,
          145,
          141,
          128,
          95,
          87,
          85,
          78,
          56,
          56,
          53,
          52,
          50,
          45,
          44,
          44,
          44,
          42,
          42,
          38,
          36,
          30,
          28,
          26,
          24,
          24,
          23,
          22,
          21,
          20,
          17,
          15,
          14,
          13,
          10,
          10,
          9,
          9,
          5,
          4,
          4,
          4,
          3,
          3,
          3,
          2
         ],
         "y0": " ",
         "yaxis": "y"
        }
       ],
       "layout": {
        "boxmode": "overlay",
        "legend": {
         "title": {
          "text": "POS"
         },
         "tracegroupgap": 0
        },
        "margin": {
         "t": 60
        },
        "template": {
         "data": {
          "bar": [
           {
            "error_x": {
             "color": "#f2f5fa"
            },
            "error_y": {
             "color": "#f2f5fa"
            },
            "marker": {
             "line": {
              "color": "rgb(17,17,17)",
              "width": 0.5
             },
             "pattern": {
              "fillmode": "overlay",
              "size": 10,
              "solidity": 0.2
             }
            },
            "type": "bar"
           }
          ],
          "barpolar": [
           {
            "marker": {
             "line": {
              "color": "rgb(17,17,17)",
              "width": 0.5
             },
             "pattern": {
              "fillmode": "overlay",
              "size": 10,
              "solidity": 0.2
             }
            },
            "type": "barpolar"
           }
          ],
          "carpet": [
           {
            "aaxis": {
             "endlinecolor": "#A2B1C6",
             "gridcolor": "#506784",
             "linecolor": "#506784",
             "minorgridcolor": "#506784",
             "startlinecolor": "#A2B1C6"
            },
            "baxis": {
             "endlinecolor": "#A2B1C6",
             "gridcolor": "#506784",
             "linecolor": "#506784",
             "minorgridcolor": "#506784",
             "startlinecolor": "#A2B1C6"
            },
            "type": "carpet"
           }
          ],
          "choropleth": [
           {
            "colorbar": {
             "outlinewidth": 0,
             "ticks": ""
            },
            "type": "choropleth"
           }
          ],
          "contour": [
           {
            "colorbar": {
             "outlinewidth": 0,
             "ticks": ""
            },
            "colorscale": [
             [
              0,
              "#0d0887"
             ],
             [
              0.1111111111111111,
              "#46039f"
             ],
             [
              0.2222222222222222,
              "#7201a8"
             ],
             [
              0.3333333333333333,
              "#9c179e"
             ],
             [
              0.4444444444444444,
              "#bd3786"
             ],
             [
              0.5555555555555556,
              "#d8576b"
             ],
             [
              0.6666666666666666,
              "#ed7953"
             ],
             [
              0.7777777777777778,
              "#fb9f3a"
             ],
             [
              0.8888888888888888,
              "#fdca26"
             ],
             [
              1,
              "#f0f921"
             ]
            ],
            "type": "contour"
           }
          ],
          "contourcarpet": [
           {
            "colorbar": {
             "outlinewidth": 0,
             "ticks": ""
            },
            "type": "contourcarpet"
           }
          ],
          "heatmap": [
           {
            "colorbar": {
             "outlinewidth": 0,
             "ticks": ""
            },
            "colorscale": [
             [
              0,
              "#0d0887"
             ],
             [
              0.1111111111111111,
              "#46039f"
             ],
             [
              0.2222222222222222,
              "#7201a8"
             ],
             [
              0.3333333333333333,
              "#9c179e"
             ],
             [
              0.4444444444444444,
              "#bd3786"
             ],
             [
              0.5555555555555556,
              "#d8576b"
             ],
             [
              0.6666666666666666,
              "#ed7953"
             ],
             [
              0.7777777777777778,
              "#fb9f3a"
             ],
             [
              0.8888888888888888,
              "#fdca26"
             ],
             [
              1,
              "#f0f921"
             ]
            ],
            "type": "heatmap"
           }
          ],
          "heatmapgl": [
           {
            "colorbar": {
             "outlinewidth": 0,
             "ticks": ""
            },
            "colorscale": [
             [
              0,
              "#0d0887"
             ],
             [
              0.1111111111111111,
              "#46039f"
             ],
             [
              0.2222222222222222,
              "#7201a8"
             ],
             [
              0.3333333333333333,
              "#9c179e"
             ],
             [
              0.4444444444444444,
              "#bd3786"
             ],
             [
              0.5555555555555556,
              "#d8576b"
             ],
             [
              0.6666666666666666,
              "#ed7953"
             ],
             [
              0.7777777777777778,
              "#fb9f3a"
             ],
             [
              0.8888888888888888,
              "#fdca26"
             ],
             [
              1,
              "#f0f921"
             ]
            ],
            "type": "heatmapgl"
           }
          ],
          "histogram": [
           {
            "marker": {
             "pattern": {
              "fillmode": "overlay",
              "size": 10,
              "solidity": 0.2
             }
            },
            "type": "histogram"
           }
          ],
          "histogram2d": [
           {
            "colorbar": {
             "outlinewidth": 0,
             "ticks": ""
            },
            "colorscale": [
             [
              0,
              "#0d0887"
             ],
             [
              0.1111111111111111,
              "#46039f"
             ],
             [
              0.2222222222222222,
              "#7201a8"
             ],
             [
              0.3333333333333333,
              "#9c179e"
             ],
             [
              0.4444444444444444,
              "#bd3786"
             ],
             [
              0.5555555555555556,
              "#d8576b"
             ],
             [
              0.6666666666666666,
              "#ed7953"
             ],
             [
              0.7777777777777778,
              "#fb9f3a"
             ],
             [
              0.8888888888888888,
              "#fdca26"
             ],
             [
              1,
              "#f0f921"
             ]
            ],
            "type": "histogram2d"
           }
          ],
          "histogram2dcontour": [
           {
            "colorbar": {
             "outlinewidth": 0,
             "ticks": ""
            },
            "colorscale": [
             [
              0,
              "#0d0887"
             ],
             [
              0.1111111111111111,
              "#46039f"
             ],
             [
              0.2222222222222222,
              "#7201a8"
             ],
             [
              0.3333333333333333,
              "#9c179e"
             ],
             [
              0.4444444444444444,
              "#bd3786"
             ],
             [
              0.5555555555555556,
              "#d8576b"
             ],
             [
              0.6666666666666666,
              "#ed7953"
             ],
             [
              0.7777777777777778,
              "#fb9f3a"
             ],
             [
              0.8888888888888888,
              "#fdca26"
             ],
             [
              1,
              "#f0f921"
             ]
            ],
            "type": "histogram2dcontour"
           }
          ],
          "mesh3d": [
           {
            "colorbar": {
             "outlinewidth": 0,
             "ticks": ""
            },
            "type": "mesh3d"
           }
          ],
          "parcoords": [
           {
            "line": {
             "colorbar": {
              "outlinewidth": 0,
              "ticks": ""
             }
            },
            "type": "parcoords"
           }
          ],
          "pie": [
           {
            "automargin": true,
            "type": "pie"
           }
          ],
          "scatter": [
           {
            "marker": {
             "line": {
              "color": "#283442"
             }
            },
            "type": "scatter"
           }
          ],
          "scatter3d": [
           {
            "line": {
             "colorbar": {
              "outlinewidth": 0,
              "ticks": ""
             }
            },
            "marker": {
             "colorbar": {
              "outlinewidth": 0,
              "ticks": ""
             }
            },
            "type": "scatter3d"
           }
          ],
          "scattercarpet": [
           {
            "marker": {
             "colorbar": {
              "outlinewidth": 0,
              "ticks": ""
             }
            },
            "type": "scattercarpet"
           }
          ],
          "scattergeo": [
           {
            "marker": {
             "colorbar": {
              "outlinewidth": 0,
              "ticks": ""
             }
            },
            "type": "scattergeo"
           }
          ],
          "scattergl": [
           {
            "marker": {
             "line": {
              "color": "#283442"
             }
            },
            "type": "scattergl"
           }
          ],
          "scattermapbox": [
           {
            "marker": {
             "colorbar": {
              "outlinewidth": 0,
              "ticks": ""
             }
            },
            "type": "scattermapbox"
           }
          ],
          "scatterpolar": [
           {
            "marker": {
             "colorbar": {
              "outlinewidth": 0,
              "ticks": ""
             }
            },
            "type": "scatterpolar"
           }
          ],
          "scatterpolargl": [
           {
            "marker": {
             "colorbar": {
              "outlinewidth": 0,
              "ticks": ""
             }
            },
            "type": "scatterpolargl"
           }
          ],
          "scatterternary": [
           {
            "marker": {
             "colorbar": {
              "outlinewidth": 0,
              "ticks": ""
             }
            },
            "type": "scatterternary"
           }
          ],
          "surface": [
           {
            "colorbar": {
             "outlinewidth": 0,
             "ticks": ""
            },
            "colorscale": [
             [
              0,
              "#0d0887"
             ],
             [
              0.1111111111111111,
              "#46039f"
             ],
             [
              0.2222222222222222,
              "#7201a8"
             ],
             [
              0.3333333333333333,
              "#9c179e"
             ],
             [
              0.4444444444444444,
              "#bd3786"
             ],
             [
              0.5555555555555556,
              "#d8576b"
             ],
             [
              0.6666666666666666,
              "#ed7953"
             ],
             [
              0.7777777777777778,
              "#fb9f3a"
             ],
             [
              0.8888888888888888,
              "#fdca26"
             ],
             [
              1,
              "#f0f921"
             ]
            ],
            "type": "surface"
           }
          ],
          "table": [
           {
            "cells": {
             "fill": {
              "color": "#506784"
             },
             "line": {
              "color": "rgb(17,17,17)"
             }
            },
            "header": {
             "fill": {
              "color": "#2a3f5f"
             },
             "line": {
              "color": "rgb(17,17,17)"
             }
            },
            "type": "table"
           }
          ]
         },
         "layout": {
          "annotationdefaults": {
           "arrowcolor": "#f2f5fa",
           "arrowhead": 0,
           "arrowwidth": 1
          },
          "autotypenumbers": "strict",
          "coloraxis": {
           "colorbar": {
            "outlinewidth": 0,
            "ticks": ""
           }
          },
          "colorscale": {
           "diverging": [
            [
             0,
             "#8e0152"
            ],
            [
             0.1,
             "#c51b7d"
            ],
            [
             0.2,
             "#de77ae"
            ],
            [
             0.3,
             "#f1b6da"
            ],
            [
             0.4,
             "#fde0ef"
            ],
            [
             0.5,
             "#f7f7f7"
            ],
            [
             0.6,
             "#e6f5d0"
            ],
            [
             0.7,
             "#b8e186"
            ],
            [
             0.8,
             "#7fbc41"
            ],
            [
             0.9,
             "#4d9221"
            ],
            [
             1,
             "#276419"
            ]
           ],
           "sequential": [
            [
             0,
             "#0d0887"
            ],
            [
             0.1111111111111111,
             "#46039f"
            ],
            [
             0.2222222222222222,
             "#7201a8"
            ],
            [
             0.3333333333333333,
             "#9c179e"
            ],
            [
             0.4444444444444444,
             "#bd3786"
            ],
            [
             0.5555555555555556,
             "#d8576b"
            ],
            [
             0.6666666666666666,
             "#ed7953"
            ],
            [
             0.7777777777777778,
             "#fb9f3a"
            ],
            [
             0.8888888888888888,
             "#fdca26"
            ],
            [
             1,
             "#f0f921"
            ]
           ],
           "sequentialminus": [
            [
             0,
             "#0d0887"
            ],
            [
             0.1111111111111111,
             "#46039f"
            ],
            [
             0.2222222222222222,
             "#7201a8"
            ],
            [
             0.3333333333333333,
             "#9c179e"
            ],
            [
             0.4444444444444444,
             "#bd3786"
            ],
            [
             0.5555555555555556,
             "#d8576b"
            ],
            [
             0.6666666666666666,
             "#ed7953"
            ],
            [
             0.7777777777777778,
             "#fb9f3a"
            ],
            [
             0.8888888888888888,
             "#fdca26"
            ],
            [
             1,
             "#f0f921"
            ]
           ]
          },
          "colorway": [
           "#636efa",
           "#EF553B",
           "#00cc96",
           "#ab63fa",
           "#FFA15A",
           "#19d3f3",
           "#FF6692",
           "#B6E880",
           "#FF97FF",
           "#FECB52"
          ],
          "font": {
           "color": "#f2f5fa"
          },
          "geo": {
           "bgcolor": "rgb(17,17,17)",
           "lakecolor": "rgb(17,17,17)",
           "landcolor": "rgb(17,17,17)",
           "showlakes": true,
           "showland": true,
           "subunitcolor": "#506784"
          },
          "hoverlabel": {
           "align": "left"
          },
          "hovermode": "closest",
          "mapbox": {
           "style": "dark"
          },
          "paper_bgcolor": "rgb(17,17,17)",
          "plot_bgcolor": "rgb(17,17,17)",
          "polar": {
           "angularaxis": {
            "gridcolor": "#506784",
            "linecolor": "#506784",
            "ticks": ""
           },
           "bgcolor": "rgb(17,17,17)",
           "radialaxis": {
            "gridcolor": "#506784",
            "linecolor": "#506784",
            "ticks": ""
           }
          },
          "scene": {
           "xaxis": {
            "backgroundcolor": "rgb(17,17,17)",
            "gridcolor": "#506784",
            "gridwidth": 2,
            "linecolor": "#506784",
            "showbackground": true,
            "ticks": "",
            "zerolinecolor": "#C8D4E3"
           },
           "yaxis": {
            "backgroundcolor": "rgb(17,17,17)",
            "gridcolor": "#506784",
            "gridwidth": 2,
            "linecolor": "#506784",
            "showbackground": true,
            "ticks": "",
            "zerolinecolor": "#C8D4E3"
           },
           "zaxis": {
            "backgroundcolor": "rgb(17,17,17)",
            "gridcolor": "#506784",
            "gridwidth": 2,
            "linecolor": "#506784",
            "showbackground": true,
            "ticks": "",
            "zerolinecolor": "#C8D4E3"
           }
          },
          "shapedefaults": {
           "line": {
            "color": "#f2f5fa"
           }
          },
          "sliderdefaults": {
           "bgcolor": "#C8D4E3",
           "bordercolor": "rgb(17,17,17)",
           "borderwidth": 1,
           "tickwidth": 0
          },
          "ternary": {
           "aaxis": {
            "gridcolor": "#506784",
            "linecolor": "#506784",
            "ticks": ""
           },
           "baxis": {
            "gridcolor": "#506784",
            "linecolor": "#506784",
            "ticks": ""
           },
           "bgcolor": "rgb(17,17,17)",
           "caxis": {
            "gridcolor": "#506784",
            "linecolor": "#506784",
            "ticks": ""
           }
          },
          "title": {
           "x": 0.05
          },
          "updatemenudefaults": {
           "bgcolor": "#506784",
           "borderwidth": 0
          },
          "xaxis": {
           "automargin": true,
           "gridcolor": "#283442",
           "linecolor": "#506784",
           "ticks": "",
           "title": {
            "standoff": 15
           },
           "zerolinecolor": "#283442",
           "zerolinewidth": 2
          },
          "yaxis": {
           "automargin": true,
           "gridcolor": "#283442",
           "linecolor": "#506784",
           "ticks": "",
           "title": {
            "standoff": 15
           },
           "zerolinecolor": "#283442",
           "zerolinewidth": 2
          }
         }
        },
        "xaxis": {
         "anchor": "y",
         "categoryarray": [
          "SF",
          "C",
          "PG",
          "PF",
          "SG",
          "F",
          "G"
         ],
         "categoryorder": "array",
         "domain": [
          0,
          1
         ],
         "title": {
          "text": "POS"
         }
        },
        "yaxis": {
         "anchor": "x",
         "domain": [
          0,
          1
         ],
         "title": {
          "text": "PTS"
         }
        }
       }
      }
     },
     "metadata": {},
     "output_type": "display_data"
    }
   ],
   "source": [
    "px.box(data_frame=data_merged,\n",
    "       x='POS',\n",
    "       y='PTS',\n",
    "       color='POS',\n",
    "       hover_data='PName',\n",
    "       template='plotly_dark')"
   ]
  },
  {
   "cell_type": "code",
   "execution_count": null,
   "metadata": {},
   "outputs": [],
   "source": [
    "# 3. Distribuição de pontos por jogo na temporada por posição"
   ]
  },
  {
   "cell_type": "code",
   "execution_count": null,
   "metadata": {},
   "outputs": [
    {
     "data": {
      "application/vnd.plotly.v1+json": {
       "config": {
        "plotlyServerURL": "https://plot.ly"
       },
       "data": [
        {
         "alignmentgroup": "True",
         "customdata": [
          [
           "Jayson Tatum"
          ],
          [
           "DeMar DeRozan"
          ],
          [
           "Mikal Bridges"
          ],
          [
           "LeBron James"
          ],
          [
           "Franz Wagner"
          ],
          [
           "Jimmy Butler"
          ],
          [
           "Keldon Johnson"
          ],
          [
           "Kyle Kuzma"
          ],
          [
           "Jerami Grant"
          ],
          [
           "Bojan Bogdanovic"
          ],
          [
           "Kawhi Leonard"
          ],
          [
           "Harrison Barnes"
          ],
          [
           "Scottie Barnes"
          ],
          [
           "O.G. Anunoby"
          ],
          [
           "Brandon Ingram"
          ],
          [
           "Michael Porter Jr."
          ],
          [
           "Saddiq Bey"
          ],
          [
           "Dillon Brooks"
          ],
          [
           "De'Andre Hunter"
          ],
          [
           "Tim Hardaway Jr."
          ],
          [
           "Keegan Murray"
          ],
          [
           "Bruce Brown"
          ],
          [
           "Corey Kispert"
          ],
          [
           "Aaron Nesmith"
          ],
          [
           "Gordon Hayward"
          ],
          [
           "Marcus Morris Sr."
          ],
          [
           "Naji Marshall"
          ],
          [
           "Deni Avdija"
          ],
          [
           "Caleb Martin"
          ],
          [
           "Cedi Osman"
          ],
          [
           "Doug McDermott"
          ],
          [
           "Cameron Johnson"
          ],
          [
           "Herbert Jones"
          ],
          [
           "Keita Bates-Diop"
          ],
          [
           "Kyle Anderson"
          ],
          [
           "Georges Niang"
          ],
          [
           "Andrew Wiggins"
          ],
          [
           "Torrey Craig"
          ],
          [
           "Joe Harris"
          ],
          [
           "Reggie Bullock"
          ],
          [
           "Jordan Nwora"
          ],
          [
           "Troy Brown Jr."
          ],
          [
           "Josh Okogie"
          ],
          [
           "Sam Hauser"
          ],
          [
           "Khris Middleton"
          ],
          [
           "Isaac Okoro"
          ],
          [
           "Isaiah Jackson"
          ],
          [
           "Kenrich Williams"
          ],
          [
           "Kevin Knox II"
          ],
          [
           "Oshae Brissett"
          ],
          [
           "Jalen Johnson"
          ],
          [
           "Cam Reddish"
          ],
          [
           "Nassir Little"
          ],
          [
           "Yuta Watanabe"
          ],
          [
           "Derrick Jones Jr."
          ],
          [
           "T.J. Warren"
          ],
          [
           "Vlatko Cancar"
          ],
          [
           "Rudy Gay"
          ],
          [
           "Paul Reed"
          ],
          [
           "Jae'Sean Tate"
          ],
          [
           "Danuel House Jr."
          ],
          [
           "Davis Bertans"
          ],
          [
           "Justin Holiday"
          ],
          [
           "Stanley Johnson"
          ],
          [
           "Javonte Green"
          ],
          [
           "Admiral Schofield"
          ],
          [
           "Juan Toscano-Anderson"
          ],
          [
           "Kessler Edwards"
          ],
          [
           "Thanasis Antetokounmpo"
          ],
          [
           "Garrett Temple"
          ],
          [
           "KZ Okpala"
          ],
          [
           "Otto Porter Jr."
          ],
          [
           "Cody Martin"
          ],
          [
           "Justin Jackson"
          ],
          [
           "Louis King"
          ],
          [
           "Justin Champagnie"
          ],
          [
           "Joe Wieskamp"
          ],
          [
           "Deonte Burton"
          ],
          [
           "Sterling Brown"
          ]
         ],
         "hovertemplate": "POS=%{x}<br>PTSperGP=%{y}<br>PName=%{customdata[0]}<extra></extra>",
         "legendgroup": "SF",
         "marker": {
          "color": "#636efa"
         },
         "name": "SF",
         "notched": false,
         "offsetgroup": "SF",
         "orientation": "v",
         "showlegend": true,
         "type": "box",
         "x": [
          "SF",
          "SF",
          "SF",
          "SF",
          "SF",
          "SF",
          "SF",
          "SF",
          "SF",
          "SF",
          "SF",
          "SF",
          "SF",
          "SF",
          "SF",
          "SF",
          "SF",
          "SF",
          "SF",
          "SF",
          "SF",
          "SF",
          "SF",
          "SF",
          "SF",
          "SF",
          "SF",
          "SF",
          "SF",
          "SF",
          "SF",
          "SF",
          "SF",
          "SF",
          "SF",
          "SF",
          "SF",
          "SF",
          "SF",
          "SF",
          "SF",
          "SF",
          "SF",
          "SF",
          "SF",
          "SF",
          "SF",
          "SF",
          "SF",
          "SF",
          "SF",
          "SF",
          "SF",
          "SF",
          "SF",
          "SF",
          "SF",
          "SF",
          "SF",
          "SF",
          "SF",
          "SF",
          "SF",
          "SF",
          "SF",
          "SF",
          "SF",
          "SF",
          "SF",
          "SF",
          "SF",
          "SF",
          "SF",
          "SF",
          "SF",
          "SF",
          "SF",
          "SF",
          "SF"
         ],
         "x0": " ",
         "xaxis": "x",
         "y": [
          30.07,
          24.54,
          20.13,
          28.91,
          18.56,
          22.91,
          21.98,
          21.2,
          20.48,
          21.58,
          23.83,
          15,
          15.31,
          16.78,
          24.71,
          17.42,
          13.79,
          14.34,
          15.36,
          14.35,
          12.2,
          11.54,
          11.08,
          10.11,
          14.66,
          11.2,
          9.06,
          9.17,
          9.62,
          8.69,
          10.22,
          15.48,
          9.83,
          9.66,
          9.38,
          8.17,
          17.11,
          7.44,
          7.59,
          7.19,
          8.74,
          7.12,
          7.35,
          6.4,
          15.06,
          6.45,
          7.22,
          8.02,
          6.59,
          6.12,
          5.64,
          9.68,
          6.65,
          5.55,
          4.98,
          7.48,
          4.95,
          5.23,
          4.16,
          9.13,
          4.79,
          4.58,
          4.46,
          5.8,
          5.16,
          4.19,
          2.98,
          2.78,
          1.38,
          2,
          1.31,
          5.5,
          5,
          0.87,
          20,
          2.2,
          1,
          0,
          0
         ],
         "y0": " ",
         "yaxis": "y"
        },
        {
         "alignmentgroup": "True",
         "customdata": [
          [
           "Joel Embiid"
          ],
          [
           "Nikola Jokic"
          ],
          [
           "Bam Adebayo"
          ],
          [
           "Kristaps Porzingis"
          ],
          [
           "Nikola Vucevic"
          ],
          [
           "Brook Lopez"
          ],
          [
           "Deandre Ayton"
          ],
          [
           "Jonas Valanciunas"
          ],
          [
           "Myles Turner"
          ],
          [
           "Alperen Sengun"
          ],
          [
           "Jarrett Allen"
          ],
          [
           "Nic Claxton"
          ],
          [
           "Rudy Gobert"
          ],
          [
           "Jakob Poeltl"
          ],
          [
           "Wendell Carter Jr."
          ],
          [
           "Mason Plumlee"
          ],
          [
           "Ivica Zubac"
          ],
          [
           "Naz Reid"
          ],
          [
           "Clint Capela"
          ],
          [
           "Daniel Gafford"
          ],
          [
           "Jusuf Nurkic"
          ],
          [
           "Walker Kessler"
          ],
          [
           "Bol Bol"
          ],
          [
           "Al Horford"
          ],
          [
           "Jalen Duren"
          ],
          [
           "Karl-Anthony Towns"
          ],
          [
           "Moritz Wagner"
          ],
          [
           "Thomas Bryant"
          ],
          [
           "Isaiah Stewart"
          ],
          [
           "Nick Richards"
          ],
          [
           "Dwight Powell"
          ],
          [
           "Jock Landale"
          ],
          [
           "James Wiseman"
          ],
          [
           "Mitchell Robinson"
          ],
          [
           "Isaiah Hartenstein"
          ],
          [
           "Andre Drummond"
          ],
          [
           "Mark Williams"
          ],
          [
           "Mike Muscala"
          ],
          [
           "Steven Adams"
          ],
          [
           "Mo Bamba"
          ],
          [
           "Montrezl Harrell"
          ],
          [
           "Robert Williams III"
          ],
          [
           "Bismack Biyombo"
          ],
          [
           "Willy Hernangomez"
          ],
          [
           "Luke Kornet"
          ],
          [
           "Jaxson Hayes"
          ],
          [
           "Day'Ron Sharpe"
          ],
          [
           "Charles Bassey"
          ],
          [
           "DeAndre Jordan"
          ],
          [
           "Dewayne Dedmon"
          ],
          [
           "JaVale McGee"
          ],
          [
           "Christian Koloko"
          ],
          [
           "Luka Garza"
          ],
          [
           "Jericho Sims"
          ],
          [
           "Goga Bitadze"
          ],
          [
           "Moses Brown"
          ],
          [
           "Damian Jones"
          ],
          [
           "Udoka Azubuike"
          ],
          [
           "Gorgui Dieng"
          ],
          [
           "Orlando Robinson"
          ],
          [
           "Robin Lopez"
          ],
          [
           "Boban Marjanovic"
          ],
          [
           "Cody Zeller"
          ],
          [
           "Jay Huff"
          ],
          [
           "Daniel Theis"
          ],
          [
           "Alex Len"
          ],
          [
           "Khem Birch"
          ],
          [
           "Meyers Leonard"
          ],
          [
           "Omer Yurtseven"
          ],
          [
           "Olivier Sarr"
          ],
          [
           "Nerlens Noel"
          ],
          [
           "Micah Potter"
          ],
          [
           "Tony Bradley"
          ],
          [
           "Neemias Queta"
          ],
          [
           "Chance Comanche"
          ],
          [
           "Marko Simonovic"
          ],
          [
           "Mfiondu Kabengele"
          ],
          [
           "Vernon Carey Jr."
          ]
         ],
         "hovertemplate": "POS=%{x}<br>PTSperGP=%{y}<br>PName=%{customdata[0]}<extra></extra>",
         "legendgroup": "C",
         "marker": {
          "color": "#EF553B"
         },
         "name": "C",
         "notched": false,
         "offsetgroup": "C",
         "orientation": "v",
         "showlegend": true,
         "type": "box",
         "x": [
          "C",
          "C",
          "C",
          "C",
          "C",
          "C",
          "C",
          "C",
          "C",
          "C",
          "C",
          "C",
          "C",
          "C",
          "C",
          "C",
          "C",
          "C",
          "C",
          "C",
          "C",
          "C",
          "C",
          "C",
          "C",
          "C",
          "C",
          "C",
          "C",
          "C",
          "C",
          "C",
          "C",
          "C",
          "C",
          "C",
          "C",
          "C",
          "C",
          "C",
          "C",
          "C",
          "C",
          "C",
          "C",
          "C",
          "C",
          "C",
          "C",
          "C",
          "C",
          "C",
          "C",
          "C",
          "C",
          "C",
          "C",
          "C",
          "C",
          "C",
          "C",
          "C",
          "C",
          "C",
          "C",
          "C",
          "C",
          "C",
          "C",
          "C",
          "C",
          "C",
          "C",
          "C",
          "C",
          "C",
          "C",
          "C"
         ],
         "x0": " ",
         "xaxis": "x",
         "y": [
          33.08,
          24.49,
          20.39,
          23.15,
          17.65,
          15.88,
          17.96,
          14.11,
          17.95,
          14.79,
          14.25,
          12.64,
          13.41,
          12.46,
          15.23,
          10.85,
          10.76,
          11.49,
          11.98,
          9.04,
          13.35,
          9.18,
          9.06,
          9.78,
          9.13,
          20.76,
          10.53,
          9.81,
          11.34,
          8.18,
          6.66,
          6.61,
          10,
          7.37,
          4.95,
          5.96,
          9,
          6.08,
          8.6,
          6.59,
          5.61,
          7.97,
          4.31,
          6.89,
          3.78,
          4.96,
          4.73,
          5.69,
          5.1,
          5.24,
          4.43,
          3.14,
          6.46,
          3.42,
          4.39,
          4.31,
          3.46,
          3.47,
          3.9,
          3.74,
          3.03,
          3.29,
          6.53,
          7.29,
          7,
          1.65,
          2.15,
          4.78,
          4.44,
          4,
          2.06,
          3.43,
          1.58,
          2.4,
          7,
          0.86,
          1.5,
          0.55
         ],
         "y0": " ",
         "yaxis": "y"
        },
        {
         "alignmentgroup": "True",
         "customdata": [
          [
           "Luka Doncic"
          ],
          [
           "Shai Gilgeous-Alexander"
          ],
          [
           "Trae Young"
          ],
          [
           "Damian Lillard"
          ],
          [
           "De'Aaron Fox"
          ],
          [
           "Stephen Curry"
          ],
          [
           "Jalen Brunson"
          ],
          [
           "Kyrie Irving"
          ],
          [
           "Ja Morant"
          ],
          [
           "Darius Garland"
          ],
          [
           "Spencer Dinwiddie"
          ],
          [
           "Tyler Herro"
          ],
          [
           "Jamal Murray"
          ],
          [
           "Jrue Holiday"
          ],
          [
           "Jordan Clarkson"
          ],
          [
           "D'Angelo Russell"
          ],
          [
           "Tyrese Maxey"
          ],
          [
           "Jaden Ivey"
          ],
          [
           "Tyrese Haliburton"
          ],
          [
           "Russell Westbrook"
          ],
          [
           "Derrick White"
          ],
          [
           "Malcolm Brogdon"
          ],
          [
           "Tre Jones"
          ],
          [
           "LaMelo Ball"
          ],
          [
           "Markelle Fultz"
          ],
          [
           "Dennis Schroder"
          ],
          [
           "Tyus Jones"
          ],
          [
           "Chris Paul"
          ],
          [
           "Mike Conley"
          ],
          [
           "Killian Hayes"
          ],
          [
           "Cole Anthony"
          ],
          [
           "Coby White"
          ],
          [
           "Andrew Nembhard"
          ],
          [
           "Marcus Smart"
          ],
          [
           "Reggie Jackson"
          ],
          [
           "Collin Sexton"
          ],
          [
           "Bones Hyland"
          ],
          [
           "Jevon Carter"
          ],
          [
           "T.J. McConnell"
          ],
          [
           "Gabe Vincent"
          ],
          [
           "Monte Morris"
          ],
          [
           "Kyle Lowry"
          ],
          [
           "Jose Alvarado"
          ],
          [
           "Devonte' Graham"
          ],
          [
           "Tre Mann"
          ],
          [
           "Cameron Payne"
          ],
          [
           "Dennis Smith Jr."
          ],
          [
           "Davion Mitchell"
          ],
          [
           "Cory Joseph"
          ],
          [
           "Patrick Beverley"
          ],
          [
           "John Wall"
          ],
          [
           "Edmond Sumner"
          ],
          [
           "Goran Dragic"
          ],
          [
           "R.J. Hampton"
          ],
          [
           "Theo Maledon"
          ],
          [
           "Ben Simmons"
          ],
          [
           "Payton Pritchard"
          ],
          [
           "Malachi Flynn"
          ],
          [
           "Patty Mills"
          ],
          [
           "Duane Washington Jr."
          ],
          [
           "Cade Cunningham"
          ],
          [
           "George Hill"
          ],
          [
           "Miles McBride"
          ],
          [
           "Ricky Rubio"
          ],
          [
           "Jordan McLaughlin"
          ],
          [
           "Raul Neto"
          ],
          [
           "Derrick Rose"
          ],
          [
           "Dalano Banton"
          ],
          [
           "Frank Ntilikina"
          ],
          [
           "Kira Lewis Jr."
          ],
          [
           "McKinley Wright IV"
          ],
          [
           "Ish Smith"
          ],
          [
           "Kemba Walker"
          ],
          [
           "Jeff Dowtin Jr."
          ],
          [
           "Matthew Dellavedova"
          ],
          [
           "Jason Preston"
          ],
          [
           "Xavier Moon"
          ],
          [
           "Alondes Williams"
          ]
         ],
         "hovertemplate": "POS=%{x}<br>PTSperGP=%{y}<br>PName=%{customdata[0]}<extra></extra>",
         "legendgroup": "PG",
         "marker": {
          "color": "#00cc96"
         },
         "name": "PG",
         "notched": false,
         "offsetgroup": "PG",
         "orientation": "v",
         "showlegend": true,
         "type": "box",
         "x": [
          "PG",
          "PG",
          "PG",
          "PG",
          "PG",
          "PG",
          "PG",
          "PG",
          "PG",
          "PG",
          "PG",
          "PG",
          "PG",
          "PG",
          "PG",
          "PG",
          "PG",
          "PG",
          "PG",
          "PG",
          "PG",
          "PG",
          "PG",
          "PG",
          "PG",
          "PG",
          "PG",
          "PG",
          "PG",
          "PG",
          "PG",
          "PG",
          "PG",
          "PG",
          "PG",
          "PG",
          "PG",
          "PG",
          "PG",
          "PG",
          "PG",
          "PG",
          "PG",
          "PG",
          "PG",
          "PG",
          "PG",
          "PG",
          "PG",
          "PG",
          "PG",
          "PG",
          "PG",
          "PG",
          "PG",
          "PG",
          "PG",
          "PG",
          "PG",
          "PG",
          "PG",
          "PG",
          "PG",
          "PG",
          "PG",
          "PG",
          "PG",
          "PG",
          "PG",
          "PG",
          "PG",
          "PG",
          "PG",
          "PG",
          "PG",
          "PG",
          "PG",
          "PG"
         ],
         "x0": " ",
         "xaxis": "x",
         "y": [
          32.39,
          31.4,
          26.22,
          32.17,
          25.01,
          29.43,
          24.01,
          27.05,
          26.16,
          21.59,
          17.33,
          20.1,
          19.97,
          19.25,
          20.84,
          17.79,
          20.3,
          16.27,
          20.71,
          15.88,
          12.4,
          14.93,
          12.87,
          23.28,
          13.95,
          12.58,
          10.28,
          13.88,
          11.91,
          10.34,
          13.02,
          9.66,
          9.45,
          11.52,
          10.19,
          14.27,
          11.77,
          8.04,
          8.67,
          9.43,
          10.26,
          11.18,
          9.02,
          7.38,
          7.72,
          10.27,
          8.78,
          5.62,
          6.89,
          6.19,
          11.35,
          7.13,
          6.29,
          6.43,
          6.7,
          6.93,
          5.62,
          4.64,
          6.15,
          7.87,
          19.92,
          5.04,
          3.47,
          5.18,
          3.74,
          3.27,
          5.63,
          4.58,
          2.87,
          4.56,
          4.22,
          2.51,
          8,
          2.44,
          1.47,
          2.93,
          1.75,
          0
         ],
         "y0": " ",
         "yaxis": "y"
        },
        {
         "alignmentgroup": "True",
         "customdata": [
          [
           "Giannis Antetokounmpo"
          ],
          [
           "Julius Randle"
          ],
          [
           "Pascal Siakam"
          ],
          [
           "Lauri Markkanen"
          ],
          [
           "Domantas Sabonis"
          ],
          [
           "Anthony Davis"
          ],
          [
           "Paolo Banchero"
          ],
          [
           "Kevin Durant"
          ],
          [
           "Evan Mobley"
          ],
          [
           "Jaren Jackson Jr."
          ],
          [
           "P.J. Washington"
          ],
          [
           "Aaron Gordon"
          ],
          [
           "Tobias Harris"
          ],
          [
           "Jabari Smith Jr."
          ],
          [
           "Jaden McDaniels"
          ],
          [
           "John Collins"
          ],
          [
           "Kelly Olynyk"
          ],
          [
           "Patrick Williams"
          ],
          [
           "Onyeka Okongwu"
          ],
          [
           "Jalen McDaniels"
          ],
          [
           "Zion Williamson"
          ],
          [
           "Zach Collins"
          ],
          [
           "Chris Boucher"
          ],
          [
           "Rui Hachimura"
          ],
          [
           "Santi Aldama"
          ],
          [
           "Royce O'Neale"
          ],
          [
           "Jonathan Kuminga"
          ],
          [
           "Jalen Smith"
          ],
          [
           "Grant Williams"
          ],
          [
           "Jarred Vanderbilt"
          ],
          [
           "Draymond Green"
          ],
          [
           "Trey Lyles"
          ],
          [
           "Brandon Clarke"
          ],
          [
           "Dorian Finney-Smith"
          ],
          [
           "Drew Eubanks"
          ],
          [
           "Kevin Love"
          ],
          [
           "Precious Achiuwa"
          ],
          [
           "Marvin Bagley III"
          ],
          [
           "Obi Toppin"
          ],
          [
           "Taurean Prince"
          ],
          [
           "Nicolas Batum"
          ],
          [
           "Trendon Watford"
          ],
          [
           "Larry Nance Jr."
          ],
          [
           "Jeff Green"
          ],
          [
           "Dario Saric"
          ],
          [
           "Isaiah Livers"
          ],
          [
           "Chimezie Metu"
          ],
          [
           "Jeremiah Robinson-Earl"
          ],
          [
           "Robert Covington"
          ],
          [
           "Zeke Nnaji"
          ],
          [
           "P.J. Tucker"
          ],
          [
           "Sandro Mamukelashvili"
          ],
          [
           "Thaddeus Young"
          ],
          [
           "Usman Garuba"
          ],
          [
           "Darius Bazley"
          ],
          [
           "Maxi Kleber"
          ],
          [
           "Dean Wade"
          ],
          [
           "Justise Winslow"
          ],
          [
           "Anthony Gill"
          ],
          [
           "Blake Griffin"
          ],
          [
           "Kai Jones"
          ],
          [
           "Bruno Fernando"
          ],
          [
           "Markieff Morris"
          ],
          [
           "Chuma Okeke"
          ],
          [
           "Jae Crowder"
          ],
          [
           "Juancho Hernangomez"
          ],
          [
           "Frank Kaminsky"
          ],
          [
           "Jonathan Isaac"
          ],
          [
           "James Johnson"
          ],
          [
           "Greg Brown III"
          ],
          [
           "Udonis Haslem"
          ],
          [
           "Noah Vonleh"
          ],
          [
           "Jarrell Brantley"
          ],
          [
           "Isaiah Todd"
          ],
          [
           "Michael Foster Jr."
          ]
         ],
         "hovertemplate": "POS=%{x}<br>PTSperGP=%{y}<br>PName=%{customdata[0]}<extra></extra>",
         "legendgroup": "PF",
         "marker": {
          "color": "#ab63fa"
         },
         "name": "PF",
         "notched": false,
         "offsetgroup": "PF",
         "orientation": "v",
         "showlegend": true,
         "type": "box",
         "x": [
          "PF",
          "PF",
          "PF",
          "PF",
          "PF",
          "PF",
          "PF",
          "PF",
          "PF",
          "PF",
          "PF",
          "PF",
          "PF",
          "PF",
          "PF",
          "PF",
          "PF",
          "PF",
          "PF",
          "PF",
          "PF",
          "PF",
          "PF",
          "PF",
          "PF",
          "PF",
          "PF",
          "PF",
          "PF",
          "PF",
          "PF",
          "PF",
          "PF",
          "PF",
          "PF",
          "PF",
          "PF",
          "PF",
          "PF",
          "PF",
          "PF",
          "PF",
          "PF",
          "PF",
          "PF",
          "PF",
          "PF",
          "PF",
          "PF",
          "PF",
          "PF",
          "PF",
          "PF",
          "PF",
          "PF",
          "PF",
          "PF",
          "PF",
          "PF",
          "PF",
          "PF",
          "PF",
          "PF",
          "PF",
          "PF",
          "PF",
          "PF",
          "PF",
          "PF",
          "PF",
          "PF",
          "PF",
          "PF",
          "PF",
          "PF"
         ],
         "x0": " ",
         "xaxis": "x",
         "y": [
          31.1,
          25.14,
          24.23,
          25.62,
          19.11,
          25.91,
          19.96,
          29.06,
          16.16,
          18.62,
          15.67,
          16.31,
          14.66,
          12.78,
          12.06,
          13.11,
          12.46,
          10.16,
          9.89,
          9.44,
          26,
          11.6,
          9.37,
          11.22,
          9.04,
          8.83,
          9.94,
          9.44,
          8.11,
          7.94,
          8.45,
          7.59,
          9.98,
          8.35,
          6.64,
          8.21,
          9.24,
          12,
          7.42,
          9.13,
          6.13,
          7.4,
          6.78,
          7.8,
          6.35,
          6.65,
          4.86,
          6.79,
          6,
          5.23,
          3.55,
          6.12,
          4.44,
          3,
          5.21,
          5.95,
          4.68,
          6.76,
          3.31,
          4.15,
          3.41,
          3.92,
          3.77,
          4.74,
          6.89,
          2.9,
          2.47,
          5,
          2.83,
          1.75,
          3.86,
          1.09,
          5.5,
          1.5,
          0
         ],
         "y0": " ",
         "yaxis": "y"
        },
        {
         "alignmentgroup": "True",
         "customdata": [
          [
           "Anthony Edwards"
          ],
          [
           "Donovan Mitchell"
          ],
          [
           "Zach LaVine"
          ],
          [
           "Jaylen Brown"
          ],
          [
           "Jalen Green"
          ],
          [
           "Jordan Poole"
          ],
          [
           "CJ McCollum"
          ],
          [
           "Dejounte Murray"
          ],
          [
           "Klay Thompson"
          ],
          [
           "Devin Booker"
          ],
          [
           "RJ Barrett"
          ],
          [
           "Buddy Hield"
          ],
          [
           "Fred VanVleet"
          ],
          [
           "Terry Rozier"
          ],
          [
           "Anfernee Simons"
          ],
          [
           "Bennedict Mathurin"
          ],
          [
           "Josh Giddey"
          ],
          [
           "Desmond Bane"
          ],
          [
           "James Harden"
          ],
          [
           "Immanuel Quickley"
          ],
          [
           "Bradley Beal"
          ],
          [
           "Gary Trent Jr."
          ],
          [
           "Trey Murphy III"
          ],
          [
           "Kevin Huerter"
          ],
          [
           "Kevin Porter Jr."
          ],
          [
           "Malik Monk"
          ],
          [
           "Malik Beasley"
          ],
          [
           "Kelly Oubre Jr."
          ],
          [
           "Max Strus"
          ],
          [
           "Caris LeVert"
          ],
          [
           "Eric Gordon"
          ],
          [
           "Austin Reaves"
          ],
          [
           "Kentavious Caldwell-Pope"
          ],
          [
           "Quentin Grimes"
          ],
          [
           "Shaedon Sharpe"
          ],
          [
           "De'Anthony Melton"
          ],
          [
           "Bogdan Bogdanovic"
          ],
          [
           "Grayson Allen"
          ],
          [
           "Josh Hart"
          ],
          [
           "Terance Mann"
          ],
          [
           "Jaylen Nowell"
          ],
          [
           "Devin Vassell"
          ],
          [
           "Talen Horton-Tucker"
          ],
          [
           "Isaiah Joe"
          ],
          [
           "Ayo Dosunmu"
          ],
          [
           "Donte DiVincenzo"
          ],
          [
           "Josh Richardson"
          ],
          [
           "Alec Burks"
          ],
          [
           "Shake Milton"
          ],
          [
           "Cam Thomas"
          ],
          [
           "Damion Lee"
          ],
          [
           "Seth Curry"
          ],
          [
           "Josh Green"
          ],
          [
           "Luke Kennard"
          ],
          [
           "Jalen Suggs"
          ],
          [
           "Hamidou Diallo"
          ],
          [
           "Aaron Wiggins"
          ],
          [
           "Pat Connaughton"
          ],
          [
           "Victor Oladipo"
          ],
          [
           "Terence Davis"
          ],
          [
           "Gary Harris"
          ],
          [
           "Alex Caruso"
          ],
          [
           "Josh Christopher"
          ],
          [
           "Delon Wright"
          ],
          [
           "John Konchar"
          ],
          [
           "Nickeil Alexander-Walker"
          ],
          [
           "Chris Duarte"
          ],
          [
           "Landry Shamet"
          ],
          [
           "Joe Ingles"
          ],
          [
           "Ty Jerome"
          ],
          [
           "Moses Moody"
          ],
          [
           "Romeo Langford"
          ],
          [
           "Matisse Thybulle"
          ],
          [
           "Garrison Mathews"
          ],
          [
           "Austin Rivers"
          ],
          [
           "Daishen Nix"
          ],
          [
           "Svi Mykhailiuk"
          ],
          [
           "James Bouknight"
          ],
          [
           "Keon Johnson"
          ],
          [
           "Wesley Matthews"
          ],
          [
           "Amir Coffey"
          ],
          [
           "Evan Fournier"
          ],
          [
           "Brandon Boston Jr."
          ],
          [
           "Furkan Korkmaz"
          ],
          [
           "Gary Payton II"
          ],
          [
           "Skylar Mays"
          ],
          [
           "Bryn Forbes"
          ],
          [
           "Davon Reed"
          ],
          [
           "Jared Butler"
          ],
          [
           "Joshua Primo"
          ],
          [
           "Mac McClung"
          ],
          [
           "Sam Merrill"
          ],
          [
           "Trevelin Queen"
          ],
          [
           "JD Davison"
          ],
          [
           "Kendall Brown"
          ],
          [
           "Dylan Windler"
          ],
          [
           "Frank Jackson"
          ]
         ],
         "hovertemplate": "POS=%{x}<br>PTSperGP=%{y}<br>PName=%{customdata[0]}<extra></extra>",
         "legendgroup": "SG",
         "marker": {
          "color": "#FFA15A"
         },
         "name": "SG",
         "notched": false,
         "offsetgroup": "SG",
         "orientation": "v",
         "showlegend": true,
         "type": "box",
         "x": [
          "SG",
          "SG",
          "SG",
          "SG",
          "SG",
          "SG",
          "SG",
          "SG",
          "SG",
          "SG",
          "SG",
          "SG",
          "SG",
          "SG",
          "SG",
          "SG",
          "SG",
          "SG",
          "SG",
          "SG",
          "SG",
          "SG",
          "SG",
          "SG",
          "SG",
          "SG",
          "SG",
          "SG",
          "SG",
          "SG",
          "SG",
          "SG",
          "SG",
          "SG",
          "SG",
          "SG",
          "SG",
          "SG",
          "SG",
          "SG",
          "SG",
          "SG",
          "SG",
          "SG",
          "SG",
          "SG",
          "SG",
          "SG",
          "SG",
          "SG",
          "SG",
          "SG",
          "SG",
          "SG",
          "SG",
          "SG",
          "SG",
          "SG",
          "SG",
          "SG",
          "SG",
          "SG",
          "SG",
          "SG",
          "SG",
          "SG",
          "SG",
          "SG",
          "SG",
          "SG",
          "SG",
          "SG",
          "SG",
          "SG",
          "SG",
          "SG",
          "SG",
          "SG",
          "SG",
          "SG",
          "SG",
          "SG",
          "SG",
          "SG",
          "SG",
          "SG",
          "SG",
          "SG",
          "SG",
          "SG",
          "SG",
          "SG",
          "SG",
          "SG",
          "SG",
          "SG",
          "SG"
         ],
         "x0": " ",
         "xaxis": "x",
         "y": [
          24.63,
          28.26,
          24.84,
          26.63,
          22.14,
          20.43,
          20.91,
          20.47,
          21.87,
          27.75,
          19.6,
          16.8,
          19.35,
          21.1,
          21.06,
          16.69,
          16.58,
          21.5,
          20.97,
          14.93,
          23.2,
          17.39,
          14.53,
          15.2,
          19.15,
          13.52,
          12.65,
          20.25,
          11.54,
          12.12,
          12.41,
          13.02,
          10.82,
          11.25,
          9.86,
          10.13,
          14,
          10.42,
          9.78,
          8.8,
          10.83,
          18.5,
          10.74,
          9.47,
          8.59,
          9.42,
          10.06,
          12.78,
          8.38,
          10.6,
          8.16,
          9.2,
          9.1,
          9.25,
          9.89,
          9.32,
          6.84,
          7.64,
          10.69,
          6.73,
          8.27,
          5.58,
          5.81,
          7.38,
          5.06,
          6.15,
          7.87,
          8.65,
          6.89,
          6.87,
          4.79,
          6.91,
          4.13,
          4.76,
          4.9,
          3.96,
          6.94,
          5.62,
          4.72,
          3.44,
          3.44,
          6.11,
          6.5,
          3.78,
          4.59,
          15.33,
          3.56,
          2.07,
          6.17,
          7,
          12.5,
          5,
          3,
          1.58,
          1.5,
          1.67,
          0
         ],
         "y0": " ",
         "yaxis": "y"
        },
        {
         "alignmentgroup": "True",
         "customdata": [
          [
           "Paul George"
          ],
          [
           "Christian Wood"
          ],
          [
           "Jalen Williams"
          ],
          [
           "Kenyon Martin Jr."
          ],
          [
           "Bobby Portis"
          ],
          [
           "Tari Eason"
          ],
          [
           "AJ Griffin"
          ],
          [
           "Jeremy Sochan"
          ],
          [
           "Kevon Looney"
          ],
          [
           "David Roddy"
          ],
          [
           "Xavier Tillman"
          ],
          [
           "Anthony Lamb"
          ],
          [
           "Wenyen Gabriel"
          ],
          [
           "JaMychal Green"
          ],
          [
           "Lamar Stevens"
          ],
          [
           "Simone Fontecchio"
          ],
          [
           "Jaylin Williams"
          ],
          [
           "Eugene Omoruyi"
          ],
          [
           "Aleksej Pokusevski"
          ],
          [
           "Duncan Robinson"
          ],
          [
           "MarJon Beauchamp"
          ],
          [
           "JT Thor"
          ],
          [
           "Ish Wainright"
          ],
          [
           "Haywood Highsmith"
          ],
          [
           "Jabari Walker"
          ],
          [
           "Lindy Waters III"
          ],
          [
           "Ziaire Williams"
          ],
          [
           "Ousmane Dieng"
          ],
          [
           "Isaiah Roby"
          ],
          [
           "Taj Gibson"
          ],
          [
           "Julian Champagnie"
          ],
          [
           "Nathan Knight"
          ],
          [
           "Richaun Holmes"
          ],
          [
           "Matt Ryan"
          ],
          [
           "Patrick Baldwin Jr."
          ],
          [
           "Kenneth Lofton Jr."
          ],
          [
           "Dominick Barlow"
          ],
          [
           "Jake LaRavia"
          ],
          [
           "Jamal Cain"
          ],
          [
           "Terry Taylor"
          ],
          [
           "Dalen Terry"
          ],
          [
           "Nikola Jovic"
          ],
          [
           "Peyton Watson"
          ],
          [
           "Luka Samanic"
          ],
          [
           "Serge Ibaka"
          ],
          [
           "Danny Green"
          ],
          [
           "Moussa Diabate"
          ],
          [
           "Mamadi Diakite"
          ],
          [
           "Josh Minott"
          ],
          [
           "John Butler Jr."
          ],
          [
           "Isaiah Mobley"
          ],
          [
           "Jack White"
          ],
          [
           "Ron Harper Jr."
          ],
          [
           "Andre Iguodala"
          ],
          [
           "Justin Minaya"
          ],
          [
           "Xavier Sneed"
          ],
          [
           "Buddy Boeheim"
          ],
          [
           "RaiQuan Gray"
          ],
          [
           "Darius Days"
          ],
          [
           "Cole Swider"
          ],
          [
           "Alize Johnson"
          ],
          [
           "Leandro Bolmaro"
          ],
          [
           "Malcolm Hill"
          ],
          [
           "Jordan Schakel"
          ],
          [
           "Chima Moneke"
          ],
          [
           "Chris Silva"
          ]
         ],
         "hovertemplate": "POS=%{x}<br>PTSperGP=%{y}<br>PName=%{customdata[0]}<extra></extra>",
         "legendgroup": "F",
         "marker": {
          "color": "#19d3f3"
         },
         "name": "F",
         "notched": false,
         "offsetgroup": "F",
         "orientation": "v",
         "showlegend": true,
         "type": "box",
         "x": [
          "F",
          "F",
          "F",
          "F",
          "F",
          "F",
          "F",
          "F",
          "F",
          "F",
          "F",
          "F",
          "F",
          "F",
          "F",
          "F",
          "F",
          "F",
          "F",
          "F",
          "F",
          "F",
          "F",
          "F",
          "F",
          "F",
          "F",
          "F",
          "F",
          "F",
          "F",
          "F",
          "F",
          "F",
          "F",
          "F",
          "F",
          "F",
          "F",
          "F",
          "F",
          "F",
          "F",
          "F",
          "F",
          "F",
          "F",
          "F",
          "F",
          "F",
          "F",
          "F",
          "F",
          "F",
          "F",
          "F",
          "F",
          "F",
          "F",
          "F",
          "F",
          "F",
          "F",
          "F",
          "F",
          "F"
         ],
         "x0": " ",
         "xaxis": "x",
         "y": [
          23.79,
          16.63,
          14.08,
          12.67,
          14.1,
          9.27,
          8.88,
          10.96,
          7.05,
          6.66,
          7.03,
          6.69,
          5.47,
          6.42,
          5.29,
          6.31,
          5.88,
          6.95,
          8.12,
          6.38,
          5.12,
          3.8,
          4.18,
          4.37,
          3.86,
          5.22,
          5.68,
          4.95,
          4.1,
          3.43,
          9.71,
          3.66,
          3.1,
          3.59,
          3.94,
          5,
          3.93,
          3,
          5.44,
          2.87,
          2.24,
          5.47,
          3.26,
          9.86,
          4.12,
          5.55,
          2.68,
          2.59,
          3.07,
          2.37,
          2.58,
          1.24,
          2.22,
          2.12,
          4.25,
          4.25,
          1.6,
          16,
          3.75,
          1.29,
          1.75,
          0.43,
          1,
          1.5,
          1,
          2
         ],
         "y0": " ",
         "yaxis": "y"
        },
        {
         "alignmentgroup": "True",
         "customdata": [
          [
           "Norman Powell"
          ],
          [
           "Luguentz Dort"
          ],
          [
           "Malaki Branham"
          ],
          [
           "Lonnie Walker IV"
          ],
          [
           "Terrence Ross"
          ],
          [
           "Kendrick Nunn"
          ],
          [
           "Ochai Agbaji"
          ],
          [
           "Jaden Hardy"
          ],
          [
           "Jordan Goodwin"
          ],
          [
           "Will Barton"
          ],
          [
           "Christian Braun"
          ],
          [
           "Kris Dunn"
          ],
          [
           "Aaron Holiday"
          ],
          [
           "Bryce McGowens"
          ],
          [
           "Dyson Daniels"
          ],
          [
           "Caleb Houstan"
          ],
          [
           "Blake Wesley"
          ],
          [
           "Rodney McGruder"
          ],
          [
           "Johnny Davis"
          ],
          [
           "AJ Green"
          ],
          [
           "Saben Lee"
          ],
          [
           "TyTy Washington Jr."
          ],
          [
           "Kevon Harris"
          ],
          [
           "Max Christie"
          ],
          [
           "Theo Pinson"
          ],
          [
           "Johnny Juzang"
          ],
          [
           "David Duke Jr."
          ],
          [
           "Kennedy Chandler"
          ],
          [
           "A.J. Lawson"
          ],
          [
           "Quenton Jackson"
          ],
          [
           "Jeenathan Williams"
          ],
          [
           "Trent Forrest"
          ],
          [
           "Lindell Wigginton"
          ],
          [
           "Jared Rhoden"
          ],
          [
           "Dru Smith"
          ],
          [
           "Jarrett Culver"
          ],
          [
           "Shaquille Harrison"
          ],
          [
           "Jaden Springer"
          ],
          [
           "Wendell Moore Jr."
          ],
          [
           "Xavier Cooks"
          ],
          [
           "Vit Krejci"
          ],
          [
           "Vince Williams Jr."
          ],
          [
           "Jordan Hall"
          ],
          [
           "Ryan Arcidiacono"
          ],
          [
           "Gabe York"
          ],
          [
           "Keon Ellis"
          ],
          [
           "Ryan Rollins"
          ],
          [
           "PJ Dozier"
          ],
          [
           "Tyrese Martin"
          ],
          [
           "Carlik Jones"
          ],
          [
           "Michael Carter-Williams"
          ],
          [
           "Jamaree Bouyea"
          ],
          [
           "Scotty Pippen Jr."
          ],
          [
           "Jay Scrubb"
          ],
          [
           "Facundo Campazzo"
          ],
          [
           "Lester Quinones"
          ],
          [
           "Trevor Hudgins"
          ],
          [
           "Tyler Dorsey"
          ],
          [
           "Kobi Simmons"
          ],
          [
           "Braxton Key"
          ],
          [
           "Dereon Seabron"
          ],
          [
           "Donovan Williams"
          ],
          [
           "Devon Dotson"
          ],
          [
           "Jacob Gilyard"
          ],
          [
           "Trevor Keels"
          ],
          [
           "Stanley Umude"
          ]
         ],
         "hovertemplate": "POS=%{x}<br>PTSperGP=%{y}<br>PName=%{customdata[0]}<extra></extra>",
         "legendgroup": "G",
         "marker": {
          "color": "#FF6692"
         },
         "name": "G",
         "notched": false,
         "offsetgroup": "G",
         "orientation": "v",
         "showlegend": true,
         "type": "box",
         "x": [
          "G",
          "G",
          "G",
          "G",
          "G",
          "G",
          "G",
          "G",
          "G",
          "G",
          "G",
          "G",
          "G",
          "G",
          "G",
          "G",
          "G",
          "G",
          "G",
          "G",
          "G",
          "G",
          "G",
          "G",
          "G",
          "G",
          "G",
          "G",
          "G",
          "G",
          "G",
          "G",
          "G",
          "G",
          "G",
          "G",
          "G",
          "G",
          "G",
          "G",
          "G",
          "G",
          "G",
          "G",
          "G",
          "G",
          "G",
          "G",
          "G",
          "G",
          "G",
          "G",
          "G",
          "G",
          "G",
          "G",
          "G",
          "G",
          "G",
          "G",
          "G",
          "G",
          "G",
          "G",
          "G",
          "G"
         ],
         "x0": " ",
         "xaxis": "x",
         "y": [
          16.98,
          13.69,
          10.2,
          11.68,
          8.29,
          7.09,
          7.92,
          8.75,
          6.56,
          6.77,
          4.74,
          13.18,
          3.92,
          5.35,
          3.85,
          3.78,
          4.97,
          5.72,
          5.82,
          4.4,
          6.04,
          4.68,
          4.15,
          3.12,
          2.38,
          4.83,
          3.7,
          2.17,
          3.73,
          6.22,
          10.6,
          2.26,
          7.14,
          3.21,
          2.93,
          4.4,
          8.8,
          2.62,
          1.45,
          3.8,
          1.24,
          2,
          3.11,
          1.3,
          8,
          1.5,
          1.92,
          1.38,
          1.31,
          2.86,
          4.25,
          3,
          2.33,
          6.5,
          1.25,
          2.5,
          1.8,
          3,
          1,
          1.33,
          0.8,
          2,
          0.5,
          3,
          1,
          2
         ],
         "y0": " ",
         "yaxis": "y"
        }
       ],
       "layout": {
        "boxmode": "overlay",
        "legend": {
         "title": {
          "text": "POS"
         },
         "tracegroupgap": 0
        },
        "margin": {
         "t": 60
        },
        "template": {
         "data": {
          "bar": [
           {
            "error_x": {
             "color": "#f2f5fa"
            },
            "error_y": {
             "color": "#f2f5fa"
            },
            "marker": {
             "line": {
              "color": "rgb(17,17,17)",
              "width": 0.5
             },
             "pattern": {
              "fillmode": "overlay",
              "size": 10,
              "solidity": 0.2
             }
            },
            "type": "bar"
           }
          ],
          "barpolar": [
           {
            "marker": {
             "line": {
              "color": "rgb(17,17,17)",
              "width": 0.5
             },
             "pattern": {
              "fillmode": "overlay",
              "size": 10,
              "solidity": 0.2
             }
            },
            "type": "barpolar"
           }
          ],
          "carpet": [
           {
            "aaxis": {
             "endlinecolor": "#A2B1C6",
             "gridcolor": "#506784",
             "linecolor": "#506784",
             "minorgridcolor": "#506784",
             "startlinecolor": "#A2B1C6"
            },
            "baxis": {
             "endlinecolor": "#A2B1C6",
             "gridcolor": "#506784",
             "linecolor": "#506784",
             "minorgridcolor": "#506784",
             "startlinecolor": "#A2B1C6"
            },
            "type": "carpet"
           }
          ],
          "choropleth": [
           {
            "colorbar": {
             "outlinewidth": 0,
             "ticks": ""
            },
            "type": "choropleth"
           }
          ],
          "contour": [
           {
            "colorbar": {
             "outlinewidth": 0,
             "ticks": ""
            },
            "colorscale": [
             [
              0,
              "#0d0887"
             ],
             [
              0.1111111111111111,
              "#46039f"
             ],
             [
              0.2222222222222222,
              "#7201a8"
             ],
             [
              0.3333333333333333,
              "#9c179e"
             ],
             [
              0.4444444444444444,
              "#bd3786"
             ],
             [
              0.5555555555555556,
              "#d8576b"
             ],
             [
              0.6666666666666666,
              "#ed7953"
             ],
             [
              0.7777777777777778,
              "#fb9f3a"
             ],
             [
              0.8888888888888888,
              "#fdca26"
             ],
             [
              1,
              "#f0f921"
             ]
            ],
            "type": "contour"
           }
          ],
          "contourcarpet": [
           {
            "colorbar": {
             "outlinewidth": 0,
             "ticks": ""
            },
            "type": "contourcarpet"
           }
          ],
          "heatmap": [
           {
            "colorbar": {
             "outlinewidth": 0,
             "ticks": ""
            },
            "colorscale": [
             [
              0,
              "#0d0887"
             ],
             [
              0.1111111111111111,
              "#46039f"
             ],
             [
              0.2222222222222222,
              "#7201a8"
             ],
             [
              0.3333333333333333,
              "#9c179e"
             ],
             [
              0.4444444444444444,
              "#bd3786"
             ],
             [
              0.5555555555555556,
              "#d8576b"
             ],
             [
              0.6666666666666666,
              "#ed7953"
             ],
             [
              0.7777777777777778,
              "#fb9f3a"
             ],
             [
              0.8888888888888888,
              "#fdca26"
             ],
             [
              1,
              "#f0f921"
             ]
            ],
            "type": "heatmap"
           }
          ],
          "heatmapgl": [
           {
            "colorbar": {
             "outlinewidth": 0,
             "ticks": ""
            },
            "colorscale": [
             [
              0,
              "#0d0887"
             ],
             [
              0.1111111111111111,
              "#46039f"
             ],
             [
              0.2222222222222222,
              "#7201a8"
             ],
             [
              0.3333333333333333,
              "#9c179e"
             ],
             [
              0.4444444444444444,
              "#bd3786"
             ],
             [
              0.5555555555555556,
              "#d8576b"
             ],
             [
              0.6666666666666666,
              "#ed7953"
             ],
             [
              0.7777777777777778,
              "#fb9f3a"
             ],
             [
              0.8888888888888888,
              "#fdca26"
             ],
             [
              1,
              "#f0f921"
             ]
            ],
            "type": "heatmapgl"
           }
          ],
          "histogram": [
           {
            "marker": {
             "pattern": {
              "fillmode": "overlay",
              "size": 10,
              "solidity": 0.2
             }
            },
            "type": "histogram"
           }
          ],
          "histogram2d": [
           {
            "colorbar": {
             "outlinewidth": 0,
             "ticks": ""
            },
            "colorscale": [
             [
              0,
              "#0d0887"
             ],
             [
              0.1111111111111111,
              "#46039f"
             ],
             [
              0.2222222222222222,
              "#7201a8"
             ],
             [
              0.3333333333333333,
              "#9c179e"
             ],
             [
              0.4444444444444444,
              "#bd3786"
             ],
             [
              0.5555555555555556,
              "#d8576b"
             ],
             [
              0.6666666666666666,
              "#ed7953"
             ],
             [
              0.7777777777777778,
              "#fb9f3a"
             ],
             [
              0.8888888888888888,
              "#fdca26"
             ],
             [
              1,
              "#f0f921"
             ]
            ],
            "type": "histogram2d"
           }
          ],
          "histogram2dcontour": [
           {
            "colorbar": {
             "outlinewidth": 0,
             "ticks": ""
            },
            "colorscale": [
             [
              0,
              "#0d0887"
             ],
             [
              0.1111111111111111,
              "#46039f"
             ],
             [
              0.2222222222222222,
              "#7201a8"
             ],
             [
              0.3333333333333333,
              "#9c179e"
             ],
             [
              0.4444444444444444,
              "#bd3786"
             ],
             [
              0.5555555555555556,
              "#d8576b"
             ],
             [
              0.6666666666666666,
              "#ed7953"
             ],
             [
              0.7777777777777778,
              "#fb9f3a"
             ],
             [
              0.8888888888888888,
              "#fdca26"
             ],
             [
              1,
              "#f0f921"
             ]
            ],
            "type": "histogram2dcontour"
           }
          ],
          "mesh3d": [
           {
            "colorbar": {
             "outlinewidth": 0,
             "ticks": ""
            },
            "type": "mesh3d"
           }
          ],
          "parcoords": [
           {
            "line": {
             "colorbar": {
              "outlinewidth": 0,
              "ticks": ""
             }
            },
            "type": "parcoords"
           }
          ],
          "pie": [
           {
            "automargin": true,
            "type": "pie"
           }
          ],
          "scatter": [
           {
            "marker": {
             "line": {
              "color": "#283442"
             }
            },
            "type": "scatter"
           }
          ],
          "scatter3d": [
           {
            "line": {
             "colorbar": {
              "outlinewidth": 0,
              "ticks": ""
             }
            },
            "marker": {
             "colorbar": {
              "outlinewidth": 0,
              "ticks": ""
             }
            },
            "type": "scatter3d"
           }
          ],
          "scattercarpet": [
           {
            "marker": {
             "colorbar": {
              "outlinewidth": 0,
              "ticks": ""
             }
            },
            "type": "scattercarpet"
           }
          ],
          "scattergeo": [
           {
            "marker": {
             "colorbar": {
              "outlinewidth": 0,
              "ticks": ""
             }
            },
            "type": "scattergeo"
           }
          ],
          "scattergl": [
           {
            "marker": {
             "line": {
              "color": "#283442"
             }
            },
            "type": "scattergl"
           }
          ],
          "scattermapbox": [
           {
            "marker": {
             "colorbar": {
              "outlinewidth": 0,
              "ticks": ""
             }
            },
            "type": "scattermapbox"
           }
          ],
          "scatterpolar": [
           {
            "marker": {
             "colorbar": {
              "outlinewidth": 0,
              "ticks": ""
             }
            },
            "type": "scatterpolar"
           }
          ],
          "scatterpolargl": [
           {
            "marker": {
             "colorbar": {
              "outlinewidth": 0,
              "ticks": ""
             }
            },
            "type": "scatterpolargl"
           }
          ],
          "scatterternary": [
           {
            "marker": {
             "colorbar": {
              "outlinewidth": 0,
              "ticks": ""
             }
            },
            "type": "scatterternary"
           }
          ],
          "surface": [
           {
            "colorbar": {
             "outlinewidth": 0,
             "ticks": ""
            },
            "colorscale": [
             [
              0,
              "#0d0887"
             ],
             [
              0.1111111111111111,
              "#46039f"
             ],
             [
              0.2222222222222222,
              "#7201a8"
             ],
             [
              0.3333333333333333,
              "#9c179e"
             ],
             [
              0.4444444444444444,
              "#bd3786"
             ],
             [
              0.5555555555555556,
              "#d8576b"
             ],
             [
              0.6666666666666666,
              "#ed7953"
             ],
             [
              0.7777777777777778,
              "#fb9f3a"
             ],
             [
              0.8888888888888888,
              "#fdca26"
             ],
             [
              1,
              "#f0f921"
             ]
            ],
            "type": "surface"
           }
          ],
          "table": [
           {
            "cells": {
             "fill": {
              "color": "#506784"
             },
             "line": {
              "color": "rgb(17,17,17)"
             }
            },
            "header": {
             "fill": {
              "color": "#2a3f5f"
             },
             "line": {
              "color": "rgb(17,17,17)"
             }
            },
            "type": "table"
           }
          ]
         },
         "layout": {
          "annotationdefaults": {
           "arrowcolor": "#f2f5fa",
           "arrowhead": 0,
           "arrowwidth": 1
          },
          "autotypenumbers": "strict",
          "coloraxis": {
           "colorbar": {
            "outlinewidth": 0,
            "ticks": ""
           }
          },
          "colorscale": {
           "diverging": [
            [
             0,
             "#8e0152"
            ],
            [
             0.1,
             "#c51b7d"
            ],
            [
             0.2,
             "#de77ae"
            ],
            [
             0.3,
             "#f1b6da"
            ],
            [
             0.4,
             "#fde0ef"
            ],
            [
             0.5,
             "#f7f7f7"
            ],
            [
             0.6,
             "#e6f5d0"
            ],
            [
             0.7,
             "#b8e186"
            ],
            [
             0.8,
             "#7fbc41"
            ],
            [
             0.9,
             "#4d9221"
            ],
            [
             1,
             "#276419"
            ]
           ],
           "sequential": [
            [
             0,
             "#0d0887"
            ],
            [
             0.1111111111111111,
             "#46039f"
            ],
            [
             0.2222222222222222,
             "#7201a8"
            ],
            [
             0.3333333333333333,
             "#9c179e"
            ],
            [
             0.4444444444444444,
             "#bd3786"
            ],
            [
             0.5555555555555556,
             "#d8576b"
            ],
            [
             0.6666666666666666,
             "#ed7953"
            ],
            [
             0.7777777777777778,
             "#fb9f3a"
            ],
            [
             0.8888888888888888,
             "#fdca26"
            ],
            [
             1,
             "#f0f921"
            ]
           ],
           "sequentialminus": [
            [
             0,
             "#0d0887"
            ],
            [
             0.1111111111111111,
             "#46039f"
            ],
            [
             0.2222222222222222,
             "#7201a8"
            ],
            [
             0.3333333333333333,
             "#9c179e"
            ],
            [
             0.4444444444444444,
             "#bd3786"
            ],
            [
             0.5555555555555556,
             "#d8576b"
            ],
            [
             0.6666666666666666,
             "#ed7953"
            ],
            [
             0.7777777777777778,
             "#fb9f3a"
            ],
            [
             0.8888888888888888,
             "#fdca26"
            ],
            [
             1,
             "#f0f921"
            ]
           ]
          },
          "colorway": [
           "#636efa",
           "#EF553B",
           "#00cc96",
           "#ab63fa",
           "#FFA15A",
           "#19d3f3",
           "#FF6692",
           "#B6E880",
           "#FF97FF",
           "#FECB52"
          ],
          "font": {
           "color": "#f2f5fa"
          },
          "geo": {
           "bgcolor": "rgb(17,17,17)",
           "lakecolor": "rgb(17,17,17)",
           "landcolor": "rgb(17,17,17)",
           "showlakes": true,
           "showland": true,
           "subunitcolor": "#506784"
          },
          "hoverlabel": {
           "align": "left"
          },
          "hovermode": "closest",
          "mapbox": {
           "style": "dark"
          },
          "paper_bgcolor": "rgb(17,17,17)",
          "plot_bgcolor": "rgb(17,17,17)",
          "polar": {
           "angularaxis": {
            "gridcolor": "#506784",
            "linecolor": "#506784",
            "ticks": ""
           },
           "bgcolor": "rgb(17,17,17)",
           "radialaxis": {
            "gridcolor": "#506784",
            "linecolor": "#506784",
            "ticks": ""
           }
          },
          "scene": {
           "xaxis": {
            "backgroundcolor": "rgb(17,17,17)",
            "gridcolor": "#506784",
            "gridwidth": 2,
            "linecolor": "#506784",
            "showbackground": true,
            "ticks": "",
            "zerolinecolor": "#C8D4E3"
           },
           "yaxis": {
            "backgroundcolor": "rgb(17,17,17)",
            "gridcolor": "#506784",
            "gridwidth": 2,
            "linecolor": "#506784",
            "showbackground": true,
            "ticks": "",
            "zerolinecolor": "#C8D4E3"
           },
           "zaxis": {
            "backgroundcolor": "rgb(17,17,17)",
            "gridcolor": "#506784",
            "gridwidth": 2,
            "linecolor": "#506784",
            "showbackground": true,
            "ticks": "",
            "zerolinecolor": "#C8D4E3"
           }
          },
          "shapedefaults": {
           "line": {
            "color": "#f2f5fa"
           }
          },
          "sliderdefaults": {
           "bgcolor": "#C8D4E3",
           "bordercolor": "rgb(17,17,17)",
           "borderwidth": 1,
           "tickwidth": 0
          },
          "ternary": {
           "aaxis": {
            "gridcolor": "#506784",
            "linecolor": "#506784",
            "ticks": ""
           },
           "baxis": {
            "gridcolor": "#506784",
            "linecolor": "#506784",
            "ticks": ""
           },
           "bgcolor": "rgb(17,17,17)",
           "caxis": {
            "gridcolor": "#506784",
            "linecolor": "#506784",
            "ticks": ""
           }
          },
          "title": {
           "x": 0.05
          },
          "updatemenudefaults": {
           "bgcolor": "#506784",
           "borderwidth": 0
          },
          "xaxis": {
           "automargin": true,
           "gridcolor": "#283442",
           "linecolor": "#506784",
           "ticks": "",
           "title": {
            "standoff": 15
           },
           "zerolinecolor": "#283442",
           "zerolinewidth": 2
          },
          "yaxis": {
           "automargin": true,
           "gridcolor": "#283442",
           "linecolor": "#506784",
           "ticks": "",
           "title": {
            "standoff": 15
           },
           "zerolinecolor": "#283442",
           "zerolinewidth": 2
          }
         }
        },
        "xaxis": {
         "anchor": "y",
         "categoryarray": [
          "SF",
          "C",
          "PG",
          "PF",
          "SG",
          "F",
          "G"
         ],
         "categoryorder": "array",
         "domain": [
          0,
          1
         ],
         "title": {
          "text": "POS"
         }
        },
        "yaxis": {
         "anchor": "x",
         "domain": [
          0,
          1
         ],
         "title": {
          "text": "PTSperGP"
         }
        }
       }
      }
     },
     "metadata": {},
     "output_type": "display_data"
    }
   ],
   "source": [
    "px.box(data_frame=data_merged,\n",
    "       x='POS',\n",
    "       y='PTSperGP',\n",
    "       color='POS',\n",
    "       hover_data='PName',\n",
    "       template='plotly_dark')"
   ]
  },
  {
   "cell_type": "code",
   "execution_count": null,
   "metadata": {},
   "outputs": [],
   "source": [
    "# 4. Como estão distribuídas as médias de bolas de 3, assistências e lances livres em cada posição?"
   ]
  },
  {
   "cell_type": "code",
   "execution_count": 113,
   "metadata": {},
   "outputs": [
    {
     "data": {
      "text/html": [
       "<div>\n",
       "<style scoped>\n",
       "    .dataframe tbody tr th:only-of-type {\n",
       "        vertical-align: middle;\n",
       "    }\n",
       "\n",
       "    .dataframe tbody tr th {\n",
       "        vertical-align: top;\n",
       "    }\n",
       "\n",
       "    .dataframe thead th {\n",
       "        text-align: right;\n",
       "    }\n",
       "</style>\n",
       "<table border=\"1\" class=\"dataframe\">\n",
       "  <thead>\n",
       "    <tr style=\"text-align: right;\">\n",
       "      <th></th>\n",
       "      <th>POS</th>\n",
       "      <th>3PM</th>\n",
       "      <th>AST</th>\n",
       "      <th>FTM</th>\n",
       "    </tr>\n",
       "  </thead>\n",
       "  <tbody>\n",
       "    <tr>\n",
       "      <th>0</th>\n",
       "      <td>C</td>\n",
       "      <td>19.65</td>\n",
       "      <td>74.32</td>\n",
       "      <td>84.08</td>\n",
       "    </tr>\n",
       "    <tr>\n",
       "      <th>1</th>\n",
       "      <td>F</td>\n",
       "      <td>26.26</td>\n",
       "      <td>41.08</td>\n",
       "      <td>32.38</td>\n",
       "    </tr>\n",
       "    <tr>\n",
       "      <th>2</th>\n",
       "      <td>G</td>\n",
       "      <td>20.55</td>\n",
       "      <td>35.03</td>\n",
       "      <td>20.82</td>\n",
       "    </tr>\n",
       "    <tr>\n",
       "      <th>3</th>\n",
       "      <td>PF</td>\n",
       "      <td>51.84</td>\n",
       "      <td>109.21</td>\n",
       "      <td>100.65</td>\n",
       "    </tr>\n",
       "    <tr>\n",
       "      <th>4</th>\n",
       "      <td>PG</td>\n",
       "      <td>84.26</td>\n",
       "      <td>248.71</td>\n",
       "      <td>123.04</td>\n",
       "    </tr>\n",
       "    <tr>\n",
       "      <th>5</th>\n",
       "      <td>SF</td>\n",
       "      <td>75.72</td>\n",
       "      <td>113.44</td>\n",
       "      <td>102.78</td>\n",
       "    </tr>\n",
       "    <tr>\n",
       "      <th>6</th>\n",
       "      <td>SG</td>\n",
       "      <td>95.82</td>\n",
       "      <td>153.68</td>\n",
       "      <td>102.20</td>\n",
       "    </tr>\n",
       "  </tbody>\n",
       "</table>\n",
       "</div>"
      ],
      "text/plain": [
       "  POS    3PM     AST     FTM\n",
       "0   C  19.65   74.32   84.08\n",
       "1   F  26.26   41.08   32.38\n",
       "2   G  20.55   35.03   20.82\n",
       "3  PF  51.84  109.21  100.65\n",
       "4  PG  84.26  248.71  123.04\n",
       "5  SF  75.72  113.44  102.78\n",
       "6  SG  95.82  153.68  102.20"
      ]
     },
     "execution_count": 113,
     "metadata": {},
     "output_type": "execute_result"
    }
   ],
   "source": [
    "aux = data_merged[['POS', '3PM', 'AST', 'FTM']].groupby('POS').mean(['3PM', 'AST', 'FTM']).sort_values(by='POS', ascending=True).round(2).reset_index()\n",
    "aux"
   ]
  },
  {
   "cell_type": "code",
   "execution_count": 114,
   "metadata": {},
   "outputs": [
    {
     "data": {
      "application/vnd.plotly.v1+json": {
       "config": {
        "plotlyServerURL": "https://plot.ly"
       },
       "data": [
        {
         "hovertemplate": "POS=C<br>FTM=%{x}<br>3PM=%{y}<br>AST=%{marker.size}<extra></extra>",
         "legendgroup": "C",
         "marker": {
          "color": "#636efa",
          "opacity": 0.6,
          "size": [
           74.32
          ],
          "sizemode": "area",
          "sizeref": 0.621775,
          "symbol": "circle"
         },
         "mode": "markers",
         "name": "C",
         "orientation": "v",
         "showlegend": true,
         "type": "scatter",
         "x": [
          84.08
         ],
         "xaxis": "x",
         "y": [
          19.65
         ],
         "yaxis": "y"
        },
        {
         "hovertemplate": "POS=F<br>FTM=%{x}<br>3PM=%{y}<br>AST=%{marker.size}<extra></extra>",
         "legendgroup": "F",
         "marker": {
          "color": "#EF553B",
          "opacity": 0.6,
          "size": [
           41.08
          ],
          "sizemode": "area",
          "sizeref": 0.621775,
          "symbol": "circle"
         },
         "mode": "markers",
         "name": "F",
         "orientation": "v",
         "showlegend": true,
         "type": "scatter",
         "x": [
          32.38
         ],
         "xaxis": "x",
         "y": [
          26.26
         ],
         "yaxis": "y"
        },
        {
         "hovertemplate": "POS=G<br>FTM=%{x}<br>3PM=%{y}<br>AST=%{marker.size}<extra></extra>",
         "legendgroup": "G",
         "marker": {
          "color": "#00cc96",
          "opacity": 0.6,
          "size": [
           35.03
          ],
          "sizemode": "area",
          "sizeref": 0.621775,
          "symbol": "circle"
         },
         "mode": "markers",
         "name": "G",
         "orientation": "v",
         "showlegend": true,
         "type": "scatter",
         "x": [
          20.82
         ],
         "xaxis": "x",
         "y": [
          20.55
         ],
         "yaxis": "y"
        },
        {
         "hovertemplate": "POS=PF<br>FTM=%{x}<br>3PM=%{y}<br>AST=%{marker.size}<extra></extra>",
         "legendgroup": "PF",
         "marker": {
          "color": "#ab63fa",
          "opacity": 0.6,
          "size": [
           109.21
          ],
          "sizemode": "area",
          "sizeref": 0.621775,
          "symbol": "circle"
         },
         "mode": "markers",
         "name": "PF",
         "orientation": "v",
         "showlegend": true,
         "type": "scatter",
         "x": [
          100.65
         ],
         "xaxis": "x",
         "y": [
          51.84
         ],
         "yaxis": "y"
        },
        {
         "hovertemplate": "POS=PG<br>FTM=%{x}<br>3PM=%{y}<br>AST=%{marker.size}<extra></extra>",
         "legendgroup": "PG",
         "marker": {
          "color": "#FFA15A",
          "opacity": 0.6,
          "size": [
           248.71
          ],
          "sizemode": "area",
          "sizeref": 0.621775,
          "symbol": "circle"
         },
         "mode": "markers",
         "name": "PG",
         "orientation": "v",
         "showlegend": true,
         "type": "scatter",
         "x": [
          123.04
         ],
         "xaxis": "x",
         "y": [
          84.26
         ],
         "yaxis": "y"
        },
        {
         "hovertemplate": "POS=SF<br>FTM=%{x}<br>3PM=%{y}<br>AST=%{marker.size}<extra></extra>",
         "legendgroup": "SF",
         "marker": {
          "color": "#19d3f3",
          "opacity": 0.6,
          "size": [
           113.44
          ],
          "sizemode": "area",
          "sizeref": 0.621775,
          "symbol": "circle"
         },
         "mode": "markers",
         "name": "SF",
         "orientation": "v",
         "showlegend": true,
         "type": "scatter",
         "x": [
          102.78
         ],
         "xaxis": "x",
         "y": [
          75.72
         ],
         "yaxis": "y"
        },
        {
         "hovertemplate": "POS=SG<br>FTM=%{x}<br>3PM=%{y}<br>AST=%{marker.size}<extra></extra>",
         "legendgroup": "SG",
         "marker": {
          "color": "#FF6692",
          "opacity": 0.6,
          "size": [
           153.68
          ],
          "sizemode": "area",
          "sizeref": 0.621775,
          "symbol": "circle"
         },
         "mode": "markers",
         "name": "SG",
         "orientation": "v",
         "showlegend": true,
         "type": "scatter",
         "x": [
          102.2
         ],
         "xaxis": "x",
         "y": [
          95.82
         ],
         "yaxis": "y"
        }
       ],
       "layout": {
        "height": 600,
        "legend": {
         "itemsizing": "constant",
         "title": {
          "text": "POS"
         },
         "tracegroupgap": 0
        },
        "margin": {
         "t": 60
        },
        "template": {
         "data": {
          "bar": [
           {
            "error_x": {
             "color": "#f2f5fa"
            },
            "error_y": {
             "color": "#f2f5fa"
            },
            "marker": {
             "line": {
              "color": "rgb(17,17,17)",
              "width": 0.5
             },
             "pattern": {
              "fillmode": "overlay",
              "size": 10,
              "solidity": 0.2
             }
            },
            "type": "bar"
           }
          ],
          "barpolar": [
           {
            "marker": {
             "line": {
              "color": "rgb(17,17,17)",
              "width": 0.5
             },
             "pattern": {
              "fillmode": "overlay",
              "size": 10,
              "solidity": 0.2
             }
            },
            "type": "barpolar"
           }
          ],
          "carpet": [
           {
            "aaxis": {
             "endlinecolor": "#A2B1C6",
             "gridcolor": "#506784",
             "linecolor": "#506784",
             "minorgridcolor": "#506784",
             "startlinecolor": "#A2B1C6"
            },
            "baxis": {
             "endlinecolor": "#A2B1C6",
             "gridcolor": "#506784",
             "linecolor": "#506784",
             "minorgridcolor": "#506784",
             "startlinecolor": "#A2B1C6"
            },
            "type": "carpet"
           }
          ],
          "choropleth": [
           {
            "colorbar": {
             "outlinewidth": 0,
             "ticks": ""
            },
            "type": "choropleth"
           }
          ],
          "contour": [
           {
            "colorbar": {
             "outlinewidth": 0,
             "ticks": ""
            },
            "colorscale": [
             [
              0,
              "#0d0887"
             ],
             [
              0.1111111111111111,
              "#46039f"
             ],
             [
              0.2222222222222222,
              "#7201a8"
             ],
             [
              0.3333333333333333,
              "#9c179e"
             ],
             [
              0.4444444444444444,
              "#bd3786"
             ],
             [
              0.5555555555555556,
              "#d8576b"
             ],
             [
              0.6666666666666666,
              "#ed7953"
             ],
             [
              0.7777777777777778,
              "#fb9f3a"
             ],
             [
              0.8888888888888888,
              "#fdca26"
             ],
             [
              1,
              "#f0f921"
             ]
            ],
            "type": "contour"
           }
          ],
          "contourcarpet": [
           {
            "colorbar": {
             "outlinewidth": 0,
             "ticks": ""
            },
            "type": "contourcarpet"
           }
          ],
          "heatmap": [
           {
            "colorbar": {
             "outlinewidth": 0,
             "ticks": ""
            },
            "colorscale": [
             [
              0,
              "#0d0887"
             ],
             [
              0.1111111111111111,
              "#46039f"
             ],
             [
              0.2222222222222222,
              "#7201a8"
             ],
             [
              0.3333333333333333,
              "#9c179e"
             ],
             [
              0.4444444444444444,
              "#bd3786"
             ],
             [
              0.5555555555555556,
              "#d8576b"
             ],
             [
              0.6666666666666666,
              "#ed7953"
             ],
             [
              0.7777777777777778,
              "#fb9f3a"
             ],
             [
              0.8888888888888888,
              "#fdca26"
             ],
             [
              1,
              "#f0f921"
             ]
            ],
            "type": "heatmap"
           }
          ],
          "heatmapgl": [
           {
            "colorbar": {
             "outlinewidth": 0,
             "ticks": ""
            },
            "colorscale": [
             [
              0,
              "#0d0887"
             ],
             [
              0.1111111111111111,
              "#46039f"
             ],
             [
              0.2222222222222222,
              "#7201a8"
             ],
             [
              0.3333333333333333,
              "#9c179e"
             ],
             [
              0.4444444444444444,
              "#bd3786"
             ],
             [
              0.5555555555555556,
              "#d8576b"
             ],
             [
              0.6666666666666666,
              "#ed7953"
             ],
             [
              0.7777777777777778,
              "#fb9f3a"
             ],
             [
              0.8888888888888888,
              "#fdca26"
             ],
             [
              1,
              "#f0f921"
             ]
            ],
            "type": "heatmapgl"
           }
          ],
          "histogram": [
           {
            "marker": {
             "pattern": {
              "fillmode": "overlay",
              "size": 10,
              "solidity": 0.2
             }
            },
            "type": "histogram"
           }
          ],
          "histogram2d": [
           {
            "colorbar": {
             "outlinewidth": 0,
             "ticks": ""
            },
            "colorscale": [
             [
              0,
              "#0d0887"
             ],
             [
              0.1111111111111111,
              "#46039f"
             ],
             [
              0.2222222222222222,
              "#7201a8"
             ],
             [
              0.3333333333333333,
              "#9c179e"
             ],
             [
              0.4444444444444444,
              "#bd3786"
             ],
             [
              0.5555555555555556,
              "#d8576b"
             ],
             [
              0.6666666666666666,
              "#ed7953"
             ],
             [
              0.7777777777777778,
              "#fb9f3a"
             ],
             [
              0.8888888888888888,
              "#fdca26"
             ],
             [
              1,
              "#f0f921"
             ]
            ],
            "type": "histogram2d"
           }
          ],
          "histogram2dcontour": [
           {
            "colorbar": {
             "outlinewidth": 0,
             "ticks": ""
            },
            "colorscale": [
             [
              0,
              "#0d0887"
             ],
             [
              0.1111111111111111,
              "#46039f"
             ],
             [
              0.2222222222222222,
              "#7201a8"
             ],
             [
              0.3333333333333333,
              "#9c179e"
             ],
             [
              0.4444444444444444,
              "#bd3786"
             ],
             [
              0.5555555555555556,
              "#d8576b"
             ],
             [
              0.6666666666666666,
              "#ed7953"
             ],
             [
              0.7777777777777778,
              "#fb9f3a"
             ],
             [
              0.8888888888888888,
              "#fdca26"
             ],
             [
              1,
              "#f0f921"
             ]
            ],
            "type": "histogram2dcontour"
           }
          ],
          "mesh3d": [
           {
            "colorbar": {
             "outlinewidth": 0,
             "ticks": ""
            },
            "type": "mesh3d"
           }
          ],
          "parcoords": [
           {
            "line": {
             "colorbar": {
              "outlinewidth": 0,
              "ticks": ""
             }
            },
            "type": "parcoords"
           }
          ],
          "pie": [
           {
            "automargin": true,
            "type": "pie"
           }
          ],
          "scatter": [
           {
            "marker": {
             "line": {
              "color": "#283442"
             }
            },
            "type": "scatter"
           }
          ],
          "scatter3d": [
           {
            "line": {
             "colorbar": {
              "outlinewidth": 0,
              "ticks": ""
             }
            },
            "marker": {
             "colorbar": {
              "outlinewidth": 0,
              "ticks": ""
             }
            },
            "type": "scatter3d"
           }
          ],
          "scattercarpet": [
           {
            "marker": {
             "colorbar": {
              "outlinewidth": 0,
              "ticks": ""
             }
            },
            "type": "scattercarpet"
           }
          ],
          "scattergeo": [
           {
            "marker": {
             "colorbar": {
              "outlinewidth": 0,
              "ticks": ""
             }
            },
            "type": "scattergeo"
           }
          ],
          "scattergl": [
           {
            "marker": {
             "line": {
              "color": "#283442"
             }
            },
            "type": "scattergl"
           }
          ],
          "scattermapbox": [
           {
            "marker": {
             "colorbar": {
              "outlinewidth": 0,
              "ticks": ""
             }
            },
            "type": "scattermapbox"
           }
          ],
          "scatterpolar": [
           {
            "marker": {
             "colorbar": {
              "outlinewidth": 0,
              "ticks": ""
             }
            },
            "type": "scatterpolar"
           }
          ],
          "scatterpolargl": [
           {
            "marker": {
             "colorbar": {
              "outlinewidth": 0,
              "ticks": ""
             }
            },
            "type": "scatterpolargl"
           }
          ],
          "scatterternary": [
           {
            "marker": {
             "colorbar": {
              "outlinewidth": 0,
              "ticks": ""
             }
            },
            "type": "scatterternary"
           }
          ],
          "surface": [
           {
            "colorbar": {
             "outlinewidth": 0,
             "ticks": ""
            },
            "colorscale": [
             [
              0,
              "#0d0887"
             ],
             [
              0.1111111111111111,
              "#46039f"
             ],
             [
              0.2222222222222222,
              "#7201a8"
             ],
             [
              0.3333333333333333,
              "#9c179e"
             ],
             [
              0.4444444444444444,
              "#bd3786"
             ],
             [
              0.5555555555555556,
              "#d8576b"
             ],
             [
              0.6666666666666666,
              "#ed7953"
             ],
             [
              0.7777777777777778,
              "#fb9f3a"
             ],
             [
              0.8888888888888888,
              "#fdca26"
             ],
             [
              1,
              "#f0f921"
             ]
            ],
            "type": "surface"
           }
          ],
          "table": [
           {
            "cells": {
             "fill": {
              "color": "#506784"
             },
             "line": {
              "color": "rgb(17,17,17)"
             }
            },
            "header": {
             "fill": {
              "color": "#2a3f5f"
             },
             "line": {
              "color": "rgb(17,17,17)"
             }
            },
            "type": "table"
           }
          ]
         },
         "layout": {
          "annotationdefaults": {
           "arrowcolor": "#f2f5fa",
           "arrowhead": 0,
           "arrowwidth": 1
          },
          "autotypenumbers": "strict",
          "coloraxis": {
           "colorbar": {
            "outlinewidth": 0,
            "ticks": ""
           }
          },
          "colorscale": {
           "diverging": [
            [
             0,
             "#8e0152"
            ],
            [
             0.1,
             "#c51b7d"
            ],
            [
             0.2,
             "#de77ae"
            ],
            [
             0.3,
             "#f1b6da"
            ],
            [
             0.4,
             "#fde0ef"
            ],
            [
             0.5,
             "#f7f7f7"
            ],
            [
             0.6,
             "#e6f5d0"
            ],
            [
             0.7,
             "#b8e186"
            ],
            [
             0.8,
             "#7fbc41"
            ],
            [
             0.9,
             "#4d9221"
            ],
            [
             1,
             "#276419"
            ]
           ],
           "sequential": [
            [
             0,
             "#0d0887"
            ],
            [
             0.1111111111111111,
             "#46039f"
            ],
            [
             0.2222222222222222,
             "#7201a8"
            ],
            [
             0.3333333333333333,
             "#9c179e"
            ],
            [
             0.4444444444444444,
             "#bd3786"
            ],
            [
             0.5555555555555556,
             "#d8576b"
            ],
            [
             0.6666666666666666,
             "#ed7953"
            ],
            [
             0.7777777777777778,
             "#fb9f3a"
            ],
            [
             0.8888888888888888,
             "#fdca26"
            ],
            [
             1,
             "#f0f921"
            ]
           ],
           "sequentialminus": [
            [
             0,
             "#0d0887"
            ],
            [
             0.1111111111111111,
             "#46039f"
            ],
            [
             0.2222222222222222,
             "#7201a8"
            ],
            [
             0.3333333333333333,
             "#9c179e"
            ],
            [
             0.4444444444444444,
             "#bd3786"
            ],
            [
             0.5555555555555556,
             "#d8576b"
            ],
            [
             0.6666666666666666,
             "#ed7953"
            ],
            [
             0.7777777777777778,
             "#fb9f3a"
            ],
            [
             0.8888888888888888,
             "#fdca26"
            ],
            [
             1,
             "#f0f921"
            ]
           ]
          },
          "colorway": [
           "#636efa",
           "#EF553B",
           "#00cc96",
           "#ab63fa",
           "#FFA15A",
           "#19d3f3",
           "#FF6692",
           "#B6E880",
           "#FF97FF",
           "#FECB52"
          ],
          "font": {
           "color": "#f2f5fa"
          },
          "geo": {
           "bgcolor": "rgb(17,17,17)",
           "lakecolor": "rgb(17,17,17)",
           "landcolor": "rgb(17,17,17)",
           "showlakes": true,
           "showland": true,
           "subunitcolor": "#506784"
          },
          "hoverlabel": {
           "align": "left"
          },
          "hovermode": "closest",
          "mapbox": {
           "style": "dark"
          },
          "paper_bgcolor": "rgb(17,17,17)",
          "plot_bgcolor": "rgb(17,17,17)",
          "polar": {
           "angularaxis": {
            "gridcolor": "#506784",
            "linecolor": "#506784",
            "ticks": ""
           },
           "bgcolor": "rgb(17,17,17)",
           "radialaxis": {
            "gridcolor": "#506784",
            "linecolor": "#506784",
            "ticks": ""
           }
          },
          "scene": {
           "xaxis": {
            "backgroundcolor": "rgb(17,17,17)",
            "gridcolor": "#506784",
            "gridwidth": 2,
            "linecolor": "#506784",
            "showbackground": true,
            "ticks": "",
            "zerolinecolor": "#C8D4E3"
           },
           "yaxis": {
            "backgroundcolor": "rgb(17,17,17)",
            "gridcolor": "#506784",
            "gridwidth": 2,
            "linecolor": "#506784",
            "showbackground": true,
            "ticks": "",
            "zerolinecolor": "#C8D4E3"
           },
           "zaxis": {
            "backgroundcolor": "rgb(17,17,17)",
            "gridcolor": "#506784",
            "gridwidth": 2,
            "linecolor": "#506784",
            "showbackground": true,
            "ticks": "",
            "zerolinecolor": "#C8D4E3"
           }
          },
          "shapedefaults": {
           "line": {
            "color": "#f2f5fa"
           }
          },
          "sliderdefaults": {
           "bgcolor": "#C8D4E3",
           "bordercolor": "rgb(17,17,17)",
           "borderwidth": 1,
           "tickwidth": 0
          },
          "ternary": {
           "aaxis": {
            "gridcolor": "#506784",
            "linecolor": "#506784",
            "ticks": ""
           },
           "baxis": {
            "gridcolor": "#506784",
            "linecolor": "#506784",
            "ticks": ""
           },
           "bgcolor": "rgb(17,17,17)",
           "caxis": {
            "gridcolor": "#506784",
            "linecolor": "#506784",
            "ticks": ""
           }
          },
          "title": {
           "x": 0.05
          },
          "updatemenudefaults": {
           "bgcolor": "#506784",
           "borderwidth": 0
          },
          "xaxis": {
           "automargin": true,
           "gridcolor": "#283442",
           "linecolor": "#506784",
           "ticks": "",
           "title": {
            "standoff": 15
           },
           "zerolinecolor": "#283442",
           "zerolinewidth": 2
          },
          "yaxis": {
           "automargin": true,
           "gridcolor": "#283442",
           "linecolor": "#506784",
           "ticks": "",
           "title": {
            "standoff": 15
           },
           "zerolinecolor": "#283442",
           "zerolinewidth": 2
          }
         }
        },
        "width": 800,
        "xaxis": {
         "anchor": "y",
         "domain": [
          0,
          1
         ],
         "title": {
          "text": "FTM"
         }
        },
        "yaxis": {
         "anchor": "x",
         "domain": [
          0,
          1
         ],
         "title": {
          "text": "3PM"
         }
        }
       }
      }
     },
     "metadata": {},
     "output_type": "display_data"
    }
   ],
   "source": [
    "px.scatter(data_frame=aux,\n",
    "           x='FTM',\n",
    "           y='3PM',\n",
    "           size='AST',\n",
    "           color='POS',\n",
    "           template='plotly_dark',\n",
    "           opacity=0.6,\n",
    "           height=600,\n",
    "           width=800)"
   ]
  },
  {
   "cell_type": "code",
   "execution_count": 116,
   "metadata": {},
   "outputs": [
    {
     "data": {
      "application/vnd.plotly.v1+json": {
       "config": {
        "plotlyServerURL": "https://plot.ly"
       },
       "data": [
        {
         "alignmentgroup": "True",
         "customdata": [
          [
           "Jayson Tatum"
          ],
          [
           "DeMar DeRozan"
          ],
          [
           "Mikal Bridges"
          ],
          [
           "LeBron James"
          ],
          [
           "Franz Wagner"
          ],
          [
           "Jimmy Butler"
          ],
          [
           "Keldon Johnson"
          ],
          [
           "Kyle Kuzma"
          ],
          [
           "Jerami Grant"
          ],
          [
           "Bojan Bogdanovic"
          ],
          [
           "Kawhi Leonard"
          ],
          [
           "Harrison Barnes"
          ],
          [
           "Scottie Barnes"
          ],
          [
           "O.G. Anunoby"
          ],
          [
           "Brandon Ingram"
          ],
          [
           "Michael Porter Jr."
          ],
          [
           "Saddiq Bey"
          ],
          [
           "Dillon Brooks"
          ],
          [
           "De'Andre Hunter"
          ],
          [
           "Tim Hardaway Jr."
          ],
          [
           "Keegan Murray"
          ],
          [
           "Bruce Brown"
          ],
          [
           "Corey Kispert"
          ],
          [
           "Aaron Nesmith"
          ],
          [
           "Gordon Hayward"
          ],
          [
           "Marcus Morris Sr."
          ],
          [
           "Naji Marshall"
          ],
          [
           "Deni Avdija"
          ],
          [
           "Caleb Martin"
          ],
          [
           "Cedi Osman"
          ],
          [
           "Doug McDermott"
          ],
          [
           "Cameron Johnson"
          ],
          [
           "Herbert Jones"
          ],
          [
           "Keita Bates-Diop"
          ],
          [
           "Kyle Anderson"
          ],
          [
           "Georges Niang"
          ],
          [
           "Andrew Wiggins"
          ],
          [
           "Torrey Craig"
          ],
          [
           "Joe Harris"
          ],
          [
           "Reggie Bullock"
          ],
          [
           "Jordan Nwora"
          ],
          [
           "Troy Brown Jr."
          ],
          [
           "Josh Okogie"
          ],
          [
           "Sam Hauser"
          ],
          [
           "Khris Middleton"
          ],
          [
           "Isaac Okoro"
          ],
          [
           "Isaiah Jackson"
          ],
          [
           "Kenrich Williams"
          ],
          [
           "Kevin Knox II"
          ],
          [
           "Oshae Brissett"
          ],
          [
           "Jalen Johnson"
          ],
          [
           "Cam Reddish"
          ],
          [
           "Nassir Little"
          ],
          [
           "Yuta Watanabe"
          ],
          [
           "Derrick Jones Jr."
          ],
          [
           "T.J. Warren"
          ],
          [
           "Vlatko Cancar"
          ],
          [
           "Rudy Gay"
          ],
          [
           "Paul Reed"
          ],
          [
           "Jae'Sean Tate"
          ],
          [
           "Danuel House Jr."
          ],
          [
           "Davis Bertans"
          ],
          [
           "Justin Holiday"
          ],
          [
           "Stanley Johnson"
          ],
          [
           "Javonte Green"
          ],
          [
           "Admiral Schofield"
          ],
          [
           "Juan Toscano-Anderson"
          ],
          [
           "Kessler Edwards"
          ],
          [
           "Thanasis Antetokounmpo"
          ],
          [
           "Garrett Temple"
          ],
          [
           "KZ Okpala"
          ],
          [
           "Otto Porter Jr."
          ],
          [
           "Cody Martin"
          ],
          [
           "Justin Jackson"
          ],
          [
           "Louis King"
          ],
          [
           "Justin Champagnie"
          ],
          [
           "Joe Wieskamp"
          ],
          [
           "Deonte Burton"
          ],
          [
           "Sterling Brown"
          ]
         ],
         "hovertemplate": "POS=%{x}<br>3PM=%{y}<br>PName=%{customdata[0]}<extra></extra>",
         "legendgroup": "SF",
         "marker": {
          "color": "#636efa"
         },
         "name": "SF",
         "notched": false,
         "offsetgroup": "SF",
         "orientation": "v",
         "showlegend": true,
         "type": "box",
         "x": [
          "SF",
          "SF",
          "SF",
          "SF",
          "SF",
          "SF",
          "SF",
          "SF",
          "SF",
          "SF",
          "SF",
          "SF",
          "SF",
          "SF",
          "SF",
          "SF",
          "SF",
          "SF",
          "SF",
          "SF",
          "SF",
          "SF",
          "SF",
          "SF",
          "SF",
          "SF",
          "SF",
          "SF",
          "SF",
          "SF",
          "SF",
          "SF",
          "SF",
          "SF",
          "SF",
          "SF",
          "SF",
          "SF",
          "SF",
          "SF",
          "SF",
          "SF",
          "SF",
          "SF",
          "SF",
          "SF",
          "SF",
          "SF",
          "SF",
          "SF",
          "SF",
          "SF",
          "SF",
          "SF",
          "SF",
          "SF",
          "SF",
          "SF",
          "SF",
          "SF",
          "SF",
          "SF",
          "SF",
          "SF",
          "SF",
          "SF",
          "SF",
          "SF",
          "SF",
          "SF",
          "SF",
          "SF",
          "SF",
          "SF",
          "SF",
          "SF",
          "SF",
          "SF",
          "SF"
         ],
         "x0": " ",
         "xaxis": "x",
         "y": [
          240,
          46,
          169,
          121,
          130,
          36,
          134,
          160,
          144,
          145,
          104,
          132,
          63,
          142,
          64,
          188,
          151,
          143,
          100,
          212,
          206,
          91,
          163,
          115,
          52,
          112,
          66,
          69,
          84,
          116,
          123,
          103,
          56,
          56,
          43,
          154,
          89,
          100,
          142,
          151,
          86,
          107,
          66,
          140,
          51,
          62,
          2,
          50,
          65,
          48,
          30,
          45,
          58,
          60,
          27,
          22,
          43,
          33,
          1,
          13,
          37,
          55,
          46,
          18,
          13,
          24,
          8,
          17,
          0,
          11,
          7,
          6,
          3,
          5,
          4,
          1,
          3,
          0,
          0
         ],
         "y0": " ",
         "yaxis": "y"
        },
        {
         "alignmentgroup": "True",
         "customdata": [
          [
           "Joel Embiid"
          ],
          [
           "Nikola Jokic"
          ],
          [
           "Bam Adebayo"
          ],
          [
           "Kristaps Porzingis"
          ],
          [
           "Nikola Vucevic"
          ],
          [
           "Brook Lopez"
          ],
          [
           "Deandre Ayton"
          ],
          [
           "Jonas Valanciunas"
          ],
          [
           "Myles Turner"
          ],
          [
           "Alperen Sengun"
          ],
          [
           "Jarrett Allen"
          ],
          [
           "Nic Claxton"
          ],
          [
           "Rudy Gobert"
          ],
          [
           "Jakob Poeltl"
          ],
          [
           "Wendell Carter Jr."
          ],
          [
           "Mason Plumlee"
          ],
          [
           "Ivica Zubac"
          ],
          [
           "Naz Reid"
          ],
          [
           "Clint Capela"
          ],
          [
           "Daniel Gafford"
          ],
          [
           "Jusuf Nurkic"
          ],
          [
           "Walker Kessler"
          ],
          [
           "Bol Bol"
          ],
          [
           "Al Horford"
          ],
          [
           "Jalen Duren"
          ],
          [
           "Karl-Anthony Towns"
          ],
          [
           "Moritz Wagner"
          ],
          [
           "Thomas Bryant"
          ],
          [
           "Isaiah Stewart"
          ],
          [
           "Nick Richards"
          ],
          [
           "Dwight Powell"
          ],
          [
           "Jock Landale"
          ],
          [
           "James Wiseman"
          ],
          [
           "Mitchell Robinson"
          ],
          [
           "Isaiah Hartenstein"
          ],
          [
           "Andre Drummond"
          ],
          [
           "Mark Williams"
          ],
          [
           "Mike Muscala"
          ],
          [
           "Steven Adams"
          ],
          [
           "Mo Bamba"
          ],
          [
           "Montrezl Harrell"
          ],
          [
           "Robert Williams III"
          ],
          [
           "Bismack Biyombo"
          ],
          [
           "Willy Hernangomez"
          ],
          [
           "Luke Kornet"
          ],
          [
           "Jaxson Hayes"
          ],
          [
           "Day'Ron Sharpe"
          ],
          [
           "Charles Bassey"
          ],
          [
           "DeAndre Jordan"
          ],
          [
           "Dewayne Dedmon"
          ],
          [
           "JaVale McGee"
          ],
          [
           "Christian Koloko"
          ],
          [
           "Luka Garza"
          ],
          [
           "Jericho Sims"
          ],
          [
           "Goga Bitadze"
          ],
          [
           "Moses Brown"
          ],
          [
           "Damian Jones"
          ],
          [
           "Udoka Azubuike"
          ],
          [
           "Gorgui Dieng"
          ],
          [
           "Orlando Robinson"
          ],
          [
           "Robin Lopez"
          ],
          [
           "Boban Marjanovic"
          ],
          [
           "Cody Zeller"
          ],
          [
           "Jay Huff"
          ],
          [
           "Daniel Theis"
          ],
          [
           "Alex Len"
          ],
          [
           "Khem Birch"
          ],
          [
           "Meyers Leonard"
          ],
          [
           "Omer Yurtseven"
          ],
          [
           "Olivier Sarr"
          ],
          [
           "Nerlens Noel"
          ],
          [
           "Micah Potter"
          ],
          [
           "Tony Bradley"
          ],
          [
           "Neemias Queta"
          ],
          [
           "Chance Comanche"
          ],
          [
           "Marko Simonovic"
          ],
          [
           "Mfiondu Kabengele"
          ],
          [
           "Vernon Carey Jr."
          ]
         ],
         "hovertemplate": "POS=%{x}<br>3PM=%{y}<br>PName=%{customdata[0]}<extra></extra>",
         "legendgroup": "C",
         "marker": {
          "color": "#EF553B"
         },
         "name": "C",
         "notched": false,
         "offsetgroup": "C",
         "orientation": "v",
         "showlegend": true,
         "type": "box",
         "x": [
          "C",
          "C",
          "C",
          "C",
          "C",
          "C",
          "C",
          "C",
          "C",
          "C",
          "C",
          "C",
          "C",
          "C",
          "C",
          "C",
          "C",
          "C",
          "C",
          "C",
          "C",
          "C",
          "C",
          "C",
          "C",
          "C",
          "C",
          "C",
          "C",
          "C",
          "C",
          "C",
          "C",
          "C",
          "C",
          "C",
          "C",
          "C",
          "C",
          "C",
          "C",
          "C",
          "C",
          "C",
          "C",
          "C",
          "C",
          "C",
          "C",
          "C",
          "C",
          "C",
          "C",
          "C",
          "C",
          "C",
          "C",
          "C",
          "C",
          "C",
          "C",
          "C",
          "C",
          "C",
          "C",
          "C",
          "C",
          "C",
          "C",
          "C",
          "C",
          "C",
          "C",
          "C",
          "C",
          "C",
          "C",
          "C"
         ],
         "x0": " ",
         "xaxis": "x",
         "y": [
          66,
          57,
          1,
          137,
          121,
          136,
          7,
          38,
          93,
          19,
          1,
          0,
          0,
          0,
          80,
          0,
          0,
          75,
          0,
          0,
          43,
          1,
          30,
          145,
          0,
          60,
          51,
          26,
          67,
          1,
          0,
          21,
          4,
          0,
          8,
          0,
          0,
          81,
          0,
          48,
          0,
          0,
          0,
          3,
          3,
          3,
          6,
          3,
          1,
          12,
          2,
          1,
          14,
          0,
          6,
          0,
          10,
          0,
          21,
          0,
          2,
          0,
          0,
          6,
          2,
          0,
          1,
          7,
          3,
          1,
          1,
          4,
          3,
          0,
          0,
          1,
          0,
          0
         ],
         "y0": " ",
         "yaxis": "y"
        },
        {
         "alignmentgroup": "True",
         "customdata": [
          [
           "Luka Doncic"
          ],
          [
           "Shai Gilgeous-Alexander"
          ],
          [
           "Trae Young"
          ],
          [
           "Damian Lillard"
          ],
          [
           "De'Aaron Fox"
          ],
          [
           "Stephen Curry"
          ],
          [
           "Jalen Brunson"
          ],
          [
           "Kyrie Irving"
          ],
          [
           "Ja Morant"
          ],
          [
           "Darius Garland"
          ],
          [
           "Spencer Dinwiddie"
          ],
          [
           "Tyler Herro"
          ],
          [
           "Jamal Murray"
          ],
          [
           "Jrue Holiday"
          ],
          [
           "Jordan Clarkson"
          ],
          [
           "D'Angelo Russell"
          ],
          [
           "Tyrese Maxey"
          ],
          [
           "Jaden Ivey"
          ],
          [
           "Tyrese Haliburton"
          ],
          [
           "Russell Westbrook"
          ],
          [
           "Derrick White"
          ],
          [
           "Malcolm Brogdon"
          ],
          [
           "Tre Jones"
          ],
          [
           "LaMelo Ball"
          ],
          [
           "Markelle Fultz"
          ],
          [
           "Dennis Schroder"
          ],
          [
           "Tyus Jones"
          ],
          [
           "Chris Paul"
          ],
          [
           "Mike Conley"
          ],
          [
           "Killian Hayes"
          ],
          [
           "Cole Anthony"
          ],
          [
           "Coby White"
          ],
          [
           "Andrew Nembhard"
          ],
          [
           "Marcus Smart"
          ],
          [
           "Reggie Jackson"
          ],
          [
           "Collin Sexton"
          ],
          [
           "Bones Hyland"
          ],
          [
           "Jevon Carter"
          ],
          [
           "T.J. McConnell"
          ],
          [
           "Gabe Vincent"
          ],
          [
           "Monte Morris"
          ],
          [
           "Kyle Lowry"
          ],
          [
           "Jose Alvarado"
          ],
          [
           "Devonte' Graham"
          ],
          [
           "Tre Mann"
          ],
          [
           "Cameron Payne"
          ],
          [
           "Dennis Smith Jr."
          ],
          [
           "Davion Mitchell"
          ],
          [
           "Cory Joseph"
          ],
          [
           "Patrick Beverley"
          ],
          [
           "John Wall"
          ],
          [
           "Edmond Sumner"
          ],
          [
           "Goran Dragic"
          ],
          [
           "R.J. Hampton"
          ],
          [
           "Theo Maledon"
          ],
          [
           "Ben Simmons"
          ],
          [
           "Payton Pritchard"
          ],
          [
           "Malachi Flynn"
          ],
          [
           "Patty Mills"
          ],
          [
           "Duane Washington Jr."
          ],
          [
           "Cade Cunningham"
          ],
          [
           "George Hill"
          ],
          [
           "Miles McBride"
          ],
          [
           "Ricky Rubio"
          ],
          [
           "Jordan McLaughlin"
          ],
          [
           "Raul Neto"
          ],
          [
           "Derrick Rose"
          ],
          [
           "Dalano Banton"
          ],
          [
           "Frank Ntilikina"
          ],
          [
           "Kira Lewis Jr."
          ],
          [
           "McKinley Wright IV"
          ],
          [
           "Ish Smith"
          ],
          [
           "Kemba Walker"
          ],
          [
           "Jeff Dowtin Jr."
          ],
          [
           "Matthew Dellavedova"
          ],
          [
           "Jason Preston"
          ],
          [
           "Xavier Moon"
          ],
          [
           "Alondes Williams"
          ]
         ],
         "hovertemplate": "POS=%{x}<br>3PM=%{y}<br>PName=%{customdata[0]}<extra></extra>",
         "legendgroup": "PG",
         "marker": {
          "color": "#00cc96"
         },
         "name": "PG",
         "notched": false,
         "offsetgroup": "PG",
         "orientation": "v",
         "showlegend": true,
         "type": "box",
         "x": [
          "PG",
          "PG",
          "PG",
          "PG",
          "PG",
          "PG",
          "PG",
          "PG",
          "PG",
          "PG",
          "PG",
          "PG",
          "PG",
          "PG",
          "PG",
          "PG",
          "PG",
          "PG",
          "PG",
          "PG",
          "PG",
          "PG",
          "PG",
          "PG",
          "PG",
          "PG",
          "PG",
          "PG",
          "PG",
          "PG",
          "PG",
          "PG",
          "PG",
          "PG",
          "PG",
          "PG",
          "PG",
          "PG",
          "PG",
          "PG",
          "PG",
          "PG",
          "PG",
          "PG",
          "PG",
          "PG",
          "PG",
          "PG",
          "PG",
          "PG",
          "PG",
          "PG",
          "PG",
          "PG",
          "PG",
          "PG",
          "PG",
          "PG",
          "PG",
          "PG",
          "PG",
          "PG",
          "PG",
          "PG",
          "PG",
          "PG",
          "PG",
          "PG",
          "PG",
          "PG",
          "PG",
          "PG",
          "PG",
          "PG",
          "PG",
          "PG",
          "PG",
          "PG"
         ],
         "x0": " ",
         "xaxis": "x",
         "y": [
          185,
          58,
          154,
          244,
          119,
          273,
          134,
          188,
          92,
          169,
          181,
          203,
          172,
          158,
          155,
          194,
          160,
          120,
          161,
          89,
          149,
          132,
          45,
          144,
          27,
          74,
          121,
          98,
          135,
          80,
          75,
          128,
          92,
          115,
          96,
          48,
          117,
          142,
          26,
          117,
          78,
          107,
          83,
          119,
          81,
          68,
          24,
          63,
          70,
          80,
          33,
          31,
          52,
          41,
          28,
          0,
          56,
          47,
          49,
          40,
          17,
          34,
          40,
          21,
          24,
          12,
          19,
          15,
          17,
          15,
          9,
          2,
          7,
          5,
          9,
          5,
          1,
          0
         ],
         "y0": " ",
         "yaxis": "y"
        },
        {
         "alignmentgroup": "True",
         "customdata": [
          [
           "Giannis Antetokounmpo"
          ],
          [
           "Julius Randle"
          ],
          [
           "Pascal Siakam"
          ],
          [
           "Lauri Markkanen"
          ],
          [
           "Domantas Sabonis"
          ],
          [
           "Anthony Davis"
          ],
          [
           "Paolo Banchero"
          ],
          [
           "Kevin Durant"
          ],
          [
           "Evan Mobley"
          ],
          [
           "Jaren Jackson Jr."
          ],
          [
           "P.J. Washington"
          ],
          [
           "Aaron Gordon"
          ],
          [
           "Tobias Harris"
          ],
          [
           "Jabari Smith Jr."
          ],
          [
           "Jaden McDaniels"
          ],
          [
           "John Collins"
          ],
          [
           "Kelly Olynyk"
          ],
          [
           "Patrick Williams"
          ],
          [
           "Onyeka Okongwu"
          ],
          [
           "Jalen McDaniels"
          ],
          [
           "Zion Williamson"
          ],
          [
           "Zach Collins"
          ],
          [
           "Chris Boucher"
          ],
          [
           "Rui Hachimura"
          ],
          [
           "Santi Aldama"
          ],
          [
           "Royce O'Neale"
          ],
          [
           "Jonathan Kuminga"
          ],
          [
           "Jalen Smith"
          ],
          [
           "Grant Williams"
          ],
          [
           "Jarred Vanderbilt"
          ],
          [
           "Draymond Green"
          ],
          [
           "Trey Lyles"
          ],
          [
           "Brandon Clarke"
          ],
          [
           "Dorian Finney-Smith"
          ],
          [
           "Drew Eubanks"
          ],
          [
           "Kevin Love"
          ],
          [
           "Precious Achiuwa"
          ],
          [
           "Marvin Bagley III"
          ],
          [
           "Obi Toppin"
          ],
          [
           "Taurean Prince"
          ],
          [
           "Nicolas Batum"
          ],
          [
           "Trendon Watford"
          ],
          [
           "Larry Nance Jr."
          ],
          [
           "Jeff Green"
          ],
          [
           "Dario Saric"
          ],
          [
           "Isaiah Livers"
          ],
          [
           "Chimezie Metu"
          ],
          [
           "Jeremiah Robinson-Earl"
          ],
          [
           "Robert Covington"
          ],
          [
           "Zeke Nnaji"
          ],
          [
           "P.J. Tucker"
          ],
          [
           "Sandro Mamukelashvili"
          ],
          [
           "Thaddeus Young"
          ],
          [
           "Usman Garuba"
          ],
          [
           "Darius Bazley"
          ],
          [
           "Maxi Kleber"
          ],
          [
           "Dean Wade"
          ],
          [
           "Justise Winslow"
          ],
          [
           "Anthony Gill"
          ],
          [
           "Blake Griffin"
          ],
          [
           "Kai Jones"
          ],
          [
           "Bruno Fernando"
          ],
          [
           "Markieff Morris"
          ],
          [
           "Chuma Okeke"
          ],
          [
           "Jae Crowder"
          ],
          [
           "Juancho Hernangomez"
          ],
          [
           "Frank Kaminsky"
          ],
          [
           "Jonathan Isaac"
          ],
          [
           "James Johnson"
          ],
          [
           "Greg Brown III"
          ],
          [
           "Udonis Haslem"
          ],
          [
           "Noah Vonleh"
          ],
          [
           "Jarrell Brantley"
          ],
          [
           "Isaiah Todd"
          ],
          [
           "Michael Foster Jr."
          ]
         ],
         "hovertemplate": "POS=%{x}<br>3PM=%{y}<br>PName=%{customdata[0]}<extra></extra>",
         "legendgroup": "PF",
         "marker": {
          "color": "#ab63fa"
         },
         "name": "PF",
         "notched": false,
         "offsetgroup": "PF",
         "orientation": "v",
         "showlegend": true,
         "type": "box",
         "x": [
          "PF",
          "PF",
          "PF",
          "PF",
          "PF",
          "PF",
          "PF",
          "PF",
          "PF",
          "PF",
          "PF",
          "PF",
          "PF",
          "PF",
          "PF",
          "PF",
          "PF",
          "PF",
          "PF",
          "PF",
          "PF",
          "PF",
          "PF",
          "PF",
          "PF",
          "PF",
          "PF",
          "PF",
          "PF",
          "PF",
          "PF",
          "PF",
          "PF",
          "PF",
          "PF",
          "PF",
          "PF",
          "PF",
          "PF",
          "PF",
          "PF",
          "PF",
          "PF",
          "PF",
          "PF",
          "PF",
          "PF",
          "PF",
          "PF",
          "PF",
          "PF",
          "PF",
          "PF",
          "PF",
          "PF",
          "PF",
          "PF",
          "PF",
          "PF",
          "PF",
          "PF",
          "PF",
          "PF",
          "PF",
          "PF",
          "PF",
          "PF",
          "PF",
          "PF",
          "PF",
          "PF",
          "PF",
          "PF",
          "PF",
          "PF"
         ],
         "x0": " ",
         "xaxis": "x",
         "y": [
          47,
          218,
          93,
          200,
          31,
          19,
          85,
          93,
          22,
          100,
          149,
          60,
          126,
          120,
          107,
          70,
          93,
          115,
          4,
          77,
          7,
          55,
          62,
          51,
          94,
          163,
          54,
          54,
          115,
          29,
          40,
          87,
          1,
          114,
          7,
          99,
          29,
          19,
          85,
          74,
          124,
          25,
          14,
          30,
          45,
          74,
          9,
          37,
          54,
          17,
          55,
          30,
          6,
          24,
          20,
          39,
          45,
          14,
          4,
          23,
          4,
          0,
          28,
          26,
          24,
          17,
          13,
          6,
          3,
          1,
          3,
          1,
          4,
          1,
          0
         ],
         "y0": " ",
         "yaxis": "y"
        },
        {
         "alignmentgroup": "True",
         "customdata": [
          [
           "Anthony Edwards"
          ],
          [
           "Donovan Mitchell"
          ],
          [
           "Zach LaVine"
          ],
          [
           "Jaylen Brown"
          ],
          [
           "Jalen Green"
          ],
          [
           "Jordan Poole"
          ],
          [
           "CJ McCollum"
          ],
          [
           "Dejounte Murray"
          ],
          [
           "Klay Thompson"
          ],
          [
           "Devin Booker"
          ],
          [
           "RJ Barrett"
          ],
          [
           "Buddy Hield"
          ],
          [
           "Fred VanVleet"
          ],
          [
           "Terry Rozier"
          ],
          [
           "Anfernee Simons"
          ],
          [
           "Bennedict Mathurin"
          ],
          [
           "Josh Giddey"
          ],
          [
           "Desmond Bane"
          ],
          [
           "James Harden"
          ],
          [
           "Immanuel Quickley"
          ],
          [
           "Bradley Beal"
          ],
          [
           "Gary Trent Jr."
          ],
          [
           "Trey Murphy III"
          ],
          [
           "Kevin Huerter"
          ],
          [
           "Kevin Porter Jr."
          ],
          [
           "Malik Monk"
          ],
          [
           "Malik Beasley"
          ],
          [
           "Kelly Oubre Jr."
          ],
          [
           "Max Strus"
          ],
          [
           "Caris LeVert"
          ],
          [
           "Eric Gordon"
          ],
          [
           "Austin Reaves"
          ],
          [
           "Kentavious Caldwell-Pope"
          ],
          [
           "Quentin Grimes"
          ],
          [
           "Shaedon Sharpe"
          ],
          [
           "De'Anthony Melton"
          ],
          [
           "Bogdan Bogdanovic"
          ],
          [
           "Grayson Allen"
          ],
          [
           "Josh Hart"
          ],
          [
           "Terance Mann"
          ],
          [
           "Jaylen Nowell"
          ],
          [
           "Devin Vassell"
          ],
          [
           "Talen Horton-Tucker"
          ],
          [
           "Isaiah Joe"
          ],
          [
           "Ayo Dosunmu"
          ],
          [
           "Donte DiVincenzo"
          ],
          [
           "Josh Richardson"
          ],
          [
           "Alec Burks"
          ],
          [
           "Shake Milton"
          ],
          [
           "Cam Thomas"
          ],
          [
           "Damion Lee"
          ],
          [
           "Seth Curry"
          ],
          [
           "Josh Green"
          ],
          [
           "Luke Kennard"
          ],
          [
           "Jalen Suggs"
          ],
          [
           "Hamidou Diallo"
          ],
          [
           "Aaron Wiggins"
          ],
          [
           "Pat Connaughton"
          ],
          [
           "Victor Oladipo"
          ],
          [
           "Terence Davis"
          ],
          [
           "Gary Harris"
          ],
          [
           "Alex Caruso"
          ],
          [
           "Josh Christopher"
          ],
          [
           "Delon Wright"
          ],
          [
           "John Konchar"
          ],
          [
           "Nickeil Alexander-Walker"
          ],
          [
           "Chris Duarte"
          ],
          [
           "Landry Shamet"
          ],
          [
           "Joe Ingles"
          ],
          [
           "Ty Jerome"
          ],
          [
           "Moses Moody"
          ],
          [
           "Romeo Langford"
          ],
          [
           "Matisse Thybulle"
          ],
          [
           "Garrison Mathews"
          ],
          [
           "Austin Rivers"
          ],
          [
           "Daishen Nix"
          ],
          [
           "Svi Mykhailiuk"
          ],
          [
           "James Bouknight"
          ],
          [
           "Keon Johnson"
          ],
          [
           "Wesley Matthews"
          ],
          [
           "Amir Coffey"
          ],
          [
           "Evan Fournier"
          ],
          [
           "Brandon Boston Jr."
          ],
          [
           "Furkan Korkmaz"
          ],
          [
           "Gary Payton II"
          ],
          [
           "Skylar Mays"
          ],
          [
           "Bryn Forbes"
          ],
          [
           "Davon Reed"
          ],
          [
           "Jared Butler"
          ],
          [
           "Joshua Primo"
          ],
          [
           "Mac McClung"
          ],
          [
           "Sam Merrill"
          ],
          [
           "Trevelin Queen"
          ],
          [
           "JD Davison"
          ],
          [
           "Kendall Brown"
          ],
          [
           "Dylan Windler"
          ],
          [
           "Frank Jackson"
          ]
         ],
         "hovertemplate": "POS=%{x}<br>3PM=%{y}<br>PName=%{customdata[0]}<extra></extra>",
         "legendgroup": "SG",
         "marker": {
          "color": "#FFA15A"
         },
         "name": "SG",
         "notched": false,
         "offsetgroup": "SG",
         "orientation": "v",
         "showlegend": true,
         "type": "box",
         "x": [
          "SG",
          "SG",
          "SG",
          "SG",
          "SG",
          "SG",
          "SG",
          "SG",
          "SG",
          "SG",
          "SG",
          "SG",
          "SG",
          "SG",
          "SG",
          "SG",
          "SG",
          "SG",
          "SG",
          "SG",
          "SG",
          "SG",
          "SG",
          "SG",
          "SG",
          "SG",
          "SG",
          "SG",
          "SG",
          "SG",
          "SG",
          "SG",
          "SG",
          "SG",
          "SG",
          "SG",
          "SG",
          "SG",
          "SG",
          "SG",
          "SG",
          "SG",
          "SG",
          "SG",
          "SG",
          "SG",
          "SG",
          "SG",
          "SG",
          "SG",
          "SG",
          "SG",
          "SG",
          "SG",
          "SG",
          "SG",
          "SG",
          "SG",
          "SG",
          "SG",
          "SG",
          "SG",
          "SG",
          "SG",
          "SG",
          "SG",
          "SG",
          "SG",
          "SG",
          "SG",
          "SG",
          "SG",
          "SG",
          "SG",
          "SG",
          "SG",
          "SG",
          "SG",
          "SG",
          "SG",
          "SG",
          "SG",
          "SG",
          "SG",
          "SG",
          "SG",
          "SG",
          "SG",
          "SG",
          "SG",
          "SG",
          "SG",
          "SG",
          "SG",
          "SG",
          "SG",
          "SG"
         ],
         "x0": " ",
         "xaxis": "x",
         "y": [
          213,
          245,
          204,
          163,
          187,
          214,
          211,
          133,
          301,
          111,
          121,
          288,
          207,
          165,
          212,
          100,
          76,
          166,
          161,
          168,
          80,
          166,
          202,
          205,
          141,
          143,
          235,
          108,
          197,
          127,
          132,
          86,
          135,
          157,
          102,
          157,
          146,
          146,
          61,
          77,
          67,
          103,
          58,
          161,
          59,
          150,
          107,
          99,
          56,
          51,
          110,
          94,
          68,
          133,
          66,
          5,
          48,
          109,
          70,
          89,
          94,
          55,
          21,
          41,
          60,
          61,
          55,
          75,
          83,
          35,
          49,
          16,
          54,
          63,
          43,
          40,
          42,
          33,
          28,
          39,
          11,
          35,
          12,
          18,
          13,
          12,
          14,
          17,
          7,
          3,
          4,
          5,
          2,
          2,
          0,
          1,
          0
         ],
         "y0": " ",
         "yaxis": "y"
        },
        {
         "alignmentgroup": "True",
         "customdata": [
          [
           "Paul George"
          ],
          [
           "Christian Wood"
          ],
          [
           "Jalen Williams"
          ],
          [
           "Kenyon Martin Jr."
          ],
          [
           "Bobby Portis"
          ],
          [
           "Tari Eason"
          ],
          [
           "AJ Griffin"
          ],
          [
           "Jeremy Sochan"
          ],
          [
           "Kevon Looney"
          ],
          [
           "David Roddy"
          ],
          [
           "Xavier Tillman"
          ],
          [
           "Anthony Lamb"
          ],
          [
           "Wenyen Gabriel"
          ],
          [
           "JaMychal Green"
          ],
          [
           "Lamar Stevens"
          ],
          [
           "Simone Fontecchio"
          ],
          [
           "Jaylin Williams"
          ],
          [
           "Eugene Omoruyi"
          ],
          [
           "Aleksej Pokusevski"
          ],
          [
           "Duncan Robinson"
          ],
          [
           "MarJon Beauchamp"
          ],
          [
           "JT Thor"
          ],
          [
           "Ish Wainright"
          ],
          [
           "Haywood Highsmith"
          ],
          [
           "Jabari Walker"
          ],
          [
           "Lindy Waters III"
          ],
          [
           "Ziaire Williams"
          ],
          [
           "Ousmane Dieng"
          ],
          [
           "Isaiah Roby"
          ],
          [
           "Taj Gibson"
          ],
          [
           "Julian Champagnie"
          ],
          [
           "Nathan Knight"
          ],
          [
           "Richaun Holmes"
          ],
          [
           "Matt Ryan"
          ],
          [
           "Patrick Baldwin Jr."
          ],
          [
           "Kenneth Lofton Jr."
          ],
          [
           "Dominick Barlow"
          ],
          [
           "Jake LaRavia"
          ],
          [
           "Jamal Cain"
          ],
          [
           "Terry Taylor"
          ],
          [
           "Dalen Terry"
          ],
          [
           "Nikola Jovic"
          ],
          [
           "Peyton Watson"
          ],
          [
           "Luka Samanic"
          ],
          [
           "Serge Ibaka"
          ],
          [
           "Danny Green"
          ],
          [
           "Moussa Diabate"
          ],
          [
           "Mamadi Diakite"
          ],
          [
           "Josh Minott"
          ],
          [
           "John Butler Jr."
          ],
          [
           "Isaiah Mobley"
          ],
          [
           "Jack White"
          ],
          [
           "Ron Harper Jr."
          ],
          [
           "Andre Iguodala"
          ],
          [
           "Justin Minaya"
          ],
          [
           "Xavier Sneed"
          ],
          [
           "Buddy Boeheim"
          ],
          [
           "RaiQuan Gray"
          ],
          [
           "Darius Days"
          ],
          [
           "Cole Swider"
          ],
          [
           "Alize Johnson"
          ],
          [
           "Leandro Bolmaro"
          ],
          [
           "Malcolm Hill"
          ],
          [
           "Jordan Schakel"
          ],
          [
           "Chima Moneke"
          ],
          [
           "Chris Silva"
          ]
         ],
         "hovertemplate": "POS=%{x}<br>3PM=%{y}<br>PName=%{customdata[0]}<extra></extra>",
         "legendgroup": "F",
         "marker": {
          "color": "#19d3f3"
         },
         "name": "F",
         "notched": false,
         "offsetgroup": "F",
         "orientation": "v",
         "showlegend": true,
         "type": "box",
         "x": [
          "F",
          "F",
          "F",
          "F",
          "F",
          "F",
          "F",
          "F",
          "F",
          "F",
          "F",
          "F",
          "F",
          "F",
          "F",
          "F",
          "F",
          "F",
          "F",
          "F",
          "F",
          "F",
          "F",
          "F",
          "F",
          "F",
          "F",
          "F",
          "F",
          "F",
          "F",
          "F",
          "F",
          "F",
          "F",
          "F",
          "F",
          "F",
          "F",
          "F",
          "F",
          "F",
          "F",
          "F",
          "F",
          "F",
          "F",
          "F",
          "F",
          "F",
          "F",
          "F",
          "F",
          "F",
          "F",
          "F",
          "F",
          "F",
          "F",
          "F",
          "F",
          "F",
          "F",
          "F",
          "F",
          "F"
         ],
         "x0": " ",
         "xaxis": "x",
         "y": [
          158,
          105,
          73,
          68,
          95,
          59,
          101,
          33,
          0,
          65,
          4,
          73,
          10,
          42,
          30,
          63,
          46,
          25,
          38,
          63,
          47,
          39,
          57,
          37,
          16,
          58,
          25,
          26,
          18,
          8,
          33,
          8,
          5,
          32,
          32,
          6,
          0,
          24,
          7,
          5,
          7,
          8,
          6,
          8,
          6,
          16,
          1,
          7,
          2,
          8,
          3,
          3,
          3,
          1,
          3,
          3,
          4,
          2,
          3,
          3,
          0,
          0,
          1,
          1,
          0,
          0
         ],
         "y0": " ",
         "yaxis": "y"
        },
        {
         "alignmentgroup": "True",
         "customdata": [
          [
           "Norman Powell"
          ],
          [
           "Luguentz Dort"
          ],
          [
           "Malaki Branham"
          ],
          [
           "Lonnie Walker IV"
          ],
          [
           "Terrence Ross"
          ],
          [
           "Kendrick Nunn"
          ],
          [
           "Ochai Agbaji"
          ],
          [
           "Jaden Hardy"
          ],
          [
           "Jordan Goodwin"
          ],
          [
           "Will Barton"
          ],
          [
           "Christian Braun"
          ],
          [
           "Kris Dunn"
          ],
          [
           "Aaron Holiday"
          ],
          [
           "Bryce McGowens"
          ],
          [
           "Dyson Daniels"
          ],
          [
           "Caleb Houstan"
          ],
          [
           "Blake Wesley"
          ],
          [
           "Rodney McGruder"
          ],
          [
           "Johnny Davis"
          ],
          [
           "AJ Green"
          ],
          [
           "Saben Lee"
          ],
          [
           "TyTy Washington Jr."
          ],
          [
           "Kevon Harris"
          ],
          [
           "Max Christie"
          ],
          [
           "Theo Pinson"
          ],
          [
           "Johnny Juzang"
          ],
          [
           "David Duke Jr."
          ],
          [
           "Kennedy Chandler"
          ],
          [
           "A.J. Lawson"
          ],
          [
           "Quenton Jackson"
          ],
          [
           "Jeenathan Williams"
          ],
          [
           "Trent Forrest"
          ],
          [
           "Lindell Wigginton"
          ],
          [
           "Jared Rhoden"
          ],
          [
           "Dru Smith"
          ],
          [
           "Jarrett Culver"
          ],
          [
           "Shaquille Harrison"
          ],
          [
           "Jaden Springer"
          ],
          [
           "Wendell Moore Jr."
          ],
          [
           "Xavier Cooks"
          ],
          [
           "Vit Krejci"
          ],
          [
           "Vince Williams Jr."
          ],
          [
           "Jordan Hall"
          ],
          [
           "Ryan Arcidiacono"
          ],
          [
           "Gabe York"
          ],
          [
           "Keon Ellis"
          ],
          [
           "Ryan Rollins"
          ],
          [
           "PJ Dozier"
          ],
          [
           "Tyrese Martin"
          ],
          [
           "Carlik Jones"
          ],
          [
           "Michael Carter-Williams"
          ],
          [
           "Jamaree Bouyea"
          ],
          [
           "Scotty Pippen Jr."
          ],
          [
           "Jay Scrubb"
          ],
          [
           "Facundo Campazzo"
          ],
          [
           "Lester Quinones"
          ],
          [
           "Trevor Hudgins"
          ],
          [
           "Tyler Dorsey"
          ],
          [
           "Kobi Simmons"
          ],
          [
           "Braxton Key"
          ],
          [
           "Dereon Seabron"
          ],
          [
           "Donovan Williams"
          ],
          [
           "Devon Dotson"
          ],
          [
           "Jacob Gilyard"
          ],
          [
           "Trevor Keels"
          ],
          [
           "Stanley Umude"
          ]
         ],
         "hovertemplate": "POS=%{x}<br>3PM=%{y}<br>PName=%{customdata[0]}<extra></extra>",
         "legendgroup": "G",
         "marker": {
          "color": "#FF6692"
         },
         "name": "G",
         "notched": false,
         "offsetgroup": "G",
         "orientation": "v",
         "showlegend": true,
         "type": "box",
         "x": [
          "G",
          "G",
          "G",
          "G",
          "G",
          "G",
          "G",
          "G",
          "G",
          "G",
          "G",
          "G",
          "G",
          "G",
          "G",
          "G",
          "G",
          "G",
          "G",
          "G",
          "G",
          "G",
          "G",
          "G",
          "G",
          "G",
          "G",
          "G",
          "G",
          "G",
          "G",
          "G",
          "G",
          "G",
          "G",
          "G",
          "G",
          "G",
          "G",
          "G",
          "G",
          "G",
          "G",
          "G",
          "G",
          "G",
          "G",
          "G",
          "G",
          "G",
          "G",
          "G",
          "G",
          "G",
          "G",
          "G",
          "G",
          "G",
          "G",
          "G",
          "G",
          "G",
          "G",
          "G",
          "G",
          "G"
         ],
         "x0": " ",
         "xaxis": "x",
         "y": [
          114,
          135,
          77,
          91,
          95,
          79,
          81,
          63,
          38,
          66,
          34,
          17,
          36,
          26,
          27,
          46,
          20,
          41,
          17,
          44,
          11,
          19,
          16,
          26,
          22,
          15,
          1,
          2,
          10,
          1,
          3,
          0,
          6,
          5,
          5,
          1,
          3,
          2,
          2,
          0,
          5,
          4,
          3,
          8,
          6,
          6,
          3,
          2,
          1,
          3,
          1,
          2,
          1,
          2,
          3,
          2,
          2,
          1,
          1,
          0,
          0,
          0,
          1,
          1,
          1,
          0
         ],
         "y0": " ",
         "yaxis": "y"
        }
       ],
       "layout": {
        "boxmode": "overlay",
        "legend": {
         "title": {
          "text": "POS"
         },
         "tracegroupgap": 0
        },
        "margin": {
         "t": 60
        },
        "template": {
         "data": {
          "bar": [
           {
            "error_x": {
             "color": "#f2f5fa"
            },
            "error_y": {
             "color": "#f2f5fa"
            },
            "marker": {
             "line": {
              "color": "rgb(17,17,17)",
              "width": 0.5
             },
             "pattern": {
              "fillmode": "overlay",
              "size": 10,
              "solidity": 0.2
             }
            },
            "type": "bar"
           }
          ],
          "barpolar": [
           {
            "marker": {
             "line": {
              "color": "rgb(17,17,17)",
              "width": 0.5
             },
             "pattern": {
              "fillmode": "overlay",
              "size": 10,
              "solidity": 0.2
             }
            },
            "type": "barpolar"
           }
          ],
          "carpet": [
           {
            "aaxis": {
             "endlinecolor": "#A2B1C6",
             "gridcolor": "#506784",
             "linecolor": "#506784",
             "minorgridcolor": "#506784",
             "startlinecolor": "#A2B1C6"
            },
            "baxis": {
             "endlinecolor": "#A2B1C6",
             "gridcolor": "#506784",
             "linecolor": "#506784",
             "minorgridcolor": "#506784",
             "startlinecolor": "#A2B1C6"
            },
            "type": "carpet"
           }
          ],
          "choropleth": [
           {
            "colorbar": {
             "outlinewidth": 0,
             "ticks": ""
            },
            "type": "choropleth"
           }
          ],
          "contour": [
           {
            "colorbar": {
             "outlinewidth": 0,
             "ticks": ""
            },
            "colorscale": [
             [
              0,
              "#0d0887"
             ],
             [
              0.1111111111111111,
              "#46039f"
             ],
             [
              0.2222222222222222,
              "#7201a8"
             ],
             [
              0.3333333333333333,
              "#9c179e"
             ],
             [
              0.4444444444444444,
              "#bd3786"
             ],
             [
              0.5555555555555556,
              "#d8576b"
             ],
             [
              0.6666666666666666,
              "#ed7953"
             ],
             [
              0.7777777777777778,
              "#fb9f3a"
             ],
             [
              0.8888888888888888,
              "#fdca26"
             ],
             [
              1,
              "#f0f921"
             ]
            ],
            "type": "contour"
           }
          ],
          "contourcarpet": [
           {
            "colorbar": {
             "outlinewidth": 0,
             "ticks": ""
            },
            "type": "contourcarpet"
           }
          ],
          "heatmap": [
           {
            "colorbar": {
             "outlinewidth": 0,
             "ticks": ""
            },
            "colorscale": [
             [
              0,
              "#0d0887"
             ],
             [
              0.1111111111111111,
              "#46039f"
             ],
             [
              0.2222222222222222,
              "#7201a8"
             ],
             [
              0.3333333333333333,
              "#9c179e"
             ],
             [
              0.4444444444444444,
              "#bd3786"
             ],
             [
              0.5555555555555556,
              "#d8576b"
             ],
             [
              0.6666666666666666,
              "#ed7953"
             ],
             [
              0.7777777777777778,
              "#fb9f3a"
             ],
             [
              0.8888888888888888,
              "#fdca26"
             ],
             [
              1,
              "#f0f921"
             ]
            ],
            "type": "heatmap"
           }
          ],
          "heatmapgl": [
           {
            "colorbar": {
             "outlinewidth": 0,
             "ticks": ""
            },
            "colorscale": [
             [
              0,
              "#0d0887"
             ],
             [
              0.1111111111111111,
              "#46039f"
             ],
             [
              0.2222222222222222,
              "#7201a8"
             ],
             [
              0.3333333333333333,
              "#9c179e"
             ],
             [
              0.4444444444444444,
              "#bd3786"
             ],
             [
              0.5555555555555556,
              "#d8576b"
             ],
             [
              0.6666666666666666,
              "#ed7953"
             ],
             [
              0.7777777777777778,
              "#fb9f3a"
             ],
             [
              0.8888888888888888,
              "#fdca26"
             ],
             [
              1,
              "#f0f921"
             ]
            ],
            "type": "heatmapgl"
           }
          ],
          "histogram": [
           {
            "marker": {
             "pattern": {
              "fillmode": "overlay",
              "size": 10,
              "solidity": 0.2
             }
            },
            "type": "histogram"
           }
          ],
          "histogram2d": [
           {
            "colorbar": {
             "outlinewidth": 0,
             "ticks": ""
            },
            "colorscale": [
             [
              0,
              "#0d0887"
             ],
             [
              0.1111111111111111,
              "#46039f"
             ],
             [
              0.2222222222222222,
              "#7201a8"
             ],
             [
              0.3333333333333333,
              "#9c179e"
             ],
             [
              0.4444444444444444,
              "#bd3786"
             ],
             [
              0.5555555555555556,
              "#d8576b"
             ],
             [
              0.6666666666666666,
              "#ed7953"
             ],
             [
              0.7777777777777778,
              "#fb9f3a"
             ],
             [
              0.8888888888888888,
              "#fdca26"
             ],
             [
              1,
              "#f0f921"
             ]
            ],
            "type": "histogram2d"
           }
          ],
          "histogram2dcontour": [
           {
            "colorbar": {
             "outlinewidth": 0,
             "ticks": ""
            },
            "colorscale": [
             [
              0,
              "#0d0887"
             ],
             [
              0.1111111111111111,
              "#46039f"
             ],
             [
              0.2222222222222222,
              "#7201a8"
             ],
             [
              0.3333333333333333,
              "#9c179e"
             ],
             [
              0.4444444444444444,
              "#bd3786"
             ],
             [
              0.5555555555555556,
              "#d8576b"
             ],
             [
              0.6666666666666666,
              "#ed7953"
             ],
             [
              0.7777777777777778,
              "#fb9f3a"
             ],
             [
              0.8888888888888888,
              "#fdca26"
             ],
             [
              1,
              "#f0f921"
             ]
            ],
            "type": "histogram2dcontour"
           }
          ],
          "mesh3d": [
           {
            "colorbar": {
             "outlinewidth": 0,
             "ticks": ""
            },
            "type": "mesh3d"
           }
          ],
          "parcoords": [
           {
            "line": {
             "colorbar": {
              "outlinewidth": 0,
              "ticks": ""
             }
            },
            "type": "parcoords"
           }
          ],
          "pie": [
           {
            "automargin": true,
            "type": "pie"
           }
          ],
          "scatter": [
           {
            "marker": {
             "line": {
              "color": "#283442"
             }
            },
            "type": "scatter"
           }
          ],
          "scatter3d": [
           {
            "line": {
             "colorbar": {
              "outlinewidth": 0,
              "ticks": ""
             }
            },
            "marker": {
             "colorbar": {
              "outlinewidth": 0,
              "ticks": ""
             }
            },
            "type": "scatter3d"
           }
          ],
          "scattercarpet": [
           {
            "marker": {
             "colorbar": {
              "outlinewidth": 0,
              "ticks": ""
             }
            },
            "type": "scattercarpet"
           }
          ],
          "scattergeo": [
           {
            "marker": {
             "colorbar": {
              "outlinewidth": 0,
              "ticks": ""
             }
            },
            "type": "scattergeo"
           }
          ],
          "scattergl": [
           {
            "marker": {
             "line": {
              "color": "#283442"
             }
            },
            "type": "scattergl"
           }
          ],
          "scattermapbox": [
           {
            "marker": {
             "colorbar": {
              "outlinewidth": 0,
              "ticks": ""
             }
            },
            "type": "scattermapbox"
           }
          ],
          "scatterpolar": [
           {
            "marker": {
             "colorbar": {
              "outlinewidth": 0,
              "ticks": ""
             }
            },
            "type": "scatterpolar"
           }
          ],
          "scatterpolargl": [
           {
            "marker": {
             "colorbar": {
              "outlinewidth": 0,
              "ticks": ""
             }
            },
            "type": "scatterpolargl"
           }
          ],
          "scatterternary": [
           {
            "marker": {
             "colorbar": {
              "outlinewidth": 0,
              "ticks": ""
             }
            },
            "type": "scatterternary"
           }
          ],
          "surface": [
           {
            "colorbar": {
             "outlinewidth": 0,
             "ticks": ""
            },
            "colorscale": [
             [
              0,
              "#0d0887"
             ],
             [
              0.1111111111111111,
              "#46039f"
             ],
             [
              0.2222222222222222,
              "#7201a8"
             ],
             [
              0.3333333333333333,
              "#9c179e"
             ],
             [
              0.4444444444444444,
              "#bd3786"
             ],
             [
              0.5555555555555556,
              "#d8576b"
             ],
             [
              0.6666666666666666,
              "#ed7953"
             ],
             [
              0.7777777777777778,
              "#fb9f3a"
             ],
             [
              0.8888888888888888,
              "#fdca26"
             ],
             [
              1,
              "#f0f921"
             ]
            ],
            "type": "surface"
           }
          ],
          "table": [
           {
            "cells": {
             "fill": {
              "color": "#506784"
             },
             "line": {
              "color": "rgb(17,17,17)"
             }
            },
            "header": {
             "fill": {
              "color": "#2a3f5f"
             },
             "line": {
              "color": "rgb(17,17,17)"
             }
            },
            "type": "table"
           }
          ]
         },
         "layout": {
          "annotationdefaults": {
           "arrowcolor": "#f2f5fa",
           "arrowhead": 0,
           "arrowwidth": 1
          },
          "autotypenumbers": "strict",
          "coloraxis": {
           "colorbar": {
            "outlinewidth": 0,
            "ticks": ""
           }
          },
          "colorscale": {
           "diverging": [
            [
             0,
             "#8e0152"
            ],
            [
             0.1,
             "#c51b7d"
            ],
            [
             0.2,
             "#de77ae"
            ],
            [
             0.3,
             "#f1b6da"
            ],
            [
             0.4,
             "#fde0ef"
            ],
            [
             0.5,
             "#f7f7f7"
            ],
            [
             0.6,
             "#e6f5d0"
            ],
            [
             0.7,
             "#b8e186"
            ],
            [
             0.8,
             "#7fbc41"
            ],
            [
             0.9,
             "#4d9221"
            ],
            [
             1,
             "#276419"
            ]
           ],
           "sequential": [
            [
             0,
             "#0d0887"
            ],
            [
             0.1111111111111111,
             "#46039f"
            ],
            [
             0.2222222222222222,
             "#7201a8"
            ],
            [
             0.3333333333333333,
             "#9c179e"
            ],
            [
             0.4444444444444444,
             "#bd3786"
            ],
            [
             0.5555555555555556,
             "#d8576b"
            ],
            [
             0.6666666666666666,
             "#ed7953"
            ],
            [
             0.7777777777777778,
             "#fb9f3a"
            ],
            [
             0.8888888888888888,
             "#fdca26"
            ],
            [
             1,
             "#f0f921"
            ]
           ],
           "sequentialminus": [
            [
             0,
             "#0d0887"
            ],
            [
             0.1111111111111111,
             "#46039f"
            ],
            [
             0.2222222222222222,
             "#7201a8"
            ],
            [
             0.3333333333333333,
             "#9c179e"
            ],
            [
             0.4444444444444444,
             "#bd3786"
            ],
            [
             0.5555555555555556,
             "#d8576b"
            ],
            [
             0.6666666666666666,
             "#ed7953"
            ],
            [
             0.7777777777777778,
             "#fb9f3a"
            ],
            [
             0.8888888888888888,
             "#fdca26"
            ],
            [
             1,
             "#f0f921"
            ]
           ]
          },
          "colorway": [
           "#636efa",
           "#EF553B",
           "#00cc96",
           "#ab63fa",
           "#FFA15A",
           "#19d3f3",
           "#FF6692",
           "#B6E880",
           "#FF97FF",
           "#FECB52"
          ],
          "font": {
           "color": "#f2f5fa"
          },
          "geo": {
           "bgcolor": "rgb(17,17,17)",
           "lakecolor": "rgb(17,17,17)",
           "landcolor": "rgb(17,17,17)",
           "showlakes": true,
           "showland": true,
           "subunitcolor": "#506784"
          },
          "hoverlabel": {
           "align": "left"
          },
          "hovermode": "closest",
          "mapbox": {
           "style": "dark"
          },
          "paper_bgcolor": "rgb(17,17,17)",
          "plot_bgcolor": "rgb(17,17,17)",
          "polar": {
           "angularaxis": {
            "gridcolor": "#506784",
            "linecolor": "#506784",
            "ticks": ""
           },
           "bgcolor": "rgb(17,17,17)",
           "radialaxis": {
            "gridcolor": "#506784",
            "linecolor": "#506784",
            "ticks": ""
           }
          },
          "scene": {
           "xaxis": {
            "backgroundcolor": "rgb(17,17,17)",
            "gridcolor": "#506784",
            "gridwidth": 2,
            "linecolor": "#506784",
            "showbackground": true,
            "ticks": "",
            "zerolinecolor": "#C8D4E3"
           },
           "yaxis": {
            "backgroundcolor": "rgb(17,17,17)",
            "gridcolor": "#506784",
            "gridwidth": 2,
            "linecolor": "#506784",
            "showbackground": true,
            "ticks": "",
            "zerolinecolor": "#C8D4E3"
           },
           "zaxis": {
            "backgroundcolor": "rgb(17,17,17)",
            "gridcolor": "#506784",
            "gridwidth": 2,
            "linecolor": "#506784",
            "showbackground": true,
            "ticks": "",
            "zerolinecolor": "#C8D4E3"
           }
          },
          "shapedefaults": {
           "line": {
            "color": "#f2f5fa"
           }
          },
          "sliderdefaults": {
           "bgcolor": "#C8D4E3",
           "bordercolor": "rgb(17,17,17)",
           "borderwidth": 1,
           "tickwidth": 0
          },
          "ternary": {
           "aaxis": {
            "gridcolor": "#506784",
            "linecolor": "#506784",
            "ticks": ""
           },
           "baxis": {
            "gridcolor": "#506784",
            "linecolor": "#506784",
            "ticks": ""
           },
           "bgcolor": "rgb(17,17,17)",
           "caxis": {
            "gridcolor": "#506784",
            "linecolor": "#506784",
            "ticks": ""
           }
          },
          "title": {
           "x": 0.05
          },
          "updatemenudefaults": {
           "bgcolor": "#506784",
           "borderwidth": 0
          },
          "xaxis": {
           "automargin": true,
           "gridcolor": "#283442",
           "linecolor": "#506784",
           "ticks": "",
           "title": {
            "standoff": 15
           },
           "zerolinecolor": "#283442",
           "zerolinewidth": 2
          },
          "yaxis": {
           "automargin": true,
           "gridcolor": "#283442",
           "linecolor": "#506784",
           "ticks": "",
           "title": {
            "standoff": 15
           },
           "zerolinecolor": "#283442",
           "zerolinewidth": 2
          }
         }
        },
        "width": 800,
        "xaxis": {
         "anchor": "y",
         "categoryarray": [
          "SF",
          "C",
          "PG",
          "PF",
          "SG",
          "F",
          "G"
         ],
         "categoryorder": "array",
         "domain": [
          0,
          1
         ],
         "title": {
          "text": "POS"
         }
        },
        "yaxis": {
         "anchor": "x",
         "domain": [
          0,
          1
         ],
         "title": {
          "text": "3PM"
         }
        }
       }
      }
     },
     "metadata": {},
     "output_type": "display_data"
    }
   ],
   "source": [
    "px.box(data_frame=data_merged,\n",
    "       x='POS',\n",
    "       y='3PM',\n",
    "       color='POS',\n",
    "       template='plotly_dark',\n",
    "       hover_data='PName',\n",
    "       width=800)"
   ]
  },
  {
   "cell_type": "markdown",
   "metadata": {},
   "source": [
    "### Defesa"
   ]
  },
  {
   "cell_type": "code",
   "execution_count": null,
   "metadata": {},
   "outputs": [],
   "source": [
    "# 1. Como estão distribuídas as médias de bloqueios, roubos de bola e rebotes em cada posição? Em um tabela e um um gráfico de dispersão."
   ]
  },
  {
   "cell_type": "code",
   "execution_count": 70,
   "metadata": {},
   "outputs": [
    {
     "data": {
      "text/html": [
       "<div>\n",
       "<style scoped>\n",
       "    .dataframe tbody tr th:only-of-type {\n",
       "        vertical-align: middle;\n",
       "    }\n",
       "\n",
       "    .dataframe tbody tr th {\n",
       "        vertical-align: top;\n",
       "    }\n",
       "\n",
       "    .dataframe thead th {\n",
       "        text-align: right;\n",
       "    }\n",
       "</style>\n",
       "<table border=\"1\" class=\"dataframe\">\n",
       "  <thead>\n",
       "    <tr style=\"text-align: right;\">\n",
       "      <th></th>\n",
       "      <th>POS</th>\n",
       "      <th>BLK</th>\n",
       "      <th>STL</th>\n",
       "      <th>REB</th>\n",
       "    </tr>\n",
       "  </thead>\n",
       "  <tbody>\n",
       "    <tr>\n",
       "      <th>0</th>\n",
       "      <td>C</td>\n",
       "      <td>43.59</td>\n",
       "      <td>24.62</td>\n",
       "      <td>314.87</td>\n",
       "    </tr>\n",
       "    <tr>\n",
       "      <th>1</th>\n",
       "      <td>F</td>\n",
       "      <td>11.82</td>\n",
       "      <td>17.67</td>\n",
       "      <td>125.53</td>\n",
       "    </tr>\n",
       "    <tr>\n",
       "      <th>2</th>\n",
       "      <td>G</td>\n",
       "      <td>4.33</td>\n",
       "      <td>12.41</td>\n",
       "      <td>52.80</td>\n",
       "    </tr>\n",
       "    <tr>\n",
       "      <th>3</th>\n",
       "      <td>PF</td>\n",
       "      <td>35.32</td>\n",
       "      <td>35.12</td>\n",
       "      <td>293.23</td>\n",
       "    </tr>\n",
       "    <tr>\n",
       "      <th>4</th>\n",
       "      <td>PG</td>\n",
       "      <td>14.79</td>\n",
       "      <td>46.95</td>\n",
       "      <td>171.32</td>\n",
       "    </tr>\n",
       "    <tr>\n",
       "      <th>5</th>\n",
       "      <td>SF</td>\n",
       "      <td>21.27</td>\n",
       "      <td>40.05</td>\n",
       "      <td>216.94</td>\n",
       "    </tr>\n",
       "    <tr>\n",
       "      <th>6</th>\n",
       "      <td>SG</td>\n",
       "      <td>15.46</td>\n",
       "      <td>47.09</td>\n",
       "      <td>185.94</td>\n",
       "    </tr>\n",
       "  </tbody>\n",
       "</table>\n",
       "</div>"
      ],
      "text/plain": [
       "  POS    BLK    STL     REB\n",
       "0   C  43.59  24.62  314.87\n",
       "1   F  11.82  17.67  125.53\n",
       "2   G   4.33  12.41   52.80\n",
       "3  PF  35.32  35.12  293.23\n",
       "4  PG  14.79  46.95  171.32\n",
       "5  SF  21.27  40.05  216.94\n",
       "6  SG  15.46  47.09  185.94"
      ]
     },
     "execution_count": 70,
     "metadata": {},
     "output_type": "execute_result"
    }
   ],
   "source": [
    "aux = data_merged[['POS', 'BLK', 'STL', 'REB']].groupby('POS').mean(['BLK', 'STL', 'REB']).round(2).reset_index()\n",
    "aux"
   ]
  },
  {
   "cell_type": "code",
   "execution_count": 111,
   "metadata": {},
   "outputs": [
    {
     "data": {
      "application/vnd.plotly.v1+json": {
       "config": {
        "plotlyServerURL": "https://plot.ly"
       },
       "data": [
        {
         "hovertemplate": "POS=C<br>REB=%{x}<br>STL=%{y}<br>BLK=%{marker.size}<extra></extra>",
         "legendgroup": "C",
         "marker": {
          "color": "#636efa",
          "opacity": 0.6,
          "size": [
           43.59
          ],
          "sizemode": "area",
          "sizeref": 0.108975,
          "symbol": "circle"
         },
         "mode": "markers",
         "name": "C",
         "orientation": "v",
         "showlegend": true,
         "type": "scatter",
         "x": [
          314.87
         ],
         "xaxis": "x",
         "y": [
          24.62
         ],
         "yaxis": "y"
        },
        {
         "hovertemplate": "POS=F<br>REB=%{x}<br>STL=%{y}<br>BLK=%{marker.size}<extra></extra>",
         "legendgroup": "F",
         "marker": {
          "color": "#EF553B",
          "opacity": 0.6,
          "size": [
           11.82
          ],
          "sizemode": "area",
          "sizeref": 0.108975,
          "symbol": "circle"
         },
         "mode": "markers",
         "name": "F",
         "orientation": "v",
         "showlegend": true,
         "type": "scatter",
         "x": [
          125.53
         ],
         "xaxis": "x",
         "y": [
          17.67
         ],
         "yaxis": "y"
        },
        {
         "hovertemplate": "POS=G<br>REB=%{x}<br>STL=%{y}<br>BLK=%{marker.size}<extra></extra>",
         "legendgroup": "G",
         "marker": {
          "color": "#00cc96",
          "opacity": 0.6,
          "size": [
           4.33
          ],
          "sizemode": "area",
          "sizeref": 0.108975,
          "symbol": "circle"
         },
         "mode": "markers",
         "name": "G",
         "orientation": "v",
         "showlegend": true,
         "type": "scatter",
         "x": [
          52.8
         ],
         "xaxis": "x",
         "y": [
          12.41
         ],
         "yaxis": "y"
        },
        {
         "hovertemplate": "POS=PF<br>REB=%{x}<br>STL=%{y}<br>BLK=%{marker.size}<extra></extra>",
         "legendgroup": "PF",
         "marker": {
          "color": "#ab63fa",
          "opacity": 0.6,
          "size": [
           35.32
          ],
          "sizemode": "area",
          "sizeref": 0.108975,
          "symbol": "circle"
         },
         "mode": "markers",
         "name": "PF",
         "orientation": "v",
         "showlegend": true,
         "type": "scatter",
         "x": [
          293.23
         ],
         "xaxis": "x",
         "y": [
          35.12
         ],
         "yaxis": "y"
        },
        {
         "hovertemplate": "POS=PG<br>REB=%{x}<br>STL=%{y}<br>BLK=%{marker.size}<extra></extra>",
         "legendgroup": "PG",
         "marker": {
          "color": "#FFA15A",
          "opacity": 0.6,
          "size": [
           14.79
          ],
          "sizemode": "area",
          "sizeref": 0.108975,
          "symbol": "circle"
         },
         "mode": "markers",
         "name": "PG",
         "orientation": "v",
         "showlegend": true,
         "type": "scatter",
         "x": [
          171.32
         ],
         "xaxis": "x",
         "y": [
          46.95
         ],
         "yaxis": "y"
        },
        {
         "hovertemplate": "POS=SF<br>REB=%{x}<br>STL=%{y}<br>BLK=%{marker.size}<extra></extra>",
         "legendgroup": "SF",
         "marker": {
          "color": "#19d3f3",
          "opacity": 0.6,
          "size": [
           21.27
          ],
          "sizemode": "area",
          "sizeref": 0.108975,
          "symbol": "circle"
         },
         "mode": "markers",
         "name": "SF",
         "orientation": "v",
         "showlegend": true,
         "type": "scatter",
         "x": [
          216.94
         ],
         "xaxis": "x",
         "y": [
          40.05
         ],
         "yaxis": "y"
        },
        {
         "hovertemplate": "POS=SG<br>REB=%{x}<br>STL=%{y}<br>BLK=%{marker.size}<extra></extra>",
         "legendgroup": "SG",
         "marker": {
          "color": "#FF6692",
          "opacity": 0.6,
          "size": [
           15.46
          ],
          "sizemode": "area",
          "sizeref": 0.108975,
          "symbol": "circle"
         },
         "mode": "markers",
         "name": "SG",
         "orientation": "v",
         "showlegend": true,
         "type": "scatter",
         "x": [
          185.94
         ],
         "xaxis": "x",
         "y": [
          47.09
         ],
         "yaxis": "y"
        }
       ],
       "layout": {
        "height": 600,
        "legend": {
         "itemsizing": "constant",
         "title": {
          "text": "POS"
         },
         "tracegroupgap": 0
        },
        "margin": {
         "t": 60
        },
        "template": {
         "data": {
          "bar": [
           {
            "error_x": {
             "color": "#f2f5fa"
            },
            "error_y": {
             "color": "#f2f5fa"
            },
            "marker": {
             "line": {
              "color": "rgb(17,17,17)",
              "width": 0.5
             },
             "pattern": {
              "fillmode": "overlay",
              "size": 10,
              "solidity": 0.2
             }
            },
            "type": "bar"
           }
          ],
          "barpolar": [
           {
            "marker": {
             "line": {
              "color": "rgb(17,17,17)",
              "width": 0.5
             },
             "pattern": {
              "fillmode": "overlay",
              "size": 10,
              "solidity": 0.2
             }
            },
            "type": "barpolar"
           }
          ],
          "carpet": [
           {
            "aaxis": {
             "endlinecolor": "#A2B1C6",
             "gridcolor": "#506784",
             "linecolor": "#506784",
             "minorgridcolor": "#506784",
             "startlinecolor": "#A2B1C6"
            },
            "baxis": {
             "endlinecolor": "#A2B1C6",
             "gridcolor": "#506784",
             "linecolor": "#506784",
             "minorgridcolor": "#506784",
             "startlinecolor": "#A2B1C6"
            },
            "type": "carpet"
           }
          ],
          "choropleth": [
           {
            "colorbar": {
             "outlinewidth": 0,
             "ticks": ""
            },
            "type": "choropleth"
           }
          ],
          "contour": [
           {
            "colorbar": {
             "outlinewidth": 0,
             "ticks": ""
            },
            "colorscale": [
             [
              0,
              "#0d0887"
             ],
             [
              0.1111111111111111,
              "#46039f"
             ],
             [
              0.2222222222222222,
              "#7201a8"
             ],
             [
              0.3333333333333333,
              "#9c179e"
             ],
             [
              0.4444444444444444,
              "#bd3786"
             ],
             [
              0.5555555555555556,
              "#d8576b"
             ],
             [
              0.6666666666666666,
              "#ed7953"
             ],
             [
              0.7777777777777778,
              "#fb9f3a"
             ],
             [
              0.8888888888888888,
              "#fdca26"
             ],
             [
              1,
              "#f0f921"
             ]
            ],
            "type": "contour"
           }
          ],
          "contourcarpet": [
           {
            "colorbar": {
             "outlinewidth": 0,
             "ticks": ""
            },
            "type": "contourcarpet"
           }
          ],
          "heatmap": [
           {
            "colorbar": {
             "outlinewidth": 0,
             "ticks": ""
            },
            "colorscale": [
             [
              0,
              "#0d0887"
             ],
             [
              0.1111111111111111,
              "#46039f"
             ],
             [
              0.2222222222222222,
              "#7201a8"
             ],
             [
              0.3333333333333333,
              "#9c179e"
             ],
             [
              0.4444444444444444,
              "#bd3786"
             ],
             [
              0.5555555555555556,
              "#d8576b"
             ],
             [
              0.6666666666666666,
              "#ed7953"
             ],
             [
              0.7777777777777778,
              "#fb9f3a"
             ],
             [
              0.8888888888888888,
              "#fdca26"
             ],
             [
              1,
              "#f0f921"
             ]
            ],
            "type": "heatmap"
           }
          ],
          "heatmapgl": [
           {
            "colorbar": {
             "outlinewidth": 0,
             "ticks": ""
            },
            "colorscale": [
             [
              0,
              "#0d0887"
             ],
             [
              0.1111111111111111,
              "#46039f"
             ],
             [
              0.2222222222222222,
              "#7201a8"
             ],
             [
              0.3333333333333333,
              "#9c179e"
             ],
             [
              0.4444444444444444,
              "#bd3786"
             ],
             [
              0.5555555555555556,
              "#d8576b"
             ],
             [
              0.6666666666666666,
              "#ed7953"
             ],
             [
              0.7777777777777778,
              "#fb9f3a"
             ],
             [
              0.8888888888888888,
              "#fdca26"
             ],
             [
              1,
              "#f0f921"
             ]
            ],
            "type": "heatmapgl"
           }
          ],
          "histogram": [
           {
            "marker": {
             "pattern": {
              "fillmode": "overlay",
              "size": 10,
              "solidity": 0.2
             }
            },
            "type": "histogram"
           }
          ],
          "histogram2d": [
           {
            "colorbar": {
             "outlinewidth": 0,
             "ticks": ""
            },
            "colorscale": [
             [
              0,
              "#0d0887"
             ],
             [
              0.1111111111111111,
              "#46039f"
             ],
             [
              0.2222222222222222,
              "#7201a8"
             ],
             [
              0.3333333333333333,
              "#9c179e"
             ],
             [
              0.4444444444444444,
              "#bd3786"
             ],
             [
              0.5555555555555556,
              "#d8576b"
             ],
             [
              0.6666666666666666,
              "#ed7953"
             ],
             [
              0.7777777777777778,
              "#fb9f3a"
             ],
             [
              0.8888888888888888,
              "#fdca26"
             ],
             [
              1,
              "#f0f921"
             ]
            ],
            "type": "histogram2d"
           }
          ],
          "histogram2dcontour": [
           {
            "colorbar": {
             "outlinewidth": 0,
             "ticks": ""
            },
            "colorscale": [
             [
              0,
              "#0d0887"
             ],
             [
              0.1111111111111111,
              "#46039f"
             ],
             [
              0.2222222222222222,
              "#7201a8"
             ],
             [
              0.3333333333333333,
              "#9c179e"
             ],
             [
              0.4444444444444444,
              "#bd3786"
             ],
             [
              0.5555555555555556,
              "#d8576b"
             ],
             [
              0.6666666666666666,
              "#ed7953"
             ],
             [
              0.7777777777777778,
              "#fb9f3a"
             ],
             [
              0.8888888888888888,
              "#fdca26"
             ],
             [
              1,
              "#f0f921"
             ]
            ],
            "type": "histogram2dcontour"
           }
          ],
          "mesh3d": [
           {
            "colorbar": {
             "outlinewidth": 0,
             "ticks": ""
            },
            "type": "mesh3d"
           }
          ],
          "parcoords": [
           {
            "line": {
             "colorbar": {
              "outlinewidth": 0,
              "ticks": ""
             }
            },
            "type": "parcoords"
           }
          ],
          "pie": [
           {
            "automargin": true,
            "type": "pie"
           }
          ],
          "scatter": [
           {
            "marker": {
             "line": {
              "color": "#283442"
             }
            },
            "type": "scatter"
           }
          ],
          "scatter3d": [
           {
            "line": {
             "colorbar": {
              "outlinewidth": 0,
              "ticks": ""
             }
            },
            "marker": {
             "colorbar": {
              "outlinewidth": 0,
              "ticks": ""
             }
            },
            "type": "scatter3d"
           }
          ],
          "scattercarpet": [
           {
            "marker": {
             "colorbar": {
              "outlinewidth": 0,
              "ticks": ""
             }
            },
            "type": "scattercarpet"
           }
          ],
          "scattergeo": [
           {
            "marker": {
             "colorbar": {
              "outlinewidth": 0,
              "ticks": ""
             }
            },
            "type": "scattergeo"
           }
          ],
          "scattergl": [
           {
            "marker": {
             "line": {
              "color": "#283442"
             }
            },
            "type": "scattergl"
           }
          ],
          "scattermapbox": [
           {
            "marker": {
             "colorbar": {
              "outlinewidth": 0,
              "ticks": ""
             }
            },
            "type": "scattermapbox"
           }
          ],
          "scatterpolar": [
           {
            "marker": {
             "colorbar": {
              "outlinewidth": 0,
              "ticks": ""
             }
            },
            "type": "scatterpolar"
           }
          ],
          "scatterpolargl": [
           {
            "marker": {
             "colorbar": {
              "outlinewidth": 0,
              "ticks": ""
             }
            },
            "type": "scatterpolargl"
           }
          ],
          "scatterternary": [
           {
            "marker": {
             "colorbar": {
              "outlinewidth": 0,
              "ticks": ""
             }
            },
            "type": "scatterternary"
           }
          ],
          "surface": [
           {
            "colorbar": {
             "outlinewidth": 0,
             "ticks": ""
            },
            "colorscale": [
             [
              0,
              "#0d0887"
             ],
             [
              0.1111111111111111,
              "#46039f"
             ],
             [
              0.2222222222222222,
              "#7201a8"
             ],
             [
              0.3333333333333333,
              "#9c179e"
             ],
             [
              0.4444444444444444,
              "#bd3786"
             ],
             [
              0.5555555555555556,
              "#d8576b"
             ],
             [
              0.6666666666666666,
              "#ed7953"
             ],
             [
              0.7777777777777778,
              "#fb9f3a"
             ],
             [
              0.8888888888888888,
              "#fdca26"
             ],
             [
              1,
              "#f0f921"
             ]
            ],
            "type": "surface"
           }
          ],
          "table": [
           {
            "cells": {
             "fill": {
              "color": "#506784"
             },
             "line": {
              "color": "rgb(17,17,17)"
             }
            },
            "header": {
             "fill": {
              "color": "#2a3f5f"
             },
             "line": {
              "color": "rgb(17,17,17)"
             }
            },
            "type": "table"
           }
          ]
         },
         "layout": {
          "annotationdefaults": {
           "arrowcolor": "#f2f5fa",
           "arrowhead": 0,
           "arrowwidth": 1
          },
          "autotypenumbers": "strict",
          "coloraxis": {
           "colorbar": {
            "outlinewidth": 0,
            "ticks": ""
           }
          },
          "colorscale": {
           "diverging": [
            [
             0,
             "#8e0152"
            ],
            [
             0.1,
             "#c51b7d"
            ],
            [
             0.2,
             "#de77ae"
            ],
            [
             0.3,
             "#f1b6da"
            ],
            [
             0.4,
             "#fde0ef"
            ],
            [
             0.5,
             "#f7f7f7"
            ],
            [
             0.6,
             "#e6f5d0"
            ],
            [
             0.7,
             "#b8e186"
            ],
            [
             0.8,
             "#7fbc41"
            ],
            [
             0.9,
             "#4d9221"
            ],
            [
             1,
             "#276419"
            ]
           ],
           "sequential": [
            [
             0,
             "#0d0887"
            ],
            [
             0.1111111111111111,
             "#46039f"
            ],
            [
             0.2222222222222222,
             "#7201a8"
            ],
            [
             0.3333333333333333,
             "#9c179e"
            ],
            [
             0.4444444444444444,
             "#bd3786"
            ],
            [
             0.5555555555555556,
             "#d8576b"
            ],
            [
             0.6666666666666666,
             "#ed7953"
            ],
            [
             0.7777777777777778,
             "#fb9f3a"
            ],
            [
             0.8888888888888888,
             "#fdca26"
            ],
            [
             1,
             "#f0f921"
            ]
           ],
           "sequentialminus": [
            [
             0,
             "#0d0887"
            ],
            [
             0.1111111111111111,
             "#46039f"
            ],
            [
             0.2222222222222222,
             "#7201a8"
            ],
            [
             0.3333333333333333,
             "#9c179e"
            ],
            [
             0.4444444444444444,
             "#bd3786"
            ],
            [
             0.5555555555555556,
             "#d8576b"
            ],
            [
             0.6666666666666666,
             "#ed7953"
            ],
            [
             0.7777777777777778,
             "#fb9f3a"
            ],
            [
             0.8888888888888888,
             "#fdca26"
            ],
            [
             1,
             "#f0f921"
            ]
           ]
          },
          "colorway": [
           "#636efa",
           "#EF553B",
           "#00cc96",
           "#ab63fa",
           "#FFA15A",
           "#19d3f3",
           "#FF6692",
           "#B6E880",
           "#FF97FF",
           "#FECB52"
          ],
          "font": {
           "color": "#f2f5fa"
          },
          "geo": {
           "bgcolor": "rgb(17,17,17)",
           "lakecolor": "rgb(17,17,17)",
           "landcolor": "rgb(17,17,17)",
           "showlakes": true,
           "showland": true,
           "subunitcolor": "#506784"
          },
          "hoverlabel": {
           "align": "left"
          },
          "hovermode": "closest",
          "mapbox": {
           "style": "dark"
          },
          "paper_bgcolor": "rgb(17,17,17)",
          "plot_bgcolor": "rgb(17,17,17)",
          "polar": {
           "angularaxis": {
            "gridcolor": "#506784",
            "linecolor": "#506784",
            "ticks": ""
           },
           "bgcolor": "rgb(17,17,17)",
           "radialaxis": {
            "gridcolor": "#506784",
            "linecolor": "#506784",
            "ticks": ""
           }
          },
          "scene": {
           "xaxis": {
            "backgroundcolor": "rgb(17,17,17)",
            "gridcolor": "#506784",
            "gridwidth": 2,
            "linecolor": "#506784",
            "showbackground": true,
            "ticks": "",
            "zerolinecolor": "#C8D4E3"
           },
           "yaxis": {
            "backgroundcolor": "rgb(17,17,17)",
            "gridcolor": "#506784",
            "gridwidth": 2,
            "linecolor": "#506784",
            "showbackground": true,
            "ticks": "",
            "zerolinecolor": "#C8D4E3"
           },
           "zaxis": {
            "backgroundcolor": "rgb(17,17,17)",
            "gridcolor": "#506784",
            "gridwidth": 2,
            "linecolor": "#506784",
            "showbackground": true,
            "ticks": "",
            "zerolinecolor": "#C8D4E3"
           }
          },
          "shapedefaults": {
           "line": {
            "color": "#f2f5fa"
           }
          },
          "sliderdefaults": {
           "bgcolor": "#C8D4E3",
           "bordercolor": "rgb(17,17,17)",
           "borderwidth": 1,
           "tickwidth": 0
          },
          "ternary": {
           "aaxis": {
            "gridcolor": "#506784",
            "linecolor": "#506784",
            "ticks": ""
           },
           "baxis": {
            "gridcolor": "#506784",
            "linecolor": "#506784",
            "ticks": ""
           },
           "bgcolor": "rgb(17,17,17)",
           "caxis": {
            "gridcolor": "#506784",
            "linecolor": "#506784",
            "ticks": ""
           }
          },
          "title": {
           "x": 0.05
          },
          "updatemenudefaults": {
           "bgcolor": "#506784",
           "borderwidth": 0
          },
          "xaxis": {
           "automargin": true,
           "gridcolor": "#283442",
           "linecolor": "#506784",
           "ticks": "",
           "title": {
            "standoff": 15
           },
           "zerolinecolor": "#283442",
           "zerolinewidth": 2
          },
          "yaxis": {
           "automargin": true,
           "gridcolor": "#283442",
           "linecolor": "#506784",
           "ticks": "",
           "title": {
            "standoff": 15
           },
           "zerolinecolor": "#283442",
           "zerolinewidth": 2
          }
         }
        },
        "width": 800,
        "xaxis": {
         "anchor": "y",
         "domain": [
          0,
          1
         ],
         "title": {
          "text": "REB"
         }
        },
        "yaxis": {
         "anchor": "x",
         "domain": [
          0,
          1
         ],
         "title": {
          "text": "STL"
         }
        }
       }
      }
     },
     "metadata": {},
     "output_type": "display_data"
    }
   ],
   "source": [
    "px.scatter(data_frame=aux,\n",
    "           x='REB',\n",
    "           y='STL',\n",
    "           size='BLK',\n",
    "           color='POS',\n",
    "           template='plotly_dark',\n",
    "           opacity=0.6,\n",
    "           height=600,\n",
    "           width=800)"
   ]
  },
  {
   "cell_type": "code",
   "execution_count": null,
   "metadata": {},
   "outputs": [],
   "source": [
    "# 2. Como estão distribuídos os valores de roubos de bola por posição?"
   ]
  },
  {
   "cell_type": "code",
   "execution_count": 117,
   "metadata": {},
   "outputs": [
    {
     "data": {
      "application/vnd.plotly.v1+json": {
       "config": {
        "plotlyServerURL": "https://plot.ly"
       },
       "data": [
        {
         "alignmentgroup": "True",
         "customdata": [
          [
           "Jayson Tatum"
          ],
          [
           "DeMar DeRozan"
          ],
          [
           "Mikal Bridges"
          ],
          [
           "LeBron James"
          ],
          [
           "Franz Wagner"
          ],
          [
           "Jimmy Butler"
          ],
          [
           "Keldon Johnson"
          ],
          [
           "Kyle Kuzma"
          ],
          [
           "Jerami Grant"
          ],
          [
           "Bojan Bogdanovic"
          ],
          [
           "Kawhi Leonard"
          ],
          [
           "Harrison Barnes"
          ],
          [
           "Scottie Barnes"
          ],
          [
           "O.G. Anunoby"
          ],
          [
           "Brandon Ingram"
          ],
          [
           "Michael Porter Jr."
          ],
          [
           "Saddiq Bey"
          ],
          [
           "Dillon Brooks"
          ],
          [
           "De'Andre Hunter"
          ],
          [
           "Tim Hardaway Jr."
          ],
          [
           "Keegan Murray"
          ],
          [
           "Bruce Brown"
          ],
          [
           "Corey Kispert"
          ],
          [
           "Aaron Nesmith"
          ],
          [
           "Gordon Hayward"
          ],
          [
           "Marcus Morris Sr."
          ],
          [
           "Naji Marshall"
          ],
          [
           "Deni Avdija"
          ],
          [
           "Caleb Martin"
          ],
          [
           "Cedi Osman"
          ],
          [
           "Doug McDermott"
          ],
          [
           "Cameron Johnson"
          ],
          [
           "Herbert Jones"
          ],
          [
           "Keita Bates-Diop"
          ],
          [
           "Kyle Anderson"
          ],
          [
           "Georges Niang"
          ],
          [
           "Andrew Wiggins"
          ],
          [
           "Torrey Craig"
          ],
          [
           "Joe Harris"
          ],
          [
           "Reggie Bullock"
          ],
          [
           "Jordan Nwora"
          ],
          [
           "Troy Brown Jr."
          ],
          [
           "Josh Okogie"
          ],
          [
           "Sam Hauser"
          ],
          [
           "Khris Middleton"
          ],
          [
           "Isaac Okoro"
          ],
          [
           "Isaiah Jackson"
          ],
          [
           "Kenrich Williams"
          ],
          [
           "Kevin Knox II"
          ],
          [
           "Oshae Brissett"
          ],
          [
           "Jalen Johnson"
          ],
          [
           "Cam Reddish"
          ],
          [
           "Nassir Little"
          ],
          [
           "Yuta Watanabe"
          ],
          [
           "Derrick Jones Jr."
          ],
          [
           "T.J. Warren"
          ],
          [
           "Vlatko Cancar"
          ],
          [
           "Rudy Gay"
          ],
          [
           "Paul Reed"
          ],
          [
           "Jae'Sean Tate"
          ],
          [
           "Danuel House Jr."
          ],
          [
           "Davis Bertans"
          ],
          [
           "Justin Holiday"
          ],
          [
           "Stanley Johnson"
          ],
          [
           "Javonte Green"
          ],
          [
           "Admiral Schofield"
          ],
          [
           "Juan Toscano-Anderson"
          ],
          [
           "Kessler Edwards"
          ],
          [
           "Thanasis Antetokounmpo"
          ],
          [
           "Garrett Temple"
          ],
          [
           "KZ Okpala"
          ],
          [
           "Otto Porter Jr."
          ],
          [
           "Cody Martin"
          ],
          [
           "Justin Jackson"
          ],
          [
           "Louis King"
          ],
          [
           "Justin Champagnie"
          ],
          [
           "Joe Wieskamp"
          ],
          [
           "Deonte Burton"
          ],
          [
           "Sterling Brown"
          ]
         ],
         "hovertemplate": "POS=%{x}<br>STL=%{y}<br>PName=%{customdata[0]}<extra></extra>",
         "legendgroup": "SF",
         "marker": {
          "color": "#636efa"
         },
         "name": "SF",
         "notched": false,
         "offsetgroup": "SF",
         "orientation": "v",
         "showlegend": true,
         "type": "box",
         "x": [
          "SF",
          "SF",
          "SF",
          "SF",
          "SF",
          "SF",
          "SF",
          "SF",
          "SF",
          "SF",
          "SF",
          "SF",
          "SF",
          "SF",
          "SF",
          "SF",
          "SF",
          "SF",
          "SF",
          "SF",
          "SF",
          "SF",
          "SF",
          "SF",
          "SF",
          "SF",
          "SF",
          "SF",
          "SF",
          "SF",
          "SF",
          "SF",
          "SF",
          "SF",
          "SF",
          "SF",
          "SF",
          "SF",
          "SF",
          "SF",
          "SF",
          "SF",
          "SF",
          "SF",
          "SF",
          "SF",
          "SF",
          "SF",
          "SF",
          "SF",
          "SF",
          "SF",
          "SF",
          "SF",
          "SF",
          "SF",
          "SF",
          "SF",
          "SF",
          "SF",
          "SF",
          "SF",
          "SF",
          "SF",
          "SF",
          "SF",
          "SF",
          "SF",
          "SF",
          "SF",
          "SF",
          "SF",
          "SF",
          "SF",
          "SF",
          "SF",
          "SF",
          "SF",
          "SF"
         ],
         "x0": " ",
         "xaxis": "x",
         "y": [
          78,
          83,
          91,
          50,
          77,
          117,
          46,
          36,
          51,
          34,
          72,
          57,
          83,
          128,
          32,
          37,
          70,
          65,
          35,
          49,
          61,
          87,
          32,
          55,
          42,
          42,
          54,
          65,
          71,
          35,
          13,
          50,
          103,
          46,
          78,
          31,
          45,
          50,
          34,
          54,
          24,
          59,
          56,
          29,
          23,
          56,
          31,
          45,
          24,
          33,
          38,
          39,
          20,
          25,
          29,
          22,
          22,
          19,
          45,
          21,
          14,
          11,
          19,
          16,
          24,
          8,
          16,
          14,
          3,
          9,
          7,
          11,
          4,
          4,
          1,
          1,
          0,
          0,
          3
         ],
         "y0": " ",
         "yaxis": "y"
        },
        {
         "alignmentgroup": "True",
         "customdata": [
          [
           "Joel Embiid"
          ],
          [
           "Nikola Jokic"
          ],
          [
           "Bam Adebayo"
          ],
          [
           "Kristaps Porzingis"
          ],
          [
           "Nikola Vucevic"
          ],
          [
           "Brook Lopez"
          ],
          [
           "Deandre Ayton"
          ],
          [
           "Jonas Valanciunas"
          ],
          [
           "Myles Turner"
          ],
          [
           "Alperen Sengun"
          ],
          [
           "Jarrett Allen"
          ],
          [
           "Nic Claxton"
          ],
          [
           "Rudy Gobert"
          ],
          [
           "Jakob Poeltl"
          ],
          [
           "Wendell Carter Jr."
          ],
          [
           "Mason Plumlee"
          ],
          [
           "Ivica Zubac"
          ],
          [
           "Naz Reid"
          ],
          [
           "Clint Capela"
          ],
          [
           "Daniel Gafford"
          ],
          [
           "Jusuf Nurkic"
          ],
          [
           "Walker Kessler"
          ],
          [
           "Bol Bol"
          ],
          [
           "Al Horford"
          ],
          [
           "Jalen Duren"
          ],
          [
           "Karl-Anthony Towns"
          ],
          [
           "Moritz Wagner"
          ],
          [
           "Thomas Bryant"
          ],
          [
           "Isaiah Stewart"
          ],
          [
           "Nick Richards"
          ],
          [
           "Dwight Powell"
          ],
          [
           "Jock Landale"
          ],
          [
           "James Wiseman"
          ],
          [
           "Mitchell Robinson"
          ],
          [
           "Isaiah Hartenstein"
          ],
          [
           "Andre Drummond"
          ],
          [
           "Mark Williams"
          ],
          [
           "Mike Muscala"
          ],
          [
           "Steven Adams"
          ],
          [
           "Mo Bamba"
          ],
          [
           "Montrezl Harrell"
          ],
          [
           "Robert Williams III"
          ],
          [
           "Bismack Biyombo"
          ],
          [
           "Willy Hernangomez"
          ],
          [
           "Luke Kornet"
          ],
          [
           "Jaxson Hayes"
          ],
          [
           "Day'Ron Sharpe"
          ],
          [
           "Charles Bassey"
          ],
          [
           "DeAndre Jordan"
          ],
          [
           "Dewayne Dedmon"
          ],
          [
           "JaVale McGee"
          ],
          [
           "Christian Koloko"
          ],
          [
           "Luka Garza"
          ],
          [
           "Jericho Sims"
          ],
          [
           "Goga Bitadze"
          ],
          [
           "Moses Brown"
          ],
          [
           "Damian Jones"
          ],
          [
           "Udoka Azubuike"
          ],
          [
           "Gorgui Dieng"
          ],
          [
           "Orlando Robinson"
          ],
          [
           "Robin Lopez"
          ],
          [
           "Boban Marjanovic"
          ],
          [
           "Cody Zeller"
          ],
          [
           "Jay Huff"
          ],
          [
           "Daniel Theis"
          ],
          [
           "Alex Len"
          ],
          [
           "Khem Birch"
          ],
          [
           "Meyers Leonard"
          ],
          [
           "Omer Yurtseven"
          ],
          [
           "Olivier Sarr"
          ],
          [
           "Nerlens Noel"
          ],
          [
           "Micah Potter"
          ],
          [
           "Tony Bradley"
          ],
          [
           "Neemias Queta"
          ],
          [
           "Chance Comanche"
          ],
          [
           "Marko Simonovic"
          ],
          [
           "Mfiondu Kabengele"
          ],
          [
           "Vernon Carey Jr."
          ]
         ],
         "hovertemplate": "POS=%{x}<br>STL=%{y}<br>PName=%{customdata[0]}<extra></extra>",
         "legendgroup": "C",
         "marker": {
          "color": "#EF553B"
         },
         "name": "C",
         "notched": false,
         "offsetgroup": "C",
         "orientation": "v",
         "showlegend": true,
         "type": "box",
         "x": [
          "C",
          "C",
          "C",
          "C",
          "C",
          "C",
          "C",
          "C",
          "C",
          "C",
          "C",
          "C",
          "C",
          "C",
          "C",
          "C",
          "C",
          "C",
          "C",
          "C",
          "C",
          "C",
          "C",
          "C",
          "C",
          "C",
          "C",
          "C",
          "C",
          "C",
          "C",
          "C",
          "C",
          "C",
          "C",
          "C",
          "C",
          "C",
          "C",
          "C",
          "C",
          "C",
          "C",
          "C",
          "C",
          "C",
          "C",
          "C",
          "C",
          "C",
          "C",
          "C",
          "C",
          "C",
          "C",
          "C",
          "C",
          "C",
          "C",
          "C",
          "C",
          "C",
          "C",
          "C",
          "C",
          "C",
          "C",
          "C",
          "C",
          "C",
          "C",
          "C",
          "C",
          "C",
          "C",
          "C",
          "C",
          "C"
         ],
         "x0": " ",
         "xaxis": "x",
         "y": [
          66,
          87,
          88,
          58,
          60,
          37,
          37,
          20,
          36,
          70,
          54,
          65,
          56,
          66,
          30,
          46,
          29,
          42,
          45,
          33,
          43,
          26,
          30,
          30,
          44,
          20,
          37,
          16,
          20,
          11,
          48,
          16,
          7,
          56,
          53,
          45,
          28,
          15,
          36,
          13,
          17,
          22,
          18,
          17,
          11,
          20,
          15,
          16,
          12,
          9,
          4,
          21,
          3,
          15,
          16,
          4,
          8,
          6,
          4,
          12,
          2,
          5,
          3,
          3,
          2,
          4,
          5,
          2,
          2,
          1,
          16,
          1,
          1,
          0,
          0,
          0,
          2,
          2
         ],
         "y0": " ",
         "yaxis": "y"
        },
        {
         "alignmentgroup": "True",
         "customdata": [
          [
           "Luka Doncic"
          ],
          [
           "Shai Gilgeous-Alexander"
          ],
          [
           "Trae Young"
          ],
          [
           "Damian Lillard"
          ],
          [
           "De'Aaron Fox"
          ],
          [
           "Stephen Curry"
          ],
          [
           "Jalen Brunson"
          ],
          [
           "Kyrie Irving"
          ],
          [
           "Ja Morant"
          ],
          [
           "Darius Garland"
          ],
          [
           "Spencer Dinwiddie"
          ],
          [
           "Tyler Herro"
          ],
          [
           "Jamal Murray"
          ],
          [
           "Jrue Holiday"
          ],
          [
           "Jordan Clarkson"
          ],
          [
           "D'Angelo Russell"
          ],
          [
           "Tyrese Maxey"
          ],
          [
           "Jaden Ivey"
          ],
          [
           "Tyrese Haliburton"
          ],
          [
           "Russell Westbrook"
          ],
          [
           "Derrick White"
          ],
          [
           "Malcolm Brogdon"
          ],
          [
           "Tre Jones"
          ],
          [
           "LaMelo Ball"
          ],
          [
           "Markelle Fultz"
          ],
          [
           "Dennis Schroder"
          ],
          [
           "Tyus Jones"
          ],
          [
           "Chris Paul"
          ],
          [
           "Mike Conley"
          ],
          [
           "Killian Hayes"
          ],
          [
           "Cole Anthony"
          ],
          [
           "Coby White"
          ],
          [
           "Andrew Nembhard"
          ],
          [
           "Marcus Smart"
          ],
          [
           "Reggie Jackson"
          ],
          [
           "Collin Sexton"
          ],
          [
           "Bones Hyland"
          ],
          [
           "Jevon Carter"
          ],
          [
           "T.J. McConnell"
          ],
          [
           "Gabe Vincent"
          ],
          [
           "Monte Morris"
          ],
          [
           "Kyle Lowry"
          ],
          [
           "Jose Alvarado"
          ],
          [
           "Devonte' Graham"
          ],
          [
           "Tre Mann"
          ],
          [
           "Cameron Payne"
          ],
          [
           "Dennis Smith Jr."
          ],
          [
           "Davion Mitchell"
          ],
          [
           "Cory Joseph"
          ],
          [
           "Patrick Beverley"
          ],
          [
           "John Wall"
          ],
          [
           "Edmond Sumner"
          ],
          [
           "Goran Dragic"
          ],
          [
           "R.J. Hampton"
          ],
          [
           "Theo Maledon"
          ],
          [
           "Ben Simmons"
          ],
          [
           "Payton Pritchard"
          ],
          [
           "Malachi Flynn"
          ],
          [
           "Patty Mills"
          ],
          [
           "Duane Washington Jr."
          ],
          [
           "Cade Cunningham"
          ],
          [
           "George Hill"
          ],
          [
           "Miles McBride"
          ],
          [
           "Ricky Rubio"
          ],
          [
           "Jordan McLaughlin"
          ],
          [
           "Raul Neto"
          ],
          [
           "Derrick Rose"
          ],
          [
           "Dalano Banton"
          ],
          [
           "Frank Ntilikina"
          ],
          [
           "Kira Lewis Jr."
          ],
          [
           "McKinley Wright IV"
          ],
          [
           "Ish Smith"
          ],
          [
           "Kemba Walker"
          ],
          [
           "Jeff Dowtin Jr."
          ],
          [
           "Matthew Dellavedova"
          ],
          [
           "Jason Preston"
          ],
          [
           "Xavier Moon"
          ],
          [
           "Alondes Williams"
          ]
         ],
         "hovertemplate": "POS=%{x}<br>STL=%{y}<br>PName=%{customdata[0]}<extra></extra>",
         "legendgroup": "PG",
         "marker": {
          "color": "#00cc96"
         },
         "name": "PG",
         "notched": false,
         "offsetgroup": "PG",
         "orientation": "v",
         "showlegend": true,
         "type": "box",
         "x": [
          "PG",
          "PG",
          "PG",
          "PG",
          "PG",
          "PG",
          "PG",
          "PG",
          "PG",
          "PG",
          "PG",
          "PG",
          "PG",
          "PG",
          "PG",
          "PG",
          "PG",
          "PG",
          "PG",
          "PG",
          "PG",
          "PG",
          "PG",
          "PG",
          "PG",
          "PG",
          "PG",
          "PG",
          "PG",
          "PG",
          "PG",
          "PG",
          "PG",
          "PG",
          "PG",
          "PG",
          "PG",
          "PG",
          "PG",
          "PG",
          "PG",
          "PG",
          "PG",
          "PG",
          "PG",
          "PG",
          "PG",
          "PG",
          "PG",
          "PG",
          "PG",
          "PG",
          "PG",
          "PG",
          "PG",
          "PG",
          "PG",
          "PG",
          "PG",
          "PG",
          "PG",
          "PG",
          "PG",
          "PG",
          "PG",
          "PG",
          "PG",
          "PG",
          "PG",
          "PG",
          "PG",
          "PG",
          "PG",
          "PG",
          "PG",
          "PG",
          "PG",
          "PG"
         ],
         "x0": " ",
         "xaxis": "x",
         "y": [
          90,
          112,
          80,
          50,
          83,
          52,
          61,
          66,
          66,
          85,
          67,
          51,
          66,
          79,
          33,
          70,
          49,
          61,
          91,
          76,
          54,
          45,
          89,
          46,
          87,
          50,
          83,
          91,
          73,
          104,
          37,
          54,
          70,
          93,
          47,
          27,
          39,
          66,
          81,
          62,
          43,
          57,
          67,
          45,
          40,
          33,
          75,
          44,
          34,
          63,
          27,
          31,
          13,
          27,
          37,
          54,
          14,
          21,
          15,
          6,
          10,
          26,
          37,
          26,
          32,
          17,
          7,
          13,
          16,
          10,
          8,
          8,
          2,
          9,
          7,
          2,
          0,
          0
         ],
         "y0": " ",
         "yaxis": "y"
        },
        {
         "alignmentgroup": "True",
         "customdata": [
          [
           "Giannis Antetokounmpo"
          ],
          [
           "Julius Randle"
          ],
          [
           "Pascal Siakam"
          ],
          [
           "Lauri Markkanen"
          ],
          [
           "Domantas Sabonis"
          ],
          [
           "Anthony Davis"
          ],
          [
           "Paolo Banchero"
          ],
          [
           "Kevin Durant"
          ],
          [
           "Evan Mobley"
          ],
          [
           "Jaren Jackson Jr."
          ],
          [
           "P.J. Washington"
          ],
          [
           "Aaron Gordon"
          ],
          [
           "Tobias Harris"
          ],
          [
           "Jabari Smith Jr."
          ],
          [
           "Jaden McDaniels"
          ],
          [
           "John Collins"
          ],
          [
           "Kelly Olynyk"
          ],
          [
           "Patrick Williams"
          ],
          [
           "Onyeka Okongwu"
          ],
          [
           "Jalen McDaniels"
          ],
          [
           "Zion Williamson"
          ],
          [
           "Zach Collins"
          ],
          [
           "Chris Boucher"
          ],
          [
           "Rui Hachimura"
          ],
          [
           "Santi Aldama"
          ],
          [
           "Royce O'Neale"
          ],
          [
           "Jonathan Kuminga"
          ],
          [
           "Jalen Smith"
          ],
          [
           "Grant Williams"
          ],
          [
           "Jarred Vanderbilt"
          ],
          [
           "Draymond Green"
          ],
          [
           "Trey Lyles"
          ],
          [
           "Brandon Clarke"
          ],
          [
           "Dorian Finney-Smith"
          ],
          [
           "Drew Eubanks"
          ],
          [
           "Kevin Love"
          ],
          [
           "Precious Achiuwa"
          ],
          [
           "Marvin Bagley III"
          ],
          [
           "Obi Toppin"
          ],
          [
           "Taurean Prince"
          ],
          [
           "Nicolas Batum"
          ],
          [
           "Trendon Watford"
          ],
          [
           "Larry Nance Jr."
          ],
          [
           "Jeff Green"
          ],
          [
           "Dario Saric"
          ],
          [
           "Isaiah Livers"
          ],
          [
           "Chimezie Metu"
          ],
          [
           "Jeremiah Robinson-Earl"
          ],
          [
           "Robert Covington"
          ],
          [
           "Zeke Nnaji"
          ],
          [
           "P.J. Tucker"
          ],
          [
           "Sandro Mamukelashvili"
          ],
          [
           "Thaddeus Young"
          ],
          [
           "Usman Garuba"
          ],
          [
           "Darius Bazley"
          ],
          [
           "Maxi Kleber"
          ],
          [
           "Dean Wade"
          ],
          [
           "Justise Winslow"
          ],
          [
           "Anthony Gill"
          ],
          [
           "Blake Griffin"
          ],
          [
           "Kai Jones"
          ],
          [
           "Bruno Fernando"
          ],
          [
           "Markieff Morris"
          ],
          [
           "Chuma Okeke"
          ],
          [
           "Jae Crowder"
          ],
          [
           "Juancho Hernangomez"
          ],
          [
           "Frank Kaminsky"
          ],
          [
           "Jonathan Isaac"
          ],
          [
           "James Johnson"
          ],
          [
           "Greg Brown III"
          ],
          [
           "Udonis Haslem"
          ],
          [
           "Noah Vonleh"
          ],
          [
           "Jarrell Brantley"
          ],
          [
           "Isaiah Todd"
          ],
          [
           "Michael Foster Jr."
          ]
         ],
         "hovertemplate": "POS=%{x}<br>STL=%{y}<br>PName=%{customdata[0]}<extra></extra>",
         "legendgroup": "PF",
         "marker": {
          "color": "#ab63fa"
         },
         "name": "PF",
         "notched": false,
         "offsetgroup": "PF",
         "orientation": "v",
         "showlegend": true,
         "type": "box",
         "x": [
          "PF",
          "PF",
          "PF",
          "PF",
          "PF",
          "PF",
          "PF",
          "PF",
          "PF",
          "PF",
          "PF",
          "PF",
          "PF",
          "PF",
          "PF",
          "PF",
          "PF",
          "PF",
          "PF",
          "PF",
          "PF",
          "PF",
          "PF",
          "PF",
          "PF",
          "PF",
          "PF",
          "PF",
          "PF",
          "PF",
          "PF",
          "PF",
          "PF",
          "PF",
          "PF",
          "PF",
          "PF",
          "PF",
          "PF",
          "PF",
          "PF",
          "PF",
          "PF",
          "PF",
          "PF",
          "PF",
          "PF",
          "PF",
          "PF",
          "PF",
          "PF",
          "PF",
          "PF",
          "PF",
          "PF",
          "PF",
          "PF",
          "PF",
          "PF",
          "PF",
          "PF",
          "PF",
          "PF",
          "PF",
          "PF",
          "PF",
          "PF",
          "PF",
          "PF",
          "PF",
          "PF",
          "PF",
          "PF",
          "PF",
          "PF"
         ],
         "x0": " ",
         "xaxis": "x",
         "y": [
          52,
          49,
          65,
          42,
          65,
          59,
          60,
          34,
          60,
          65,
          66,
          54,
          68,
          43,
          74,
          42,
          60,
          72,
          56,
          83,
          32,
          37,
          47,
          19,
          45,
          65,
          41,
          21,
          41,
          83,
          74,
          27,
          34,
          55,
          40,
          16,
          31,
          19,
          23,
          28,
          54,
          32,
          56,
          18,
          20,
          28,
          22,
          24,
          38,
          17,
          39,
          14,
          54,
          44,
          22,
          12,
          28,
          30,
          7,
          14,
          17,
          6,
          9,
          19,
          12,
          16,
          6,
          14,
          7,
          4,
          1,
          2,
          0,
          1,
          0
         ],
         "y0": " ",
         "yaxis": "y"
        },
        {
         "alignmentgroup": "True",
         "customdata": [
          [
           "Anthony Edwards"
          ],
          [
           "Donovan Mitchell"
          ],
          [
           "Zach LaVine"
          ],
          [
           "Jaylen Brown"
          ],
          [
           "Jalen Green"
          ],
          [
           "Jordan Poole"
          ],
          [
           "CJ McCollum"
          ],
          [
           "Dejounte Murray"
          ],
          [
           "Klay Thompson"
          ],
          [
           "Devin Booker"
          ],
          [
           "RJ Barrett"
          ],
          [
           "Buddy Hield"
          ],
          [
           "Fred VanVleet"
          ],
          [
           "Terry Rozier"
          ],
          [
           "Anfernee Simons"
          ],
          [
           "Bennedict Mathurin"
          ],
          [
           "Josh Giddey"
          ],
          [
           "Desmond Bane"
          ],
          [
           "James Harden"
          ],
          [
           "Immanuel Quickley"
          ],
          [
           "Bradley Beal"
          ],
          [
           "Gary Trent Jr."
          ],
          [
           "Trey Murphy III"
          ],
          [
           "Kevin Huerter"
          ],
          [
           "Kevin Porter Jr."
          ],
          [
           "Malik Monk"
          ],
          [
           "Malik Beasley"
          ],
          [
           "Kelly Oubre Jr."
          ],
          [
           "Max Strus"
          ],
          [
           "Caris LeVert"
          ],
          [
           "Eric Gordon"
          ],
          [
           "Austin Reaves"
          ],
          [
           "Kentavious Caldwell-Pope"
          ],
          [
           "Quentin Grimes"
          ],
          [
           "Shaedon Sharpe"
          ],
          [
           "De'Anthony Melton"
          ],
          [
           "Bogdan Bogdanovic"
          ],
          [
           "Grayson Allen"
          ],
          [
           "Josh Hart"
          ],
          [
           "Terance Mann"
          ],
          [
           "Jaylen Nowell"
          ],
          [
           "Devin Vassell"
          ],
          [
           "Talen Horton-Tucker"
          ],
          [
           "Isaiah Joe"
          ],
          [
           "Ayo Dosunmu"
          ],
          [
           "Donte DiVincenzo"
          ],
          [
           "Josh Richardson"
          ],
          [
           "Alec Burks"
          ],
          [
           "Shake Milton"
          ],
          [
           "Cam Thomas"
          ],
          [
           "Damion Lee"
          ],
          [
           "Seth Curry"
          ],
          [
           "Josh Green"
          ],
          [
           "Luke Kennard"
          ],
          [
           "Jalen Suggs"
          ],
          [
           "Hamidou Diallo"
          ],
          [
           "Aaron Wiggins"
          ],
          [
           "Pat Connaughton"
          ],
          [
           "Victor Oladipo"
          ],
          [
           "Terence Davis"
          ],
          [
           "Gary Harris"
          ],
          [
           "Alex Caruso"
          ],
          [
           "Josh Christopher"
          ],
          [
           "Delon Wright"
          ],
          [
           "John Konchar"
          ],
          [
           "Nickeil Alexander-Walker"
          ],
          [
           "Chris Duarte"
          ],
          [
           "Landry Shamet"
          ],
          [
           "Joe Ingles"
          ],
          [
           "Ty Jerome"
          ],
          [
           "Moses Moody"
          ],
          [
           "Romeo Langford"
          ],
          [
           "Matisse Thybulle"
          ],
          [
           "Garrison Mathews"
          ],
          [
           "Austin Rivers"
          ],
          [
           "Daishen Nix"
          ],
          [
           "Svi Mykhailiuk"
          ],
          [
           "James Bouknight"
          ],
          [
           "Keon Johnson"
          ],
          [
           "Wesley Matthews"
          ],
          [
           "Amir Coffey"
          ],
          [
           "Evan Fournier"
          ],
          [
           "Brandon Boston Jr."
          ],
          [
           "Furkan Korkmaz"
          ],
          [
           "Gary Payton II"
          ],
          [
           "Skylar Mays"
          ],
          [
           "Bryn Forbes"
          ],
          [
           "Davon Reed"
          ],
          [
           "Jared Butler"
          ],
          [
           "Joshua Primo"
          ],
          [
           "Mac McClung"
          ],
          [
           "Sam Merrill"
          ],
          [
           "Trevelin Queen"
          ],
          [
           "JD Davison"
          ],
          [
           "Kendall Brown"
          ],
          [
           "Dylan Windler"
          ],
          [
           "Frank Jackson"
          ]
         ],
         "hovertemplate": "POS=%{x}<br>STL=%{y}<br>PName=%{customdata[0]}<extra></extra>",
         "legendgroup": "SG",
         "marker": {
          "color": "#FFA15A"
         },
         "name": "SG",
         "notched": false,
         "offsetgroup": "SG",
         "orientation": "v",
         "showlegend": true,
         "type": "box",
         "x": [
          "SG",
          "SG",
          "SG",
          "SG",
          "SG",
          "SG",
          "SG",
          "SG",
          "SG",
          "SG",
          "SG",
          "SG",
          "SG",
          "SG",
          "SG",
          "SG",
          "SG",
          "SG",
          "SG",
          "SG",
          "SG",
          "SG",
          "SG",
          "SG",
          "SG",
          "SG",
          "SG",
          "SG",
          "SG",
          "SG",
          "SG",
          "SG",
          "SG",
          "SG",
          "SG",
          "SG",
          "SG",
          "SG",
          "SG",
          "SG",
          "SG",
          "SG",
          "SG",
          "SG",
          "SG",
          "SG",
          "SG",
          "SG",
          "SG",
          "SG",
          "SG",
          "SG",
          "SG",
          "SG",
          "SG",
          "SG",
          "SG",
          "SG",
          "SG",
          "SG",
          "SG",
          "SG",
          "SG",
          "SG",
          "SG",
          "SG",
          "SG",
          "SG",
          "SG",
          "SG",
          "SG",
          "SG",
          "SG",
          "SG",
          "SG",
          "SG",
          "SG",
          "SG",
          "SG",
          "SG",
          "SG",
          "SG",
          "SG",
          "SG",
          "SG",
          "SG",
          "SG",
          "SG",
          "SG",
          "SG",
          "SG",
          "SG",
          "SG",
          "SG",
          "SG",
          "SG",
          "SG"
         ],
         "x0": " ",
         "xaxis": "x",
         "y": [
          125,
          99,
          69,
          75,
          59,
          63,
          70,
          112,
          49,
          51,
          31,
          92,
          123,
          74,
          42,
          48,
          57,
          56,
          71,
          80,
          45,
          104,
          89,
          80,
          82,
          49,
          65,
          68,
          42,
          72,
          43,
          33,
          112,
          47,
          38,
          126,
          43,
          62,
          88,
          42,
          42,
          43,
          41,
          48,
          62,
          97,
          69,
          38,
          25,
          20,
          30,
          36,
          42,
          32,
          67,
          53,
          39,
          37,
          57,
          43,
          45,
          98,
          33,
          92,
          77,
          32,
          25,
          26,
          33,
          23,
          18,
          24,
          83,
          24,
          28,
          31,
          15,
          14,
          19,
          20,
          7,
          16,
          9,
          10,
          22,
          6,
          7,
          15,
          5,
          1,
          0,
          4,
          2,
          2,
          4,
          1,
          0
         ],
         "y0": " ",
         "yaxis": "y"
        },
        {
         "alignmentgroup": "True",
         "customdata": [
          [
           "Paul George"
          ],
          [
           "Christian Wood"
          ],
          [
           "Jalen Williams"
          ],
          [
           "Kenyon Martin Jr."
          ],
          [
           "Bobby Portis"
          ],
          [
           "Tari Eason"
          ],
          [
           "AJ Griffin"
          ],
          [
           "Jeremy Sochan"
          ],
          [
           "Kevon Looney"
          ],
          [
           "David Roddy"
          ],
          [
           "Xavier Tillman"
          ],
          [
           "Anthony Lamb"
          ],
          [
           "Wenyen Gabriel"
          ],
          [
           "JaMychal Green"
          ],
          [
           "Lamar Stevens"
          ],
          [
           "Simone Fontecchio"
          ],
          [
           "Jaylin Williams"
          ],
          [
           "Eugene Omoruyi"
          ],
          [
           "Aleksej Pokusevski"
          ],
          [
           "Duncan Robinson"
          ],
          [
           "MarJon Beauchamp"
          ],
          [
           "JT Thor"
          ],
          [
           "Ish Wainright"
          ],
          [
           "Haywood Highsmith"
          ],
          [
           "Jabari Walker"
          ],
          [
           "Lindy Waters III"
          ],
          [
           "Ziaire Williams"
          ],
          [
           "Ousmane Dieng"
          ],
          [
           "Isaiah Roby"
          ],
          [
           "Taj Gibson"
          ],
          [
           "Julian Champagnie"
          ],
          [
           "Nathan Knight"
          ],
          [
           "Richaun Holmes"
          ],
          [
           "Matt Ryan"
          ],
          [
           "Patrick Baldwin Jr."
          ],
          [
           "Kenneth Lofton Jr."
          ],
          [
           "Dominick Barlow"
          ],
          [
           "Jake LaRavia"
          ],
          [
           "Jamal Cain"
          ],
          [
           "Terry Taylor"
          ],
          [
           "Dalen Terry"
          ],
          [
           "Nikola Jovic"
          ],
          [
           "Peyton Watson"
          ],
          [
           "Luka Samanic"
          ],
          [
           "Serge Ibaka"
          ],
          [
           "Danny Green"
          ],
          [
           "Moussa Diabate"
          ],
          [
           "Mamadi Diakite"
          ],
          [
           "Josh Minott"
          ],
          [
           "John Butler Jr."
          ],
          [
           "Isaiah Mobley"
          ],
          [
           "Jack White"
          ],
          [
           "Ron Harper Jr."
          ],
          [
           "Andre Iguodala"
          ],
          [
           "Justin Minaya"
          ],
          [
           "Xavier Sneed"
          ],
          [
           "Buddy Boeheim"
          ],
          [
           "RaiQuan Gray"
          ],
          [
           "Darius Days"
          ],
          [
           "Cole Swider"
          ],
          [
           "Alize Johnson"
          ],
          [
           "Leandro Bolmaro"
          ],
          [
           "Malcolm Hill"
          ],
          [
           "Jordan Schakel"
          ],
          [
           "Chima Moneke"
          ],
          [
           "Chris Silva"
          ]
         ],
         "hovertemplate": "POS=%{x}<br>STL=%{y}<br>PName=%{customdata[0]}<extra></extra>",
         "legendgroup": "F",
         "marker": {
          "color": "#19d3f3"
         },
         "name": "F",
         "notched": false,
         "offsetgroup": "F",
         "orientation": "v",
         "showlegend": true,
         "type": "box",
         "x": [
          "F",
          "F",
          "F",
          "F",
          "F",
          "F",
          "F",
          "F",
          "F",
          "F",
          "F",
          "F",
          "F",
          "F",
          "F",
          "F",
          "F",
          "F",
          "F",
          "F",
          "F",
          "F",
          "F",
          "F",
          "F",
          "F",
          "F",
          "F",
          "F",
          "F",
          "F",
          "F",
          "F",
          "F",
          "F",
          "F",
          "F",
          "F",
          "F",
          "F",
          "F",
          "F",
          "F",
          "F",
          "F",
          "F",
          "F",
          "F",
          "F",
          "F",
          "F",
          "F",
          "F",
          "F",
          "F",
          "F",
          "F",
          "F",
          "F",
          "F",
          "F",
          "F",
          "F",
          "F",
          "F",
          "F"
         ],
         "x0": " ",
         "xaxis": "x",
         "y": [
          83,
          30,
          103,
          41,
          29,
          96,
          42,
          43,
          52,
          29,
          58,
          28,
          26,
          25,
          27,
          15,
          28,
          28,
          20,
          14,
          21,
          22,
          38,
          36,
          10,
          14,
          14,
          14,
          18,
          15,
          6,
          10,
          3,
          5,
          6,
          5,
          10,
          12,
          11,
          3,
          11,
          7,
          2,
          6,
          2,
          6,
          7,
          4,
          4,
          7,
          4,
          3,
          0,
          4,
          2,
          0,
          2,
          0,
          0,
          0,
          1,
          3,
          0,
          1,
          0,
          0
         ],
         "y0": " ",
         "yaxis": "y"
        },
        {
         "alignmentgroup": "True",
         "customdata": [
          [
           "Norman Powell"
          ],
          [
           "Luguentz Dort"
          ],
          [
           "Malaki Branham"
          ],
          [
           "Lonnie Walker IV"
          ],
          [
           "Terrence Ross"
          ],
          [
           "Kendrick Nunn"
          ],
          [
           "Ochai Agbaji"
          ],
          [
           "Jaden Hardy"
          ],
          [
           "Jordan Goodwin"
          ],
          [
           "Will Barton"
          ],
          [
           "Christian Braun"
          ],
          [
           "Kris Dunn"
          ],
          [
           "Aaron Holiday"
          ],
          [
           "Bryce McGowens"
          ],
          [
           "Dyson Daniels"
          ],
          [
           "Caleb Houstan"
          ],
          [
           "Blake Wesley"
          ],
          [
           "Rodney McGruder"
          ],
          [
           "Johnny Davis"
          ],
          [
           "AJ Green"
          ],
          [
           "Saben Lee"
          ],
          [
           "TyTy Washington Jr."
          ],
          [
           "Kevon Harris"
          ],
          [
           "Max Christie"
          ],
          [
           "Theo Pinson"
          ],
          [
           "Johnny Juzang"
          ],
          [
           "David Duke Jr."
          ],
          [
           "Kennedy Chandler"
          ],
          [
           "A.J. Lawson"
          ],
          [
           "Quenton Jackson"
          ],
          [
           "Jeenathan Williams"
          ],
          [
           "Trent Forrest"
          ],
          [
           "Lindell Wigginton"
          ],
          [
           "Jared Rhoden"
          ],
          [
           "Dru Smith"
          ],
          [
           "Jarrett Culver"
          ],
          [
           "Shaquille Harrison"
          ],
          [
           "Jaden Springer"
          ],
          [
           "Wendell Moore Jr."
          ],
          [
           "Xavier Cooks"
          ],
          [
           "Vit Krejci"
          ],
          [
           "Vince Williams Jr."
          ],
          [
           "Jordan Hall"
          ],
          [
           "Ryan Arcidiacono"
          ],
          [
           "Gabe York"
          ],
          [
           "Keon Ellis"
          ],
          [
           "Ryan Rollins"
          ],
          [
           "PJ Dozier"
          ],
          [
           "Tyrese Martin"
          ],
          [
           "Carlik Jones"
          ],
          [
           "Michael Carter-Williams"
          ],
          [
           "Jamaree Bouyea"
          ],
          [
           "Scotty Pippen Jr."
          ],
          [
           "Jay Scrubb"
          ],
          [
           "Facundo Campazzo"
          ],
          [
           "Lester Quinones"
          ],
          [
           "Trevor Hudgins"
          ],
          [
           "Tyler Dorsey"
          ],
          [
           "Kobi Simmons"
          ],
          [
           "Braxton Key"
          ],
          [
           "Dereon Seabron"
          ],
          [
           "Donovan Williams"
          ],
          [
           "Devon Dotson"
          ],
          [
           "Jacob Gilyard"
          ],
          [
           "Trevor Keels"
          ],
          [
           "Stanley Umude"
          ]
         ],
         "hovertemplate": "POS=%{x}<br>STL=%{y}<br>PName=%{customdata[0]}<extra></extra>",
         "legendgroup": "G",
         "marker": {
          "color": "#FF6692"
         },
         "name": "G",
         "notched": false,
         "offsetgroup": "G",
         "orientation": "v",
         "showlegend": true,
         "type": "box",
         "x": [
          "G",
          "G",
          "G",
          "G",
          "G",
          "G",
          "G",
          "G",
          "G",
          "G",
          "G",
          "G",
          "G",
          "G",
          "G",
          "G",
          "G",
          "G",
          "G",
          "G",
          "G",
          "G",
          "G",
          "G",
          "G",
          "G",
          "G",
          "G",
          "G",
          "G",
          "G",
          "G",
          "G",
          "G",
          "G",
          "G",
          "G",
          "G",
          "G",
          "G",
          "G",
          "G",
          "G",
          "G",
          "G",
          "G",
          "G",
          "G",
          "G",
          "G",
          "G",
          "G",
          "G",
          "G",
          "G",
          "G",
          "G",
          "G",
          "G",
          "G",
          "G",
          "G",
          "G",
          "G",
          "G",
          "G"
         ],
         "x0": " ",
         "xaxis": "x",
         "y": [
          50,
          75,
          33,
          30,
          35,
          28,
          16,
          17,
          58,
          28,
          41,
          25,
          37,
          15,
          43,
          12,
          25,
          16,
          10,
          6,
          19,
          15,
          17,
          9,
          6,
          4,
          10,
          12,
          2,
          4,
          3,
          7,
          0,
          4,
          10,
          6,
          11,
          7,
          8,
          6,
          5,
          6,
          1,
          5,
          2,
          5,
          1,
          6,
          1,
          2,
          1,
          4,
          2,
          2,
          6,
          1,
          0,
          0,
          0,
          0,
          0,
          0,
          5,
          3,
          0,
          1
         ],
         "y0": " ",
         "yaxis": "y"
        }
       ],
       "layout": {
        "boxmode": "overlay",
        "legend": {
         "title": {
          "text": "POS"
         },
         "tracegroupgap": 0
        },
        "margin": {
         "t": 60
        },
        "template": {
         "data": {
          "bar": [
           {
            "error_x": {
             "color": "#f2f5fa"
            },
            "error_y": {
             "color": "#f2f5fa"
            },
            "marker": {
             "line": {
              "color": "rgb(17,17,17)",
              "width": 0.5
             },
             "pattern": {
              "fillmode": "overlay",
              "size": 10,
              "solidity": 0.2
             }
            },
            "type": "bar"
           }
          ],
          "barpolar": [
           {
            "marker": {
             "line": {
              "color": "rgb(17,17,17)",
              "width": 0.5
             },
             "pattern": {
              "fillmode": "overlay",
              "size": 10,
              "solidity": 0.2
             }
            },
            "type": "barpolar"
           }
          ],
          "carpet": [
           {
            "aaxis": {
             "endlinecolor": "#A2B1C6",
             "gridcolor": "#506784",
             "linecolor": "#506784",
             "minorgridcolor": "#506784",
             "startlinecolor": "#A2B1C6"
            },
            "baxis": {
             "endlinecolor": "#A2B1C6",
             "gridcolor": "#506784",
             "linecolor": "#506784",
             "minorgridcolor": "#506784",
             "startlinecolor": "#A2B1C6"
            },
            "type": "carpet"
           }
          ],
          "choropleth": [
           {
            "colorbar": {
             "outlinewidth": 0,
             "ticks": ""
            },
            "type": "choropleth"
           }
          ],
          "contour": [
           {
            "colorbar": {
             "outlinewidth": 0,
             "ticks": ""
            },
            "colorscale": [
             [
              0,
              "#0d0887"
             ],
             [
              0.1111111111111111,
              "#46039f"
             ],
             [
              0.2222222222222222,
              "#7201a8"
             ],
             [
              0.3333333333333333,
              "#9c179e"
             ],
             [
              0.4444444444444444,
              "#bd3786"
             ],
             [
              0.5555555555555556,
              "#d8576b"
             ],
             [
              0.6666666666666666,
              "#ed7953"
             ],
             [
              0.7777777777777778,
              "#fb9f3a"
             ],
             [
              0.8888888888888888,
              "#fdca26"
             ],
             [
              1,
              "#f0f921"
             ]
            ],
            "type": "contour"
           }
          ],
          "contourcarpet": [
           {
            "colorbar": {
             "outlinewidth": 0,
             "ticks": ""
            },
            "type": "contourcarpet"
           }
          ],
          "heatmap": [
           {
            "colorbar": {
             "outlinewidth": 0,
             "ticks": ""
            },
            "colorscale": [
             [
              0,
              "#0d0887"
             ],
             [
              0.1111111111111111,
              "#46039f"
             ],
             [
              0.2222222222222222,
              "#7201a8"
             ],
             [
              0.3333333333333333,
              "#9c179e"
             ],
             [
              0.4444444444444444,
              "#bd3786"
             ],
             [
              0.5555555555555556,
              "#d8576b"
             ],
             [
              0.6666666666666666,
              "#ed7953"
             ],
             [
              0.7777777777777778,
              "#fb9f3a"
             ],
             [
              0.8888888888888888,
              "#fdca26"
             ],
             [
              1,
              "#f0f921"
             ]
            ],
            "type": "heatmap"
           }
          ],
          "heatmapgl": [
           {
            "colorbar": {
             "outlinewidth": 0,
             "ticks": ""
            },
            "colorscale": [
             [
              0,
              "#0d0887"
             ],
             [
              0.1111111111111111,
              "#46039f"
             ],
             [
              0.2222222222222222,
              "#7201a8"
             ],
             [
              0.3333333333333333,
              "#9c179e"
             ],
             [
              0.4444444444444444,
              "#bd3786"
             ],
             [
              0.5555555555555556,
              "#d8576b"
             ],
             [
              0.6666666666666666,
              "#ed7953"
             ],
             [
              0.7777777777777778,
              "#fb9f3a"
             ],
             [
              0.8888888888888888,
              "#fdca26"
             ],
             [
              1,
              "#f0f921"
             ]
            ],
            "type": "heatmapgl"
           }
          ],
          "histogram": [
           {
            "marker": {
             "pattern": {
              "fillmode": "overlay",
              "size": 10,
              "solidity": 0.2
             }
            },
            "type": "histogram"
           }
          ],
          "histogram2d": [
           {
            "colorbar": {
             "outlinewidth": 0,
             "ticks": ""
            },
            "colorscale": [
             [
              0,
              "#0d0887"
             ],
             [
              0.1111111111111111,
              "#46039f"
             ],
             [
              0.2222222222222222,
              "#7201a8"
             ],
             [
              0.3333333333333333,
              "#9c179e"
             ],
             [
              0.4444444444444444,
              "#bd3786"
             ],
             [
              0.5555555555555556,
              "#d8576b"
             ],
             [
              0.6666666666666666,
              "#ed7953"
             ],
             [
              0.7777777777777778,
              "#fb9f3a"
             ],
             [
              0.8888888888888888,
              "#fdca26"
             ],
             [
              1,
              "#f0f921"
             ]
            ],
            "type": "histogram2d"
           }
          ],
          "histogram2dcontour": [
           {
            "colorbar": {
             "outlinewidth": 0,
             "ticks": ""
            },
            "colorscale": [
             [
              0,
              "#0d0887"
             ],
             [
              0.1111111111111111,
              "#46039f"
             ],
             [
              0.2222222222222222,
              "#7201a8"
             ],
             [
              0.3333333333333333,
              "#9c179e"
             ],
             [
              0.4444444444444444,
              "#bd3786"
             ],
             [
              0.5555555555555556,
              "#d8576b"
             ],
             [
              0.6666666666666666,
              "#ed7953"
             ],
             [
              0.7777777777777778,
              "#fb9f3a"
             ],
             [
              0.8888888888888888,
              "#fdca26"
             ],
             [
              1,
              "#f0f921"
             ]
            ],
            "type": "histogram2dcontour"
           }
          ],
          "mesh3d": [
           {
            "colorbar": {
             "outlinewidth": 0,
             "ticks": ""
            },
            "type": "mesh3d"
           }
          ],
          "parcoords": [
           {
            "line": {
             "colorbar": {
              "outlinewidth": 0,
              "ticks": ""
             }
            },
            "type": "parcoords"
           }
          ],
          "pie": [
           {
            "automargin": true,
            "type": "pie"
           }
          ],
          "scatter": [
           {
            "marker": {
             "line": {
              "color": "#283442"
             }
            },
            "type": "scatter"
           }
          ],
          "scatter3d": [
           {
            "line": {
             "colorbar": {
              "outlinewidth": 0,
              "ticks": ""
             }
            },
            "marker": {
             "colorbar": {
              "outlinewidth": 0,
              "ticks": ""
             }
            },
            "type": "scatter3d"
           }
          ],
          "scattercarpet": [
           {
            "marker": {
             "colorbar": {
              "outlinewidth": 0,
              "ticks": ""
             }
            },
            "type": "scattercarpet"
           }
          ],
          "scattergeo": [
           {
            "marker": {
             "colorbar": {
              "outlinewidth": 0,
              "ticks": ""
             }
            },
            "type": "scattergeo"
           }
          ],
          "scattergl": [
           {
            "marker": {
             "line": {
              "color": "#283442"
             }
            },
            "type": "scattergl"
           }
          ],
          "scattermapbox": [
           {
            "marker": {
             "colorbar": {
              "outlinewidth": 0,
              "ticks": ""
             }
            },
            "type": "scattermapbox"
           }
          ],
          "scatterpolar": [
           {
            "marker": {
             "colorbar": {
              "outlinewidth": 0,
              "ticks": ""
             }
            },
            "type": "scatterpolar"
           }
          ],
          "scatterpolargl": [
           {
            "marker": {
             "colorbar": {
              "outlinewidth": 0,
              "ticks": ""
             }
            },
            "type": "scatterpolargl"
           }
          ],
          "scatterternary": [
           {
            "marker": {
             "colorbar": {
              "outlinewidth": 0,
              "ticks": ""
             }
            },
            "type": "scatterternary"
           }
          ],
          "surface": [
           {
            "colorbar": {
             "outlinewidth": 0,
             "ticks": ""
            },
            "colorscale": [
             [
              0,
              "#0d0887"
             ],
             [
              0.1111111111111111,
              "#46039f"
             ],
             [
              0.2222222222222222,
              "#7201a8"
             ],
             [
              0.3333333333333333,
              "#9c179e"
             ],
             [
              0.4444444444444444,
              "#bd3786"
             ],
             [
              0.5555555555555556,
              "#d8576b"
             ],
             [
              0.6666666666666666,
              "#ed7953"
             ],
             [
              0.7777777777777778,
              "#fb9f3a"
             ],
             [
              0.8888888888888888,
              "#fdca26"
             ],
             [
              1,
              "#f0f921"
             ]
            ],
            "type": "surface"
           }
          ],
          "table": [
           {
            "cells": {
             "fill": {
              "color": "#506784"
             },
             "line": {
              "color": "rgb(17,17,17)"
             }
            },
            "header": {
             "fill": {
              "color": "#2a3f5f"
             },
             "line": {
              "color": "rgb(17,17,17)"
             }
            },
            "type": "table"
           }
          ]
         },
         "layout": {
          "annotationdefaults": {
           "arrowcolor": "#f2f5fa",
           "arrowhead": 0,
           "arrowwidth": 1
          },
          "autotypenumbers": "strict",
          "coloraxis": {
           "colorbar": {
            "outlinewidth": 0,
            "ticks": ""
           }
          },
          "colorscale": {
           "diverging": [
            [
             0,
             "#8e0152"
            ],
            [
             0.1,
             "#c51b7d"
            ],
            [
             0.2,
             "#de77ae"
            ],
            [
             0.3,
             "#f1b6da"
            ],
            [
             0.4,
             "#fde0ef"
            ],
            [
             0.5,
             "#f7f7f7"
            ],
            [
             0.6,
             "#e6f5d0"
            ],
            [
             0.7,
             "#b8e186"
            ],
            [
             0.8,
             "#7fbc41"
            ],
            [
             0.9,
             "#4d9221"
            ],
            [
             1,
             "#276419"
            ]
           ],
           "sequential": [
            [
             0,
             "#0d0887"
            ],
            [
             0.1111111111111111,
             "#46039f"
            ],
            [
             0.2222222222222222,
             "#7201a8"
            ],
            [
             0.3333333333333333,
             "#9c179e"
            ],
            [
             0.4444444444444444,
             "#bd3786"
            ],
            [
             0.5555555555555556,
             "#d8576b"
            ],
            [
             0.6666666666666666,
             "#ed7953"
            ],
            [
             0.7777777777777778,
             "#fb9f3a"
            ],
            [
             0.8888888888888888,
             "#fdca26"
            ],
            [
             1,
             "#f0f921"
            ]
           ],
           "sequentialminus": [
            [
             0,
             "#0d0887"
            ],
            [
             0.1111111111111111,
             "#46039f"
            ],
            [
             0.2222222222222222,
             "#7201a8"
            ],
            [
             0.3333333333333333,
             "#9c179e"
            ],
            [
             0.4444444444444444,
             "#bd3786"
            ],
            [
             0.5555555555555556,
             "#d8576b"
            ],
            [
             0.6666666666666666,
             "#ed7953"
            ],
            [
             0.7777777777777778,
             "#fb9f3a"
            ],
            [
             0.8888888888888888,
             "#fdca26"
            ],
            [
             1,
             "#f0f921"
            ]
           ]
          },
          "colorway": [
           "#636efa",
           "#EF553B",
           "#00cc96",
           "#ab63fa",
           "#FFA15A",
           "#19d3f3",
           "#FF6692",
           "#B6E880",
           "#FF97FF",
           "#FECB52"
          ],
          "font": {
           "color": "#f2f5fa"
          },
          "geo": {
           "bgcolor": "rgb(17,17,17)",
           "lakecolor": "rgb(17,17,17)",
           "landcolor": "rgb(17,17,17)",
           "showlakes": true,
           "showland": true,
           "subunitcolor": "#506784"
          },
          "hoverlabel": {
           "align": "left"
          },
          "hovermode": "closest",
          "mapbox": {
           "style": "dark"
          },
          "paper_bgcolor": "rgb(17,17,17)",
          "plot_bgcolor": "rgb(17,17,17)",
          "polar": {
           "angularaxis": {
            "gridcolor": "#506784",
            "linecolor": "#506784",
            "ticks": ""
           },
           "bgcolor": "rgb(17,17,17)",
           "radialaxis": {
            "gridcolor": "#506784",
            "linecolor": "#506784",
            "ticks": ""
           }
          },
          "scene": {
           "xaxis": {
            "backgroundcolor": "rgb(17,17,17)",
            "gridcolor": "#506784",
            "gridwidth": 2,
            "linecolor": "#506784",
            "showbackground": true,
            "ticks": "",
            "zerolinecolor": "#C8D4E3"
           },
           "yaxis": {
            "backgroundcolor": "rgb(17,17,17)",
            "gridcolor": "#506784",
            "gridwidth": 2,
            "linecolor": "#506784",
            "showbackground": true,
            "ticks": "",
            "zerolinecolor": "#C8D4E3"
           },
           "zaxis": {
            "backgroundcolor": "rgb(17,17,17)",
            "gridcolor": "#506784",
            "gridwidth": 2,
            "linecolor": "#506784",
            "showbackground": true,
            "ticks": "",
            "zerolinecolor": "#C8D4E3"
           }
          },
          "shapedefaults": {
           "line": {
            "color": "#f2f5fa"
           }
          },
          "sliderdefaults": {
           "bgcolor": "#C8D4E3",
           "bordercolor": "rgb(17,17,17)",
           "borderwidth": 1,
           "tickwidth": 0
          },
          "ternary": {
           "aaxis": {
            "gridcolor": "#506784",
            "linecolor": "#506784",
            "ticks": ""
           },
           "baxis": {
            "gridcolor": "#506784",
            "linecolor": "#506784",
            "ticks": ""
           },
           "bgcolor": "rgb(17,17,17)",
           "caxis": {
            "gridcolor": "#506784",
            "linecolor": "#506784",
            "ticks": ""
           }
          },
          "title": {
           "x": 0.05
          },
          "updatemenudefaults": {
           "bgcolor": "#506784",
           "borderwidth": 0
          },
          "xaxis": {
           "automargin": true,
           "gridcolor": "#283442",
           "linecolor": "#506784",
           "ticks": "",
           "title": {
            "standoff": 15
           },
           "zerolinecolor": "#283442",
           "zerolinewidth": 2
          },
          "yaxis": {
           "automargin": true,
           "gridcolor": "#283442",
           "linecolor": "#506784",
           "ticks": "",
           "title": {
            "standoff": 15
           },
           "zerolinecolor": "#283442",
           "zerolinewidth": 2
          }
         }
        },
        "width": 800,
        "xaxis": {
         "anchor": "y",
         "categoryarray": [
          "SF",
          "C",
          "PG",
          "PF",
          "SG",
          "F",
          "G"
         ],
         "categoryorder": "array",
         "domain": [
          0,
          1
         ],
         "title": {
          "text": "POS"
         }
        },
        "yaxis": {
         "anchor": "x",
         "domain": [
          0,
          1
         ],
         "title": {
          "text": "STL"
         }
        }
       }
      }
     },
     "metadata": {},
     "output_type": "display_data"
    }
   ],
   "source": [
    "px.box(data_frame=data_merged,\n",
    "       x='POS',\n",
    "       y='STL',\n",
    "       template='plotly_dark',\n",
    "       color='POS',\n",
    "       hover_data='PName',\n",
    "       width=800)"
   ]
  },
  {
   "cell_type": "code",
   "execution_count": null,
   "metadata": {},
   "outputs": [],
   "source": [
    "# 3. Como estão distribuídas as ações defensivas por posição?"
   ]
  },
  {
   "cell_type": "code",
   "execution_count": 76,
   "metadata": {},
   "outputs": [],
   "source": [
    "data_merged['DEF_ACTIONS'] = data_merged['STL'] + data_merged['BLK'] + data_merged['REB']"
   ]
  },
  {
   "cell_type": "code",
   "execution_count": 118,
   "metadata": {},
   "outputs": [
    {
     "data": {
      "application/vnd.plotly.v1+json": {
       "config": {
        "plotlyServerURL": "https://plot.ly"
       },
       "data": [
        {
         "alignmentgroup": "True",
         "customdata": [
          [
           "Jayson Tatum"
          ],
          [
           "DeMar DeRozan"
          ],
          [
           "Mikal Bridges"
          ],
          [
           "LeBron James"
          ],
          [
           "Franz Wagner"
          ],
          [
           "Jimmy Butler"
          ],
          [
           "Keldon Johnson"
          ],
          [
           "Kyle Kuzma"
          ],
          [
           "Jerami Grant"
          ],
          [
           "Bojan Bogdanovic"
          ],
          [
           "Kawhi Leonard"
          ],
          [
           "Harrison Barnes"
          ],
          [
           "Scottie Barnes"
          ],
          [
           "O.G. Anunoby"
          ],
          [
           "Brandon Ingram"
          ],
          [
           "Michael Porter Jr."
          ],
          [
           "Saddiq Bey"
          ],
          [
           "Dillon Brooks"
          ],
          [
           "De'Andre Hunter"
          ],
          [
           "Tim Hardaway Jr."
          ],
          [
           "Keegan Murray"
          ],
          [
           "Bruce Brown"
          ],
          [
           "Corey Kispert"
          ],
          [
           "Aaron Nesmith"
          ],
          [
           "Gordon Hayward"
          ],
          [
           "Marcus Morris Sr."
          ],
          [
           "Naji Marshall"
          ],
          [
           "Deni Avdija"
          ],
          [
           "Caleb Martin"
          ],
          [
           "Cedi Osman"
          ],
          [
           "Doug McDermott"
          ],
          [
           "Cameron Johnson"
          ],
          [
           "Herbert Jones"
          ],
          [
           "Keita Bates-Diop"
          ],
          [
           "Kyle Anderson"
          ],
          [
           "Georges Niang"
          ],
          [
           "Andrew Wiggins"
          ],
          [
           "Torrey Craig"
          ],
          [
           "Joe Harris"
          ],
          [
           "Reggie Bullock"
          ],
          [
           "Jordan Nwora"
          ],
          [
           "Troy Brown Jr."
          ],
          [
           "Josh Okogie"
          ],
          [
           "Sam Hauser"
          ],
          [
           "Khris Middleton"
          ],
          [
           "Isaac Okoro"
          ],
          [
           "Isaiah Jackson"
          ],
          [
           "Kenrich Williams"
          ],
          [
           "Kevin Knox II"
          ],
          [
           "Oshae Brissett"
          ],
          [
           "Jalen Johnson"
          ],
          [
           "Cam Reddish"
          ],
          [
           "Nassir Little"
          ],
          [
           "Yuta Watanabe"
          ],
          [
           "Derrick Jones Jr."
          ],
          [
           "T.J. Warren"
          ],
          [
           "Vlatko Cancar"
          ],
          [
           "Rudy Gay"
          ],
          [
           "Paul Reed"
          ],
          [
           "Jae'Sean Tate"
          ],
          [
           "Danuel House Jr."
          ],
          [
           "Davis Bertans"
          ],
          [
           "Justin Holiday"
          ],
          [
           "Stanley Johnson"
          ],
          [
           "Javonte Green"
          ],
          [
           "Admiral Schofield"
          ],
          [
           "Juan Toscano-Anderson"
          ],
          [
           "Kessler Edwards"
          ],
          [
           "Thanasis Antetokounmpo"
          ],
          [
           "Garrett Temple"
          ],
          [
           "KZ Okpala"
          ],
          [
           "Otto Porter Jr."
          ],
          [
           "Cody Martin"
          ],
          [
           "Justin Jackson"
          ],
          [
           "Louis King"
          ],
          [
           "Justin Champagnie"
          ],
          [
           "Joe Wieskamp"
          ],
          [
           "Deonte Burton"
          ],
          [
           "Sterling Brown"
          ]
         ],
         "hovertemplate": "POS=%{x}<br>DEF_ACTIONS=%{y}<br>PName=%{customdata[0]}<extra></extra>",
         "legendgroup": "SF",
         "marker": {
          "color": "#636efa"
         },
         "name": "SF",
         "notched": false,
         "offsetgroup": "SF",
         "orientation": "v",
         "showlegend": true,
         "type": "box",
         "x": [
          "SF",
          "SF",
          "SF",
          "SF",
          "SF",
          "SF",
          "SF",
          "SF",
          "SF",
          "SF",
          "SF",
          "SF",
          "SF",
          "SF",
          "SF",
          "SF",
          "SF",
          "SF",
          "SF",
          "SF",
          "SF",
          "SF",
          "SF",
          "SF",
          "SF",
          "SF",
          "SF",
          "SF",
          "SF",
          "SF",
          "SF",
          "SF",
          "SF",
          "SF",
          "SF",
          "SF",
          "SF",
          "SF",
          "SF",
          "SF",
          "SF",
          "SF",
          "SF",
          "SF",
          "SF",
          "SF",
          "SF",
          "SF",
          "SF",
          "SF",
          "SF",
          "SF",
          "SF",
          "SF",
          "SF",
          "SF",
          "SF",
          "SF",
          "SF",
          "SF",
          "SF",
          "SF",
          "SF",
          "SF",
          "SF",
          "SF",
          "SF",
          "SF",
          "SF",
          "SF",
          "SF",
          "SF",
          "SF",
          "SF",
          "SF",
          "SF",
          "SF",
          "SF",
          "SF"
         ],
         "x0": " ",
         "xaxis": "x",
         "y": [
          778,
          462,
          516,
          539,
          423,
          513,
          375,
          528,
          387,
          265,
          438,
          433,
          656,
          510,
          297,
          407,
          445,
          325,
          336,
          312,
          474,
          466,
          248,
          366,
          269,
          321,
          347,
          581,
          446,
          222,
          157,
          249,
          414,
          313,
          509,
          230,
          259,
          538,
          211,
          350,
          267,
          383,
          341,
          254,
          168,
          273,
          406,
          320,
          213,
          264,
          354,
          141,
          181,
          183,
          219,
          155,
          164,
          200,
          358,
          146,
          117,
          72,
          93,
          117,
          133,
          75,
          150,
          81,
          50,
          28,
          48,
          30,
          29,
          25,
          5,
          9,
          4,
          0,
          11
         ],
         "y0": " ",
         "yaxis": "y"
        },
        {
         "alignmentgroup": "True",
         "customdata": [
          [
           "Joel Embiid"
          ],
          [
           "Nikola Jokic"
          ],
          [
           "Bam Adebayo"
          ],
          [
           "Kristaps Porzingis"
          ],
          [
           "Nikola Vucevic"
          ],
          [
           "Brook Lopez"
          ],
          [
           "Deandre Ayton"
          ],
          [
           "Jonas Valanciunas"
          ],
          [
           "Myles Turner"
          ],
          [
           "Alperen Sengun"
          ],
          [
           "Jarrett Allen"
          ],
          [
           "Nic Claxton"
          ],
          [
           "Rudy Gobert"
          ],
          [
           "Jakob Poeltl"
          ],
          [
           "Wendell Carter Jr."
          ],
          [
           "Mason Plumlee"
          ],
          [
           "Ivica Zubac"
          ],
          [
           "Naz Reid"
          ],
          [
           "Clint Capela"
          ],
          [
           "Daniel Gafford"
          ],
          [
           "Jusuf Nurkic"
          ],
          [
           "Walker Kessler"
          ],
          [
           "Bol Bol"
          ],
          [
           "Al Horford"
          ],
          [
           "Jalen Duren"
          ],
          [
           "Karl-Anthony Towns"
          ],
          [
           "Moritz Wagner"
          ],
          [
           "Thomas Bryant"
          ],
          [
           "Isaiah Stewart"
          ],
          [
           "Nick Richards"
          ],
          [
           "Dwight Powell"
          ],
          [
           "Jock Landale"
          ],
          [
           "James Wiseman"
          ],
          [
           "Mitchell Robinson"
          ],
          [
           "Isaiah Hartenstein"
          ],
          [
           "Andre Drummond"
          ],
          [
           "Mark Williams"
          ],
          [
           "Mike Muscala"
          ],
          [
           "Steven Adams"
          ],
          [
           "Mo Bamba"
          ],
          [
           "Montrezl Harrell"
          ],
          [
           "Robert Williams III"
          ],
          [
           "Bismack Biyombo"
          ],
          [
           "Willy Hernangomez"
          ],
          [
           "Luke Kornet"
          ],
          [
           "Jaxson Hayes"
          ],
          [
           "Day'Ron Sharpe"
          ],
          [
           "Charles Bassey"
          ],
          [
           "DeAndre Jordan"
          ],
          [
           "Dewayne Dedmon"
          ],
          [
           "JaVale McGee"
          ],
          [
           "Christian Koloko"
          ],
          [
           "Luka Garza"
          ],
          [
           "Jericho Sims"
          ],
          [
           "Goga Bitadze"
          ],
          [
           "Moses Brown"
          ],
          [
           "Damian Jones"
          ],
          [
           "Udoka Azubuike"
          ],
          [
           "Gorgui Dieng"
          ],
          [
           "Orlando Robinson"
          ],
          [
           "Robin Lopez"
          ],
          [
           "Boban Marjanovic"
          ],
          [
           "Cody Zeller"
          ],
          [
           "Jay Huff"
          ],
          [
           "Daniel Theis"
          ],
          [
           "Alex Len"
          ],
          [
           "Khem Birch"
          ],
          [
           "Meyers Leonard"
          ],
          [
           "Omer Yurtseven"
          ],
          [
           "Olivier Sarr"
          ],
          [
           "Nerlens Noel"
          ],
          [
           "Micah Potter"
          ],
          [
           "Tony Bradley"
          ],
          [
           "Neemias Queta"
          ],
          [
           "Chance Comanche"
          ],
          [
           "Marko Simonovic"
          ],
          [
           "Mfiondu Kabengele"
          ],
          [
           "Vernon Carey Jr."
          ]
         ],
         "hovertemplate": "POS=%{x}<br>DEF_ACTIONS=%{y}<br>PName=%{customdata[0]}<extra></extra>",
         "legendgroup": "C",
         "marker": {
          "color": "#EF553B"
         },
         "name": "C",
         "notched": false,
         "offsetgroup": "C",
         "orientation": "v",
         "showlegend": true,
         "type": "box",
         "x": [
          "C",
          "C",
          "C",
          "C",
          "C",
          "C",
          "C",
          "C",
          "C",
          "C",
          "C",
          "C",
          "C",
          "C",
          "C",
          "C",
          "C",
          "C",
          "C",
          "C",
          "C",
          "C",
          "C",
          "C",
          "C",
          "C",
          "C",
          "C",
          "C",
          "C",
          "C",
          "C",
          "C",
          "C",
          "C",
          "C",
          "C",
          "C",
          "C",
          "C",
          "C",
          "C",
          "C",
          "C",
          "C",
          "C",
          "C",
          "C",
          "C",
          "C",
          "C",
          "C",
          "C",
          "C",
          "C",
          "C",
          "C",
          "C",
          "C",
          "C",
          "C",
          "C",
          "C",
          "C",
          "C",
          "C",
          "C",
          "C",
          "C",
          "C",
          "C",
          "C",
          "C",
          "C",
          "C",
          "C",
          "C",
          "C"
         ],
         "x0": " ",
         "xaxis": "x",
         "y": [
          848,
          951,
          837,
          704,
          1020,
          750,
          757,
          876,
          642,
          818,
          804,
          956,
          965,
          805,
          560,
          793,
          883,
          428,
          841,
          565,
          558,
          819,
          520,
          481,
          698,
          273,
          309,
          385,
          457,
          498,
          388,
          326,
          301,
          720,
          653,
          516,
          377,
          242,
          567,
          281,
          201,
          362,
          366,
          210,
          254,
          171,
          247,
          242,
          237,
          162,
          137,
          249,
          68,
          285,
          179,
          157,
          151,
          140,
          125,
          150,
          61,
          67,
          71,
          28,
          30,
          75,
          35,
          36,
          27,
          37,
          72,
          17,
          13,
          13,
          4,
          2,
          12,
          15
         ],
         "y0": " ",
         "yaxis": "y"
        },
        {
         "alignmentgroup": "True",
         "customdata": [
          [
           "Luka Doncic"
          ],
          [
           "Shai Gilgeous-Alexander"
          ],
          [
           "Trae Young"
          ],
          [
           "Damian Lillard"
          ],
          [
           "De'Aaron Fox"
          ],
          [
           "Stephen Curry"
          ],
          [
           "Jalen Brunson"
          ],
          [
           "Kyrie Irving"
          ],
          [
           "Ja Morant"
          ],
          [
           "Darius Garland"
          ],
          [
           "Spencer Dinwiddie"
          ],
          [
           "Tyler Herro"
          ],
          [
           "Jamal Murray"
          ],
          [
           "Jrue Holiday"
          ],
          [
           "Jordan Clarkson"
          ],
          [
           "D'Angelo Russell"
          ],
          [
           "Tyrese Maxey"
          ],
          [
           "Jaden Ivey"
          ],
          [
           "Tyrese Haliburton"
          ],
          [
           "Russell Westbrook"
          ],
          [
           "Derrick White"
          ],
          [
           "Malcolm Brogdon"
          ],
          [
           "Tre Jones"
          ],
          [
           "LaMelo Ball"
          ],
          [
           "Markelle Fultz"
          ],
          [
           "Dennis Schroder"
          ],
          [
           "Tyus Jones"
          ],
          [
           "Chris Paul"
          ],
          [
           "Mike Conley"
          ],
          [
           "Killian Hayes"
          ],
          [
           "Cole Anthony"
          ],
          [
           "Coby White"
          ],
          [
           "Andrew Nembhard"
          ],
          [
           "Marcus Smart"
          ],
          [
           "Reggie Jackson"
          ],
          [
           "Collin Sexton"
          ],
          [
           "Bones Hyland"
          ],
          [
           "Jevon Carter"
          ],
          [
           "T.J. McConnell"
          ],
          [
           "Gabe Vincent"
          ],
          [
           "Monte Morris"
          ],
          [
           "Kyle Lowry"
          ],
          [
           "Jose Alvarado"
          ],
          [
           "Devonte' Graham"
          ],
          [
           "Tre Mann"
          ],
          [
           "Cameron Payne"
          ],
          [
           "Dennis Smith Jr."
          ],
          [
           "Davion Mitchell"
          ],
          [
           "Cory Joseph"
          ],
          [
           "Patrick Beverley"
          ],
          [
           "John Wall"
          ],
          [
           "Edmond Sumner"
          ],
          [
           "Goran Dragic"
          ],
          [
           "R.J. Hampton"
          ],
          [
           "Theo Maledon"
          ],
          [
           "Ben Simmons"
          ],
          [
           "Payton Pritchard"
          ],
          [
           "Malachi Flynn"
          ],
          [
           "Patty Mills"
          ],
          [
           "Duane Washington Jr."
          ],
          [
           "Cade Cunningham"
          ],
          [
           "George Hill"
          ],
          [
           "Miles McBride"
          ],
          [
           "Ricky Rubio"
          ],
          [
           "Jordan McLaughlin"
          ],
          [
           "Raul Neto"
          ],
          [
           "Derrick Rose"
          ],
          [
           "Dalano Banton"
          ],
          [
           "Frank Ntilikina"
          ],
          [
           "Kira Lewis Jr."
          ],
          [
           "McKinley Wright IV"
          ],
          [
           "Ish Smith"
          ],
          [
           "Kemba Walker"
          ],
          [
           "Jeff Dowtin Jr."
          ],
          [
           "Matthew Dellavedova"
          ],
          [
           "Jason Preston"
          ],
          [
           "Xavier Moon"
          ],
          [
           "Alondes Williams"
          ]
         ],
         "hovertemplate": "POS=%{x}<br>DEF_ACTIONS=%{y}<br>PName=%{customdata[0]}<extra></extra>",
         "legendgroup": "PG",
         "marker": {
          "color": "#00cc96"
         },
         "name": "PG",
         "notched": false,
         "offsetgroup": "PG",
         "orientation": "v",
         "showlegend": true,
         "type": "box",
         "x": [
          "PG",
          "PG",
          "PG",
          "PG",
          "PG",
          "PG",
          "PG",
          "PG",
          "PG",
          "PG",
          "PG",
          "PG",
          "PG",
          "PG",
          "PG",
          "PG",
          "PG",
          "PG",
          "PG",
          "PG",
          "PG",
          "PG",
          "PG",
          "PG",
          "PG",
          "PG",
          "PG",
          "PG",
          "PG",
          "PG",
          "PG",
          "PG",
          "PG",
          "PG",
          "PG",
          "PG",
          "PG",
          "PG",
          "PG",
          "PG",
          "PG",
          "PG",
          "PG",
          "PG",
          "PG",
          "PG",
          "PG",
          "PG",
          "PG",
          "PG",
          "PG",
          "PG",
          "PG",
          "PG",
          "PG",
          "PG",
          "PG",
          "PG",
          "PG",
          "PG",
          "PG",
          "PG",
          "PG",
          "PG",
          "PG",
          "PG",
          "PG",
          "PG",
          "PG",
          "PG",
          "PG",
          "PG",
          "PG",
          "PG",
          "PG",
          "PG",
          "PG",
          "PG"
         ],
         "x0": " ",
         "xaxis": "x",
         "y": [
          692,
          506,
          306,
          345,
          412,
          413,
          317,
          415,
          439,
          279,
          361,
          427,
          339,
          445,
          292,
          314,
          233,
          366,
          321,
          532,
          423,
          343,
          343,
          288,
          347,
          225,
          289,
          364,
          269,
          353,
          356,
          272,
          282,
          307,
          197,
          138,
          189,
          297,
          325,
          212,
          266,
          303,
          218,
          183,
          206,
          147,
          267,
          164,
          149,
          351,
          131,
          120,
          98,
          123,
          172,
          341,
          103,
          101,
          62,
          46,
          91,
          117,
          95,
          102,
          98,
          67,
          52,
          71,
          85,
          45,
          60,
          69,
          20,
          35,
          20,
          24,
          3,
          1
         ],
         "y0": " ",
         "yaxis": "y"
        },
        {
         "alignmentgroup": "True",
         "customdata": [
          [
           "Giannis Antetokounmpo"
          ],
          [
           "Julius Randle"
          ],
          [
           "Pascal Siakam"
          ],
          [
           "Lauri Markkanen"
          ],
          [
           "Domantas Sabonis"
          ],
          [
           "Anthony Davis"
          ],
          [
           "Paolo Banchero"
          ],
          [
           "Kevin Durant"
          ],
          [
           "Evan Mobley"
          ],
          [
           "Jaren Jackson Jr."
          ],
          [
           "P.J. Washington"
          ],
          [
           "Aaron Gordon"
          ],
          [
           "Tobias Harris"
          ],
          [
           "Jabari Smith Jr."
          ],
          [
           "Jaden McDaniels"
          ],
          [
           "John Collins"
          ],
          [
           "Kelly Olynyk"
          ],
          [
           "Patrick Williams"
          ],
          [
           "Onyeka Okongwu"
          ],
          [
           "Jalen McDaniels"
          ],
          [
           "Zion Williamson"
          ],
          [
           "Zach Collins"
          ],
          [
           "Chris Boucher"
          ],
          [
           "Rui Hachimura"
          ],
          [
           "Santi Aldama"
          ],
          [
           "Royce O'Neale"
          ],
          [
           "Jonathan Kuminga"
          ],
          [
           "Jalen Smith"
          ],
          [
           "Grant Williams"
          ],
          [
           "Jarred Vanderbilt"
          ],
          [
           "Draymond Green"
          ],
          [
           "Trey Lyles"
          ],
          [
           "Brandon Clarke"
          ],
          [
           "Dorian Finney-Smith"
          ],
          [
           "Drew Eubanks"
          ],
          [
           "Kevin Love"
          ],
          [
           "Precious Achiuwa"
          ],
          [
           "Marvin Bagley III"
          ],
          [
           "Obi Toppin"
          ],
          [
           "Taurean Prince"
          ],
          [
           "Nicolas Batum"
          ],
          [
           "Trendon Watford"
          ],
          [
           "Larry Nance Jr."
          ],
          [
           "Jeff Green"
          ],
          [
           "Dario Saric"
          ],
          [
           "Isaiah Livers"
          ],
          [
           "Chimezie Metu"
          ],
          [
           "Jeremiah Robinson-Earl"
          ],
          [
           "Robert Covington"
          ],
          [
           "Zeke Nnaji"
          ],
          [
           "P.J. Tucker"
          ],
          [
           "Sandro Mamukelashvili"
          ],
          [
           "Thaddeus Young"
          ],
          [
           "Usman Garuba"
          ],
          [
           "Darius Bazley"
          ],
          [
           "Maxi Kleber"
          ],
          [
           "Dean Wade"
          ],
          [
           "Justise Winslow"
          ],
          [
           "Anthony Gill"
          ],
          [
           "Blake Griffin"
          ],
          [
           "Kai Jones"
          ],
          [
           "Bruno Fernando"
          ],
          [
           "Markieff Morris"
          ],
          [
           "Chuma Okeke"
          ],
          [
           "Jae Crowder"
          ],
          [
           "Juancho Hernangomez"
          ],
          [
           "Frank Kaminsky"
          ],
          [
           "Jonathan Isaac"
          ],
          [
           "James Johnson"
          ],
          [
           "Greg Brown III"
          ],
          [
           "Udonis Haslem"
          ],
          [
           "Noah Vonleh"
          ],
          [
           "Jarrell Brantley"
          ],
          [
           "Isaiah Todd"
          ],
          [
           "Michael Foster Jr."
          ]
         ],
         "hovertemplate": "POS=%{x}<br>DEF_ACTIONS=%{y}<br>PName=%{customdata[0]}<extra></extra>",
         "legendgroup": "PF",
         "marker": {
          "color": "#ab63fa"
         },
         "name": "PF",
         "notched": false,
         "offsetgroup": "PF",
         "orientation": "v",
         "showlegend": true,
         "type": "box",
         "x": [
          "PF",
          "PF",
          "PF",
          "PF",
          "PF",
          "PF",
          "PF",
          "PF",
          "PF",
          "PF",
          "PF",
          "PF",
          "PF",
          "PF",
          "PF",
          "PF",
          "PF",
          "PF",
          "PF",
          "PF",
          "PF",
          "PF",
          "PF",
          "PF",
          "PF",
          "PF",
          "PF",
          "PF",
          "PF",
          "PF",
          "PF",
          "PF",
          "PF",
          "PF",
          "PF",
          "PF",
          "PF",
          "PF",
          "PF",
          "PF",
          "PF",
          "PF",
          "PF",
          "PF",
          "PF",
          "PF",
          "PF",
          "PF",
          "PF",
          "PF",
          "PF",
          "PF",
          "PF",
          "PF",
          "PF",
          "PF",
          "PF",
          "PF",
          "PF",
          "PF",
          "PF",
          "PF",
          "PF",
          "PF",
          "PF",
          "PF",
          "PF",
          "PF",
          "PF",
          "PF",
          "PF",
          "PF",
          "PF",
          "PF",
          "PF"
         ],
         "x0": " ",
         "xaxis": "x",
         "y": [
          845,
          837,
          657,
          650,
          1077,
          875,
          596,
          414,
          890,
          680,
          503,
          551,
          532,
          686,
          457,
          577,
          517,
          469,
          739,
          463,
          250,
          488,
          532,
          328,
          464,
          498,
          303,
          475,
          435,
          686,
          660,
          358,
          381,
          407,
          560,
          427,
          389,
          318,
          222,
          175,
          397,
          282,
          447,
          179,
          234,
          199,
          241,
          215,
          237,
          178,
          349,
          211,
          225,
          380,
          194,
          177,
          199,
          186,
          118,
          178,
          170,
          177,
          85,
          126,
          87,
          145,
          62,
          62,
          43,
          28,
          14,
          58,
          8,
          13,
          0
         ],
         "y0": " ",
         "yaxis": "y"
        },
        {
         "alignmentgroup": "True",
         "customdata": [
          [
           "Anthony Edwards"
          ],
          [
           "Donovan Mitchell"
          ],
          [
           "Zach LaVine"
          ],
          [
           "Jaylen Brown"
          ],
          [
           "Jalen Green"
          ],
          [
           "Jordan Poole"
          ],
          [
           "CJ McCollum"
          ],
          [
           "Dejounte Murray"
          ],
          [
           "Klay Thompson"
          ],
          [
           "Devin Booker"
          ],
          [
           "RJ Barrett"
          ],
          [
           "Buddy Hield"
          ],
          [
           "Fred VanVleet"
          ],
          [
           "Terry Rozier"
          ],
          [
           "Anfernee Simons"
          ],
          [
           "Bennedict Mathurin"
          ],
          [
           "Josh Giddey"
          ],
          [
           "Desmond Bane"
          ],
          [
           "James Harden"
          ],
          [
           "Immanuel Quickley"
          ],
          [
           "Bradley Beal"
          ],
          [
           "Gary Trent Jr."
          ],
          [
           "Trey Murphy III"
          ],
          [
           "Kevin Huerter"
          ],
          [
           "Kevin Porter Jr."
          ],
          [
           "Malik Monk"
          ],
          [
           "Malik Beasley"
          ],
          [
           "Kelly Oubre Jr."
          ],
          [
           "Max Strus"
          ],
          [
           "Caris LeVert"
          ],
          [
           "Eric Gordon"
          ],
          [
           "Austin Reaves"
          ],
          [
           "Kentavious Caldwell-Pope"
          ],
          [
           "Quentin Grimes"
          ],
          [
           "Shaedon Sharpe"
          ],
          [
           "De'Anthony Melton"
          ],
          [
           "Bogdan Bogdanovic"
          ],
          [
           "Grayson Allen"
          ],
          [
           "Josh Hart"
          ],
          [
           "Terance Mann"
          ],
          [
           "Jaylen Nowell"
          ],
          [
           "Devin Vassell"
          ],
          [
           "Talen Horton-Tucker"
          ],
          [
           "Isaiah Joe"
          ],
          [
           "Ayo Dosunmu"
          ],
          [
           "Donte DiVincenzo"
          ],
          [
           "Josh Richardson"
          ],
          [
           "Alec Burks"
          ],
          [
           "Shake Milton"
          ],
          [
           "Cam Thomas"
          ],
          [
           "Damion Lee"
          ],
          [
           "Seth Curry"
          ],
          [
           "Josh Green"
          ],
          [
           "Luke Kennard"
          ],
          [
           "Jalen Suggs"
          ],
          [
           "Hamidou Diallo"
          ],
          [
           "Aaron Wiggins"
          ],
          [
           "Pat Connaughton"
          ],
          [
           "Victor Oladipo"
          ],
          [
           "Terence Davis"
          ],
          [
           "Gary Harris"
          ],
          [
           "Alex Caruso"
          ],
          [
           "Josh Christopher"
          ],
          [
           "Delon Wright"
          ],
          [
           "John Konchar"
          ],
          [
           "Nickeil Alexander-Walker"
          ],
          [
           "Chris Duarte"
          ],
          [
           "Landry Shamet"
          ],
          [
           "Joe Ingles"
          ],
          [
           "Ty Jerome"
          ],
          [
           "Moses Moody"
          ],
          [
           "Romeo Langford"
          ],
          [
           "Matisse Thybulle"
          ],
          [
           "Garrison Mathews"
          ],
          [
           "Austin Rivers"
          ],
          [
           "Daishen Nix"
          ],
          [
           "Svi Mykhailiuk"
          ],
          [
           "James Bouknight"
          ],
          [
           "Keon Johnson"
          ],
          [
           "Wesley Matthews"
          ],
          [
           "Amir Coffey"
          ],
          [
           "Evan Fournier"
          ],
          [
           "Brandon Boston Jr."
          ],
          [
           "Furkan Korkmaz"
          ],
          [
           "Gary Payton II"
          ],
          [
           "Skylar Mays"
          ],
          [
           "Bryn Forbes"
          ],
          [
           "Davon Reed"
          ],
          [
           "Jared Butler"
          ],
          [
           "Joshua Primo"
          ],
          [
           "Mac McClung"
          ],
          [
           "Sam Merrill"
          ],
          [
           "Trevelin Queen"
          ],
          [
           "JD Davison"
          ],
          [
           "Kendall Brown"
          ],
          [
           "Dylan Windler"
          ],
          [
           "Frank Jackson"
          ]
         ],
         "hovertemplate": "POS=%{x}<br>DEF_ACTIONS=%{y}<br>PName=%{customdata[0]}<extra></extra>",
         "legendgroup": "SG",
         "marker": {
          "color": "#FFA15A"
         },
         "name": "SG",
         "notched": false,
         "offsetgroup": "SG",
         "orientation": "v",
         "showlegend": true,
         "type": "box",
         "x": [
          "SG",
          "SG",
          "SG",
          "SG",
          "SG",
          "SG",
          "SG",
          "SG",
          "SG",
          "SG",
          "SG",
          "SG",
          "SG",
          "SG",
          "SG",
          "SG",
          "SG",
          "SG",
          "SG",
          "SG",
          "SG",
          "SG",
          "SG",
          "SG",
          "SG",
          "SG",
          "SG",
          "SG",
          "SG",
          "SG",
          "SG",
          "SG",
          "SG",
          "SG",
          "SG",
          "SG",
          "SG",
          "SG",
          "SG",
          "SG",
          "SG",
          "SG",
          "SG",
          "SG",
          "SG",
          "SG",
          "SG",
          "SG",
          "SG",
          "SG",
          "SG",
          "SG",
          "SG",
          "SG",
          "SG",
          "SG",
          "SG",
          "SG",
          "SG",
          "SG",
          "SG",
          "SG",
          "SG",
          "SG",
          "SG",
          "SG",
          "SG",
          "SG",
          "SG",
          "SG",
          "SG",
          "SG",
          "SG",
          "SG",
          "SG",
          "SG",
          "SG",
          "SG",
          "SG",
          "SG",
          "SG",
          "SG",
          "SG",
          "SG",
          "SG",
          "SG",
          "SG",
          "SG",
          "SG",
          "SG",
          "SG",
          "SG",
          "SG",
          "SG",
          "SG",
          "SG",
          "SG"
         ],
         "x0": " ",
         "xaxis": "x",
         "y": [
          641,
          415,
          432,
          560,
          361,
          309,
          436,
          520,
          364,
          309,
          414,
          518,
          441,
          349,
          217,
          379,
          687,
          369,
          456,
          431,
          274,
          291,
          413,
          355,
          413,
          272,
          357,
          335,
          312,
          378,
          202,
          245,
          355,
          302,
          298,
          479,
          226,
          313,
          702,
          340,
          217,
          208,
          280,
          231,
          308,
          432,
          264,
          204,
          229,
          122,
          262,
          143,
          229,
          195,
          255,
          263,
          265,
          331,
          197,
          194,
          155,
          340,
          119,
          289,
          412,
          154,
          149,
          98,
          167,
          106,
          130,
          151,
          255,
          102,
          115,
          136,
          72,
          91,
          69,
          146,
          65,
          68,
          39,
          55,
          96,
          26,
          24,
          78,
          9,
          16,
          10,
          13,
          24,
          13,
          10,
          1,
          2
         ],
         "y0": " ",
         "yaxis": "y"
        },
        {
         "alignmentgroup": "True",
         "customdata": [
          [
           "Paul George"
          ],
          [
           "Christian Wood"
          ],
          [
           "Jalen Williams"
          ],
          [
           "Kenyon Martin Jr."
          ],
          [
           "Bobby Portis"
          ],
          [
           "Tari Eason"
          ],
          [
           "AJ Griffin"
          ],
          [
           "Jeremy Sochan"
          ],
          [
           "Kevon Looney"
          ],
          [
           "David Roddy"
          ],
          [
           "Xavier Tillman"
          ],
          [
           "Anthony Lamb"
          ],
          [
           "Wenyen Gabriel"
          ],
          [
           "JaMychal Green"
          ],
          [
           "Lamar Stevens"
          ],
          [
           "Simone Fontecchio"
          ],
          [
           "Jaylin Williams"
          ],
          [
           "Eugene Omoruyi"
          ],
          [
           "Aleksej Pokusevski"
          ],
          [
           "Duncan Robinson"
          ],
          [
           "MarJon Beauchamp"
          ],
          [
           "JT Thor"
          ],
          [
           "Ish Wainright"
          ],
          [
           "Haywood Highsmith"
          ],
          [
           "Jabari Walker"
          ],
          [
           "Lindy Waters III"
          ],
          [
           "Ziaire Williams"
          ],
          [
           "Ousmane Dieng"
          ],
          [
           "Isaiah Roby"
          ],
          [
           "Taj Gibson"
          ],
          [
           "Julian Champagnie"
          ],
          [
           "Nathan Knight"
          ],
          [
           "Richaun Holmes"
          ],
          [
           "Matt Ryan"
          ],
          [
           "Patrick Baldwin Jr."
          ],
          [
           "Kenneth Lofton Jr."
          ],
          [
           "Dominick Barlow"
          ],
          [
           "Jake LaRavia"
          ],
          [
           "Jamal Cain"
          ],
          [
           "Terry Taylor"
          ],
          [
           "Dalen Terry"
          ],
          [
           "Nikola Jovic"
          ],
          [
           "Peyton Watson"
          ],
          [
           "Luka Samanic"
          ],
          [
           "Serge Ibaka"
          ],
          [
           "Danny Green"
          ],
          [
           "Moussa Diabate"
          ],
          [
           "Mamadi Diakite"
          ],
          [
           "Josh Minott"
          ],
          [
           "John Butler Jr."
          ],
          [
           "Isaiah Mobley"
          ],
          [
           "Jack White"
          ],
          [
           "Ron Harper Jr."
          ],
          [
           "Andre Iguodala"
          ],
          [
           "Justin Minaya"
          ],
          [
           "Xavier Sneed"
          ],
          [
           "Buddy Boeheim"
          ],
          [
           "RaiQuan Gray"
          ],
          [
           "Darius Days"
          ],
          [
           "Cole Swider"
          ],
          [
           "Alize Johnson"
          ],
          [
           "Leandro Bolmaro"
          ],
          [
           "Malcolm Hill"
          ],
          [
           "Jordan Schakel"
          ],
          [
           "Chima Moneke"
          ],
          [
           "Chris Silva"
          ]
         ],
         "hovertemplate": "POS=%{x}<br>DEF_ACTIONS=%{y}<br>PName=%{customdata[0]}<extra></extra>",
         "legendgroup": "F",
         "marker": {
          "color": "#19d3f3"
         },
         "name": "F",
         "notched": false,
         "offsetgroup": "F",
         "orientation": "v",
         "showlegend": true,
         "type": "box",
         "x": [
          "F",
          "F",
          "F",
          "F",
          "F",
          "F",
          "F",
          "F",
          "F",
          "F",
          "F",
          "F",
          "F",
          "F",
          "F",
          "F",
          "F",
          "F",
          "F",
          "F",
          "F",
          "F",
          "F",
          "F",
          "F",
          "F",
          "F",
          "F",
          "F",
          "F",
          "F",
          "F",
          "F",
          "F",
          "F",
          "F",
          "F",
          "F",
          "F",
          "F",
          "F",
          "F",
          "F",
          "F",
          "F",
          "F",
          "F",
          "F",
          "F",
          "F",
          "F",
          "F",
          "F",
          "F",
          "F",
          "F",
          "F",
          "F",
          "F",
          "F",
          "F",
          "F",
          "F",
          "F",
          "F",
          "F"
         ],
         "x0": " ",
         "xaxis": "x",
         "y": [
          445,
          593,
          475,
          523,
          717,
          639,
          207,
          361,
          862,
          241,
          394,
          263,
          347,
          253,
          253,
          109,
          281,
          142,
          222,
          83,
          143,
          197,
          199,
          241,
          154,
          100,
          99,
          126,
          133,
          120,
          71,
          72,
          94,
          32,
          50,
          58,
          131,
          79,
          64,
          56,
          53,
          40,
          50,
          38,
          53,
          23,
          65,
          43,
          35,
          33,
          27,
          22,
          8,
          24,
          22,
          6,
          8,
          10,
          7,
          7,
          11,
          11,
          3,
          1,
          2,
          0
         ],
         "y0": " ",
         "yaxis": "y"
        },
        {
         "alignmentgroup": "True",
         "customdata": [
          [
           "Norman Powell"
          ],
          [
           "Luguentz Dort"
          ],
          [
           "Malaki Branham"
          ],
          [
           "Lonnie Walker IV"
          ],
          [
           "Terrence Ross"
          ],
          [
           "Kendrick Nunn"
          ],
          [
           "Ochai Agbaji"
          ],
          [
           "Jaden Hardy"
          ],
          [
           "Jordan Goodwin"
          ],
          [
           "Will Barton"
          ],
          [
           "Christian Braun"
          ],
          [
           "Kris Dunn"
          ],
          [
           "Aaron Holiday"
          ],
          [
           "Bryce McGowens"
          ],
          [
           "Dyson Daniels"
          ],
          [
           "Caleb Houstan"
          ],
          [
           "Blake Wesley"
          ],
          [
           "Rodney McGruder"
          ],
          [
           "Johnny Davis"
          ],
          [
           "AJ Green"
          ],
          [
           "Saben Lee"
          ],
          [
           "TyTy Washington Jr."
          ],
          [
           "Kevon Harris"
          ],
          [
           "Max Christie"
          ],
          [
           "Theo Pinson"
          ],
          [
           "Johnny Juzang"
          ],
          [
           "David Duke Jr."
          ],
          [
           "Kennedy Chandler"
          ],
          [
           "A.J. Lawson"
          ],
          [
           "Quenton Jackson"
          ],
          [
           "Jeenathan Williams"
          ],
          [
           "Trent Forrest"
          ],
          [
           "Lindell Wigginton"
          ],
          [
           "Jared Rhoden"
          ],
          [
           "Dru Smith"
          ],
          [
           "Jarrett Culver"
          ],
          [
           "Shaquille Harrison"
          ],
          [
           "Jaden Springer"
          ],
          [
           "Wendell Moore Jr."
          ],
          [
           "Xavier Cooks"
          ],
          [
           "Vit Krejci"
          ],
          [
           "Vince Williams Jr."
          ],
          [
           "Jordan Hall"
          ],
          [
           "Ryan Arcidiacono"
          ],
          [
           "Gabe York"
          ],
          [
           "Keon Ellis"
          ],
          [
           "Ryan Rollins"
          ],
          [
           "PJ Dozier"
          ],
          [
           "Tyrese Martin"
          ],
          [
           "Carlik Jones"
          ],
          [
           "Michael Carter-Williams"
          ],
          [
           "Jamaree Bouyea"
          ],
          [
           "Scotty Pippen Jr."
          ],
          [
           "Jay Scrubb"
          ],
          [
           "Facundo Campazzo"
          ],
          [
           "Lester Quinones"
          ],
          [
           "Trevor Hudgins"
          ],
          [
           "Tyler Dorsey"
          ],
          [
           "Kobi Simmons"
          ],
          [
           "Braxton Key"
          ],
          [
           "Dereon Seabron"
          ],
          [
           "Donovan Williams"
          ],
          [
           "Devon Dotson"
          ],
          [
           "Jacob Gilyard"
          ],
          [
           "Trevor Keels"
          ],
          [
           "Stanley Umude"
          ]
         ],
         "hovertemplate": "POS=%{x}<br>DEF_ACTIONS=%{y}<br>PName=%{customdata[0]}<extra></extra>",
         "legendgroup": "G",
         "marker": {
          "color": "#FF6692"
         },
         "name": "G",
         "notched": false,
         "offsetgroup": "G",
         "orientation": "v",
         "showlegend": true,
         "type": "box",
         "x": [
          "G",
          "G",
          "G",
          "G",
          "G",
          "G",
          "G",
          "G",
          "G",
          "G",
          "G",
          "G",
          "G",
          "G",
          "G",
          "G",
          "G",
          "G",
          "G",
          "G",
          "G",
          "G",
          "G",
          "G",
          "G",
          "G",
          "G",
          "G",
          "G",
          "G",
          "G",
          "G",
          "G",
          "G",
          "G",
          "G",
          "G",
          "G",
          "G",
          "G",
          "G",
          "G",
          "G",
          "G",
          "G",
          "G",
          "G",
          "G",
          "G",
          "G",
          "G",
          "G",
          "G",
          "G",
          "G",
          "G",
          "G",
          "G",
          "G",
          "G",
          "G",
          "G",
          "G",
          "G",
          "G",
          "G"
         ],
         "x0": " ",
         "xaxis": "x",
         "y": [
          243,
          442,
          221,
          156,
          199,
          144,
          152,
          113,
          289,
          178,
          239,
          135,
          123,
          114,
          242,
          118,
          112,
          91,
          83,
          51,
          65,
          62,
          92,
          91,
          70,
          46,
          40,
          55,
          23,
          13,
          20,
          46,
          9,
          42,
          38,
          46,
          35,
          24,
          31,
          48,
          32,
          23,
          13,
          20,
          8,
          14,
          14,
          21,
          13,
          7,
          7,
          12,
          7,
          8,
          8,
          4,
          0,
          2,
          6,
          1,
          1,
          2,
          15,
          7,
          2,
          2
         ],
         "y0": " ",
         "yaxis": "y"
        }
       ],
       "layout": {
        "boxmode": "overlay",
        "legend": {
         "title": {
          "text": "POS"
         },
         "tracegroupgap": 0
        },
        "margin": {
         "t": 60
        },
        "template": {
         "data": {
          "bar": [
           {
            "error_x": {
             "color": "#f2f5fa"
            },
            "error_y": {
             "color": "#f2f5fa"
            },
            "marker": {
             "line": {
              "color": "rgb(17,17,17)",
              "width": 0.5
             },
             "pattern": {
              "fillmode": "overlay",
              "size": 10,
              "solidity": 0.2
             }
            },
            "type": "bar"
           }
          ],
          "barpolar": [
           {
            "marker": {
             "line": {
              "color": "rgb(17,17,17)",
              "width": 0.5
             },
             "pattern": {
              "fillmode": "overlay",
              "size": 10,
              "solidity": 0.2
             }
            },
            "type": "barpolar"
           }
          ],
          "carpet": [
           {
            "aaxis": {
             "endlinecolor": "#A2B1C6",
             "gridcolor": "#506784",
             "linecolor": "#506784",
             "minorgridcolor": "#506784",
             "startlinecolor": "#A2B1C6"
            },
            "baxis": {
             "endlinecolor": "#A2B1C6",
             "gridcolor": "#506784",
             "linecolor": "#506784",
             "minorgridcolor": "#506784",
             "startlinecolor": "#A2B1C6"
            },
            "type": "carpet"
           }
          ],
          "choropleth": [
           {
            "colorbar": {
             "outlinewidth": 0,
             "ticks": ""
            },
            "type": "choropleth"
           }
          ],
          "contour": [
           {
            "colorbar": {
             "outlinewidth": 0,
             "ticks": ""
            },
            "colorscale": [
             [
              0,
              "#0d0887"
             ],
             [
              0.1111111111111111,
              "#46039f"
             ],
             [
              0.2222222222222222,
              "#7201a8"
             ],
             [
              0.3333333333333333,
              "#9c179e"
             ],
             [
              0.4444444444444444,
              "#bd3786"
             ],
             [
              0.5555555555555556,
              "#d8576b"
             ],
             [
              0.6666666666666666,
              "#ed7953"
             ],
             [
              0.7777777777777778,
              "#fb9f3a"
             ],
             [
              0.8888888888888888,
              "#fdca26"
             ],
             [
              1,
              "#f0f921"
             ]
            ],
            "type": "contour"
           }
          ],
          "contourcarpet": [
           {
            "colorbar": {
             "outlinewidth": 0,
             "ticks": ""
            },
            "type": "contourcarpet"
           }
          ],
          "heatmap": [
           {
            "colorbar": {
             "outlinewidth": 0,
             "ticks": ""
            },
            "colorscale": [
             [
              0,
              "#0d0887"
             ],
             [
              0.1111111111111111,
              "#46039f"
             ],
             [
              0.2222222222222222,
              "#7201a8"
             ],
             [
              0.3333333333333333,
              "#9c179e"
             ],
             [
              0.4444444444444444,
              "#bd3786"
             ],
             [
              0.5555555555555556,
              "#d8576b"
             ],
             [
              0.6666666666666666,
              "#ed7953"
             ],
             [
              0.7777777777777778,
              "#fb9f3a"
             ],
             [
              0.8888888888888888,
              "#fdca26"
             ],
             [
              1,
              "#f0f921"
             ]
            ],
            "type": "heatmap"
           }
          ],
          "heatmapgl": [
           {
            "colorbar": {
             "outlinewidth": 0,
             "ticks": ""
            },
            "colorscale": [
             [
              0,
              "#0d0887"
             ],
             [
              0.1111111111111111,
              "#46039f"
             ],
             [
              0.2222222222222222,
              "#7201a8"
             ],
             [
              0.3333333333333333,
              "#9c179e"
             ],
             [
              0.4444444444444444,
              "#bd3786"
             ],
             [
              0.5555555555555556,
              "#d8576b"
             ],
             [
              0.6666666666666666,
              "#ed7953"
             ],
             [
              0.7777777777777778,
              "#fb9f3a"
             ],
             [
              0.8888888888888888,
              "#fdca26"
             ],
             [
              1,
              "#f0f921"
             ]
            ],
            "type": "heatmapgl"
           }
          ],
          "histogram": [
           {
            "marker": {
             "pattern": {
              "fillmode": "overlay",
              "size": 10,
              "solidity": 0.2
             }
            },
            "type": "histogram"
           }
          ],
          "histogram2d": [
           {
            "colorbar": {
             "outlinewidth": 0,
             "ticks": ""
            },
            "colorscale": [
             [
              0,
              "#0d0887"
             ],
             [
              0.1111111111111111,
              "#46039f"
             ],
             [
              0.2222222222222222,
              "#7201a8"
             ],
             [
              0.3333333333333333,
              "#9c179e"
             ],
             [
              0.4444444444444444,
              "#bd3786"
             ],
             [
              0.5555555555555556,
              "#d8576b"
             ],
             [
              0.6666666666666666,
              "#ed7953"
             ],
             [
              0.7777777777777778,
              "#fb9f3a"
             ],
             [
              0.8888888888888888,
              "#fdca26"
             ],
             [
              1,
              "#f0f921"
             ]
            ],
            "type": "histogram2d"
           }
          ],
          "histogram2dcontour": [
           {
            "colorbar": {
             "outlinewidth": 0,
             "ticks": ""
            },
            "colorscale": [
             [
              0,
              "#0d0887"
             ],
             [
              0.1111111111111111,
              "#46039f"
             ],
             [
              0.2222222222222222,
              "#7201a8"
             ],
             [
              0.3333333333333333,
              "#9c179e"
             ],
             [
              0.4444444444444444,
              "#bd3786"
             ],
             [
              0.5555555555555556,
              "#d8576b"
             ],
             [
              0.6666666666666666,
              "#ed7953"
             ],
             [
              0.7777777777777778,
              "#fb9f3a"
             ],
             [
              0.8888888888888888,
              "#fdca26"
             ],
             [
              1,
              "#f0f921"
             ]
            ],
            "type": "histogram2dcontour"
           }
          ],
          "mesh3d": [
           {
            "colorbar": {
             "outlinewidth": 0,
             "ticks": ""
            },
            "type": "mesh3d"
           }
          ],
          "parcoords": [
           {
            "line": {
             "colorbar": {
              "outlinewidth": 0,
              "ticks": ""
             }
            },
            "type": "parcoords"
           }
          ],
          "pie": [
           {
            "automargin": true,
            "type": "pie"
           }
          ],
          "scatter": [
           {
            "marker": {
             "line": {
              "color": "#283442"
             }
            },
            "type": "scatter"
           }
          ],
          "scatter3d": [
           {
            "line": {
             "colorbar": {
              "outlinewidth": 0,
              "ticks": ""
             }
            },
            "marker": {
             "colorbar": {
              "outlinewidth": 0,
              "ticks": ""
             }
            },
            "type": "scatter3d"
           }
          ],
          "scattercarpet": [
           {
            "marker": {
             "colorbar": {
              "outlinewidth": 0,
              "ticks": ""
             }
            },
            "type": "scattercarpet"
           }
          ],
          "scattergeo": [
           {
            "marker": {
             "colorbar": {
              "outlinewidth": 0,
              "ticks": ""
             }
            },
            "type": "scattergeo"
           }
          ],
          "scattergl": [
           {
            "marker": {
             "line": {
              "color": "#283442"
             }
            },
            "type": "scattergl"
           }
          ],
          "scattermapbox": [
           {
            "marker": {
             "colorbar": {
              "outlinewidth": 0,
              "ticks": ""
             }
            },
            "type": "scattermapbox"
           }
          ],
          "scatterpolar": [
           {
            "marker": {
             "colorbar": {
              "outlinewidth": 0,
              "ticks": ""
             }
            },
            "type": "scatterpolar"
           }
          ],
          "scatterpolargl": [
           {
            "marker": {
             "colorbar": {
              "outlinewidth": 0,
              "ticks": ""
             }
            },
            "type": "scatterpolargl"
           }
          ],
          "scatterternary": [
           {
            "marker": {
             "colorbar": {
              "outlinewidth": 0,
              "ticks": ""
             }
            },
            "type": "scatterternary"
           }
          ],
          "surface": [
           {
            "colorbar": {
             "outlinewidth": 0,
             "ticks": ""
            },
            "colorscale": [
             [
              0,
              "#0d0887"
             ],
             [
              0.1111111111111111,
              "#46039f"
             ],
             [
              0.2222222222222222,
              "#7201a8"
             ],
             [
              0.3333333333333333,
              "#9c179e"
             ],
             [
              0.4444444444444444,
              "#bd3786"
             ],
             [
              0.5555555555555556,
              "#d8576b"
             ],
             [
              0.6666666666666666,
              "#ed7953"
             ],
             [
              0.7777777777777778,
              "#fb9f3a"
             ],
             [
              0.8888888888888888,
              "#fdca26"
             ],
             [
              1,
              "#f0f921"
             ]
            ],
            "type": "surface"
           }
          ],
          "table": [
           {
            "cells": {
             "fill": {
              "color": "#506784"
             },
             "line": {
              "color": "rgb(17,17,17)"
             }
            },
            "header": {
             "fill": {
              "color": "#2a3f5f"
             },
             "line": {
              "color": "rgb(17,17,17)"
             }
            },
            "type": "table"
           }
          ]
         },
         "layout": {
          "annotationdefaults": {
           "arrowcolor": "#f2f5fa",
           "arrowhead": 0,
           "arrowwidth": 1
          },
          "autotypenumbers": "strict",
          "coloraxis": {
           "colorbar": {
            "outlinewidth": 0,
            "ticks": ""
           }
          },
          "colorscale": {
           "diverging": [
            [
             0,
             "#8e0152"
            ],
            [
             0.1,
             "#c51b7d"
            ],
            [
             0.2,
             "#de77ae"
            ],
            [
             0.3,
             "#f1b6da"
            ],
            [
             0.4,
             "#fde0ef"
            ],
            [
             0.5,
             "#f7f7f7"
            ],
            [
             0.6,
             "#e6f5d0"
            ],
            [
             0.7,
             "#b8e186"
            ],
            [
             0.8,
             "#7fbc41"
            ],
            [
             0.9,
             "#4d9221"
            ],
            [
             1,
             "#276419"
            ]
           ],
           "sequential": [
            [
             0,
             "#0d0887"
            ],
            [
             0.1111111111111111,
             "#46039f"
            ],
            [
             0.2222222222222222,
             "#7201a8"
            ],
            [
             0.3333333333333333,
             "#9c179e"
            ],
            [
             0.4444444444444444,
             "#bd3786"
            ],
            [
             0.5555555555555556,
             "#d8576b"
            ],
            [
             0.6666666666666666,
             "#ed7953"
            ],
            [
             0.7777777777777778,
             "#fb9f3a"
            ],
            [
             0.8888888888888888,
             "#fdca26"
            ],
            [
             1,
             "#f0f921"
            ]
           ],
           "sequentialminus": [
            [
             0,
             "#0d0887"
            ],
            [
             0.1111111111111111,
             "#46039f"
            ],
            [
             0.2222222222222222,
             "#7201a8"
            ],
            [
             0.3333333333333333,
             "#9c179e"
            ],
            [
             0.4444444444444444,
             "#bd3786"
            ],
            [
             0.5555555555555556,
             "#d8576b"
            ],
            [
             0.6666666666666666,
             "#ed7953"
            ],
            [
             0.7777777777777778,
             "#fb9f3a"
            ],
            [
             0.8888888888888888,
             "#fdca26"
            ],
            [
             1,
             "#f0f921"
            ]
           ]
          },
          "colorway": [
           "#636efa",
           "#EF553B",
           "#00cc96",
           "#ab63fa",
           "#FFA15A",
           "#19d3f3",
           "#FF6692",
           "#B6E880",
           "#FF97FF",
           "#FECB52"
          ],
          "font": {
           "color": "#f2f5fa"
          },
          "geo": {
           "bgcolor": "rgb(17,17,17)",
           "lakecolor": "rgb(17,17,17)",
           "landcolor": "rgb(17,17,17)",
           "showlakes": true,
           "showland": true,
           "subunitcolor": "#506784"
          },
          "hoverlabel": {
           "align": "left"
          },
          "hovermode": "closest",
          "mapbox": {
           "style": "dark"
          },
          "paper_bgcolor": "rgb(17,17,17)",
          "plot_bgcolor": "rgb(17,17,17)",
          "polar": {
           "angularaxis": {
            "gridcolor": "#506784",
            "linecolor": "#506784",
            "ticks": ""
           },
           "bgcolor": "rgb(17,17,17)",
           "radialaxis": {
            "gridcolor": "#506784",
            "linecolor": "#506784",
            "ticks": ""
           }
          },
          "scene": {
           "xaxis": {
            "backgroundcolor": "rgb(17,17,17)",
            "gridcolor": "#506784",
            "gridwidth": 2,
            "linecolor": "#506784",
            "showbackground": true,
            "ticks": "",
            "zerolinecolor": "#C8D4E3"
           },
           "yaxis": {
            "backgroundcolor": "rgb(17,17,17)",
            "gridcolor": "#506784",
            "gridwidth": 2,
            "linecolor": "#506784",
            "showbackground": true,
            "ticks": "",
            "zerolinecolor": "#C8D4E3"
           },
           "zaxis": {
            "backgroundcolor": "rgb(17,17,17)",
            "gridcolor": "#506784",
            "gridwidth": 2,
            "linecolor": "#506784",
            "showbackground": true,
            "ticks": "",
            "zerolinecolor": "#C8D4E3"
           }
          },
          "shapedefaults": {
           "line": {
            "color": "#f2f5fa"
           }
          },
          "sliderdefaults": {
           "bgcolor": "#C8D4E3",
           "bordercolor": "rgb(17,17,17)",
           "borderwidth": 1,
           "tickwidth": 0
          },
          "ternary": {
           "aaxis": {
            "gridcolor": "#506784",
            "linecolor": "#506784",
            "ticks": ""
           },
           "baxis": {
            "gridcolor": "#506784",
            "linecolor": "#506784",
            "ticks": ""
           },
           "bgcolor": "rgb(17,17,17)",
           "caxis": {
            "gridcolor": "#506784",
            "linecolor": "#506784",
            "ticks": ""
           }
          },
          "title": {
           "x": 0.05
          },
          "updatemenudefaults": {
           "bgcolor": "#506784",
           "borderwidth": 0
          },
          "xaxis": {
           "automargin": true,
           "gridcolor": "#283442",
           "linecolor": "#506784",
           "ticks": "",
           "title": {
            "standoff": 15
           },
           "zerolinecolor": "#283442",
           "zerolinewidth": 2
          },
          "yaxis": {
           "automargin": true,
           "gridcolor": "#283442",
           "linecolor": "#506784",
           "ticks": "",
           "title": {
            "standoff": 15
           },
           "zerolinecolor": "#283442",
           "zerolinewidth": 2
          }
         }
        },
        "width": 800,
        "xaxis": {
         "anchor": "y",
         "categoryarray": [
          "SF",
          "C",
          "PG",
          "PF",
          "SG",
          "F",
          "G"
         ],
         "categoryorder": "array",
         "domain": [
          0,
          1
         ],
         "title": {
          "text": "POS"
         }
        },
        "yaxis": {
         "anchor": "x",
         "domain": [
          0,
          1
         ],
         "title": {
          "text": "DEF_ACTIONS"
         }
        }
       }
      }
     },
     "metadata": {},
     "output_type": "display_data"
    }
   ],
   "source": [
    "px.box(data_frame=data_merged,\n",
    "       x='POS',\n",
    "       color='POS',\n",
    "       y='DEF_ACTIONS',\n",
    "       template='plotly_dark',\n",
    "       hover_data='PName',\n",
    "       width=800)"
   ]
  },
  {
   "cell_type": "code",
   "execution_count": null,
   "metadata": {},
   "outputs": [],
   "source": [
    "# 4. "
   ]
  },
  {
   "cell_type": "code",
   "execution_count": 99,
   "metadata": {},
   "outputs": [
    {
     "data": {
      "text/html": [
       "<div>\n",
       "<style scoped>\n",
       "    .dataframe tbody tr th:only-of-type {\n",
       "        vertical-align: middle;\n",
       "    }\n",
       "\n",
       "    .dataframe tbody tr th {\n",
       "        vertical-align: top;\n",
       "    }\n",
       "\n",
       "    .dataframe thead th {\n",
       "        text-align: right;\n",
       "    }\n",
       "</style>\n",
       "<table border=\"1\" class=\"dataframe\">\n",
       "  <thead>\n",
       "    <tr style=\"text-align: right;\">\n",
       "      <th></th>\n",
       "      <th>POS</th>\n",
       "      <th>BLK</th>\n",
       "      <th>STL</th>\n",
       "      <th>REB</th>\n",
       "      <th>DEF_ACTIONS</th>\n",
       "    </tr>\n",
       "  </thead>\n",
       "  <tbody>\n",
       "    <tr>\n",
       "      <th>0</th>\n",
       "      <td>C</td>\n",
       "      <td>43.59</td>\n",
       "      <td>24.62</td>\n",
       "      <td>314.87</td>\n",
       "      <td>383.08</td>\n",
       "    </tr>\n",
       "    <tr>\n",
       "      <th>1</th>\n",
       "      <td>F</td>\n",
       "      <td>11.82</td>\n",
       "      <td>17.67</td>\n",
       "      <td>125.53</td>\n",
       "      <td>155.02</td>\n",
       "    </tr>\n",
       "    <tr>\n",
       "      <th>2</th>\n",
       "      <td>G</td>\n",
       "      <td>4.33</td>\n",
       "      <td>12.41</td>\n",
       "      <td>52.80</td>\n",
       "      <td>69.55</td>\n",
       "    </tr>\n",
       "    <tr>\n",
       "      <th>3</th>\n",
       "      <td>PF</td>\n",
       "      <td>35.32</td>\n",
       "      <td>35.12</td>\n",
       "      <td>293.23</td>\n",
       "      <td>363.67</td>\n",
       "    </tr>\n",
       "    <tr>\n",
       "      <th>4</th>\n",
       "      <td>PG</td>\n",
       "      <td>14.79</td>\n",
       "      <td>46.95</td>\n",
       "      <td>171.32</td>\n",
       "      <td>233.06</td>\n",
       "    </tr>\n",
       "    <tr>\n",
       "      <th>5</th>\n",
       "      <td>SF</td>\n",
       "      <td>21.27</td>\n",
       "      <td>40.05</td>\n",
       "      <td>216.94</td>\n",
       "      <td>278.25</td>\n",
       "    </tr>\n",
       "    <tr>\n",
       "      <th>6</th>\n",
       "      <td>SG</td>\n",
       "      <td>15.46</td>\n",
       "      <td>47.09</td>\n",
       "      <td>185.94</td>\n",
       "      <td>248.49</td>\n",
       "    </tr>\n",
       "  </tbody>\n",
       "</table>\n",
       "</div>"
      ],
      "text/plain": [
       "  POS    BLK    STL     REB  DEF_ACTIONS\n",
       "0   C  43.59  24.62  314.87       383.08\n",
       "1   F  11.82  17.67  125.53       155.02\n",
       "2   G   4.33  12.41   52.80        69.55\n",
       "3  PF  35.32  35.12  293.23       363.67\n",
       "4  PG  14.79  46.95  171.32       233.06\n",
       "5  SF  21.27  40.05  216.94       278.25\n",
       "6  SG  15.46  47.09  185.94       248.49"
      ]
     },
     "execution_count": 99,
     "metadata": {},
     "output_type": "execute_result"
    }
   ],
   "source": [
    "aux = data_merged[['POS', 'BLK', 'STL', 'REB', 'DEF_ACTIONS']].groupby('POS').mean(['BLK', 'STL', 'REB', 'DEF_ACTIONS']).round(2).reset_index()\n",
    "aux"
   ]
  },
  {
   "cell_type": "code",
   "execution_count": null,
   "metadata": {},
   "outputs": [],
   "source": []
  },
  {
   "cell_type": "markdown",
   "metadata": {},
   "source": [
    "## Jogadores"
   ]
  },
  {
   "cell_type": "code",
   "execution_count": 92,
   "metadata": {},
   "outputs": [
    {
     "data": {
      "application/vnd.plotly.v1+json": {
       "config": {
        "plotlyServerURL": "https://plot.ly"
       },
       "data": [
        {
         "customdata": [
          [
           "Jayson Tatum"
          ],
          [
           "DeMar DeRozan"
          ],
          [
           "Mikal Bridges"
          ],
          [
           "LeBron James"
          ],
          [
           "Franz Wagner"
          ],
          [
           "Jimmy Butler"
          ],
          [
           "Keldon Johnson"
          ],
          [
           "Kyle Kuzma"
          ],
          [
           "Jerami Grant"
          ],
          [
           "Bojan Bogdanovic"
          ],
          [
           "Kawhi Leonard"
          ],
          [
           "Harrison Barnes"
          ],
          [
           "Scottie Barnes"
          ],
          [
           "O.G. Anunoby"
          ],
          [
           "Brandon Ingram"
          ],
          [
           "Michael Porter Jr."
          ],
          [
           "Saddiq Bey"
          ],
          [
           "Dillon Brooks"
          ],
          [
           "De'Andre Hunter"
          ],
          [
           "Tim Hardaway Jr."
          ],
          [
           "Keegan Murray"
          ],
          [
           "Bruce Brown"
          ],
          [
           "Corey Kispert"
          ],
          [
           "Aaron Nesmith"
          ],
          [
           "Gordon Hayward"
          ],
          [
           "Marcus Morris Sr."
          ],
          [
           "Naji Marshall"
          ],
          [
           "Deni Avdija"
          ],
          [
           "Caleb Martin"
          ],
          [
           "Cedi Osman"
          ],
          [
           "Doug McDermott"
          ],
          [
           "Cameron Johnson"
          ],
          [
           "Herbert Jones"
          ],
          [
           "Keita Bates-Diop"
          ],
          [
           "Kyle Anderson"
          ],
          [
           "Georges Niang"
          ],
          [
           "Andrew Wiggins"
          ],
          [
           "Torrey Craig"
          ],
          [
           "Joe Harris"
          ],
          [
           "Reggie Bullock"
          ],
          [
           "Jordan Nwora"
          ],
          [
           "Troy Brown Jr."
          ],
          [
           "Josh Okogie"
          ],
          [
           "Sam Hauser"
          ],
          [
           "Khris Middleton"
          ],
          [
           "Isaac Okoro"
          ],
          [
           "Isaiah Jackson"
          ],
          [
           "Kenrich Williams"
          ],
          [
           "Kevin Knox II"
          ],
          [
           "Oshae Brissett"
          ],
          [
           "Jalen Johnson"
          ],
          [
           "Cam Reddish"
          ],
          [
           "Nassir Little"
          ],
          [
           "Yuta Watanabe"
          ],
          [
           "Derrick Jones Jr."
          ],
          [
           "T.J. Warren"
          ],
          [
           "Vlatko Cancar"
          ],
          [
           "Rudy Gay"
          ],
          [
           "Paul Reed"
          ],
          [
           "Jae'Sean Tate"
          ],
          [
           "Danuel House Jr."
          ],
          [
           "Davis Bertans"
          ],
          [
           "Justin Holiday"
          ],
          [
           "Stanley Johnson"
          ],
          [
           "Javonte Green"
          ],
          [
           "Admiral Schofield"
          ],
          [
           "Juan Toscano-Anderson"
          ],
          [
           "Kessler Edwards"
          ],
          [
           "Thanasis Antetokounmpo"
          ],
          [
           "Garrett Temple"
          ],
          [
           "KZ Okpala"
          ],
          [
           "Otto Porter Jr."
          ],
          [
           "Cody Martin"
          ],
          [
           "Justin Jackson"
          ],
          [
           "Louis King"
          ],
          [
           "Justin Champagnie"
          ],
          [
           "Joe Wieskamp"
          ],
          [
           "Deonte Burton"
          ],
          [
           "Sterling Brown"
          ]
         ],
         "hovertemplate": "POS=SF<br>FGM=%{x}<br>3PM=%{y}<br>AST=%{marker.size}<br>PName=%{customdata[0]}<extra></extra>",
         "legendgroup": "SF",
         "marker": {
          "color": "#636efa",
          "size": [
           342,
           377,
           273,
           375,
           283,
           340,
           183,
           239,
           150,
           152,
           204,
           128,
           371,
           131,
           262,
           65,
           118,
           189,
           94,
           129,
           98,
           268,
           87,
           98,
           206,
           114,
           189,
           211,
           117,
           115,
           91,
           78,
           162,
           103,
           335,
           77,
           85,
           117,
           101,
           108,
           88,
           95,
           105,
           71,
           163,
           87,
           51,
           105,
           33,
           44,
           83,
           57,
           50,
           48,
           34,
           40,
           80,
           57,
           27,
           84,
           44,
           21,
           41,
           67,
           23,
           31,
           65,
           23,
           15,
           13,
           13,
           8,
           11,
           9,
           2,
           4,
           3,
           0,
           2
          ],
          "sizemode": "area",
          "sizeref": 1.8525,
          "symbol": "circle"
         },
         "mode": "markers",
         "name": "SF",
         "orientation": "v",
         "showlegend": true,
         "type": "scatter",
         "x": [
          727,
          657,
          593,
          609,
          542,
          479,
          503,
          512,
          434,
          430,
          446,
          374,
          463,
          421,
          404,
          398,
          353,
          392,
          379,
          340,
          354,
          358,
          291,
          252,
          276,
          274,
          247,
          253,
          254,
          239,
          239,
          223,
          235,
          236,
          252,
          222,
          250,
          228,
          201,
          192,
          194,
          200,
          162,
          180,
          177,
          175,
          179,
          179,
          152,
          123,
          158,
          139,
          134,
          114,
          115,
          132,
          108,
          109,
          124,
          110,
          93,
          69,
          77,
          65,
          61,
          55,
          64,
          36,
          20,
          18,
          16,
          15,
          14,
          7,
          8,
          5,
          3,
          0,
          0
         ],
         "xaxis": "x",
         "y": [
          240,
          46,
          169,
          121,
          130,
          36,
          134,
          160,
          144,
          145,
          104,
          132,
          63,
          142,
          64,
          188,
          151,
          143,
          100,
          212,
          206,
          91,
          163,
          115,
          52,
          112,
          66,
          69,
          84,
          116,
          123,
          103,
          56,
          56,
          43,
          154,
          89,
          100,
          142,
          151,
          86,
          107,
          66,
          140,
          51,
          62,
          2,
          50,
          65,
          48,
          30,
          45,
          58,
          60,
          27,
          22,
          43,
          33,
          1,
          13,
          37,
          55,
          46,
          18,
          13,
          24,
          8,
          17,
          0,
          11,
          7,
          6,
          3,
          5,
          4,
          1,
          3,
          0,
          0
         ],
         "yaxis": "y"
        },
        {
         "customdata": [
          [
           "Joel Embiid"
          ],
          [
           "Nikola Jokic"
          ],
          [
           "Bam Adebayo"
          ],
          [
           "Kristaps Porzingis"
          ],
          [
           "Nikola Vucevic"
          ],
          [
           "Brook Lopez"
          ],
          [
           "Deandre Ayton"
          ],
          [
           "Jonas Valanciunas"
          ],
          [
           "Myles Turner"
          ],
          [
           "Alperen Sengun"
          ],
          [
           "Jarrett Allen"
          ],
          [
           "Nic Claxton"
          ],
          [
           "Rudy Gobert"
          ],
          [
           "Jakob Poeltl"
          ],
          [
           "Wendell Carter Jr."
          ],
          [
           "Mason Plumlee"
          ],
          [
           "Ivica Zubac"
          ],
          [
           "Naz Reid"
          ],
          [
           "Clint Capela"
          ],
          [
           "Daniel Gafford"
          ],
          [
           "Jusuf Nurkic"
          ],
          [
           "Walker Kessler"
          ],
          [
           "Bol Bol"
          ],
          [
           "Al Horford"
          ],
          [
           "Jalen Duren"
          ],
          [
           "Karl-Anthony Towns"
          ],
          [
           "Moritz Wagner"
          ],
          [
           "Thomas Bryant"
          ],
          [
           "Isaiah Stewart"
          ],
          [
           "Nick Richards"
          ],
          [
           "Dwight Powell"
          ],
          [
           "Jock Landale"
          ],
          [
           "James Wiseman"
          ],
          [
           "Mitchell Robinson"
          ],
          [
           "Isaiah Hartenstein"
          ],
          [
           "Andre Drummond"
          ],
          [
           "Mark Williams"
          ],
          [
           "Mike Muscala"
          ],
          [
           "Steven Adams"
          ],
          [
           "Mo Bamba"
          ],
          [
           "Montrezl Harrell"
          ],
          [
           "Robert Williams III"
          ],
          [
           "Bismack Biyombo"
          ],
          [
           "Willy Hernangomez"
          ],
          [
           "Luke Kornet"
          ],
          [
           "Jaxson Hayes"
          ],
          [
           "Day'Ron Sharpe"
          ],
          [
           "Charles Bassey"
          ],
          [
           "DeAndre Jordan"
          ],
          [
           "Dewayne Dedmon"
          ],
          [
           "JaVale McGee"
          ],
          [
           "Christian Koloko"
          ],
          [
           "Luka Garza"
          ],
          [
           "Jericho Sims"
          ],
          [
           "Goga Bitadze"
          ],
          [
           "Moses Brown"
          ],
          [
           "Damian Jones"
          ],
          [
           "Udoka Azubuike"
          ],
          [
           "Gorgui Dieng"
          ],
          [
           "Orlando Robinson"
          ],
          [
           "Robin Lopez"
          ],
          [
           "Boban Marjanovic"
          ],
          [
           "Cody Zeller"
          ],
          [
           "Jay Huff"
          ],
          [
           "Daniel Theis"
          ],
          [
           "Alex Len"
          ],
          [
           "Khem Birch"
          ],
          [
           "Meyers Leonard"
          ],
          [
           "Omer Yurtseven"
          ],
          [
           "Olivier Sarr"
          ],
          [
           "Nerlens Noel"
          ],
          [
           "Micah Potter"
          ],
          [
           "Tony Bradley"
          ],
          [
           "Neemias Queta"
          ],
          [
           "Chance Comanche"
          ],
          [
           "Marko Simonovic"
          ],
          [
           "Mfiondu Kabengele"
          ],
          [
           "Vernon Carey Jr."
          ]
         ],
         "hovertemplate": "POS=C<br>FGM=%{x}<br>3PM=%{y}<br>AST=%{marker.size}<br>PName=%{customdata[0]}<extra></extra>",
         "legendgroup": "C",
         "marker": {
          "color": "#EF553B",
          "size": [
           274,
           678,
           240,
           174,
           265,
           99,
           115,
           140,
           89,
           291,
           113,
           144,
           87,
           197,
           132,
           245,
           77,
           77,
           58,
           84,
           149,
           69,
           69,
           189,
           75,
           140,
           84,
           31,
           70,
           38,
           69,
           68,
           30,
           53,
           102,
           33,
           18,
           50,
           97,
           46,
           33,
           50,
           56,
           33,
           53,
           34,
           37,
           48,
           34,
           26,
           11,
           31,
           18,
           25,
           39,
           4,
           15,
           11,
           53,
           25,
           19,
           9,
           10,
           10,
           9,
           12,
           7,
           1,
           2,
           4,
           10,
           4,
           1,
           1,
           0,
           0,
           0,
           3
          ],
          "sizemode": "area",
          "sizeref": 1.8525,
          "symbol": "circle"
         },
         "mode": "markers",
         "name": "C",
         "orientation": "v",
         "showlegend": true,
         "type": "scatter",
         "x": [
          728,
          646,
          602,
          507,
          597,
          477,
          522,
          446,
          402,
          442,
          403,
          414,
          360,
          389,
          322,
          329,
          326,
          310,
          350,
          289,
          262,
          298,
          261,
          228,
          258,
          212,
          198,
          230,
          195,
          197,
          197,
          178,
          189,
          188,
          175,
          166,
          160,
          131,
          157,
          117,
          125,
          127,
          119,
          89,
          113,
          86,
          93,
          87,
          88,
          77,
          80,
          72,
          63,
          83,
          69,
          61,
          55,
          59,
          45,
          47,
          48,
          41,
          37,
          15,
          21,
          16,
          19,
          14,
          16,
          15,
          13,
          10,
          6,
          6,
          3,
          2,
          2,
          2
         ],
         "xaxis": "x",
         "y": [
          66,
          57,
          1,
          137,
          121,
          136,
          7,
          38,
          93,
          19,
          1,
          0,
          0,
          0,
          80,
          0,
          0,
          75,
          0,
          0,
          43,
          1,
          30,
          145,
          0,
          60,
          51,
          26,
          67,
          1,
          0,
          21,
          4,
          0,
          8,
          0,
          0,
          81,
          0,
          48,
          0,
          0,
          0,
          3,
          3,
          3,
          6,
          3,
          1,
          12,
          2,
          1,
          14,
          0,
          6,
          0,
          10,
          0,
          21,
          0,
          2,
          0,
          0,
          6,
          2,
          0,
          1,
          7,
          3,
          1,
          1,
          4,
          3,
          0,
          0,
          1,
          0,
          0
         ],
         "yaxis": "y"
        },
        {
         "customdata": [
          [
           "Luka Doncic"
          ],
          [
           "Shai Gilgeous-Alexander"
          ],
          [
           "Trae Young"
          ],
          [
           "Damian Lillard"
          ],
          [
           "De'Aaron Fox"
          ],
          [
           "Stephen Curry"
          ],
          [
           "Jalen Brunson"
          ],
          [
           "Kyrie Irving"
          ],
          [
           "Ja Morant"
          ],
          [
           "Darius Garland"
          ],
          [
           "Spencer Dinwiddie"
          ],
          [
           "Tyler Herro"
          ],
          [
           "Jamal Murray"
          ],
          [
           "Jrue Holiday"
          ],
          [
           "Jordan Clarkson"
          ],
          [
           "D'Angelo Russell"
          ],
          [
           "Tyrese Maxey"
          ],
          [
           "Jaden Ivey"
          ],
          [
           "Tyrese Haliburton"
          ],
          [
           "Russell Westbrook"
          ],
          [
           "Derrick White"
          ],
          [
           "Malcolm Brogdon"
          ],
          [
           "Tre Jones"
          ],
          [
           "LaMelo Ball"
          ],
          [
           "Markelle Fultz"
          ],
          [
           "Dennis Schroder"
          ],
          [
           "Tyus Jones"
          ],
          [
           "Chris Paul"
          ],
          [
           "Mike Conley"
          ],
          [
           "Killian Hayes"
          ],
          [
           "Cole Anthony"
          ],
          [
           "Coby White"
          ],
          [
           "Andrew Nembhard"
          ],
          [
           "Marcus Smart"
          ],
          [
           "Reggie Jackson"
          ],
          [
           "Collin Sexton"
          ],
          [
           "Bones Hyland"
          ],
          [
           "Jevon Carter"
          ],
          [
           "T.J. McConnell"
          ],
          [
           "Gabe Vincent"
          ],
          [
           "Monte Morris"
          ],
          [
           "Kyle Lowry"
          ],
          [
           "Jose Alvarado"
          ],
          [
           "Devonte' Graham"
          ],
          [
           "Tre Mann"
          ],
          [
           "Cameron Payne"
          ],
          [
           "Dennis Smith Jr."
          ],
          [
           "Davion Mitchell"
          ],
          [
           "Cory Joseph"
          ],
          [
           "Patrick Beverley"
          ],
          [
           "John Wall"
          ],
          [
           "Edmond Sumner"
          ],
          [
           "Goran Dragic"
          ],
          [
           "R.J. Hampton"
          ],
          [
           "Theo Maledon"
          ],
          [
           "Ben Simmons"
          ],
          [
           "Payton Pritchard"
          ],
          [
           "Malachi Flynn"
          ],
          [
           "Patty Mills"
          ],
          [
           "Duane Washington Jr."
          ],
          [
           "Cade Cunningham"
          ],
          [
           "George Hill"
          ],
          [
           "Miles McBride"
          ],
          [
           "Ricky Rubio"
          ],
          [
           "Jordan McLaughlin"
          ],
          [
           "Raul Neto"
          ],
          [
           "Derrick Rose"
          ],
          [
           "Dalano Banton"
          ],
          [
           "Frank Ntilikina"
          ],
          [
           "Kira Lewis Jr."
          ],
          [
           "McKinley Wright IV"
          ],
          [
           "Ish Smith"
          ],
          [
           "Kemba Walker"
          ],
          [
           "Jeff Dowtin Jr."
          ],
          [
           "Matthew Dellavedova"
          ],
          [
           "Jason Preston"
          ],
          [
           "Xavier Moon"
          ],
          [
           "Alondes Williams"
          ]
         ],
         "hovertemplate": "POS=PG<br>FGM=%{x}<br>3PM=%{y}<br>AST=%{marker.size}<br>PName=%{customdata[0]}<extra></extra>",
         "legendgroup": "PG",
         "marker": {
          "color": "#00cc96",
          "size": [
           529,
           371,
           741,
           425,
           447,
           352,
           421,
           331,
           493,
           538,
           515,
           280,
           400,
           495,
           270,
           437,
           212,
           387,
           585,
           551,
           321,
           248,
           448,
           304,
           341,
           298,
           417,
           524,
           450,
           470,
           235,
           204,
           341,
           382,
           233,
           138,
           172,
           197,
           397,
           167,
           326,
           281,
           186,
           196,
           120,
           214,
           261,
           185,
           217,
           194,
           178,
           68,
           151,
           54,
           152,
           256,
           64,
           70,
           56,
           63,
           72,
           110,
           72,
           115,
           148,
           79,
           46,
           36,
           58,
           23,
           58,
           100,
           19,
           31,
           41,
           27,
           5,
           0
          ],
          "sizemode": "area",
          "sizeref": 1.8525,
          "symbol": "circle"
         },
         "mode": "markers",
         "name": "PG",
         "orientation": "v",
         "showlegend": true,
         "type": "scatter",
         "x": [
          719,
          704,
          597,
          556,
          682,
          559,
          587,
          594,
          566,
          522,
          460,
          487,
          473,
          490,
          458,
          445,
          439,
          409,
          412,
          432,
          350,
          354,
          341,
          296,
          349,
          270,
          311,
          294,
          261,
          307,
          277,
          263,
          284,
          250,
          263,
          237,
          228,
          239,
          283,
          228,
          247,
          196,
          201,
          161,
          197,
          188,
          186,
          181,
          150,
          144,
          138,
          124,
          141,
          102,
          102,
          133,
          101,
          87,
          86,
          94,
          93,
          78,
          77,
          61,
          61,
          57,
          61,
          55,
          48,
          40,
          46,
          52,
          24,
          25,
          17,
          18,
          3,
          0
         ],
         "xaxis": "x",
         "y": [
          185,
          58,
          154,
          244,
          119,
          273,
          134,
          188,
          92,
          169,
          181,
          203,
          172,
          158,
          155,
          194,
          160,
          120,
          161,
          89,
          149,
          132,
          45,
          144,
          27,
          74,
          121,
          98,
          135,
          80,
          75,
          128,
          92,
          115,
          96,
          48,
          117,
          142,
          26,
          117,
          78,
          107,
          83,
          119,
          81,
          68,
          24,
          63,
          70,
          80,
          33,
          31,
          52,
          41,
          28,
          0,
          56,
          47,
          49,
          40,
          17,
          34,
          40,
          21,
          24,
          12,
          19,
          15,
          17,
          15,
          9,
          2,
          7,
          5,
          9,
          5,
          1,
          0
         ],
         "yaxis": "y"
        },
        {
         "customdata": [
          [
           "Giannis Antetokounmpo"
          ],
          [
           "Julius Randle"
          ],
          [
           "Pascal Siakam"
          ],
          [
           "Lauri Markkanen"
          ],
          [
           "Domantas Sabonis"
          ],
          [
           "Anthony Davis"
          ],
          [
           "Paolo Banchero"
          ],
          [
           "Kevin Durant"
          ],
          [
           "Evan Mobley"
          ],
          [
           "Jaren Jackson Jr."
          ],
          [
           "P.J. Washington"
          ],
          [
           "Aaron Gordon"
          ],
          [
           "Tobias Harris"
          ],
          [
           "Jabari Smith Jr."
          ],
          [
           "Jaden McDaniels"
          ],
          [
           "John Collins"
          ],
          [
           "Kelly Olynyk"
          ],
          [
           "Patrick Williams"
          ],
          [
           "Onyeka Okongwu"
          ],
          [
           "Jalen McDaniels"
          ],
          [
           "Zion Williamson"
          ],
          [
           "Zach Collins"
          ],
          [
           "Chris Boucher"
          ],
          [
           "Rui Hachimura"
          ],
          [
           "Santi Aldama"
          ],
          [
           "Royce O'Neale"
          ],
          [
           "Jonathan Kuminga"
          ],
          [
           "Jalen Smith"
          ],
          [
           "Grant Williams"
          ],
          [
           "Jarred Vanderbilt"
          ],
          [
           "Draymond Green"
          ],
          [
           "Trey Lyles"
          ],
          [
           "Brandon Clarke"
          ],
          [
           "Dorian Finney-Smith"
          ],
          [
           "Drew Eubanks"
          ],
          [
           "Kevin Love"
          ],
          [
           "Precious Achiuwa"
          ],
          [
           "Marvin Bagley III"
          ],
          [
           "Obi Toppin"
          ],
          [
           "Taurean Prince"
          ],
          [
           "Nicolas Batum"
          ],
          [
           "Trendon Watford"
          ],
          [
           "Larry Nance Jr."
          ],
          [
           "Jeff Green"
          ],
          [
           "Dario Saric"
          ],
          [
           "Isaiah Livers"
          ],
          [
           "Chimezie Metu"
          ],
          [
           "Jeremiah Robinson-Earl"
          ],
          [
           "Robert Covington"
          ],
          [
           "Zeke Nnaji"
          ],
          [
           "P.J. Tucker"
          ],
          [
           "Sandro Mamukelashvili"
          ],
          [
           "Thaddeus Young"
          ],
          [
           "Usman Garuba"
          ],
          [
           "Darius Bazley"
          ],
          [
           "Maxi Kleber"
          ],
          [
           "Dean Wade"
          ],
          [
           "Justise Winslow"
          ],
          [
           "Anthony Gill"
          ],
          [
           "Blake Griffin"
          ],
          [
           "Kai Jones"
          ],
          [
           "Bruno Fernando"
          ],
          [
           "Markieff Morris"
          ],
          [
           "Chuma Okeke"
          ],
          [
           "Jae Crowder"
          ],
          [
           "Juancho Hernangomez"
          ],
          [
           "Frank Kaminsky"
          ],
          [
           "Jonathan Isaac"
          ],
          [
           "James Johnson"
          ],
          [
           "Greg Brown III"
          ],
          [
           "Udonis Haslem"
          ],
          [
           "Noah Vonleh"
          ],
          [
           "Jarrell Brantley"
          ],
          [
           "Isaiah Todd"
          ],
          [
           "Michael Foster Jr."
          ]
         ],
         "hovertemplate": "POS=PF<br>FGM=%{x}<br>3PM=%{y}<br>AST=%{marker.size}<br>PName=%{customdata[0]}<extra></extra>",
         "legendgroup": "PF",
         "marker": {
          "color": "#ab63fa",
          "size": [
           359,
           316,
           415,
           123,
           573,
           148,
           269,
           235,
           224,
           60,
           175,
           203,
           186,
           101,
           148,
           85,
           252,
           100,
           81,
           130,
           133,
           180,
           29,
           58,
           97,
           283,
           125,
           66,
           131,
           184,
           500,
           66,
           72,
           100,
           103,
           116,
           50,
           36,
           66,
           84,
           121,
           130,
           119,
           69,
           74,
           41,
           40,
           43,
           57,
           18,
           60,
           62,
           75,
           64,
           38,
           52,
           37,
           98,
           34,
           61,
           15,
           31,
           31,
           37,
           27,
           25,
           32,
           6,
           15,
           3,
           0,
           7,
           3,
           4,
           0
          ],
          "sizemode": "area",
          "sizeref": 1.8525,
          "symbol": "circle"
         },
         "mode": "markers",
         "name": "PF",
         "orientation": "v",
         "showlegend": true,
         "type": "scatter",
         "x": [
          707,
          658,
          630,
          571,
          577,
          542,
          479,
          483,
          525,
          416,
          434,
          429,
          423,
          364,
          370,
          359,
          278,
          314,
          317,
          281,
          285,
          284,
          261,
          284,
          247,
          229,
          261,
          242,
          216,
          247,
          250,
          187,
          229,
          196,
          214,
          165,
          196,
          202,
          187,
          177,
          160,
          181,
          186,
          160,
          127,
          120,
          129,
          110,
          102,
          110,
          96,
          97,
          108,
          86,
          83,
          77,
          73,
          81,
          71,
          63,
          67,
          59,
          47,
          43,
          45,
          48,
          31,
          22,
          22,
          11,
          10,
          11,
          8,
          3,
          0
         ],
         "xaxis": "x",
         "y": [
          47,
          218,
          93,
          200,
          31,
          19,
          85,
          93,
          22,
          100,
          149,
          60,
          126,
          120,
          107,
          70,
          93,
          115,
          4,
          77,
          7,
          55,
          62,
          51,
          94,
          163,
          54,
          54,
          115,
          29,
          40,
          87,
          1,
          114,
          7,
          99,
          29,
          19,
          85,
          74,
          124,
          25,
          14,
          30,
          45,
          74,
          9,
          37,
          54,
          17,
          55,
          30,
          6,
          24,
          20,
          39,
          45,
          14,
          4,
          23,
          4,
          0,
          28,
          26,
          24,
          17,
          13,
          6,
          3,
          1,
          3,
          1,
          4,
          1,
          0
         ],
         "yaxis": "y"
        },
        {
         "customdata": [
          [
           "Anthony Edwards"
          ],
          [
           "Donovan Mitchell"
          ],
          [
           "Zach LaVine"
          ],
          [
           "Jaylen Brown"
          ],
          [
           "Jalen Green"
          ],
          [
           "Jordan Poole"
          ],
          [
           "CJ McCollum"
          ],
          [
           "Dejounte Murray"
          ],
          [
           "Klay Thompson"
          ],
          [
           "Devin Booker"
          ],
          [
           "RJ Barrett"
          ],
          [
           "Buddy Hield"
          ],
          [
           "Fred VanVleet"
          ],
          [
           "Terry Rozier"
          ],
          [
           "Anfernee Simons"
          ],
          [
           "Bennedict Mathurin"
          ],
          [
           "Josh Giddey"
          ],
          [
           "Desmond Bane"
          ],
          [
           "James Harden"
          ],
          [
           "Immanuel Quickley"
          ],
          [
           "Bradley Beal"
          ],
          [
           "Gary Trent Jr."
          ],
          [
           "Trey Murphy III"
          ],
          [
           "Kevin Huerter"
          ],
          [
           "Kevin Porter Jr."
          ],
          [
           "Malik Monk"
          ],
          [
           "Malik Beasley"
          ],
          [
           "Kelly Oubre Jr."
          ],
          [
           "Max Strus"
          ],
          [
           "Caris LeVert"
          ],
          [
           "Eric Gordon"
          ],
          [
           "Austin Reaves"
          ],
          [
           "Kentavious Caldwell-Pope"
          ],
          [
           "Quentin Grimes"
          ],
          [
           "Shaedon Sharpe"
          ],
          [
           "De'Anthony Melton"
          ],
          [
           "Bogdan Bogdanovic"
          ],
          [
           "Grayson Allen"
          ],
          [
           "Josh Hart"
          ],
          [
           "Terance Mann"
          ],
          [
           "Jaylen Nowell"
          ],
          [
           "Devin Vassell"
          ],
          [
           "Talen Horton-Tucker"
          ],
          [
           "Isaiah Joe"
          ],
          [
           "Ayo Dosunmu"
          ],
          [
           "Donte DiVincenzo"
          ],
          [
           "Josh Richardson"
          ],
          [
           "Alec Burks"
          ],
          [
           "Shake Milton"
          ],
          [
           "Cam Thomas"
          ],
          [
           "Damion Lee"
          ],
          [
           "Seth Curry"
          ],
          [
           "Josh Green"
          ],
          [
           "Luke Kennard"
          ],
          [
           "Jalen Suggs"
          ],
          [
           "Hamidou Diallo"
          ],
          [
           "Aaron Wiggins"
          ],
          [
           "Pat Connaughton"
          ],
          [
           "Victor Oladipo"
          ],
          [
           "Terence Davis"
          ],
          [
           "Gary Harris"
          ],
          [
           "Alex Caruso"
          ],
          [
           "Josh Christopher"
          ],
          [
           "Delon Wright"
          ],
          [
           "John Konchar"
          ],
          [
           "Nickeil Alexander-Walker"
          ],
          [
           "Chris Duarte"
          ],
          [
           "Landry Shamet"
          ],
          [
           "Joe Ingles"
          ],
          [
           "Ty Jerome"
          ],
          [
           "Moses Moody"
          ],
          [
           "Romeo Langford"
          ],
          [
           "Matisse Thybulle"
          ],
          [
           "Garrison Mathews"
          ],
          [
           "Austin Rivers"
          ],
          [
           "Daishen Nix"
          ],
          [
           "Svi Mykhailiuk"
          ],
          [
           "James Bouknight"
          ],
          [
           "Keon Johnson"
          ],
          [
           "Wesley Matthews"
          ],
          [
           "Amir Coffey"
          ],
          [
           "Evan Fournier"
          ],
          [
           "Brandon Boston Jr."
          ],
          [
           "Furkan Korkmaz"
          ],
          [
           "Gary Payton II"
          ],
          [
           "Skylar Mays"
          ],
          [
           "Bryn Forbes"
          ],
          [
           "Davon Reed"
          ],
          [
           "Jared Butler"
          ],
          [
           "Joshua Primo"
          ],
          [
           "Mac McClung"
          ],
          [
           "Sam Merrill"
          ],
          [
           "Trevelin Queen"
          ],
          [
           "JD Davison"
          ],
          [
           "Kendall Brown"
          ],
          [
           "Dylan Windler"
          ],
          [
           "Frank Jackson"
          ]
         ],
         "hovertemplate": "POS=SG<br>FGM=%{x}<br>3PM=%{y}<br>AST=%{marker.size}<br>PName=%{customdata[0]}<extra></extra>",
         "legendgroup": "SG",
         "marker": {
          "color": "#FFA15A",
          "size": [
           350,
           301,
           327,
           232,
           281,
           369,
           429,
           448,
           163,
           293,
           201,
           225,
           495,
           319,
           253,
           116,
           469,
           254,
           618,
           279,
           271,
           106,
           112,
           221,
           338,
           298,
           124,
           54,
           171,
           287,
           183,
           215,
           183,
           150,
           94,
           197,
           150,
           163,
           290,
           184,
           132,
           136,
           246,
           88,
           206,
           252,
           174,
           114,
           240,
           78,
           99,
           99,
           103,
           91,
           155,
           55,
           80,
           77,
           146,
           67,
           59,
           193,
           73,
           194,
           100,
           108,
           64,
           93,
           150,
           135,
           51,
           50,
           53,
           26,
           75,
           132,
           53,
           41,
           59,
           34,
           53,
           36,
           20,
           22,
           30,
           50,
           17,
           23,
           8,
           18,
           9,
           5,
           6,
           11,
           3,
           1,
           1
          ],
          "sizemode": "area",
          "sizeref": 1.8525,
          "symbol": "circle"
         },
         "mode": "markers",
         "name": "SG",
         "orientation": "v",
         "showlegend": true,
         "type": "scatter",
         "x": [
          707,
          679,
          673,
          679,
          566,
          550,
          587,
          612,
          546,
          527,
          510,
          475,
          437,
          493,
          467,
          413,
          539,
          450,
          371,
          419,
          444,
          405,
          387,
          420,
          391,
          357,
          370,
          353,
          324,
          320,
          291,
          259,
          292,
          282,
          306,
          277,
          273,
          245,
          275,
          272,
          280,
          261,
          257,
          224,
          281,
          235,
          239,
          200,
          241,
          201,
          200,
          208,
          205,
          188,
          186,
          215,
          186,
          165,
          160,
          154,
          138,
          130,
          153,
          138,
          138,
          131,
          123,
          113,
          108,
          118,
          108,
          121,
          110,
          73,
          91,
          81,
          77,
          69,
          67,
          58,
          56,
          56,
          51,
          48,
          41,
          34,
          30,
          28,
          15,
          9,
          9,
          9,
          7,
          8,
          4,
          2,
          0
         ],
         "xaxis": "x",
         "y": [
          213,
          245,
          204,
          163,
          187,
          214,
          211,
          133,
          301,
          111,
          121,
          288,
          207,
          165,
          212,
          100,
          76,
          166,
          161,
          168,
          80,
          166,
          202,
          205,
          141,
          143,
          235,
          108,
          197,
          127,
          132,
          86,
          135,
          157,
          102,
          157,
          146,
          146,
          61,
          77,
          67,
          103,
          58,
          161,
          59,
          150,
          107,
          99,
          56,
          51,
          110,
          94,
          68,
          133,
          66,
          5,
          48,
          109,
          70,
          89,
          94,
          55,
          21,
          41,
          60,
          61,
          55,
          75,
          83,
          35,
          49,
          16,
          54,
          63,
          43,
          40,
          42,
          33,
          28,
          39,
          11,
          35,
          12,
          18,
          13,
          12,
          14,
          17,
          7,
          3,
          4,
          5,
          2,
          2,
          0,
          1,
          0
         ],
         "yaxis": "y"
        },
        {
         "customdata": [
          [
           "Paul George"
          ],
          [
           "Christian Wood"
          ],
          [
           "Jalen Williams"
          ],
          [
           "Kenyon Martin Jr."
          ],
          [
           "Bobby Portis"
          ],
          [
           "Tari Eason"
          ],
          [
           "AJ Griffin"
          ],
          [
           "Jeremy Sochan"
          ],
          [
           "Kevon Looney"
          ],
          [
           "David Roddy"
          ],
          [
           "Xavier Tillman"
          ],
          [
           "Anthony Lamb"
          ],
          [
           "Wenyen Gabriel"
          ],
          [
           "JaMychal Green"
          ],
          [
           "Lamar Stevens"
          ],
          [
           "Simone Fontecchio"
          ],
          [
           "Jaylin Williams"
          ],
          [
           "Eugene Omoruyi"
          ],
          [
           "Aleksej Pokusevski"
          ],
          [
           "Duncan Robinson"
          ],
          [
           "MarJon Beauchamp"
          ],
          [
           "JT Thor"
          ],
          [
           "Ish Wainright"
          ],
          [
           "Haywood Highsmith"
          ],
          [
           "Jabari Walker"
          ],
          [
           "Lindy Waters III"
          ],
          [
           "Ziaire Williams"
          ],
          [
           "Ousmane Dieng"
          ],
          [
           "Isaiah Roby"
          ],
          [
           "Taj Gibson"
          ],
          [
           "Julian Champagnie"
          ],
          [
           "Nathan Knight"
          ],
          [
           "Richaun Holmes"
          ],
          [
           "Matt Ryan"
          ],
          [
           "Patrick Baldwin Jr."
          ],
          [
           "Kenneth Lofton Jr."
          ],
          [
           "Dominick Barlow"
          ],
          [
           "Jake LaRavia"
          ],
          [
           "Jamal Cain"
          ],
          [
           "Terry Taylor"
          ],
          [
           "Dalen Terry"
          ],
          [
           "Nikola Jovic"
          ],
          [
           "Peyton Watson"
          ],
          [
           "Luka Samanic"
          ],
          [
           "Serge Ibaka"
          ],
          [
           "Danny Green"
          ],
          [
           "Moussa Diabate"
          ],
          [
           "Mamadi Diakite"
          ],
          [
           "Josh Minott"
          ],
          [
           "John Butler Jr."
          ],
          [
           "Isaiah Mobley"
          ],
          [
           "Jack White"
          ],
          [
           "Ron Harper Jr."
          ],
          [
           "Andre Iguodala"
          ],
          [
           "Justin Minaya"
          ],
          [
           "Xavier Sneed"
          ],
          [
           "Buddy Boeheim"
          ],
          [
           "RaiQuan Gray"
          ],
          [
           "Darius Days"
          ],
          [
           "Cole Swider"
          ],
          [
           "Alize Johnson"
          ],
          [
           "Leandro Bolmaro"
          ],
          [
           "Malcolm Hill"
          ],
          [
           "Jordan Schakel"
          ],
          [
           "Chima Moneke"
          ],
          [
           "Chris Silva"
          ]
         ],
         "hovertemplate": "POS=F<br>FGM=%{x}<br>3PM=%{y}<br>AST=%{marker.size}<br>PName=%{customdata[0]}<extra></extra>",
         "legendgroup": "F",
         "marker": {
          "color": "#19d3f3",
          "size": [
           288,
           121,
           248,
           123,
           105,
           88,
           73,
           142,
           207,
           59,
           96,
           96,
           36,
           51,
           33,
           42,
           76,
           28,
           64,
           46,
           35,
           36,
           53,
           43,
           34,
           28,
           35,
           46,
           38,
           34,
           10,
           13,
           9,
           16,
           11,
           20,
           24,
           21,
           12,
           10,
           22,
           10,
           11,
           15,
           4,
           6,
           4,
           8,
           5,
           11,
           3,
           4,
           4,
           19,
           4,
           5,
           4,
           7,
           1,
           4,
           1,
           7,
           0,
           1,
           1,
           0
          ],
          "sizemode": "area",
          "sizeref": 1.8525,
          "symbol": "circle"
         },
         "mode": "markers",
         "name": "F",
         "orientation": "v",
         "showlegend": true,
         "type": "scatter",
         "x": [
          459,
          396,
          414,
          410,
          398,
          296,
          248,
          250,
          242,
          180,
          188,
          148,
          155,
          136,
          129,
          115,
          102,
          101,
          108,
          88,
          96,
          95,
          84,
          93,
          83,
          70,
          84,
          76,
          67,
          65,
          59,
          46,
          55,
          40,
          43,
          49,
          46,
          37,
          37,
          39,
          32,
          28,
          29,
          26,
          26,
          22,
          24,
          24,
          18,
          17,
          12,
          8,
          8,
          7,
          7,
          5,
          5,
          6,
          5,
          3,
          3,
          3,
          2,
          1,
          1,
          1
         ],
         "xaxis": "x",
         "y": [
          158,
          105,
          73,
          68,
          95,
          59,
          101,
          33,
          0,
          65,
          4,
          73,
          10,
          42,
          30,
          63,
          46,
          25,
          38,
          63,
          47,
          39,
          57,
          37,
          16,
          58,
          25,
          26,
          18,
          8,
          33,
          8,
          5,
          32,
          32,
          6,
          0,
          24,
          7,
          5,
          7,
          8,
          6,
          8,
          6,
          16,
          1,
          7,
          2,
          8,
          3,
          3,
          3,
          1,
          3,
          3,
          4,
          2,
          3,
          3,
          0,
          0,
          1,
          1,
          0,
          0
         ],
         "yaxis": "y"
        },
        {
         "customdata": [
          [
           "Norman Powell"
          ],
          [
           "Luguentz Dort"
          ],
          [
           "Malaki Branham"
          ],
          [
           "Lonnie Walker IV"
          ],
          [
           "Terrence Ross"
          ],
          [
           "Kendrick Nunn"
          ],
          [
           "Ochai Agbaji"
          ],
          [
           "Jaden Hardy"
          ],
          [
           "Jordan Goodwin"
          ],
          [
           "Will Barton"
          ],
          [
           "Christian Braun"
          ],
          [
           "Kris Dunn"
          ],
          [
           "Aaron Holiday"
          ],
          [
           "Bryce McGowens"
          ],
          [
           "Dyson Daniels"
          ],
          [
           "Caleb Houstan"
          ],
          [
           "Blake Wesley"
          ],
          [
           "Rodney McGruder"
          ],
          [
           "Johnny Davis"
          ],
          [
           "AJ Green"
          ],
          [
           "Saben Lee"
          ],
          [
           "TyTy Washington Jr."
          ],
          [
           "Kevon Harris"
          ],
          [
           "Max Christie"
          ],
          [
           "Theo Pinson"
          ],
          [
           "Johnny Juzang"
          ],
          [
           "David Duke Jr."
          ],
          [
           "Kennedy Chandler"
          ],
          [
           "A.J. Lawson"
          ],
          [
           "Quenton Jackson"
          ],
          [
           "Jeenathan Williams"
          ],
          [
           "Trent Forrest"
          ],
          [
           "Lindell Wigginton"
          ],
          [
           "Jared Rhoden"
          ],
          [
           "Dru Smith"
          ],
          [
           "Jarrett Culver"
          ],
          [
           "Shaquille Harrison"
          ],
          [
           "Jaden Springer"
          ],
          [
           "Wendell Moore Jr."
          ],
          [
           "Xavier Cooks"
          ],
          [
           "Vit Krejci"
          ],
          [
           "Vince Williams Jr."
          ],
          [
           "Jordan Hall"
          ],
          [
           "Ryan Arcidiacono"
          ],
          [
           "Gabe York"
          ],
          [
           "Keon Ellis"
          ],
          [
           "Ryan Rollins"
          ],
          [
           "PJ Dozier"
          ],
          [
           "Tyrese Martin"
          ],
          [
           "Carlik Jones"
          ],
          [
           "Michael Carter-Williams"
          ],
          [
           "Jamaree Bouyea"
          ],
          [
           "Scotty Pippen Jr."
          ],
          [
           "Jay Scrubb"
          ],
          [
           "Facundo Campazzo"
          ],
          [
           "Lester Quinones"
          ],
          [
           "Trevor Hudgins"
          ],
          [
           "Tyler Dorsey"
          ],
          [
           "Kobi Simmons"
          ],
          [
           "Braxton Key"
          ],
          [
           "Dereon Seabron"
          ],
          [
           "Donovan Williams"
          ],
          [
           "Devon Dotson"
          ],
          [
           "Jacob Gilyard"
          ],
          [
           "Trevor Keels"
          ],
          [
           "Stanley Umude"
          ]
         ],
         "hovertemplate": "POS=G<br>FGM=%{x}<br>3PM=%{y}<br>AST=%{marker.size}<br>PName=%{customdata[0]}<extra></extra>",
         "legendgroup": "G",
         "marker": {
          "color": "#FF6692",
          "size": [
           109,
           154,
           127,
           64,
           95,
           90,
           67,
           65,
           168,
           112,
           59,
           124,
           89,
           54,
           134,
           30,
           98,
           28,
           28,
           22,
           67,
           47,
           16,
           21,
           46,
           8,
           21,
           58,
           2,
           15,
           10,
           38,
           14,
           4,
           22,
           6,
           30,
           8,
           18,
           6,
           17,
           4,
           11,
           23,
           5,
           6,
           6,
           10,
           2,
           6,
           7,
           4,
           2,
           1,
           9,
           2,
           3,
           0,
           5,
           0,
           0,
           0,
           8,
           7,
           0,
           0
          ],
          "sizemode": "area",
          "sizeref": 1.8525,
          "symbol": "circle"
         },
         "mode": "markers",
         "name": "G",
         "orientation": "v",
         "showlegend": true,
         "type": "scatter",
         "x": [
          340,
          339,
          269,
          236,
          200,
          191,
          165,
          146,
          158,
          138,
          143,
          116,
          92,
          80,
          87,
          66,
          69,
          62,
          66,
          53,
          49,
          58,
          47,
          44,
          31,
          35,
          36,
          35,
          22,
          19,
          24,
          25,
          18,
          17,
          18,
          17,
          15,
          17,
          18,
          17,
          15,
          12,
          9,
          9,
          8,
          7,
          7,
          10,
          9,
          6,
          6,
          6,
          4,
          5,
          3,
          2,
          2,
          4,
          1,
          1,
          2,
          2,
          1,
          1,
          1,
          0
         ],
         "xaxis": "x",
         "y": [
          114,
          135,
          77,
          91,
          95,
          79,
          81,
          63,
          38,
          66,
          34,
          17,
          36,
          26,
          27,
          46,
          20,
          41,
          17,
          44,
          11,
          19,
          16,
          26,
          22,
          15,
          1,
          2,
          10,
          1,
          3,
          0,
          6,
          5,
          5,
          1,
          3,
          2,
          2,
          0,
          5,
          4,
          3,
          8,
          6,
          6,
          3,
          2,
          1,
          3,
          1,
          2,
          1,
          2,
          3,
          2,
          2,
          1,
          1,
          0,
          0,
          0,
          1,
          1,
          1,
          0
         ],
         "yaxis": "y"
        }
       ],
       "layout": {
        "height": 500,
        "legend": {
         "itemsizing": "constant",
         "title": {
          "text": "POS"
         },
         "tracegroupgap": 0
        },
        "template": {
         "data": {
          "bar": [
           {
            "error_x": {
             "color": "#f2f5fa"
            },
            "error_y": {
             "color": "#f2f5fa"
            },
            "marker": {
             "line": {
              "color": "rgb(17,17,17)",
              "width": 0.5
             },
             "pattern": {
              "fillmode": "overlay",
              "size": 10,
              "solidity": 0.2
             }
            },
            "type": "bar"
           }
          ],
          "barpolar": [
           {
            "marker": {
             "line": {
              "color": "rgb(17,17,17)",
              "width": 0.5
             },
             "pattern": {
              "fillmode": "overlay",
              "size": 10,
              "solidity": 0.2
             }
            },
            "type": "barpolar"
           }
          ],
          "carpet": [
           {
            "aaxis": {
             "endlinecolor": "#A2B1C6",
             "gridcolor": "#506784",
             "linecolor": "#506784",
             "minorgridcolor": "#506784",
             "startlinecolor": "#A2B1C6"
            },
            "baxis": {
             "endlinecolor": "#A2B1C6",
             "gridcolor": "#506784",
             "linecolor": "#506784",
             "minorgridcolor": "#506784",
             "startlinecolor": "#A2B1C6"
            },
            "type": "carpet"
           }
          ],
          "choropleth": [
           {
            "colorbar": {
             "outlinewidth": 0,
             "ticks": ""
            },
            "type": "choropleth"
           }
          ],
          "contour": [
           {
            "colorbar": {
             "outlinewidth": 0,
             "ticks": ""
            },
            "colorscale": [
             [
              0,
              "#0d0887"
             ],
             [
              0.1111111111111111,
              "#46039f"
             ],
             [
              0.2222222222222222,
              "#7201a8"
             ],
             [
              0.3333333333333333,
              "#9c179e"
             ],
             [
              0.4444444444444444,
              "#bd3786"
             ],
             [
              0.5555555555555556,
              "#d8576b"
             ],
             [
              0.6666666666666666,
              "#ed7953"
             ],
             [
              0.7777777777777778,
              "#fb9f3a"
             ],
             [
              0.8888888888888888,
              "#fdca26"
             ],
             [
              1,
              "#f0f921"
             ]
            ],
            "type": "contour"
           }
          ],
          "contourcarpet": [
           {
            "colorbar": {
             "outlinewidth": 0,
             "ticks": ""
            },
            "type": "contourcarpet"
           }
          ],
          "heatmap": [
           {
            "colorbar": {
             "outlinewidth": 0,
             "ticks": ""
            },
            "colorscale": [
             [
              0,
              "#0d0887"
             ],
             [
              0.1111111111111111,
              "#46039f"
             ],
             [
              0.2222222222222222,
              "#7201a8"
             ],
             [
              0.3333333333333333,
              "#9c179e"
             ],
             [
              0.4444444444444444,
              "#bd3786"
             ],
             [
              0.5555555555555556,
              "#d8576b"
             ],
             [
              0.6666666666666666,
              "#ed7953"
             ],
             [
              0.7777777777777778,
              "#fb9f3a"
             ],
             [
              0.8888888888888888,
              "#fdca26"
             ],
             [
              1,
              "#f0f921"
             ]
            ],
            "type": "heatmap"
           }
          ],
          "heatmapgl": [
           {
            "colorbar": {
             "outlinewidth": 0,
             "ticks": ""
            },
            "colorscale": [
             [
              0,
              "#0d0887"
             ],
             [
              0.1111111111111111,
              "#46039f"
             ],
             [
              0.2222222222222222,
              "#7201a8"
             ],
             [
              0.3333333333333333,
              "#9c179e"
             ],
             [
              0.4444444444444444,
              "#bd3786"
             ],
             [
              0.5555555555555556,
              "#d8576b"
             ],
             [
              0.6666666666666666,
              "#ed7953"
             ],
             [
              0.7777777777777778,
              "#fb9f3a"
             ],
             [
              0.8888888888888888,
              "#fdca26"
             ],
             [
              1,
              "#f0f921"
             ]
            ],
            "type": "heatmapgl"
           }
          ],
          "histogram": [
           {
            "marker": {
             "pattern": {
              "fillmode": "overlay",
              "size": 10,
              "solidity": 0.2
             }
            },
            "type": "histogram"
           }
          ],
          "histogram2d": [
           {
            "colorbar": {
             "outlinewidth": 0,
             "ticks": ""
            },
            "colorscale": [
             [
              0,
              "#0d0887"
             ],
             [
              0.1111111111111111,
              "#46039f"
             ],
             [
              0.2222222222222222,
              "#7201a8"
             ],
             [
              0.3333333333333333,
              "#9c179e"
             ],
             [
              0.4444444444444444,
              "#bd3786"
             ],
             [
              0.5555555555555556,
              "#d8576b"
             ],
             [
              0.6666666666666666,
              "#ed7953"
             ],
             [
              0.7777777777777778,
              "#fb9f3a"
             ],
             [
              0.8888888888888888,
              "#fdca26"
             ],
             [
              1,
              "#f0f921"
             ]
            ],
            "type": "histogram2d"
           }
          ],
          "histogram2dcontour": [
           {
            "colorbar": {
             "outlinewidth": 0,
             "ticks": ""
            },
            "colorscale": [
             [
              0,
              "#0d0887"
             ],
             [
              0.1111111111111111,
              "#46039f"
             ],
             [
              0.2222222222222222,
              "#7201a8"
             ],
             [
              0.3333333333333333,
              "#9c179e"
             ],
             [
              0.4444444444444444,
              "#bd3786"
             ],
             [
              0.5555555555555556,
              "#d8576b"
             ],
             [
              0.6666666666666666,
              "#ed7953"
             ],
             [
              0.7777777777777778,
              "#fb9f3a"
             ],
             [
              0.8888888888888888,
              "#fdca26"
             ],
             [
              1,
              "#f0f921"
             ]
            ],
            "type": "histogram2dcontour"
           }
          ],
          "mesh3d": [
           {
            "colorbar": {
             "outlinewidth": 0,
             "ticks": ""
            },
            "type": "mesh3d"
           }
          ],
          "parcoords": [
           {
            "line": {
             "colorbar": {
              "outlinewidth": 0,
              "ticks": ""
             }
            },
            "type": "parcoords"
           }
          ],
          "pie": [
           {
            "automargin": true,
            "type": "pie"
           }
          ],
          "scatter": [
           {
            "marker": {
             "line": {
              "color": "#283442"
             }
            },
            "type": "scatter"
           }
          ],
          "scatter3d": [
           {
            "line": {
             "colorbar": {
              "outlinewidth": 0,
              "ticks": ""
             }
            },
            "marker": {
             "colorbar": {
              "outlinewidth": 0,
              "ticks": ""
             }
            },
            "type": "scatter3d"
           }
          ],
          "scattercarpet": [
           {
            "marker": {
             "colorbar": {
              "outlinewidth": 0,
              "ticks": ""
             }
            },
            "type": "scattercarpet"
           }
          ],
          "scattergeo": [
           {
            "marker": {
             "colorbar": {
              "outlinewidth": 0,
              "ticks": ""
             }
            },
            "type": "scattergeo"
           }
          ],
          "scattergl": [
           {
            "marker": {
             "line": {
              "color": "#283442"
             }
            },
            "type": "scattergl"
           }
          ],
          "scattermapbox": [
           {
            "marker": {
             "colorbar": {
              "outlinewidth": 0,
              "ticks": ""
             }
            },
            "type": "scattermapbox"
           }
          ],
          "scatterpolar": [
           {
            "marker": {
             "colorbar": {
              "outlinewidth": 0,
              "ticks": ""
             }
            },
            "type": "scatterpolar"
           }
          ],
          "scatterpolargl": [
           {
            "marker": {
             "colorbar": {
              "outlinewidth": 0,
              "ticks": ""
             }
            },
            "type": "scatterpolargl"
           }
          ],
          "scatterternary": [
           {
            "marker": {
             "colorbar": {
              "outlinewidth": 0,
              "ticks": ""
             }
            },
            "type": "scatterternary"
           }
          ],
          "surface": [
           {
            "colorbar": {
             "outlinewidth": 0,
             "ticks": ""
            },
            "colorscale": [
             [
              0,
              "#0d0887"
             ],
             [
              0.1111111111111111,
              "#46039f"
             ],
             [
              0.2222222222222222,
              "#7201a8"
             ],
             [
              0.3333333333333333,
              "#9c179e"
             ],
             [
              0.4444444444444444,
              "#bd3786"
             ],
             [
              0.5555555555555556,
              "#d8576b"
             ],
             [
              0.6666666666666666,
              "#ed7953"
             ],
             [
              0.7777777777777778,
              "#fb9f3a"
             ],
             [
              0.8888888888888888,
              "#fdca26"
             ],
             [
              1,
              "#f0f921"
             ]
            ],
            "type": "surface"
           }
          ],
          "table": [
           {
            "cells": {
             "fill": {
              "color": "#506784"
             },
             "line": {
              "color": "rgb(17,17,17)"
             }
            },
            "header": {
             "fill": {
              "color": "#2a3f5f"
             },
             "line": {
              "color": "rgb(17,17,17)"
             }
            },
            "type": "table"
           }
          ]
         },
         "layout": {
          "annotationdefaults": {
           "arrowcolor": "#f2f5fa",
           "arrowhead": 0,
           "arrowwidth": 1
          },
          "autotypenumbers": "strict",
          "coloraxis": {
           "colorbar": {
            "outlinewidth": 0,
            "ticks": ""
           }
          },
          "colorscale": {
           "diverging": [
            [
             0,
             "#8e0152"
            ],
            [
             0.1,
             "#c51b7d"
            ],
            [
             0.2,
             "#de77ae"
            ],
            [
             0.3,
             "#f1b6da"
            ],
            [
             0.4,
             "#fde0ef"
            ],
            [
             0.5,
             "#f7f7f7"
            ],
            [
             0.6,
             "#e6f5d0"
            ],
            [
             0.7,
             "#b8e186"
            ],
            [
             0.8,
             "#7fbc41"
            ],
            [
             0.9,
             "#4d9221"
            ],
            [
             1,
             "#276419"
            ]
           ],
           "sequential": [
            [
             0,
             "#0d0887"
            ],
            [
             0.1111111111111111,
             "#46039f"
            ],
            [
             0.2222222222222222,
             "#7201a8"
            ],
            [
             0.3333333333333333,
             "#9c179e"
            ],
            [
             0.4444444444444444,
             "#bd3786"
            ],
            [
             0.5555555555555556,
             "#d8576b"
            ],
            [
             0.6666666666666666,
             "#ed7953"
            ],
            [
             0.7777777777777778,
             "#fb9f3a"
            ],
            [
             0.8888888888888888,
             "#fdca26"
            ],
            [
             1,
             "#f0f921"
            ]
           ],
           "sequentialminus": [
            [
             0,
             "#0d0887"
            ],
            [
             0.1111111111111111,
             "#46039f"
            ],
            [
             0.2222222222222222,
             "#7201a8"
            ],
            [
             0.3333333333333333,
             "#9c179e"
            ],
            [
             0.4444444444444444,
             "#bd3786"
            ],
            [
             0.5555555555555556,
             "#d8576b"
            ],
            [
             0.6666666666666666,
             "#ed7953"
            ],
            [
             0.7777777777777778,
             "#fb9f3a"
            ],
            [
             0.8888888888888888,
             "#fdca26"
            ],
            [
             1,
             "#f0f921"
            ]
           ]
          },
          "colorway": [
           "#636efa",
           "#EF553B",
           "#00cc96",
           "#ab63fa",
           "#FFA15A",
           "#19d3f3",
           "#FF6692",
           "#B6E880",
           "#FF97FF",
           "#FECB52"
          ],
          "font": {
           "color": "#f2f5fa"
          },
          "geo": {
           "bgcolor": "rgb(17,17,17)",
           "lakecolor": "rgb(17,17,17)",
           "landcolor": "rgb(17,17,17)",
           "showlakes": true,
           "showland": true,
           "subunitcolor": "#506784"
          },
          "hoverlabel": {
           "align": "left"
          },
          "hovermode": "closest",
          "mapbox": {
           "style": "dark"
          },
          "paper_bgcolor": "rgb(17,17,17)",
          "plot_bgcolor": "rgb(17,17,17)",
          "polar": {
           "angularaxis": {
            "gridcolor": "#506784",
            "linecolor": "#506784",
            "ticks": ""
           },
           "bgcolor": "rgb(17,17,17)",
           "radialaxis": {
            "gridcolor": "#506784",
            "linecolor": "#506784",
            "ticks": ""
           }
          },
          "scene": {
           "xaxis": {
            "backgroundcolor": "rgb(17,17,17)",
            "gridcolor": "#506784",
            "gridwidth": 2,
            "linecolor": "#506784",
            "showbackground": true,
            "ticks": "",
            "zerolinecolor": "#C8D4E3"
           },
           "yaxis": {
            "backgroundcolor": "rgb(17,17,17)",
            "gridcolor": "#506784",
            "gridwidth": 2,
            "linecolor": "#506784",
            "showbackground": true,
            "ticks": "",
            "zerolinecolor": "#C8D4E3"
           },
           "zaxis": {
            "backgroundcolor": "rgb(17,17,17)",
            "gridcolor": "#506784",
            "gridwidth": 2,
            "linecolor": "#506784",
            "showbackground": true,
            "ticks": "",
            "zerolinecolor": "#C8D4E3"
           }
          },
          "shapedefaults": {
           "line": {
            "color": "#f2f5fa"
           }
          },
          "sliderdefaults": {
           "bgcolor": "#C8D4E3",
           "bordercolor": "rgb(17,17,17)",
           "borderwidth": 1,
           "tickwidth": 0
          },
          "ternary": {
           "aaxis": {
            "gridcolor": "#506784",
            "linecolor": "#506784",
            "ticks": ""
           },
           "baxis": {
            "gridcolor": "#506784",
            "linecolor": "#506784",
            "ticks": ""
           },
           "bgcolor": "rgb(17,17,17)",
           "caxis": {
            "gridcolor": "#506784",
            "linecolor": "#506784",
            "ticks": ""
           }
          },
          "title": {
           "x": 0.05
          },
          "updatemenudefaults": {
           "bgcolor": "#506784",
           "borderwidth": 0
          },
          "xaxis": {
           "automargin": true,
           "gridcolor": "#283442",
           "linecolor": "#506784",
           "ticks": "",
           "title": {
            "standoff": 15
           },
           "zerolinecolor": "#283442",
           "zerolinewidth": 2
          },
          "yaxis": {
           "automargin": true,
           "gridcolor": "#283442",
           "linecolor": "#506784",
           "ticks": "",
           "title": {
            "standoff": 15
           },
           "zerolinecolor": "#283442",
           "zerolinewidth": 2
          }
         }
        },
        "title": {
         "text": "3 pontos, field goals e roubos de bola"
        },
        "width": 1200,
        "xaxis": {
         "anchor": "y",
         "domain": [
          0,
          1
         ],
         "title": {
          "text": "FGM"
         }
        },
        "yaxis": {
         "anchor": "x",
         "domain": [
          0,
          1
         ],
         "title": {
          "text": "3PM"
         }
        }
       }
      }
     },
     "metadata": {},
     "output_type": "display_data"
    }
   ],
   "source": [
    "px.scatter(data_frame=data_merged,\n",
    "           y='3PM',\n",
    "           x='FGM',\n",
    "           hover_data='PName',\n",
    "           template='plotly_dark',\n",
    "           color='POS',\n",
    "           size='AST',\n",
    "           title='3 pontos, field goals e roubos de bola',\n",
    "           width=1200,\n",
    "           height=500)"
   ]
  },
  {
   "cell_type": "code",
   "execution_count": null,
   "metadata": {},
   "outputs": [],
   "source": []
  }
 ],
 "metadata": {
  "kernelspec": {
   "display_name": "aulas_Streamlit_teste",
   "language": "python",
   "name": "python3"
  },
  "language_info": {
   "codemirror_mode": {
    "name": "ipython",
    "version": 3
   },
   "file_extension": ".py",
   "mimetype": "text/x-python",
   "name": "python",
   "nbconvert_exporter": "python",
   "pygments_lexer": "ipython3",
   "version": "3.11.7"
  }
 },
 "nbformat": 4,
 "nbformat_minor": 2
}
